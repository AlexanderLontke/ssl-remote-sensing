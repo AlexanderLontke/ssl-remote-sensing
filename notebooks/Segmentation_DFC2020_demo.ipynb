{
 "cells": [
  {
   "cell_type": "markdown",
   "metadata": {
    "id": "view-in-github",
    "colab_type": "text"
   },
   "source": [
    "<a href=\"https://colab.research.google.com/github/AlexanderLontke/ssl-remote-sensing/blob/simclr%2Fbigearthnet/notebooks/Segmentation_DFC2020_demo.ipynb\" target=\"_parent\"><img src=\"https://colab.research.google.com/assets/colab-badge.svg\" alt=\"Open In Colab\"/></a>"
   ]
  },
  {
   "cell_type": "markdown",
   "metadata": {
    "id": "XLPsz6GXol3j"
   },
   "source": [
    "Model: ResNetUnet \\\\\n",
    "Data: DFC2020 \\\\\n",
    "Pretrained weights: dependent on pretext tasks\n",
    "\n"
   ]
  },
  {
   "cell_type": "markdown",
   "metadata": {
    "id": "mtFQTofGJJXU"
   },
   "source": [
    "### Environment setup"
   ]
  },
  {
   "cell_type": "code",
   "execution_count": 1,
   "metadata": {
    "id": "B25Nfu-tYSBj",
    "colab": {
     "base_uri": "https://localhost:8080/"
    },
    "outputId": "e8e8bf85-e8d5-4db5-971d-54e00a7a3b24"
   },
   "outputs": [
    {
     "output_type": "stream",
     "name": "stdout",
     "text": [
      "Looking in indexes: https://pypi.org/simple, https://us-python.pkg.dev/colab-wheels/public/simple/\n",
      "Collecting ssl_remote_sensing@ git+https://github.com/AlexanderLontke/ssl-remote-sensing.git@bigearthnet/vae\n",
      "  Cloning https://github.com/AlexanderLontke/ssl-remote-sensing.git (to revision bigearthnet/vae) to /tmp/pip-install-5rhaadzu/ssl-remote-sensing_fa55183796cd48119a23bee727dd59ad\n",
      "  Running command git clone -q https://github.com/AlexanderLontke/ssl-remote-sensing.git /tmp/pip-install-5rhaadzu/ssl-remote-sensing_fa55183796cd48119a23bee727dd59ad\n",
      "  Running command git checkout -b bigearthnet/vae --track origin/bigearthnet/vae\n",
      "  Switched to a new branch 'bigearthnet/vae'\n",
      "  Branch 'bigearthnet/vae' set up to track remote branch 'bigearthnet/vae' from 'origin'.\n",
      "  Installing build dependencies ... \u001b[?25l\u001b[?25hdone\n",
      "  Getting requirements to build wheel ... \u001b[?25l\u001b[?25hdone\n",
      "  Installing backend dependencies ... \u001b[?25l\u001b[?25hdone\n",
      "    Preparing wheel metadata ... \u001b[?25l\u001b[?25hdone\n",
      "Collecting pytorch-lightning\n",
      "  Downloading pytorch_lightning-1.8.5.post0-py3-none-any.whl (800 kB)\n",
      "\u001b[K     |████████████████████████████████| 800 kB 29.8 MB/s \n",
      "\u001b[?25hCollecting pytorch-metric-learning\n",
      "  Downloading pytorch_metric_learning-1.6.3-py3-none-any.whl (111 kB)\n",
      "\u001b[K     |████████████████████████████████| 111 kB 90.9 MB/s \n",
      "\u001b[?25hRequirement already satisfied: scikit-learn in /usr/local/lib/python3.8/dist-packages (from ssl_remote_sensing@ git+https://github.com/AlexanderLontke/ssl-remote-sensing.git@bigearthnet/vae) (1.0.2)\n",
      "Collecting info-nce-pytorch\n",
      "  Downloading info_nce_pytorch-0.1.4-py3-none-any.whl (4.8 kB)\n",
      "Collecting rasterio\n",
      "  Downloading rasterio-1.3.4-cp38-cp38-manylinux_2_17_x86_64.manylinux2014_x86_64.whl (20.9 MB)\n",
      "\u001b[K     |████████████████████████████████| 20.9 MB 56.0 MB/s \n",
      "\u001b[?25hRequirement already satisfied: torch in /usr/local/lib/python3.8/dist-packages (from ssl_remote_sensing@ git+https://github.com/AlexanderLontke/ssl-remote-sensing.git@bigearthnet/vae) (1.13.0+cu116)\n",
      "Requirement already satisfied: torchvision in /usr/local/lib/python3.8/dist-packages (from ssl_remote_sensing@ git+https://github.com/AlexanderLontke/ssl-remote-sensing.git@bigearthnet/vae) (0.14.0+cu116)\n",
      "Collecting lightning-bolts\n",
      "  Downloading lightning_bolts-0.6.0.post1-py3-none-any.whl (329 kB)\n",
      "\u001b[K     |████████████████████████████████| 329 kB 106.7 MB/s \n",
      "\u001b[?25hCollecting wandb\n",
      "  Downloading wandb-0.13.7-py2.py3-none-any.whl (1.9 MB)\n",
      "\u001b[K     |████████████████████████████████| 1.9 MB 74.5 MB/s \n",
      "\u001b[?25hCollecting lightning-utilities!=0.4.0,>=0.3.0\n",
      "  Downloading lightning_utilities-0.4.2-py3-none-any.whl (16 kB)\n",
      "Requirement already satisfied: PyYAML>=5.4 in /usr/local/lib/python3.8/dist-packages (from pytorch-lightning->ssl_remote_sensing@ git+https://github.com/AlexanderLontke/ssl-remote-sensing.git@bigearthnet/vae) (6.0)\n",
      "Requirement already satisfied: tqdm>=4.57.0 in /usr/local/lib/python3.8/dist-packages (from pytorch-lightning->ssl_remote_sensing@ git+https://github.com/AlexanderLontke/ssl-remote-sensing.git@bigearthnet/vae) (4.64.1)\n",
      "Requirement already satisfied: packaging>=17.0 in /usr/local/lib/python3.8/dist-packages (from pytorch-lightning->ssl_remote_sensing@ git+https://github.com/AlexanderLontke/ssl-remote-sensing.git@bigearthnet/vae) (21.3)\n",
      "Requirement already satisfied: typing-extensions>=4.0.0 in /usr/local/lib/python3.8/dist-packages (from pytorch-lightning->ssl_remote_sensing@ git+https://github.com/AlexanderLontke/ssl-remote-sensing.git@bigearthnet/vae) (4.4.0)\n",
      "Requirement already satisfied: numpy>=1.17.2 in /usr/local/lib/python3.8/dist-packages (from pytorch-lightning->ssl_remote_sensing@ git+https://github.com/AlexanderLontke/ssl-remote-sensing.git@bigearthnet/vae) (1.21.6)\n",
      "Collecting tensorboardX>=2.2\n",
      "  Downloading tensorboardX-2.5.1-py2.py3-none-any.whl (125 kB)\n",
      "\u001b[K     |████████████████████████████████| 125 kB 95.1 MB/s \n",
      "\u001b[?25hCollecting torchmetrics>=0.7.0\n",
      "  Downloading torchmetrics-0.11.0-py3-none-any.whl (512 kB)\n",
      "\u001b[K     |████████████████████████████████| 512 kB 99.3 MB/s \n",
      "\u001b[?25hRequirement already satisfied: fsspec[http]>2021.06.0 in /usr/local/lib/python3.8/dist-packages (from pytorch-lightning->ssl_remote_sensing@ git+https://github.com/AlexanderLontke/ssl-remote-sensing.git@bigearthnet/vae) (2022.11.0)\n",
      "Requirement already satisfied: requests in /usr/local/lib/python3.8/dist-packages (from fsspec[http]>2021.06.0->pytorch-lightning->ssl_remote_sensing@ git+https://github.com/AlexanderLontke/ssl-remote-sensing.git@bigearthnet/vae) (2.23.0)\n",
      "Requirement already satisfied: aiohttp!=4.0.0a0,!=4.0.0a1 in /usr/local/lib/python3.8/dist-packages (from fsspec[http]>2021.06.0->pytorch-lightning->ssl_remote_sensing@ git+https://github.com/AlexanderLontke/ssl-remote-sensing.git@bigearthnet/vae) (3.8.3)\n",
      "Requirement already satisfied: aiosignal>=1.1.2 in /usr/local/lib/python3.8/dist-packages (from aiohttp!=4.0.0a0,!=4.0.0a1->fsspec[http]>2021.06.0->pytorch-lightning->ssl_remote_sensing@ git+https://github.com/AlexanderLontke/ssl-remote-sensing.git@bigearthnet/vae) (1.3.1)\n",
      "Requirement already satisfied: attrs>=17.3.0 in /usr/local/lib/python3.8/dist-packages (from aiohttp!=4.0.0a0,!=4.0.0a1->fsspec[http]>2021.06.0->pytorch-lightning->ssl_remote_sensing@ git+https://github.com/AlexanderLontke/ssl-remote-sensing.git@bigearthnet/vae) (22.1.0)\n",
      "Requirement already satisfied: multidict<7.0,>=4.5 in /usr/local/lib/python3.8/dist-packages (from aiohttp!=4.0.0a0,!=4.0.0a1->fsspec[http]>2021.06.0->pytorch-lightning->ssl_remote_sensing@ git+https://github.com/AlexanderLontke/ssl-remote-sensing.git@bigearthnet/vae) (6.0.3)\n",
      "Requirement already satisfied: charset-normalizer<3.0,>=2.0 in /usr/local/lib/python3.8/dist-packages (from aiohttp!=4.0.0a0,!=4.0.0a1->fsspec[http]>2021.06.0->pytorch-lightning->ssl_remote_sensing@ git+https://github.com/AlexanderLontke/ssl-remote-sensing.git@bigearthnet/vae) (2.1.1)\n",
      "Requirement already satisfied: frozenlist>=1.1.1 in /usr/local/lib/python3.8/dist-packages (from aiohttp!=4.0.0a0,!=4.0.0a1->fsspec[http]>2021.06.0->pytorch-lightning->ssl_remote_sensing@ git+https://github.com/AlexanderLontke/ssl-remote-sensing.git@bigearthnet/vae) (1.3.3)\n",
      "Requirement already satisfied: async-timeout<5.0,>=4.0.0a3 in /usr/local/lib/python3.8/dist-packages (from aiohttp!=4.0.0a0,!=4.0.0a1->fsspec[http]>2021.06.0->pytorch-lightning->ssl_remote_sensing@ git+https://github.com/AlexanderLontke/ssl-remote-sensing.git@bigearthnet/vae) (4.0.2)\n",
      "Requirement already satisfied: yarl<2.0,>=1.0 in /usr/local/lib/python3.8/dist-packages (from aiohttp!=4.0.0a0,!=4.0.0a1->fsspec[http]>2021.06.0->pytorch-lightning->ssl_remote_sensing@ git+https://github.com/AlexanderLontke/ssl-remote-sensing.git@bigearthnet/vae) (1.8.2)\n",
      "Requirement already satisfied: pyparsing!=3.0.5,>=2.0.2 in /usr/local/lib/python3.8/dist-packages (from packaging>=17.0->pytorch-lightning->ssl_remote_sensing@ git+https://github.com/AlexanderLontke/ssl-remote-sensing.git@bigearthnet/vae) (3.0.9)\n",
      "Requirement already satisfied: protobuf<=3.20.1,>=3.8.0 in /usr/local/lib/python3.8/dist-packages (from tensorboardX>=2.2->pytorch-lightning->ssl_remote_sensing@ git+https://github.com/AlexanderLontke/ssl-remote-sensing.git@bigearthnet/vae) (3.19.6)\n",
      "Requirement already satisfied: pillow!=8.3.*,>=5.3.0 in /usr/local/lib/python3.8/dist-packages (from torchvision->ssl_remote_sensing@ git+https://github.com/AlexanderLontke/ssl-remote-sensing.git@bigearthnet/vae) (7.1.2)\n",
      "Requirement already satisfied: idna>=2.0 in /usr/local/lib/python3.8/dist-packages (from yarl<2.0,>=1.0->aiohttp!=4.0.0a0,!=4.0.0a1->fsspec[http]>2021.06.0->pytorch-lightning->ssl_remote_sensing@ git+https://github.com/AlexanderLontke/ssl-remote-sensing.git@bigearthnet/vae) (2.10)\n",
      "Requirement already satisfied: click>=4.0 in /usr/local/lib/python3.8/dist-packages (from rasterio->ssl_remote_sensing@ git+https://github.com/AlexanderLontke/ssl-remote-sensing.git@bigearthnet/vae) (7.1.2)\n",
      "Collecting cligj>=0.5\n",
      "  Downloading cligj-0.7.2-py3-none-any.whl (7.1 kB)\n",
      "Requirement already satisfied: setuptools in /usr/local/lib/python3.8/dist-packages (from rasterio->ssl_remote_sensing@ git+https://github.com/AlexanderLontke/ssl-remote-sensing.git@bigearthnet/vae) (57.4.0)\n",
      "Requirement already satisfied: certifi in /usr/local/lib/python3.8/dist-packages (from rasterio->ssl_remote_sensing@ git+https://github.com/AlexanderLontke/ssl-remote-sensing.git@bigearthnet/vae) (2022.12.7)\n",
      "Collecting affine\n",
      "  Downloading affine-2.3.1-py2.py3-none-any.whl (16 kB)\n",
      "Collecting click-plugins\n",
      "  Downloading click_plugins-1.1.1-py2.py3-none-any.whl (7.5 kB)\n",
      "Collecting snuggs>=1.4.1\n",
      "  Downloading snuggs-1.4.7-py3-none-any.whl (5.4 kB)\n",
      "Requirement already satisfied: urllib3!=1.25.0,!=1.25.1,<1.26,>=1.21.1 in /usr/local/lib/python3.8/dist-packages (from requests->fsspec[http]>2021.06.0->pytorch-lightning->ssl_remote_sensing@ git+https://github.com/AlexanderLontke/ssl-remote-sensing.git@bigearthnet/vae) (1.24.3)\n",
      "Requirement already satisfied: chardet<4,>=3.0.2 in /usr/local/lib/python3.8/dist-packages (from requests->fsspec[http]>2021.06.0->pytorch-lightning->ssl_remote_sensing@ git+https://github.com/AlexanderLontke/ssl-remote-sensing.git@bigearthnet/vae) (3.0.4)\n",
      "Requirement already satisfied: threadpoolctl>=2.0.0 in /usr/local/lib/python3.8/dist-packages (from scikit-learn->ssl_remote_sensing@ git+https://github.com/AlexanderLontke/ssl-remote-sensing.git@bigearthnet/vae) (3.1.0)\n",
      "Requirement already satisfied: joblib>=0.11 in /usr/local/lib/python3.8/dist-packages (from scikit-learn->ssl_remote_sensing@ git+https://github.com/AlexanderLontke/ssl-remote-sensing.git@bigearthnet/vae) (1.2.0)\n",
      "Requirement already satisfied: scipy>=1.1.0 in /usr/local/lib/python3.8/dist-packages (from scikit-learn->ssl_remote_sensing@ git+https://github.com/AlexanderLontke/ssl-remote-sensing.git@bigearthnet/vae) (1.7.3)\n",
      "Collecting sentry-sdk>=1.0.0\n",
      "  Downloading sentry_sdk-1.12.0-py2.py3-none-any.whl (173 kB)\n",
      "\u001b[K     |████████████████████████████████| 173 kB 104.8 MB/s \n",
      "\u001b[?25hCollecting setproctitle\n",
      "  Downloading setproctitle-1.3.2-cp38-cp38-manylinux_2_5_x86_64.manylinux1_x86_64.manylinux_2_17_x86_64.manylinux2014_x86_64.whl (31 kB)\n",
      "Collecting pathtools\n",
      "  Downloading pathtools-0.1.2.tar.gz (11 kB)\n",
      "Requirement already satisfied: promise<3,>=2.0 in /usr/local/lib/python3.8/dist-packages (from wandb->ssl_remote_sensing@ git+https://github.com/AlexanderLontke/ssl-remote-sensing.git@bigearthnet/vae) (2.3)\n",
      "Collecting shortuuid>=0.5.0\n",
      "  Downloading shortuuid-1.0.11-py3-none-any.whl (10 kB)\n",
      "Requirement already satisfied: psutil>=5.0.0 in /usr/local/lib/python3.8/dist-packages (from wandb->ssl_remote_sensing@ git+https://github.com/AlexanderLontke/ssl-remote-sensing.git@bigearthnet/vae) (5.4.8)\n",
      "Collecting docker-pycreds>=0.4.0\n",
      "  Downloading docker_pycreds-0.4.0-py2.py3-none-any.whl (9.0 kB)\n",
      "Collecting GitPython>=1.0.0\n",
      "  Downloading GitPython-3.1.29-py3-none-any.whl (182 kB)\n",
      "\u001b[K     |████████████████████████████████| 182 kB 94.3 MB/s \n",
      "\u001b[?25hRequirement already satisfied: six>=1.4.0 in /usr/local/lib/python3.8/dist-packages (from docker-pycreds>=0.4.0->wandb->ssl_remote_sensing@ git+https://github.com/AlexanderLontke/ssl-remote-sensing.git@bigearthnet/vae) (1.15.0)\n",
      "Collecting gitdb<5,>=4.0.1\n",
      "  Downloading gitdb-4.0.10-py3-none-any.whl (62 kB)\n",
      "\u001b[K     |████████████████████████████████| 62 kB 1.9 MB/s \n",
      "\u001b[?25hCollecting smmap<6,>=3.0.1\n",
      "  Downloading smmap-5.0.0-py3-none-any.whl (24 kB)\n",
      "Collecting sentry-sdk>=1.0.0\n",
      "  Downloading sentry_sdk-1.11.1-py2.py3-none-any.whl (168 kB)\n",
      "\u001b[K     |████████████████████████████████| 168 kB 106.4 MB/s \n",
      "\u001b[?25h  Downloading sentry_sdk-1.11.0-py2.py3-none-any.whl (168 kB)\n",
      "\u001b[K     |████████████████████████████████| 168 kB 109.2 MB/s \n",
      "\u001b[?25h  Downloading sentry_sdk-1.10.1-py2.py3-none-any.whl (166 kB)\n",
      "\u001b[K     |████████████████████████████████| 166 kB 113.0 MB/s \n",
      "\u001b[?25h  Downloading sentry_sdk-1.10.0-py2.py3-none-any.whl (166 kB)\n",
      "\u001b[K     |████████████████████████████████| 166 kB 110.0 MB/s \n",
      "\u001b[?25h  Downloading sentry_sdk-1.9.10-py2.py3-none-any.whl (162 kB)\n",
      "\u001b[K     |████████████████████████████████| 162 kB 111.0 MB/s \n",
      "\u001b[?25h  Downloading sentry_sdk-1.9.9-py2.py3-none-any.whl (162 kB)\n",
      "\u001b[K     |████████████████████████████████| 162 kB 102.4 MB/s \n",
      "\u001b[?25h  Downloading sentry_sdk-1.9.8-py2.py3-none-any.whl (158 kB)\n",
      "\u001b[K     |████████████████████████████████| 158 kB 119.8 MB/s \n",
      "\u001b[?25h  Downloading sentry_sdk-1.9.7-py2.py3-none-any.whl (157 kB)\n",
      "\u001b[K     |████████████████████████████████| 157 kB 118.3 MB/s \n",
      "\u001b[?25h  Downloading sentry_sdk-1.9.6-py2.py3-none-any.whl (157 kB)\n",
      "\u001b[K     |████████████████████████████████| 157 kB 116.9 MB/s \n",
      "\u001b[?25h  Downloading sentry_sdk-1.9.5-py2.py3-none-any.whl (157 kB)\n",
      "\u001b[K     |████████████████████████████████| 157 kB 117.3 MB/s \n",
      "\u001b[?25h  Downloading sentry_sdk-1.9.4-py2.py3-none-any.whl (157 kB)\n",
      "\u001b[K     |████████████████████████████████| 157 kB 117.3 MB/s \n",
      "\u001b[?25h  Downloading sentry_sdk-1.9.3-py2.py3-none-any.whl (157 kB)\n",
      "\u001b[K     |████████████████████████████████| 157 kB 123.5 MB/s \n",
      "\u001b[?25h  Downloading sentry_sdk-1.9.2-py2.py3-none-any.whl (157 kB)\n",
      "\u001b[K     |████████████████████████████████| 157 kB 120.2 MB/s \n",
      "\u001b[?25h  Downloading sentry_sdk-1.9.1-py2.py3-none-any.whl (157 kB)\n",
      "\u001b[K     |████████████████████████████████| 157 kB 120.2 MB/s \n",
      "\u001b[?25h  Downloading sentry_sdk-1.9.0-py2.py3-none-any.whl (156 kB)\n",
      "\u001b[K     |████████████████████████████████| 156 kB 119.6 MB/s \n",
      "\u001b[?25hBuilding wheels for collected packages: ssl-remote-sensing, pathtools\n",
      "  Building wheel for ssl-remote-sensing (PEP 517) ... \u001b[?25l\u001b[?25hdone\n",
      "  Created wheel for ssl-remote-sensing: filename=ssl_remote_sensing-0.0.post1.dev226+g45e6d39-py3-none-any.whl size=51921 sha256=36787c73896625bc34023c641fe096dea9fadaf1bbbf747178feb87f747ab5f8\n",
      "  Stored in directory: /tmp/pip-ephem-wheel-cache-vfpc1nhd/wheels/4a/d6/9c/09aeecfa25c24dcd72fbc20a904f770dac3332feb2042a5676\n",
      "  Building wheel for pathtools (setup.py) ... \u001b[?25l\u001b[?25hdone\n",
      "  Created wheel for pathtools: filename=pathtools-0.1.2-py3-none-any.whl size=8806 sha256=f291486cd90c4961465bfe7d0e385da0fefeb69170a6d42d0c886dc0bfd9b538\n",
      "  Stored in directory: /root/.cache/pip/wheels/4c/8e/7e/72fbc243e1aeecae64a96875432e70d4e92f3d2d18123be004\n",
      "Successfully built ssl-remote-sensing pathtools\n",
      "Installing collected packages: smmap, torchmetrics, tensorboardX, lightning-utilities, gitdb, snuggs, shortuuid, setproctitle, sentry-sdk, pytorch-lightning, pathtools, GitPython, docker-pycreds, cligj, click-plugins, affine, wandb, rasterio, pytorch-metric-learning, lightning-bolts, info-nce-pytorch, ssl-remote-sensing\n",
      "Successfully installed GitPython-3.1.29 affine-2.3.1 click-plugins-1.1.1 cligj-0.7.2 docker-pycreds-0.4.0 gitdb-4.0.10 info-nce-pytorch-0.1.4 lightning-bolts-0.6.0.post1 lightning-utilities-0.4.2 pathtools-0.1.2 pytorch-lightning-1.8.5.post0 pytorch-metric-learning-1.6.3 rasterio-1.3.4 sentry-sdk-1.9.0 setproctitle-1.3.2 shortuuid-1.0.11 smmap-5.0.0 snuggs-1.4.7 ssl-remote-sensing-0.0.post1.dev226+g45e6d39 tensorboardX-2.5.1 torchmetrics-0.11.0 wandb-0.13.7\n"
     ]
    }
   ],
   "source": [
    "!pip install ssl_remote_sensing@git+https://github.com/AlexanderLontke/ssl-remote-sensing.git@bigearthnet/vae"
   ]
  },
  {
   "cell_type": "code",
   "execution_count": 2,
   "metadata": {
    "id": "mmcHEG3t1gM4",
    "colab": {
     "base_uri": "https://localhost:8080/"
    },
    "outputId": "d8e65554-2ae6-4c5d-e9ca-605455a326c0"
   },
   "outputs": [
    {
     "output_type": "stream",
     "name": "stdout",
     "text": [
      "Looking in indexes: https://pypi.org/simple, https://us-python.pkg.dev/colab-wheels/public/simple/\n",
      "Requirement already satisfied: torchmetrics in /usr/local/lib/python3.8/dist-packages (0.11.0)\n",
      "Requirement already satisfied: packaging in /usr/local/lib/python3.8/dist-packages (from torchmetrics) (21.3)\n",
      "Requirement already satisfied: numpy>=1.17.2 in /usr/local/lib/python3.8/dist-packages (from torchmetrics) (1.21.6)\n",
      "Requirement already satisfied: torch>=1.8.1 in /usr/local/lib/python3.8/dist-packages (from torchmetrics) (1.13.0+cu116)\n",
      "Requirement already satisfied: typing-extensions in /usr/local/lib/python3.8/dist-packages (from torchmetrics) (4.4.0)\n",
      "Requirement already satisfied: pyparsing!=3.0.5,>=2.0.2 in /usr/local/lib/python3.8/dist-packages (from packaging->torchmetrics) (3.0.9)\n"
     ]
    }
   ],
   "source": [
    "!pip install torchmetrics"
   ]
  },
  {
   "cell_type": "code",
   "execution_count": 3,
   "metadata": {
    "id": "ARs6WSrUZN4D",
    "colab": {
     "base_uri": "https://localhost:8080/"
    },
    "outputId": "b4a7c4d6-f1e4-4467-c78f-f69940383338"
   },
   "outputs": [
    {
     "output_type": "stream",
     "name": "stderr",
     "text": [
      "/usr/local/lib/python3.8/dist-packages/pl_bolts/models/self_supervised/amdim/amdim_module.py:35: UnderReviewWarning: The feature generate_power_seq is currently marked under review. The compatibility with other Lightning projects is not guaranteed and API may change at any time. The API and functionality may change without warning in future releases. More details: https://lightning-bolts.readthedocs.io/en/latest/stability.html\n",
      "  \"lr_options\": generate_power_seq(LEARNING_RATE_CIFAR, 11),\n",
      "/usr/local/lib/python3.8/dist-packages/pl_bolts/models/self_supervised/amdim/amdim_module.py:93: UnderReviewWarning: The feature FeatureMapContrastiveTask is currently marked under review. The compatibility with other Lightning projects is not guaranteed and API may change at any time. The API and functionality may change without warning in future releases. More details: https://lightning-bolts.readthedocs.io/en/latest/stability.html\n",
      "  contrastive_task: Union[FeatureMapContrastiveTask] = FeatureMapContrastiveTask(\"01, 02, 11\"),\n",
      "/usr/local/lib/python3.8/dist-packages/pl_bolts/losses/self_supervised_learning.py:234: UnderReviewWarning: The feature AmdimNCELoss is currently marked under review. The compatibility with other Lightning projects is not guaranteed and API may change at any time. The API and functionality may change without warning in future releases. More details: https://lightning-bolts.readthedocs.io/en/latest/stability.html\n",
      "  self.nce_loss = AmdimNCELoss(tclip)\n"
     ]
    }
   ],
   "source": [
    "from ssl_remote_sensing.data.dfc2020 import DFC2020\n",
    "from ssl_remote_sensing.downstream_tasks.segmentation.utils import (\n",
    "    patch_first_conv,\n",
    "    get_metrics,\n",
    "    visualize_result,\n",
    ")\n",
    "from ssl_remote_sensing.downstream_tasks.segmentation.training import train\n",
    "from ssl_remote_sensing.downstream_tasks.segmentation.model import ResNetUNet\n",
    "from ssl_remote_sensing.pretext_tasks.vae.model import VariationalAutoencoder\n",
    "from ssl_remote_sensing.pretext_tasks.vae.utils import reproducibility\n",
    "from ssl_remote_sensing.constants import RANDOM_INITIALIZATION\n",
    "from ssl_remote_sensing.pretext_tasks.utils import (\n",
    "    load_encoder_checkpoint_from_pretext_model,\n",
    ")\n",
    "\n",
    "# from ssl_remote_sensing.models.ResNet18 import resnet18_encoder"
   ]
  },
  {
   "cell_type": "code",
   "source": [
    "# resnet18_encoder(channels = 12)"
   ],
   "metadata": {
    "id": "YJ5kAu2ZccyU"
   },
   "execution_count": 4,
   "outputs": []
  },
  {
   "cell_type": "code",
   "execution_count": 5,
   "metadata": {
    "id": "v8C9XMIPpRbS",
    "colab": {
     "base_uri": "https://localhost:8080/"
    },
    "outputId": "9c04839a-2de4-438d-fe27-6cef9541881d"
   },
   "outputs": [
    {
     "output_type": "stream",
     "name": "stderr",
     "text": [
      "/usr/local/lib/python3.8/dist-packages/html5lib/_trie/_base.py:3: DeprecationWarning: Using or importing the ABCs from 'collections' instead of from 'collections.abc' is deprecated since Python 3.3, and in 3.10 it will stop working\n",
      "  from collections import Mapping\n"
     ]
    }
   ],
   "source": [
    "import rasterio\n",
    "from mpl_toolkits.axes_grid1.axes_divider import make_axes_locatable\n",
    "import numpy as np\n",
    "import torch\n",
    "import matplotlib.pyplot as plt\n",
    "from torch.utils.data import DataLoader\n",
    "import os\n",
    "import cv2\n",
    "from albumentations.pytorch import ToTensorV2\n",
    "import albumentations as A\n",
    "import torch.nn as nn\n",
    "import torch.nn.functional as F\n",
    "import random\n",
    "from tqdm import tqdm\n",
    "from torchmetrics import JaccardIndex\n",
    "from sklearn.metrics import confusion_matrix, accuracy_score, jaccard_score\n",
    "import gdown\n",
    "import tarfile"
   ]
  },
  {
   "cell_type": "code",
   "execution_count": 6,
   "metadata": {
    "colab": {
     "base_uri": "https://localhost:8080/",
     "height": 108
    },
    "id": "MA-JYpyeYppV",
    "outputId": "a22e4f06-d183-4674-d40f-24b0f887f574"
   },
   "outputs": [
    {
     "output_type": "stream",
     "name": "stderr",
     "text": [
      "ERROR:wandb.jupyter:Failed to detect the name of this notebook, you can set it manually with the WANDB_NOTEBOOK_NAME environment variable to enable code saving.\n"
     ]
    },
    {
     "output_type": "display_data",
     "data": {
      "text/plain": [
       "<IPython.core.display.Javascript object>"
      ],
      "application/javascript": [
       "\n",
       "        window._wandbApiKey = new Promise((resolve, reject) => {\n",
       "            function loadScript(url) {\n",
       "            return new Promise(function(resolve, reject) {\n",
       "                let newScript = document.createElement(\"script\");\n",
       "                newScript.onerror = reject;\n",
       "                newScript.onload = resolve;\n",
       "                document.body.appendChild(newScript);\n",
       "                newScript.src = url;\n",
       "            });\n",
       "            }\n",
       "            loadScript(\"https://cdn.jsdelivr.net/npm/postmate/build/postmate.min.js\").then(() => {\n",
       "            const iframe = document.createElement('iframe')\n",
       "            iframe.style.cssText = \"width:0;height:0;border:none\"\n",
       "            document.body.appendChild(iframe)\n",
       "            const handshake = new Postmate({\n",
       "                container: iframe,\n",
       "                url: 'https://wandb.ai/authorize'\n",
       "            });\n",
       "            const timeout = setTimeout(() => reject(\"Couldn't auto authenticate\"), 5000)\n",
       "            handshake.then(function(child) {\n",
       "                child.on('authorize', data => {\n",
       "                    clearTimeout(timeout)\n",
       "                    resolve(data)\n",
       "                });\n",
       "            });\n",
       "            })\n",
       "        });\n",
       "    "
      ]
     },
     "metadata": {}
    },
    {
     "output_type": "stream",
     "name": "stderr",
     "text": [
      "\u001b[34m\u001b[1mwandb\u001b[0m: Appending key for api.wandb.ai to your netrc file: /root/.netrc\n"
     ]
    },
    {
     "output_type": "execute_result",
     "data": {
      "text/plain": [
       "True"
      ]
     },
     "metadata": {},
     "execution_count": 6
    }
   ],
   "source": [
    "import wandb\n",
    "\n",
    "wandb.login()"
   ]
  },
  {
   "cell_type": "code",
   "execution_count": 7,
   "metadata": {
    "id": "SVgeMAIh6oQe"
   },
   "outputs": [],
   "source": [
    "device = torch.device(\"cuda\" if torch.cuda.is_available() else \"cpu\").type"
   ]
  },
  {
   "cell_type": "code",
   "execution_count": 8,
   "metadata": {
    "id": "c6HAeQ4FIQSY",
    "colab": {
     "base_uri": "https://localhost:8080/"
    },
    "outputId": "7bec7760-e50b-4af5-a1a9-eb7fdeabd789"
   },
   "outputs": [
    {
     "output_type": "stream",
     "name": "stdout",
     "text": [
      "Mounted at /content/drive\n"
     ]
    }
   ],
   "source": [
    "from google.colab import drive\n",
    "\n",
    "drive.mount(\"/content/drive\")"
   ]
  },
  {
   "cell_type": "code",
   "execution_count": 9,
   "metadata": {
    "id": "krsRXx02E2lo",
    "colab": {
     "base_uri": "https://localhost:8080/",
     "height": 35
    },
    "outputId": "120b4e54-9233-4934-8e1d-4c107de74e9e"
   },
   "outputs": [
    {
     "output_type": "execute_result",
     "data": {
      "text/plain": [
       "'random'"
      ],
      "application/vnd.google.colaboratory.intrinsic+json": {
       "type": "string"
      }
     },
     "metadata": {},
     "execution_count": 9
    }
   ],
   "source": [
    "RANDOM_INITIALIZATION"
   ]
  },
  {
   "cell_type": "code",
   "execution_count": 10,
   "metadata": {
    "id": "JSoymiyKeXUW",
    "colab": {
     "base_uri": "https://localhost:8080/"
    },
    "outputId": "9ca935a3-6c31-40d0-9e01-2c84b87aeca8"
   },
   "outputs": [
    {
     "output_type": "execute_result",
     "data": {
      "text/plain": [
       "['/content/drive/MyDrive/deep_learning_checkpoints/SimCLR_BEN_ResNet18_adam_bs500-v1.ckpt',\n",
       " '/content/drive/MyDrive/deep_learning_checkpoints/vae_bigearthnet.ckpt',\n",
       " '/content/drive/MyDrive/deep_learning_checkpoints/bigan_encoder_allChannels_10_epochs.ckpt',\n",
       " '/content/drive/MyDrive/deep_learning_checkpoints/random']"
      ]
     },
     "metadata": {},
     "execution_count": 10
    }
   ],
   "source": [
    "g_drive_path = \"/content/drive/MyDrive/deep_learning_checkpoints\"\n",
    "check_point_paths = os.listdir(g_drive_path)\n",
    "check_point_paths += [RANDOM_INITIALIZATION]\n",
    "check_point_paths = [g_drive_path + \"/\" + x for x in check_point_paths]\n",
    "check_point_paths"
   ]
  },
  {
   "cell_type": "code",
   "source": [
    "check_point_paths = [\n",
    "    \"/content/drive/MyDrive/deep_learning_checkpoints/bigan_encoder_allChannels_10_epochs.ckpt\",\n",
    "    \"/content/drive/MyDrive/deep_learning_checkpoints/random\",\n",
    "]"
   ],
   "metadata": {
    "id": "vHaA5u4XDZcF"
   },
   "execution_count": 37,
   "outputs": []
  },
  {
   "cell_type": "code",
   "source": [
    "check_point_paths"
   ],
   "metadata": {
    "colab": {
     "base_uri": "https://localhost:8080/"
    },
    "id": "7fi1p2GwDeBT",
    "outputId": "cb95b3cc-80b4-4545-ad14-7c766c00400c"
   },
   "execution_count": 38,
   "outputs": [
    {
     "output_type": "execute_result",
     "data": {
      "text/plain": [
       "['/content/drive/MyDrive/deep_learning_checkpoints/bigan_encoder_allChannels_10_epochs.ckpt',\n",
       " '/content/drive/MyDrive/deep_learning_checkpoints/random']"
      ]
     },
     "metadata": {},
     "execution_count": 38
    }
   ]
  },
  {
   "cell_type": "code",
   "source": [
    "# def batch_mean_and_sd(loader):\n",
    "\n",
    "#     cnt = 0\n",
    "#     fst_moment = torch.empty(12)\n",
    "#     snd_moment = torch.empty(12)\n",
    "\n",
    "#     for images in loader:\n",
    "#         b, c, h, w = images.shape\n",
    "#         nb_pixels = b * h * w\n",
    "#         sum_ = torch.sum(images, dim=[0, 2, 3])\n",
    "#         sum_of_square = torch.sum(images ** 2,\n",
    "#                                   dim=[0, 2, 3])\n",
    "#         fst_moment = (cnt * fst_moment + sum_) / (cnt + nb_pixels)\n",
    "#         snd_moment = (cnt * snd_moment + sum_of_square) / (cnt + nb_pixels)\n",
    "#         cnt += nb_pixels\n",
    "\n",
    "#     mean, std = fst_moment, torch.sqrt(snd_moment - fst_moment ** 2)\n",
    "#     return mean,std\n",
    "\n",
    "# mean, std = batch_mean_and_sd(train_loader)\n",
    "# print(\"mean and std: \\n\", mean, std)"
   ],
   "metadata": {
    "id": "xqSbCfxCrx3w"
   },
   "execution_count": 11,
   "outputs": []
  },
  {
   "cell_type": "code",
   "source": [
    "# check_point_paths = [\n",
    "# '/content/drive/MyDrive/deep_learning_checkpoints/vae_bigearthnet_128_32epoch.ckpt']"
   ],
   "metadata": {
    "id": "3RA-C0SMEHiD"
   },
   "execution_count": 12,
   "outputs": []
  },
  {
   "cell_type": "code",
   "source": [
    "# print(load_encoder_checkpoint_from_pretext_model('/content/drive/MyDrive/deep_learning_checkpoints/random'))"
   ],
   "metadata": {
    "id": "0RRlLBmRZ8fw"
   },
   "execution_count": 13,
   "outputs": []
  },
  {
   "cell_type": "markdown",
   "metadata": {
    "id": "bGYd4vbQJMwZ"
   },
   "source": [
    "### Hyperparameter setup"
   ]
  },
  {
   "cell_type": "code",
   "execution_count": 14,
   "metadata": {
    "id": "iiMMXT-Vj-m2"
   },
   "outputs": [],
   "source": [
    "# Model Setup\n",
    "class Hparams:\n",
    "    def __init__(self):\n",
    "        self.epochs = 10  # number of training epochs for pretext tasks\n",
    "        self.seed = 1234  # randomness seed\n",
    "        self.gradient_accumulation_steps = 1  # gradient accumulation steps\n",
    "        self.batch_size = 16\n",
    "        self.lr = 1e-3\n",
    "        self.weight_decay = 1e-6\n",
    "        self.optim = \"Adam\"\n",
    "        self.cuda = True  # use coda\n",
    "        self.transform = True\n",
    "        self.split = False\n",
    "        self.frozen = True"
   ]
  },
  {
   "cell_type": "code",
   "execution_count": 15,
   "metadata": {
    "id": "A4mioRF_kamU"
   },
   "outputs": [],
   "source": [
    "train_config = Hparams()"
   ]
  },
  {
   "cell_type": "code",
   "execution_count": 16,
   "metadata": {
    "id": "136IjGFisU6F"
   },
   "outputs": [],
   "source": [
    "reproducibility(train_config)"
   ]
  },
  {
   "cell_type": "markdown",
   "source": [
    "## Data"
   ],
   "metadata": {
    "id": "IydzWmtiKPMq"
   }
  },
  {
   "cell_type": "code",
   "source": [
    "dfc2020_path = \"/content/drive/MyDrive/dfc2020/dfc_2020.tar.gz\""
   ],
   "metadata": {
    "id": "SH4Ig1pvB9v9"
   },
   "execution_count": 17,
   "outputs": []
  },
  {
   "cell_type": "code",
   "source": [
    "with tarfile.open(dfc2020_path, mode=\"r\") as tar:\n",
    "    tar.extractall(path=\"/content/\")"
   ],
   "metadata": {
    "id": "JGPvIkcdfdq9"
   },
   "execution_count": 18,
   "outputs": []
  },
  {
   "cell_type": "code",
   "source": [
    "from torch.utils.data import random_split"
   ],
   "metadata": {
    "id": "6Cmp1uF07QMb"
   },
   "execution_count": 19,
   "outputs": []
  },
  {
   "cell_type": "code",
   "source": [
    "means = [\n",
    "    0.1234,\n",
    "    0.0996,\n",
    "    0.0902,\n",
    "    0.0750,\n",
    "    0.0965,\n",
    "    0.1628,\n",
    "    0.1915,\n",
    "    0.1875,\n",
    "    0.2088,\n",
    "    0.0708,\n",
    "    0.1413,\n",
    "    0.0873,\n",
    "]\n",
    "stds = [\n",
    "    0.0195,\n",
    "    0.0260,\n",
    "    0.0299,\n",
    "    0.0453,\n",
    "    0.0472,\n",
    "    0.0878,\n",
    "    0.1105,\n",
    "    0.1125,\n",
    "    0.1234,\n",
    "    0.0511,\n",
    "    0.0943,\n",
    "    0.0714,\n",
    "]"
   ],
   "metadata": {
    "id": "f8Kog4VmvAr2"
   },
   "execution_count": 20,
   "outputs": []
  },
  {
   "cell_type": "code",
   "source": [
    "# import os\n",
    "# import rasterio\n",
    "# import numpy as np\n",
    "# import glob\n",
    "# import torch.utils.data as data\n",
    "# import matplotlib.pyplot as plt\n",
    "# from tqdm import tqdm\n",
    "# import torch\n",
    "# import torchvision.transforms as T\n",
    "# from typing import Union, Callable\n",
    "\n",
    "# means = [0.1234, 0.0996, 0.0902, 0.0750, 0.0965, 0.1628, 0.1915, 0.1875, 0.2088,\n",
    "#         0.0708, 0.1413, 0.0873]\n",
    "# stds = [0.0195, 0.0260, 0.0299, 0.0453, 0.0472, 0.0878, 0.1105, 0.1125, 0.1234,\n",
    "#         0.0511, 0.0943, 0.0714]\n",
    "\n",
    "# def get_dfc2020_normalizer():\n",
    "#     return T.Normalize(mean=means, std=stds)\n",
    "\n",
    "\n",
    "# class DFC2020(data.Dataset):\n",
    "#     \"\"\"PyTorch dataset class for the DFC2020 dataset\"\"\"\n",
    "\n",
    "#     def __init__(\n",
    "#         self,\n",
    "#         path,\n",
    "#         subset=\"val\",\n",
    "#         no_savanna=False,\n",
    "#         use_s2hr=False,\n",
    "#         use_s2mr=False,\n",
    "#         use_s2lr=False,\n",
    "#         use_s1=False,\n",
    "#         transform: Union[Callable, None] = None\n",
    "#     ):\n",
    "#         \"\"\"Initialize the dataset\"\"\"\n",
    "\n",
    "#         # inizialize\n",
    "#         super(DFC2020, self).__init__()\n",
    "\n",
    "#         self.transform = transform\n",
    "\n",
    "#         # make sure parameters are okay\n",
    "#         if not (use_s2hr or use_s2mr or use_s2lr or use_s1):\n",
    "#             raise ValueError(\n",
    "#                 \"No input specified, set at least one of \"\n",
    "#                 + \"use_[s2hr, s2mr, s2lr, s1] to True!\"\n",
    "#             )\n",
    "#         self.use_s2hr = use_s2hr\n",
    "#         self.use_s2mr = use_s2mr\n",
    "#         self.use_s2lr = use_s2lr\n",
    "#         self.use_s1 = use_s1\n",
    "#         assert subset in [\"val\", \"test\"]\n",
    "#         self.no_savanna = no_savanna\n",
    "\n",
    "#         # provide number of input channels\n",
    "#         self.n_inputs = get_ninputs(use_s1, use_s2hr, use_s2mr, use_s2lr)\n",
    "\n",
    "#         # provide index of channel(s) suitable for previewing the input\n",
    "#         self.display_channels, self.brightness_factor = get_display_channels(\n",
    "#             use_s2hr, use_s2mr, use_s2lr\n",
    "#         )\n",
    "\n",
    "#         # provide number of classes\n",
    "#         if no_savanna:\n",
    "#             self.n_classes = max(DFC2020_CLASSES) - 1\n",
    "#         else:\n",
    "#             self.n_classes = max(DFC2020_CLASSES)\n",
    "\n",
    "#         # make sure parent dir exists\n",
    "#         assert os.path.exists(path)\n",
    "\n",
    "#         # build list of sample paths\n",
    "#         if subset == \"val\":\n",
    "#             path = os.path.join(path, \"ROIs0000_validation\", \"s2_validation\")\n",
    "#         else:\n",
    "#             path = os.path.join(path, \"ROIs0000_test\", \"s2_0\")\n",
    "#         s2_locations = glob.glob(os.path.join(path, \"*.tif\"), recursive=True)\n",
    "#         self.samples = []\n",
    "#         for s2_loc in tqdm(s2_locations, desc=\"[Load]\"):\n",
    "#             s1_loc = s2_loc.replace(\"_s2_\", \"_s1_\").replace(\"s2_\", \"s1_\")\n",
    "#             lc_loc = s2_loc.replace(\"_dfc_\", \"_lc_\").replace(\"s2_\", \"dfc_\")\n",
    "#             self.samples.append(\n",
    "#                 {\n",
    "#                     \"lc\": lc_loc,\n",
    "#                     \"s1\": s1_loc,\n",
    "#                     \"s2\": s2_loc,\n",
    "#                     \"id\": os.path.basename(s2_loc),\n",
    "#                 }\n",
    "#             )\n",
    "\n",
    "#         # sort list of samples\n",
    "#         self.samples = sorted(self.samples, key=lambda i: i[\"id\"])\n",
    "\n",
    "#         print(\"loaded\", len(self.samples), \"samples from the dfc2020 subset\", subset)\n",
    "\n",
    "#     def __getitem__(self, index):\n",
    "#         \"\"\"Get a single example from the dataset\"\"\"\n",
    "\n",
    "#         # get and load sample from index file\n",
    "#         sample = self.samples[index]\n",
    "#         sample_loaded = load_sample(\n",
    "#             sample,\n",
    "#             self.use_s1,\n",
    "#             self.use_s2hr,\n",
    "#             self.use_s2mr,\n",
    "#             self.use_s2lr,\n",
    "#             no_savanna=self.no_savanna,\n",
    "#             igbp=False,\n",
    "#         )\n",
    "#         if self.transform:\n",
    "#             sample_loaded[\"image\"] = self.transform(np.transpose(sample_loaded[\"image\"], (1, 2, 0)))\n",
    "#             return sample_loaded\n",
    "#         else:\n",
    "#             return sample_loaded\n",
    "\n",
    "#     def __len__(self):\n",
    "#         \"\"\"Get number of samples in the dataset\"\"\"\n",
    "#         return len(self.samples)\n",
    "\n",
    "#     def visualize_observation(self, idx):\n",
    "#         sample = self.__getitem__(idx)\n",
    "#         img = sample[\"image\"]\n",
    "#         label = sample[\"label\"]\n",
    "\n",
    "#         print(\n",
    "#             \"id:\",\n",
    "#             sample[\"id\"],\n",
    "#             \"\\n\",\n",
    "#             \"input shape:\",\n",
    "#             img.shape,\n",
    "#             \"\\n\",\n",
    "#             \"label shape:\",\n",
    "#             label.shape,\n",
    "#             \"\\n\",\n",
    "#         )\n",
    "\n",
    "#         fig, axs = plt.subplots(1, 2, figsize=(10, 6))\n",
    "\n",
    "#         img_rgb = img[[3, 2, 1], :, :]\n",
    "#         img_rgb = np.transpose(img_rgb, (1, 2, 0))\n",
    "#         img_rgb = img_rgb / img_rgb.max()\n",
    "\n",
    "#         axs[0].imshow(img_rgb)\n",
    "#         axs[0].set_title(\"Sentinel-2 RGB\")\n",
    "#         axs[0].axis(\"off\")\n",
    "\n",
    "#         mask = label.squeeze()\n",
    "\n",
    "#         axs[1].imshow(mask)\n",
    "#         axs[1].set_title(\"Groundtruth Mask\")\n",
    "#         axs[1].axis(\"off\")\n",
    "\n",
    "#         plt.show()\n",
    "\n",
    "# # mapping from igbp to dfc2020 classes\n",
    "# DFC2020_CLASSES = [\n",
    "#     0,  # class 0 unused in both schemes\n",
    "#     1,\n",
    "#     1,\n",
    "#     1,\n",
    "#     1,\n",
    "#     1,\n",
    "#     2,\n",
    "#     2,\n",
    "#     3,  # --> will be masked if no_savanna == True\n",
    "#     3,  # --> will be masked if no_savanna == True\n",
    "#     4,\n",
    "#     5,\n",
    "#     6,  # 12 --> 6\n",
    "#     7,  # 13 --> 7\n",
    "#     6,  # 14 --> 6\n",
    "#     8,\n",
    "#     9,\n",
    "#     10,\n",
    "# ]\n",
    "\n",
    "# # indices of sentinel-2 high-/medium-/low-resolution bands\n",
    "# S2_BANDS_HR = [2, 3, 4, 8]\n",
    "# S2_BANDS_MR = [5, 6, 7, 9, 12, 13]\n",
    "# #S2_BANDS_LR = [1, 10, 11]\n",
    "# # Remove band 10\n",
    "# S2_BANDS_LR = [1, 10]\n",
    "\n",
    "# # util function for reading s2 data\n",
    "# def load_s2(path, use_hr, use_mr, use_lr):\n",
    "#     bands_selected = []\n",
    "#     if use_hr:\n",
    "#         bands_selected = bands_selected + S2_BANDS_HR\n",
    "#     if use_mr:\n",
    "#         bands_selected = bands_selected + S2_BANDS_MR\n",
    "#     if use_lr:\n",
    "#         bands_selected = bands_selected + S2_BANDS_LR\n",
    "#     bands_selected = sorted(bands_selected)\n",
    "#     with rasterio.open(path) as data:\n",
    "#         s2 = data.read(bands_selected)\n",
    "#     s2 = s2.astype(np.float32)\n",
    "#     s2 = np.clip(s2, 0, 10000)\n",
    "#     s2 /= 10000\n",
    "#     s2 = s2.astype(np.float32)\n",
    "#     return s2\n",
    "\n",
    "\n",
    "# # util function for reading s1 data\n",
    "# def load_s1(path):\n",
    "#     with rasterio.open(path) as data:\n",
    "#         s1 = data.read()\n",
    "#     s1 = s1.astype(np.float32)\n",
    "#     s1 = np.nan_to_num(s1)\n",
    "#     s1 = np.clip(s1, -25, 0)\n",
    "#     s1 /= 25\n",
    "#     s1 += 1\n",
    "#     s1 = s1.astype(np.float32)\n",
    "#     return s1\n",
    "\n",
    "\n",
    "# # util function for reading lc data\n",
    "# def load_lc(path, no_savanna=False, igbp=True):\n",
    "\n",
    "#     # load labels\n",
    "#     with rasterio.open(path) as data:\n",
    "#         lc = data.read(1)\n",
    "\n",
    "#     # convert IGBP to dfc2020 classes\n",
    "#     if igbp:\n",
    "#         lc = np.take(DFC2020_CLASSES, lc)\n",
    "#     else:\n",
    "#         lc = lc.astype(np.int64)\n",
    "\n",
    "#     # adjust class scheme to ignore class savanna\n",
    "#     if no_savanna:\n",
    "#         lc[lc == 3] = 0\n",
    "#         lc[lc > 3] -= 1\n",
    "\n",
    "#     # convert to zero-based labels and set ignore mask\n",
    "#     lc -= 1\n",
    "#     lc[lc == -1] = 255\n",
    "#     return lc\n",
    "\n",
    "\n",
    "# # util function for reading data from single sample\n",
    "# def load_sample(\n",
    "#     sample,\n",
    "#     use_s1,\n",
    "#     use_s2hr,\n",
    "#     use_s2mr,\n",
    "#     use_s2lr,\n",
    "#     no_savanna=False,\n",
    "#     igbp=True,\n",
    "#     unlabeled=False,\n",
    "# ):\n",
    "\n",
    "#     use_s2 = use_s2hr or use_s2mr or use_s2lr\n",
    "\n",
    "#     # load s2 data\n",
    "#     if use_s2:\n",
    "#         img = load_s2(sample[\"s2\"], use_s2hr, use_s2mr, use_s2lr)\n",
    "\n",
    "#     # load s1 data\n",
    "#     if use_s1:\n",
    "#         if use_s2:\n",
    "#             img = np.concatenate((img, load_s1(sample[\"s1\"])), axis=0)\n",
    "#         else:\n",
    "#             img = load_s1(sample[\"s1\"])\n",
    "\n",
    "#     # load label\n",
    "#     if unlabeled:\n",
    "#         return {\"image\": img, \"id\": sample[\"id\"]}\n",
    "#     else:\n",
    "#         lc = load_lc(sample[\"lc\"], no_savanna=no_savanna, igbp=igbp)\n",
    "\n",
    "#         return {\"image\": img, \"label\": lc, \"id\": sample[\"id\"]}\n",
    "\n",
    "\n",
    "# # util function for reading data from single sample\n",
    "# def load_sample_visual(\n",
    "#     sample,\n",
    "#     use_s1,\n",
    "#     use_s2hr,\n",
    "#     use_s2mr,\n",
    "#     use_s2lr,\n",
    "#     no_savanna=False,\n",
    "#     igbp=True,\n",
    "#     unlabeled=False,\n",
    "# ):\n",
    "\n",
    "#     use_s2 = use_s2hr or use_s2mr or use_s2lr\n",
    "\n",
    "#     # load s2 data\n",
    "#     if use_s2:\n",
    "#         img = load_s2(sample[\"s2\"], use_s2hr, use_s2mr, use_s2lr)\n",
    "\n",
    "#     # load s1 data\n",
    "#     if use_s1:\n",
    "#         if use_s2:\n",
    "#             img = np.concatenate((img, load_s1(sample[\"s1\"])), axis=0)\n",
    "#         else:\n",
    "#             img = load_s1(sample[\"s1\"])\n",
    "\n",
    "#     # load label\n",
    "#     if unlabeled:\n",
    "#         return {\"image\": img, \"id\": sample[\"id\"]}\n",
    "#     else:\n",
    "#         lc = torch.tensor(load_lc(sample[\"lc\"], no_savanna=no_savanna, igbp=igbp))\n",
    "\n",
    "#         return {\"image\": img, \"label\": lc, \"id\": sample[\"id\"]}\n",
    "\n",
    "\n",
    "# # calculate number of input channels\n",
    "# def get_ninputs(use_s1, use_s2hr, use_s2mr, use_s2lr):\n",
    "#     n_inputs = 0\n",
    "#     if use_s2hr:\n",
    "#         n_inputs += len(S2_BANDS_HR)\n",
    "#     if use_s2mr:\n",
    "#         n_inputs += len(S2_BANDS_MR)\n",
    "#     if use_s2lr:\n",
    "#         n_inputs += len(S2_BANDS_LR)\n",
    "#     if use_s1:\n",
    "#         n_inputs += 2\n",
    "#     return n_inputs\n",
    "\n",
    "\n",
    "# # select channels for preview images\n",
    "# def get_display_channels(use_s2hr, use_s2mr, use_s2lr):\n",
    "#     if use_s2hr and use_s2lr:\n",
    "#         display_channels = [3, 2, 1]\n",
    "#         brightness_factor = 3\n",
    "#     elif use_s2hr:\n",
    "#         display_channels = [2, 1, 0]\n",
    "#         brightness_factor = 3\n",
    "#     elif not (use_s2hr or use_s2mr or use_s2lr):\n",
    "#         display_channels = 0\n",
    "#         brightness_factor = 1\n",
    "#     else:\n",
    "#         display_channels = 0\n",
    "#         brightness_factor = 3\n",
    "#     return (display_channels, brightness_factor)"
   ],
   "metadata": {
    "id": "4uU73H0o300g"
   },
   "execution_count": 21,
   "outputs": []
  },
  {
   "cell_type": "code",
   "source": [
    "import torchvision.transforms as transforms\n",
    "\n",
    "if train_config.transform:\n",
    "\n",
    "    # transform = transforms.Normalize(mean=means, std=stds)\n",
    "    transform = transforms.Compose(\n",
    "        [\n",
    "            transforms.ToTensor(),\n",
    "            transforms.Normalize(\n",
    "                mean=means, std=stds\n",
    "            ),  # params computed from the eurosat data\n",
    "        ]\n",
    "    )\n",
    "else:\n",
    "    transform = None"
   ],
   "metadata": {
    "id": "sPogU-b6uq4O"
   },
   "execution_count": 22,
   "outputs": []
  },
  {
   "cell_type": "code",
   "source": [
    "dataset = DFC2020(\n",
    "    \"/content/dfc_data\",\n",
    "    subset=\"test\",\n",
    "    use_s1=False,\n",
    "    use_s2lr=True,\n",
    "    use_s2hr=True,\n",
    "    use_s2mr=True,\n",
    "    no_savanna=True,\n",
    "    transform=transform,\n",
    ")\n",
    "trainset, valset = random_split(dataset, [4102, 1026])"
   ],
   "metadata": {
    "colab": {
     "base_uri": "https://localhost:8080/"
    },
    "id": "tssYoyYX60y_",
    "outputId": "a1bd6e8d-30aa-4896-fd9a-24a0271923a1"
   },
   "execution_count": 23,
   "outputs": [
    {
     "output_type": "stream",
     "name": "stderr",
     "text": [
      "[Load]: 100%|██████████| 5128/5128 [00:00<00:00, 440691.53it/s]"
     ]
    },
    {
     "output_type": "stream",
     "name": "stdout",
     "text": [
      "loaded 5128 samples from the dfc2020 subset test\n"
     ]
    },
    {
     "output_type": "stream",
     "name": "stderr",
     "text": [
      "\n"
     ]
    }
   ]
  },
  {
   "cell_type": "code",
   "source": [
    "dataset.visualize_observation(121)"
   ],
   "metadata": {
    "id": "g8pgFrzwPxGz",
    "colab": {
     "base_uri": "https://localhost:8080/",
     "height": 390
    },
    "outputId": "34a144ac-08e0-422a-d8ff-0f5cfdbced65"
   },
   "execution_count": 24,
   "outputs": [
    {
     "output_type": "stream",
     "name": "stderr",
     "text": [
      "WARNING:matplotlib.image:Clipping input data to the valid range for imshow with RGB data ([0..1] for floats or [0..255] for integers).\n"
     ]
    },
    {
     "output_type": "stream",
     "name": "stdout",
     "text": [
      "id: ROIs0000_test_s2_0_p1106.tif \n",
      " input shape: torch.Size([12, 256, 256]) \n",
      " label shape: (256, 256) \n",
      "\n"
     ]
    },
    {
     "output_type": "display_data",
     "data": {
      "text/plain": [
       "<Figure size 720x432 with 2 Axes>"
      ],
      "image/png": "[encoded data removed]"
     },
     "metadata": {
      "needs_background": "light"
     }
    }
   ]
  },
  {
   "cell_type": "code",
   "source": [
    "train_loader = DataLoader(\n",
    "    trainset,\n",
    "    batch_size=32,\n",
    "    shuffle=True,\n",
    "    num_workers=1,\n",
    "    pin_memory=True,\n",
    "    drop_last=False,\n",
    ")\n",
    "val_loader = DataLoader(\n",
    "    valset, batch_size=32, shuffle=True, num_workers=1, pin_memory=True, drop_last=False\n",
    ")"
   ],
   "metadata": {
    "id": "8xm3MEsrNqCZ"
   },
   "execution_count": 25,
   "outputs": []
  },
  {
   "cell_type": "code",
   "source": [
    "next(iter(train_loader))[\"label\"].shape"
   ],
   "metadata": {
    "id": "cP-1fceEQMSR",
    "colab": {
     "base_uri": "https://localhost:8080/"
    },
    "outputId": "a0bf9f3c-032f-47ab-ddde-c74a4d298a8c"
   },
   "execution_count": 26,
   "outputs": [
    {
     "output_type": "execute_result",
     "data": {
      "text/plain": [
       "torch.Size([32, 256, 256])"
      ]
     },
     "metadata": {},
     "execution_count": 26
    }
   ]
  },
  {
   "cell_type": "code",
   "source": [
    "import os\n",
    "import torch\n",
    "import torch.nn as nn\n",
    "import random\n",
    "import wandb\n",
    "import numpy as np\n",
    "from PIL import Image\n",
    "import matplotlib.pyplot as plt\n",
    "from ssl_remote_sensing.pretext_tasks.vae.model import VariationalAutoencoder\n",
    "from ssl_remote_sensing.pretext_tasks.simclr.training import SimCLRTraining\n",
    "from sklearn.metrics import confusion_matrix, accuracy_score, jaccard_score\n",
    "from ssl_remote_sensing.pretext_tasks.simclr.training import SimCLRTraining\n",
    "from ssl_remote_sensing.models.ResNet18 import ResNetEncoder, resnet18_encoder\n",
    "from ssl_remote_sensing.pretext_tasks.simclr.config import get_simclr_config\n",
    "from ssl_remote_sensing.pretext_tasks.vae.config import get_vae_config\n",
    "from ssl_remote_sensing.pretext_tasks.vae.model import VariationalAutoencoder\n",
    "from ssl_remote_sensing.pretext_tasks.gan.bigan_encoder import BiganResnetEncoder\n",
    "from ssl_remote_sensing.models.ResNet18 import resnet18_basenet\n",
    "from ssl_remote_sensing.pretext_tasks.gan.config import get_bigan_config\n",
    "\n",
    "\n",
    "def visualize_result(idx, bst_model, valset, device, wandb=wandb, model_name=None):\n",
    "\n",
    "    if not idx:\n",
    "        idx = random.randint(0, len(valset))\n",
    "        print(\"Validation image ID: {}\".format(idx))\n",
    "\n",
    "    sample = valset.__getitem__(idx)\n",
    "    img = sample[\"image\"]\n",
    "    label = sample[\"label\"]\n",
    "\n",
    "    fig, axs = plt.subplots(1, 3, figsize=(10, 6))\n",
    "\n",
    "    img_rgb = img[[3, 2, 1], :, :]\n",
    "    img_rgb = np.transpose(img_rgb, (1, 2, 0))\n",
    "    img_rgb = img_rgb / img_rgb.max()\n",
    "\n",
    "    mask = label.squeeze()\n",
    "\n",
    "    input_img = img.cpu().detach().numpy()\n",
    "    input_img = torch.from_numpy(input_img)\n",
    "    input_img = torch.unsqueeze(input_img.float().to(device), 0)\n",
    "    output = bst_model(input_img)\n",
    "    output = torch.nn.functional.softmax(output, dim=1)\n",
    "    output = torch.argmax(output, dim=1)\n",
    "    output = output.to(\"cpu\").squeeze(0).numpy()\n",
    "\n",
    "    # # wandb log\n",
    "    # img_log = wandb.Image(img_rgb, caption=\"Sentinel-2 RGB\")\n",
    "    # wandb.log({f\"Sentinal-2 RGB: {model_name}\": img_log})\n",
    "    # mask_log = wandb.Image(\n",
    "    #     Image.fromarray(np.uint8(mask)).convert(\"RGB\"), caption=\"Groundtruth Mask\"\n",
    "    # )\n",
    "    # wandb.log({f\"Groundtruth Mask: {model_name}\": mask_log})\n",
    "    # output_log = wandb.Image(\n",
    "    #     Image.fromarray(np.uint8(output)).convert(\"RGB\"), caption=\"Predicted Mask\"\n",
    "    # )\n",
    "    # wandb.log({f\"Predicted Mask: {model_name}\": output_log})\n",
    "\n",
    "    axs[0].imshow(img_rgb)\n",
    "    axs[0].set_title(\"Sentinel-2 RGB\")\n",
    "    axs[0].axis(\"off\")\n",
    "\n",
    "    axs[1].imshow(mask)\n",
    "    axs[1].set_title(\"Groundtruth Mask\")\n",
    "    axs[1].axis(\"off\")\n",
    "\n",
    "    axs[2].imshow(output)\n",
    "    axs[2].set_title(\"Predicted Mask\")\n",
    "    axs[2].axis(\"off\")\n",
    "\n",
    "    plt.show()"
   ],
   "metadata": {
    "id": "-kaz27UBtDMM"
   },
   "execution_count": 39,
   "outputs": []
  },
  {
   "cell_type": "markdown",
   "source": [
    "## Segmentation Model"
   ],
   "metadata": {
    "id": "ii5BJiuDzW6Y"
   }
  },
  {
   "cell_type": "code",
   "source": [
    "loss_fn = nn.CrossEntropyLoss(ignore_index=255, reduction=\"mean\")"
   ],
   "metadata": {
    "id": "bFmsgum87-CX"
   },
   "execution_count": 30,
   "outputs": []
  },
  {
   "cell_type": "code",
   "source": [
    "for filename in check_point_paths:\n",
    "    # Update checkpoint name\n",
    "    train_config.checkpoint_name = filename\n",
    "    # Load Encoder from different pre-text architectures\n",
    "    encoder = load_encoder_checkpoint_from_pretext_model(\n",
    "        path_to_checkpoint=filename,\n",
    "    )\n",
    "    # patch_first_conv(encoder,13,default_in_channels=3)\n",
    "\n",
    "    # freeze layers\n",
    "    if train_config.frozen == True:\n",
    "        for param in encoder.parameters():\n",
    "            param.requires_grad = False\n",
    "\n",
    "    model_name = filename.split(\"/\")[-1].split(\".\")[0]\n",
    "    model_dir = \"/content/drive/My Drive/deep_learning_segmentation_checkpoints\"\n",
    "    model_path = os.path.join(model_dir, f\"segmentation_{model_name}_eurosat13.ckpt\")\n",
    "    # make sure the directory path exists\n",
    "    assert os.path.exists(model_dir)\n",
    "\n",
    "    wandb.init(\n",
    "        project=\"ssl-remote-sensing-segmentation-dfc-frozen-normalize\",\n",
    "        name=model_name,\n",
    "        config=train_config.__dict__,\n",
    "    )\n",
    "\n",
    "    # Model setup\n",
    "    if \"bigan\" in train_config.checkpoint_name.lower():\n",
    "        model = ResNetUNet(9, encoder=encoder, gan_encoder=True)\n",
    "    else:\n",
    "        model = ResNetUNet(9, encoder=encoder, gan_encoder=False)\n",
    "\n",
    "    # train(model)\n",
    "    train(\n",
    "        model,\n",
    "        train_config,\n",
    "        train_loader,\n",
    "        val_loader,\n",
    "        loss_fn,\n",
    "        device,\n",
    "        model_path,\n",
    "        wandb=wandb,\n",
    "    )\n",
    "\n",
    "    # Initialise a UNet() model\n",
    "    if \"bigan\" in train_config.checkpoint_name.lower():\n",
    "        bst_model = ResNetUNet(9, encoder=encoder, gan_encoder=True)\n",
    "    else:\n",
    "        bst_model = ResNetUNet(9, encoder=encoder, gan_encoder=False)\n",
    "    # # Load pretrained weights\n",
    "    bst_model.load_state_dict(torch.load(model_path))\n",
    "    # # Move to device (GPU or CPU)\n",
    "    bst_model.to(device)\n",
    "    # visualize_result(171,bst_model)\n",
    "    visualize_result(171, bst_model, valset, device, wandb=wandb, model_name=model_name)"
   ],
   "metadata": {
    "colab": {
     "base_uri": "https://localhost:8080/",
     "height": 1000
    },
    "id": "TV9R4uYqV-rW",
    "outputId": "f34c897c-50e1-4023-9099-6041a4d14bb7"
   },
   "execution_count": 40,
   "outputs": [
    {
     "data": {
      "text/html": [
       "Finishing last run (ID:kr7ml4f5) before initializing another..."
      ],
      "text/plain": [
       "<IPython.core.display.HTML object>"
      ]
     },
     "metadata": {},
     "output_type": "display_data"
    },
    {
     "data": {
      "text/html": [
       "Waiting for W&B process to finish... <strong style=\"color:green\">(success).</strong>"
      ],
      "text/plain": [
       "<IPython.core.display.HTML object>"
      ]
     },
     "metadata": {},
     "output_type": "display_data"
    },
    {
     "data": {
      "text/html": [
       "<style>\n",
       "    table.wandb td:nth-child(1) { padding: 0 10px; text-align: left ; width: auto;} td:nth-child(2) {text-align: left ; width: 100%}\n",
       "    .wandb-row { display: flex; flex-direction: row; flex-wrap: wrap; justify-content: flex-start; width: 100% }\n",
       "    .wandb-col { display: flex; flex-direction: column; flex-basis: 100%; flex: 1; padding: 10px; }\n",
       "    </style>\n",
       "<div class=\"wandb-row\"><div class=\"wandb-col\"><h3>Run history:</h3><br/><table class=\"wandb\"><tr><td>train_acc_segmentation</td><td>▁▅▆▇▇█████</td></tr><tr><td>train_iou_segmentation</td><td>▁▅▅▆▇▇████</td></tr><tr><td>train_loss_segmentation</td><td>█▄▃▂▂▁▁▁▁▁</td></tr><tr><td>val_acc_segmentation</td><td>▁▄▅▅▇▆▇▇██</td></tr><tr><td>val_iou_segmentation</td><td>▁▃▅▅▆▆▇▇█▇</td></tr><tr><td>val_loss_segmentation</td><td>█▅▄▄▂▃▂▂▁▁</td></tr></table><br/></div><div class=\"wandb-col\"><h3>Run summary:</h3><br/><table class=\"wandb\"><tr><td>train_acc_segmentation</td><td>0.85947</td></tr><tr><td>train_iou_segmentation</td><td>0.53651</td></tr><tr><td>train_loss_segmentation</td><td>0.37998</td></tr><tr><td>val_acc_segmentation</td><td>0.86373</td></tr><tr><td>val_iou_segmentation</td><td>0.53222</td></tr><tr><td>val_loss_segmentation</td><td>0.37024</td></tr></table><br/></div></div>"
      ],
      "text/plain": [
       "<IPython.core.display.HTML object>"
      ]
     },
     "metadata": {},
     "output_type": "display_data"
    },
    {
     "data": {
      "text/html": [
       "Synced <strong style=\"color:#cdcd00\">vae_bigearthnet</strong>: <a href=\"https://wandb.ai/xuemei-jiang/ssl-remote-sensing-segmentation-dfc-frozen-normalize/runs/kr7ml4f5\" target=\"_blank\">https://wandb.ai/xuemei-jiang/ssl-remote-sensing-segmentation-dfc-frozen-normalize/runs/kr7ml4f5</a><br/>Synced 5 W&B file(s), 0 media file(s), 0 artifact file(s) and 0 other file(s)"
      ],
      "text/plain": [
       "<IPython.core.display.HTML object>"
      ]
     },
     "metadata": {},
     "output_type": "display_data"
    },
    {
     "data": {
      "text/html": [
       "Find logs at: <code>./wandb/run-20221217_214747-kr7ml4f5/logs</code>"
      ],
      "text/plain": [
       "<IPython.core.display.HTML object>"
      ]
     },
     "metadata": {},
     "output_type": "display_data"
    },
    {
     "data": {
      "text/html": [
       "Successfully finished last run (ID:kr7ml4f5). Initializing new run:<br/>"
      ],
      "text/plain": [
       "<IPython.core.display.HTML object>"
      ]
     },
     "metadata": {},
     "output_type": "display_data"
    },
    {
     "data": {
      "text/html": [
       "Tracking run with wandb version 0.13.7"
      ],
      "text/plain": [
       "<IPython.core.display.HTML object>"
      ]
     },
     "metadata": {},
     "output_type": "display_data"
    },
    {
     "data": {
      "text/html": [
       "Run data is saved locally in <code>/content/wandb/run-20221217_222334-2db0hkiv</code>"
      ],
      "text/plain": [
       "<IPython.core.display.HTML object>"
      ]
     },
     "metadata": {},
     "output_type": "display_data"
    },
    {
     "data": {
      "text/html": [
       "Syncing run <strong><a href=\"https://wandb.ai/xuemei-jiang/ssl-remote-sensing-segmentation-dfc-frozen-normalize/runs/2db0hkiv\" target=\"_blank\">bigan_encoder_allChannels_10_epochs</a></strong> to <a href=\"https://wandb.ai/xuemei-jiang/ssl-remote-sensing-segmentation-dfc-frozen-normalize\" target=\"_blank\">Weights & Biases</a> (<a href=\"https://wandb.me/run\" target=\"_blank\">docs</a>)<br/>"
      ],
      "text/plain": [
       "<IPython.core.display.HTML object>"
      ]
     },
     "metadata": {},
     "output_type": "display_data"
    },
    {
     "metadata": {
      "tags": null
     },
     "name": "stderr",
     "output_type": "stream",
     "text": [
      "Epoch = 1, Train Loss: 0.8070: 100%|██████████| 129/129 [02:42<00:00,  1.26s/it]\n",
      "Validation Loss: 0.6406: 100%|██████████| 33/33 [00:15<00:00,  2.09it/s]"
     ]
    },
    {
     "metadata": {
      "tags": null
     },
     "name": "stdout",
     "output_type": "stream",
     "text": [
      "train_iou is 0.3323, val_iou is 0.3890\n",
      "train_acc is 0.7102, val_acc is 0.7707\n"
     ]
    },
    {
     "metadata": {
      "tags": null
     },
     "name": "stderr",
     "output_type": "stream",
     "text": [
      "\n",
      "Epoch = 2, Train Loss: 0.5848: 100%|██████████| 129/129 [02:41<00:00,  1.25s/it]\n",
      "Validation Loss: 0.5597: 100%|██████████| 33/33 [00:15<00:00,  2.09it/s]\n"
     ]
    },
    {
     "metadata": {
      "tags": null
     },
     "name": "stdout",
     "output_type": "stream",
     "text": [
      "Saving Model...\n",
      "train_iou is 0.4186, val_iou is 0.4218\n",
      "train_acc is 0.7913, val_acc is 0.8026\n"
     ]
    },
    {
     "metadata": {
      "tags": null
     },
     "name": "stderr",
     "output_type": "stream",
     "text": [
      "Epoch = 3, Train Loss: 0.5213: 100%|██████████| 129/129 [02:41<00:00,  1.25s/it]\n",
      "Validation Loss: 0.4908: 100%|██████████| 33/33 [00:15<00:00,  2.09it/s]\n"
     ]
    },
    {
     "metadata": {
      "tags": null
     },
     "name": "stdout",
     "output_type": "stream",
     "text": [
      "Saving Model...\n",
      "train_iou is 0.4510, val_iou is 0.4654\n",
      "train_acc is 0.8148, val_acc is 0.8276\n"
     ]
    },
    {
     "metadata": {
      "tags": null
     },
     "name": "stderr",
     "output_type": "stream",
     "text": [
      "Epoch = 4, Train Loss: 0.4755: 100%|██████████| 129/129 [02:41<00:00,  1.25s/it]\n",
      "Validation Loss: 0.4911: 100%|██████████| 33/33 [00:15<00:00,  2.08it/s]"
     ]
    },
    {
     "metadata": {
      "tags": null
     },
     "name": "stdout",
     "output_type": "stream",
     "text": [
      "train_iou is 0.4797, val_iou is 0.4755\n",
      "train_acc is 0.8298, val_acc is 0.8277\n"
     ]
    },
    {
     "metadata": {
      "tags": null
     },
     "name": "stderr",
     "output_type": "stream",
     "text": [
      "\n",
      "Epoch = 5, Train Loss: 0.4536: 100%|██████████| 129/129 [02:41<00:00,  1.25s/it]\n",
      "Validation Loss: 0.4650: 100%|██████████| 33/33 [00:15<00:00,  2.08it/s]\n"
     ]
    },
    {
     "metadata": {
      "tags": null
     },
     "name": "stdout",
     "output_type": "stream",
     "text": [
      "Saving Model...\n",
      "train_iou is 0.4898, val_iou is 0.4819\n",
      "train_acc is 0.8364, val_acc is 0.8344\n"
     ]
    },
    {
     "metadata": {
      "tags": null
     },
     "name": "stderr",
     "output_type": "stream",
     "text": [
      "Epoch = 6, Train Loss: 0.4387: 100%|██████████| 129/129 [02:41<00:00,  1.25s/it]\n",
      "Validation Loss: 0.4362: 100%|██████████| 33/33 [00:15<00:00,  2.09it/s]\n"
     ]
    },
    {
     "metadata": {
      "tags": null
     },
     "name": "stdout",
     "output_type": "stream",
     "text": [
      "Saving Model...\n",
      "train_iou is 0.4999, val_iou is 0.5016\n",
      "train_acc is 0.8409, val_acc is 0.8429\n"
     ]
    },
    {
     "metadata": {
      "tags": null
     },
     "name": "stderr",
     "output_type": "stream",
     "text": [
      "Epoch = 7, Train Loss: 0.4217: 100%|██████████| 129/129 [02:40<00:00,  1.25s/it]\n",
      "Validation Loss: 0.4045: 100%|██████████| 33/33 [00:15<00:00,  2.09it/s]\n"
     ]
    },
    {
     "metadata": {
      "tags": null
     },
     "name": "stdout",
     "output_type": "stream",
     "text": [
      "Saving Model...\n",
      "train_iou is 0.5129, val_iou is 0.5245\n",
      "train_acc is 0.8466, val_acc is 0.8543\n"
     ]
    },
    {
     "metadata": {
      "tags": null
     },
     "name": "stderr",
     "output_type": "stream",
     "text": [
      "Epoch = 8, Train Loss: 0.4076: 100%|██████████| 129/129 [02:40<00:00,  1.25s/it]\n",
      "Validation Loss: 0.4168: 100%|██████████| 33/33 [00:15<00:00,  2.09it/s]"
     ]
    },
    {
     "metadata": {
      "tags": null
     },
     "name": "stdout",
     "output_type": "stream",
     "text": [
      "train_iou is 0.5207, val_iou is 0.5281\n",
      "train_acc is 0.8515, val_acc is 0.8493\n"
     ]
    },
    {
     "metadata": {
      "tags": null
     },
     "name": "stderr",
     "output_type": "stream",
     "text": [
      "\n",
      "Epoch = 9, Train Loss: 0.3995: 100%|██████████| 129/129 [02:40<00:00,  1.25s/it]\n",
      "Validation Loss: 0.4043: 100%|██████████| 33/33 [00:15<00:00,  2.08it/s]\n"
     ]
    },
    {
     "metadata": {
      "tags": null
     },
     "name": "stdout",
     "output_type": "stream",
     "text": [
      "Saving Model...\n",
      "train_iou is 0.5274, val_iou is 0.5227\n",
      "train_acc is 0.8539, val_acc is 0.8530\n"
     ]
    },
    {
     "metadata": {
      "tags": null
     },
     "name": "stderr",
     "output_type": "stream",
     "text": [
      "Epoch = 10, Train Loss: 0.4009: 100%|██████████| 129/129 [02:40<00:00,  1.25s/it]\n",
      "Validation Loss: 0.3809: 100%|██████████| 33/33 [00:15<00:00,  2.09it/s]\n"
     ]
    },
    {
     "metadata": {
      "tags": null
     },
     "name": "stdout",
     "output_type": "stream",
     "text": [
      "Saving Model...\n",
      "train_iou is 0.5254, val_iou is 0.5322\n",
      "train_acc is 0.8534, val_acc is 0.8607\n",
      "Finished Training\n"
     ]
    },
    {
     "metadata": {
      "tags": null
     },
     "name": "stderr",
     "output_type": "stream",
     "text": [
      "WARNING:matplotlib.image:Clipping input data to the valid range for imshow with RGB data ([0..1] for floats or [0..255] for integers).\n"
     ]
    },
    {
     "data": {
      "image/png": "[encoded data removed]",
      "text/plain": [
       "<Figure size 720x432 with 3 Axes>"
      ]
     },
     "metadata": {},
     "output_type": "display_data"
    },
    {
     "data": {
      "text/html": [
       "Finishing last run (ID:2db0hkiv) before initializing another..."
      ],
      "text/plain": [
       "<IPython.core.display.HTML object>"
      ]
     },
     "metadata": {},
     "output_type": "display_data"
    },
    {
     "data": {
      "text/html": [
       "Waiting for W&B process to finish... <strong style=\"color:green\">(success).</strong>"
      ],
      "text/plain": [
       "<IPython.core.display.HTML object>"
      ]
     },
     "metadata": {},
     "output_type": "display_data"
    },
    {
     "data": {
      "text/html": [
       "<style>\n",
       "    table.wandb td:nth-child(1) { padding: 0 10px; text-align: left ; width: auto;} td:nth-child(2) {text-align: left ; width: 100%}\n",
       "    .wandb-row { display: flex; flex-direction: row; flex-wrap: wrap; justify-content: flex-start; width: 100% }\n",
       "    .wandb-col { display: flex; flex-direction: column; flex-basis: 100%; flex: 1; padding: 10px; }\n",
       "    </style>\n",
       "<div class=\"wandb-row\"><div class=\"wandb-col\"><h3>Run history:</h3><br/><table class=\"wandb\"><tr><td>train_acc_segmentation</td><td>▁▅▆▇▇▇████</td></tr><tr><td>train_iou_segmentation</td><td>▁▄▅▆▇▇▇███</td></tr><tr><td>train_loss_segmentation</td><td>█▄▃▂▂▂▁▁▁▁</td></tr><tr><td>val_acc_segmentation</td><td>▁▃▅▅▆▇█▇▇█</td></tr><tr><td>val_iou_segmentation</td><td>▁▃▅▅▆▇████</td></tr><tr><td>val_loss_segmentation</td><td>█▆▄▄▃▂▂▂▂▁</td></tr></table><br/></div><div class=\"wandb-col\"><h3>Run summary:</h3><br/><table class=\"wandb\"><tr><td>train_acc_segmentation</td><td>0.85344</td></tr><tr><td>train_iou_segmentation</td><td>0.52541</td></tr><tr><td>train_loss_segmentation</td><td>0.40087</td></tr><tr><td>val_acc_segmentation</td><td>0.86068</td></tr><tr><td>val_iou_segmentation</td><td>0.53222</td></tr><tr><td>val_loss_segmentation</td><td>0.3809</td></tr></table><br/></div></div>"
      ],
      "text/plain": [
       "<IPython.core.display.HTML object>"
      ]
     },
     "metadata": {},
     "output_type": "display_data"
    },
    {
     "data": {
      "text/html": [
       "Synced <strong style=\"color:#cdcd00\">bigan_encoder_allChannels_10_epochs</strong>: <a href=\"https://wandb.ai/xuemei-jiang/ssl-remote-sensing-segmentation-dfc-frozen-normalize/runs/2db0hkiv\" target=\"_blank\">https://wandb.ai/xuemei-jiang/ssl-remote-sensing-segmentation-dfc-frozen-normalize/runs/2db0hkiv</a><br/>Synced 5 W&B file(s), 0 media file(s), 0 artifact file(s) and 0 other file(s)"
      ],
      "text/plain": [
       "<IPython.core.display.HTML object>"
      ]
     },
     "metadata": {},
     "output_type": "display_data"
    },
    {
     "data": {
      "text/html": [
       "Find logs at: <code>./wandb/run-20221217_222334-2db0hkiv/logs</code>"
      ],
      "text/plain": [
       "<IPython.core.display.HTML object>"
      ]
     },
     "metadata": {},
     "output_type": "display_data"
    },
    {
     "data": {
      "text/html": [
       "Successfully finished last run (ID:2db0hkiv). Initializing new run:<br/>"
      ],
      "text/plain": [
       "<IPython.core.display.HTML object>"
      ]
     },
     "metadata": {},
     "output_type": "display_data"
    },
    {
     "data": {
      "text/html": [
       "Tracking run with wandb version 0.13.7"
      ],
      "text/plain": [
       "<IPython.core.display.HTML object>"
      ]
     },
     "metadata": {},
     "output_type": "display_data"
    },
    {
     "data": {
      "text/html": [
       "Run data is saved locally in <code>/content/wandb/run-20221217_225316-6nk612el</code>"
      ],
      "text/plain": [
       "<IPython.core.display.HTML object>"
      ]
     },
     "metadata": {},
     "output_type": "display_data"
    },
    {
     "data": {
      "text/html": [
       "Syncing run <strong><a href=\"https://wandb.ai/xuemei-jiang/ssl-remote-sensing-segmentation-dfc-frozen-normalize/runs/6nk612el\" target=\"_blank\">random</a></strong> to <a href=\"https://wandb.ai/xuemei-jiang/ssl-remote-sensing-segmentation-dfc-frozen-normalize\" target=\"_blank\">Weights & Biases</a> (<a href=\"https://wandb.me/run\" target=\"_blank\">docs</a>)<br/>"
      ],
      "text/plain": [
       "<IPython.core.display.HTML object>"
      ]
     },
     "metadata": {},
     "output_type": "display_data"
    },
    {
     "metadata": {
      "tags": null
     },
     "name": "stderr",
     "output_type": "stream",
     "text": [
      "Epoch = 1, Train Loss: 0.8114: 100%|██████████| 129/129 [02:42<00:00,  1.26s/it]\n",
      "Validation Loss: 0.5916: 100%|██████████| 33/33 [00:15<00:00,  2.08it/s]"
     ]
    },
    {
     "metadata": {
      "tags": null
     },
     "name": "stdout",
     "output_type": "stream",
     "text": [
      "train_iou is 0.3372, val_iou is 0.4121\n",
      "train_acc is 0.7208, val_acc is 0.7923\n"
     ]
    },
    {
     "metadata": {
      "tags": null
     },
     "name": "stderr",
     "output_type": "stream",
     "text": [
      "\n",
      "Epoch = 2, Train Loss: 0.5561: 100%|██████████| 129/129 [02:42<00:00,  1.26s/it]\n",
      "Validation Loss: 0.5272: 100%|██████████| 33/33 [00:15<00:00,  2.07it/s]\n"
     ]
    },
    {
     "metadata": {
      "tags": null
     },
     "name": "stdout",
     "output_type": "stream",
     "text": [
      "Saving Model...\n",
      "train_iou is 0.4300, val_iou is 0.4452\n",
      "train_acc is 0.8021, val_acc is 0.8114\n"
     ]
    },
    {
     "metadata": {
      "tags": null
     },
     "name": "stderr",
     "output_type": "stream",
     "text": [
      "Epoch = 3, Train Loss: 0.5027: 100%|██████████| 129/129 [02:42<00:00,  1.26s/it]\n",
      "Validation Loss: 0.4873: 100%|██████████| 33/33 [00:15<00:00,  2.07it/s]\n"
     ]
    },
    {
     "metadata": {
      "tags": null
     },
     "name": "stdout",
     "output_type": "stream",
     "text": [
      "Saving Model...\n",
      "train_iou is 0.4629, val_iou is 0.4541\n",
      "train_acc is 0.8202, val_acc is 0.8263\n"
     ]
    },
    {
     "metadata": {
      "tags": null
     },
     "name": "stderr",
     "output_type": "stream",
     "text": [
      "Epoch = 4, Train Loss: 0.4618: 100%|██████████| 129/129 [02:41<00:00,  1.26s/it]\n",
      "Validation Loss: 0.4393: 100%|██████████| 33/33 [00:15<00:00,  2.08it/s]\n"
     ]
    },
    {
     "metadata": {
      "tags": null
     },
     "name": "stdout",
     "output_type": "stream",
     "text": [
      "Saving Model...\n",
      "train_iou is 0.4854, val_iou is 0.4919\n",
      "train_acc is 0.8339, val_acc is 0.8410\n"
     ]
    },
    {
     "metadata": {
      "tags": null
     },
     "name": "stderr",
     "output_type": "stream",
     "text": [
      "Epoch = 5, Train Loss: 0.4378: 100%|██████████| 129/129 [02:41<00:00,  1.25s/it]\n",
      "Validation Loss: 0.4088: 100%|██████████| 33/33 [00:15<00:00,  2.08it/s]\n"
     ]
    },
    {
     "metadata": {
      "tags": null
     },
     "name": "stdout",
     "output_type": "stream",
     "text": [
      "Saving Model...\n",
      "train_iou is 0.5023, val_iou is 0.5190\n",
      "train_acc is 0.8415, val_acc is 0.8539\n"
     ]
    },
    {
     "metadata": {
      "tags": null
     },
     "name": "stderr",
     "output_type": "stream",
     "text": [
      "Epoch = 6, Train Loss: 0.4259: 100%|██████████| 129/129 [02:41<00:00,  1.25s/it]\n",
      "Validation Loss: 0.4270: 100%|██████████| 33/33 [00:15<00:00,  2.07it/s]"
     ]
    },
    {
     "metadata": {
      "tags": null
     },
     "name": "stdout",
     "output_type": "stream",
     "text": [
      "train_iou is 0.5110, val_iou is 0.5145\n",
      "train_acc is 0.8454, val_acc is 0.8438\n"
     ]
    },
    {
     "metadata": {
      "tags": null
     },
     "name": "stderr",
     "output_type": "stream",
     "text": [
      "\n",
      "Epoch = 7, Train Loss: 0.4183: 100%|██████████| 129/129 [02:41<00:00,  1.25s/it]\n",
      "Validation Loss: 0.3973: 100%|██████████| 33/33 [00:15<00:00,  2.08it/s]\n"
     ]
    },
    {
     "metadata": {
      "tags": null
     },
     "name": "stdout",
     "output_type": "stream",
     "text": [
      "Saving Model...\n",
      "train_iou is 0.5162, val_iou is 0.5187\n",
      "train_acc is 0.8476, val_acc is 0.8546\n"
     ]
    },
    {
     "output_type": "stream",
     "name": "stderr",
     "text": [
      "Epoch = 8, Train Loss: 0.4022: 100%|██████████| 129/129 [02:41<00:00,  1.25s/it]\n",
      "Validation Loss: 0.3911: 100%|██████████| 33/33 [00:15<00:00,  2.08it/s]\n"
     ]
    },
    {
     "output_type": "stream",
     "name": "stdout",
     "text": [
      "Saving Model...\n",
      "train_iou is 0.5279, val_iou is 0.5278\n",
      "train_acc is 0.8535, val_acc is 0.8560\n"
     ]
    },
    {
     "output_type": "stream",
     "name": "stderr",
     "text": [
      "Epoch = 9, Train Loss: 0.3924: 100%|██████████| 129/129 [02:41<00:00,  1.25s/it]\n",
      "Validation Loss: 0.3939: 100%|██████████| 33/33 [00:15<00:00,  2.08it/s]"
     ]
    },
    {
     "output_type": "stream",
     "name": "stdout",
     "text": [
      "train_iou is 0.5331, val_iou is 0.5470\n",
      "train_acc is 0.8556, val_acc is 0.8582\n"
     ]
    },
    {
     "output_type": "stream",
     "name": "stderr",
     "text": [
      "\n",
      "Epoch = 10, Train Loss: 0.3926: 100%|██████████| 129/129 [02:41<00:00,  1.25s/it]\n",
      "Validation Loss: 0.3679: 100%|██████████| 33/33 [00:15<00:00,  2.08it/s]\n"
     ]
    },
    {
     "output_type": "stream",
     "name": "stdout",
     "text": [
      "Saving Model...\n",
      "train_iou is 0.5314, val_iou is 0.5538\n",
      "train_acc is 0.8558, val_acc is 0.8652\n",
      "Finished Training\n"
     ]
    },
    {
     "output_type": "stream",
     "name": "stderr",
     "text": [
      "WARNING:matplotlib.image:Clipping input data to the valid range for imshow with RGB data ([0..1] for floats or [0..255] for integers).\n"
     ]
    },
    {
     "output_type": "display_data",
     "data": {
      "text/plain": [
       "<Figure size 720x432 with 3 Axes>"
      ],
      "image/png": "[encoded data removed]"
     },
     "metadata": {
      "needs_background": "light"
     }
    }
   ]
  },
  {
   "cell_type": "code",
   "source": [],
   "metadata": {
    "id": "bGyCCDjr_aES"
   },
   "execution_count": null,
   "outputs": []
  }
 ],
 "metadata": {
  "accelerator": "GPU",
  "colab": {
   "provenance": [],
   "machine_shape": "hm",
   "authorship_tag": "ABX9TyPnkGIifQaap/hFvJa3lckH",
   "include_colab_link": true
  },
  "gpuClass": "standard",
  "kernelspec": {
   "display_name": "Python 3",
   "name": "python3"
  },
  "language_info": {
   "name": "python"
  }
 },
 "nbformat": 4,
 "nbformat_minor": 0
}