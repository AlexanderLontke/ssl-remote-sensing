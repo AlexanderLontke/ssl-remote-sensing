{
 "cells": [
  {
   "cell_type": "markdown",
   "source": [
    "# SimCLR implementation #"
   ],
   "metadata": {
    "collapsed": false,
    "pycharm": {
     "name": "#%% md\n"
    }
   }
  },
  {
   "cell_type": "markdown",
   "source": [
    "Implementation following: https://theaisummer.com/simclr/"
   ],
   "metadata": {
    "collapsed": false,
    "pycharm": {
     "name": "#%% md\n"
    }
   }
  },
  {
   "cell_type": "code",
   "execution_count": 1,
   "outputs": [
    {
     "name": "stdout",
     "output_type": "stream",
     "text": [
      "Requirement already satisfied: torch in /Users/alexanderlontke/.conda/envs/ssl-remote-sensing/lib/python3.10/site-packages (1.12.1)\r\n",
      "Requirement already satisfied: torchvision in /Users/alexanderlontke/.conda/envs/ssl-remote-sensing/lib/python3.10/site-packages (0.13.1)\r\n",
      "Requirement already satisfied: pytorch-lightning in /Users/alexanderlontke/.conda/envs/ssl-remote-sensing/lib/python3.10/site-packages (1.7.7)\r\n",
      "Requirement already satisfied: lightning-bolts in /Users/alexanderlontke/.conda/envs/ssl-remote-sensing/lib/python3.10/site-packages (0.5.0)\r\n",
      "Requirement already satisfied: wandb in /Users/alexanderlontke/.conda/envs/ssl-remote-sensing/lib/python3.10/site-packages (0.13.5)\r\n",
      "Requirement already satisfied: typing-extensions in /Users/alexanderlontke/.conda/envs/ssl-remote-sensing/lib/python3.10/site-packages (from torch) (4.4.0)\r\n",
      "Requirement already satisfied: numpy in /Users/alexanderlontke/.conda/envs/ssl-remote-sensing/lib/python3.10/site-packages (from torchvision) (1.23.3)\r\n",
      "Requirement already satisfied: pillow!=8.3.*,>=5.3.0 in /Users/alexanderlontke/.conda/envs/ssl-remote-sensing/lib/python3.10/site-packages (from torchvision) (9.2.0)\r\n",
      "Requirement already satisfied: requests in /Users/alexanderlontke/.conda/envs/ssl-remote-sensing/lib/python3.10/site-packages (from torchvision) (2.28.1)\r\n",
      "Requirement already satisfied: packaging>=17.0 in /Users/alexanderlontke/.conda/envs/ssl-remote-sensing/lib/python3.10/site-packages (from pytorch-lightning) (21.3)\r\n",
      "Requirement already satisfied: fsspec[http]!=2021.06.0,>=2021.05.0 in /Users/alexanderlontke/.conda/envs/ssl-remote-sensing/lib/python3.10/site-packages (from pytorch-lightning) (2022.8.2)\r\n",
      "Requirement already satisfied: pyDeprecate>=0.3.1 in /Users/alexanderlontke/.conda/envs/ssl-remote-sensing/lib/python3.10/site-packages (from pytorch-lightning) (0.3.2)\r\n",
      "Requirement already satisfied: tqdm>=4.57.0 in /Users/alexanderlontke/.conda/envs/ssl-remote-sensing/lib/python3.10/site-packages (from pytorch-lightning) (4.64.1)\r\n",
      "Requirement already satisfied: torchmetrics>=0.7.0 in /Users/alexanderlontke/.conda/envs/ssl-remote-sensing/lib/python3.10/site-packages (from pytorch-lightning) (0.10.0)\r\n",
      "Requirement already satisfied: tensorboard>=2.9.1 in /Users/alexanderlontke/.conda/envs/ssl-remote-sensing/lib/python3.10/site-packages (from pytorch-lightning) (2.10.1)\r\n",
      "Requirement already satisfied: PyYAML>=5.4 in /Users/alexanderlontke/.conda/envs/ssl-remote-sensing/lib/python3.10/site-packages (from pytorch-lightning) (6.0)\r\n",
      "Requirement already satisfied: shortuuid>=0.5.0 in /Users/alexanderlontke/.conda/envs/ssl-remote-sensing/lib/python3.10/site-packages (from wandb) (1.0.11)\r\n",
      "Requirement already satisfied: pathtools in /Users/alexanderlontke/.conda/envs/ssl-remote-sensing/lib/python3.10/site-packages (from wandb) (0.1.2)\r\n",
      "Requirement already satisfied: setproctitle in /Users/alexanderlontke/.conda/envs/ssl-remote-sensing/lib/python3.10/site-packages (from wandb) (1.3.2)\r\n",
      "Requirement already satisfied: six>=1.13.0 in /Users/alexanderlontke/.conda/envs/ssl-remote-sensing/lib/python3.10/site-packages (from wandb) (1.16.0)\r\n",
      "Requirement already satisfied: docker-pycreds>=0.4.0 in /Users/alexanderlontke/.conda/envs/ssl-remote-sensing/lib/python3.10/site-packages (from wandb) (0.4.0)\r\n",
      "Requirement already satisfied: sentry-sdk>=1.0.0 in /Users/alexanderlontke/.conda/envs/ssl-remote-sensing/lib/python3.10/site-packages (from wandb) (1.10.1)\r\n",
      "Requirement already satisfied: psutil>=5.0.0 in /Users/alexanderlontke/.conda/envs/ssl-remote-sensing/lib/python3.10/site-packages (from wandb) (5.9.2)\r\n",
      "Requirement already satisfied: Click!=8.0.0,>=7.0 in /Users/alexanderlontke/.conda/envs/ssl-remote-sensing/lib/python3.10/site-packages (from wandb) (8.1.3)\r\n",
      "Requirement already satisfied: protobuf!=4.0.*,!=4.21.0,<5,>=3.12.0 in /Users/alexanderlontke/.conda/envs/ssl-remote-sensing/lib/python3.10/site-packages (from wandb) (3.19.6)\r\n",
      "Requirement already satisfied: promise<3,>=2.0 in /Users/alexanderlontke/.conda/envs/ssl-remote-sensing/lib/python3.10/site-packages (from wandb) (2.3)\r\n",
      "Requirement already satisfied: GitPython>=1.0.0 in /Users/alexanderlontke/.conda/envs/ssl-remote-sensing/lib/python3.10/site-packages (from wandb) (3.1.29)\r\n",
      "Requirement already satisfied: setuptools in /Users/alexanderlontke/.conda/envs/ssl-remote-sensing/lib/python3.10/site-packages (from wandb) (63.4.1)\r\n",
      "Requirement already satisfied: aiohttp!=4.0.0a0,!=4.0.0a1 in /Users/alexanderlontke/.conda/envs/ssl-remote-sensing/lib/python3.10/site-packages (from fsspec[http]!=2021.06.0,>=2021.05.0->pytorch-lightning) (3.8.3)\r\n",
      "Requirement already satisfied: gitdb<5,>=4.0.1 in /Users/alexanderlontke/.conda/envs/ssl-remote-sensing/lib/python3.10/site-packages (from GitPython>=1.0.0->wandb) (4.0.9)\r\n",
      "Requirement already satisfied: pyparsing!=3.0.5,>=2.0.2 in /Users/alexanderlontke/.conda/envs/ssl-remote-sensing/lib/python3.10/site-packages (from packaging>=17.0->pytorch-lightning) (3.0.9)\r\n",
      "Requirement already satisfied: certifi>=2017.4.17 in /Users/alexanderlontke/.conda/envs/ssl-remote-sensing/lib/python3.10/site-packages (from requests->torchvision) (2022.9.24)\r\n",
      "Requirement already satisfied: urllib3<1.27,>=1.21.1 in /Users/alexanderlontke/.conda/envs/ssl-remote-sensing/lib/python3.10/site-packages (from requests->torchvision) (1.26.12)\r\n",
      "Requirement already satisfied: charset-normalizer<3,>=2 in /Users/alexanderlontke/.conda/envs/ssl-remote-sensing/lib/python3.10/site-packages (from requests->torchvision) (2.1.1)\r\n",
      "Requirement already satisfied: idna<4,>=2.5 in /Users/alexanderlontke/.conda/envs/ssl-remote-sensing/lib/python3.10/site-packages (from requests->torchvision) (3.4)\r\n",
      "Requirement already satisfied: absl-py>=0.4 in /Users/alexanderlontke/.conda/envs/ssl-remote-sensing/lib/python3.10/site-packages (from tensorboard>=2.9.1->pytorch-lightning) (1.2.0)\r\n",
      "Requirement already satisfied: google-auth-oauthlib<0.5,>=0.4.1 in /Users/alexanderlontke/.conda/envs/ssl-remote-sensing/lib/python3.10/site-packages (from tensorboard>=2.9.1->pytorch-lightning) (0.4.6)\r\n",
      "Requirement already satisfied: grpcio>=1.24.3 in /Users/alexanderlontke/.conda/envs/ssl-remote-sensing/lib/python3.10/site-packages (from tensorboard>=2.9.1->pytorch-lightning) (1.49.1)\r\n",
      "Requirement already satisfied: werkzeug>=1.0.1 in /Users/alexanderlontke/.conda/envs/ssl-remote-sensing/lib/python3.10/site-packages (from tensorboard>=2.9.1->pytorch-lightning) (2.2.2)\r\n",
      "Requirement already satisfied: tensorboard-data-server<0.7.0,>=0.6.0 in /Users/alexanderlontke/.conda/envs/ssl-remote-sensing/lib/python3.10/site-packages (from tensorboard>=2.9.1->pytorch-lightning) (0.6.1)\r\n",
      "Requirement already satisfied: wheel>=0.26 in /Users/alexanderlontke/.conda/envs/ssl-remote-sensing/lib/python3.10/site-packages (from tensorboard>=2.9.1->pytorch-lightning) (0.37.1)\r\n",
      "Requirement already satisfied: tensorboard-plugin-wit>=1.6.0 in /Users/alexanderlontke/.conda/envs/ssl-remote-sensing/lib/python3.10/site-packages (from tensorboard>=2.9.1->pytorch-lightning) (1.8.1)\r\n",
      "Requirement already satisfied: google-auth<3,>=1.6.3 in /Users/alexanderlontke/.conda/envs/ssl-remote-sensing/lib/python3.10/site-packages (from tensorboard>=2.9.1->pytorch-lightning) (2.12.0)\r\n",
      "Requirement already satisfied: markdown>=2.6.8 in /Users/alexanderlontke/.conda/envs/ssl-remote-sensing/lib/python3.10/site-packages (from tensorboard>=2.9.1->pytorch-lightning) (3.4.1)\r\n",
      "Requirement already satisfied: async-timeout<5.0,>=4.0.0a3 in /Users/alexanderlontke/.conda/envs/ssl-remote-sensing/lib/python3.10/site-packages (from aiohttp!=4.0.0a0,!=4.0.0a1->fsspec[http]!=2021.06.0,>=2021.05.0->pytorch-lightning) (4.0.2)\r\n",
      "Requirement already satisfied: yarl<2.0,>=1.0 in /Users/alexanderlontke/.conda/envs/ssl-remote-sensing/lib/python3.10/site-packages (from aiohttp!=4.0.0a0,!=4.0.0a1->fsspec[http]!=2021.06.0,>=2021.05.0->pytorch-lightning) (1.8.1)\r\n",
      "Requirement already satisfied: aiosignal>=1.1.2 in /Users/alexanderlontke/.conda/envs/ssl-remote-sensing/lib/python3.10/site-packages (from aiohttp!=4.0.0a0,!=4.0.0a1->fsspec[http]!=2021.06.0,>=2021.05.0->pytorch-lightning) (1.2.0)\r\n",
      "Requirement already satisfied: attrs>=17.3.0 in /Users/alexanderlontke/.conda/envs/ssl-remote-sensing/lib/python3.10/site-packages (from aiohttp!=4.0.0a0,!=4.0.0a1->fsspec[http]!=2021.06.0,>=2021.05.0->pytorch-lightning) (22.1.0)\r\n",
      "Requirement already satisfied: multidict<7.0,>=4.5 in /Users/alexanderlontke/.conda/envs/ssl-remote-sensing/lib/python3.10/site-packages (from aiohttp!=4.0.0a0,!=4.0.0a1->fsspec[http]!=2021.06.0,>=2021.05.0->pytorch-lightning) (6.0.2)\r\n",
      "Requirement already satisfied: frozenlist>=1.1.1 in /Users/alexanderlontke/.conda/envs/ssl-remote-sensing/lib/python3.10/site-packages (from aiohttp!=4.0.0a0,!=4.0.0a1->fsspec[http]!=2021.06.0,>=2021.05.0->pytorch-lightning) (1.3.1)\r\n",
      "Requirement already satisfied: smmap<6,>=3.0.1 in /Users/alexanderlontke/.conda/envs/ssl-remote-sensing/lib/python3.10/site-packages (from gitdb<5,>=4.0.1->GitPython>=1.0.0->wandb) (5.0.0)\r\n",
      "Requirement already satisfied: pyasn1-modules>=0.2.1 in /Users/alexanderlontke/.conda/envs/ssl-remote-sensing/lib/python3.10/site-packages (from google-auth<3,>=1.6.3->tensorboard>=2.9.1->pytorch-lightning) (0.2.8)\r\n",
      "Requirement already satisfied: rsa<5,>=3.1.4 in /Users/alexanderlontke/.conda/envs/ssl-remote-sensing/lib/python3.10/site-packages (from google-auth<3,>=1.6.3->tensorboard>=2.9.1->pytorch-lightning) (4.9)\r\n",
      "Requirement already satisfied: cachetools<6.0,>=2.0.0 in /Users/alexanderlontke/.conda/envs/ssl-remote-sensing/lib/python3.10/site-packages (from google-auth<3,>=1.6.3->tensorboard>=2.9.1->pytorch-lightning) (5.2.0)\r\n",
      "Requirement already satisfied: requests-oauthlib>=0.7.0 in /Users/alexanderlontke/.conda/envs/ssl-remote-sensing/lib/python3.10/site-packages (from google-auth-oauthlib<0.5,>=0.4.1->tensorboard>=2.9.1->pytorch-lightning) (1.3.1)\r\n",
      "Requirement already satisfied: MarkupSafe>=2.1.1 in /Users/alexanderlontke/.conda/envs/ssl-remote-sensing/lib/python3.10/site-packages (from werkzeug>=1.0.1->tensorboard>=2.9.1->pytorch-lightning) (2.1.1)\r\n",
      "Requirement already satisfied: pyasn1<0.5.0,>=0.4.6 in /Users/alexanderlontke/.conda/envs/ssl-remote-sensing/lib/python3.10/site-packages (from pyasn1-modules>=0.2.1->google-auth<3,>=1.6.3->tensorboard>=2.9.1->pytorch-lightning) (0.4.8)\r\n",
      "Requirement already satisfied: oauthlib>=3.0.0 in /Users/alexanderlontke/.conda/envs/ssl-remote-sensing/lib/python3.10/site-packages (from requests-oauthlib>=0.7.0->google-auth-oauthlib<0.5,>=0.4.1->tensorboard>=2.9.1->pytorch-lightning) (3.2.1)\r\n"
     ]
    }
   ],
   "source": [
    "!pip install torch torchvision pytorch-lightning lightning-bolts wandb"
   ],
   "metadata": {
    "collapsed": false,
    "pycharm": {
     "name": "#%%\n"
    }
   }
  },
  {
   "cell_type": "code",
   "execution_count": 2,
   "outputs": [
    {
     "name": "stderr",
     "output_type": "stream",
     "text": [
      "\u001B[34m\u001B[1mwandb\u001B[0m: Currently logged in as: \u001B[33malontke\u001B[0m. Use \u001B[1m`wandb login --relogin`\u001B[0m to force relogin\n"
     ]
    },
    {
     "data": {
      "text/plain": "True"
     },
     "execution_count": 2,
     "metadata": {},
     "output_type": "execute_result"
    }
   ],
   "source": [
    "# Log in to your W&B account\n",
    "import wandb\n",
    "wandb.login()"
   ],
   "metadata": {
    "collapsed": false,
    "pycharm": {
     "name": "#%%\n"
    }
   }
  },
  {
   "cell_type": "code",
   "execution_count": 3,
   "outputs": [],
   "source": [
    "import os\n",
    "\n",
    "import torch\n",
    "import torchvision.models as models\n",
    "from torchvision.datasets import STL10, EuroSAT\n",
    "from torch.utils.data import DataLoader\n",
    "from torch.multiprocessing import cpu_count\n",
    "from pytorch_lightning.callbacks import GradientAccumulationScheduler, ModelCheckpoint\n",
    "from pytorch_lightning import Trainer\n",
    "import torchvision.transforms as T\n",
    "import pytorch_lightning as pl\n",
    "import torch.nn as nn\n",
    "import torch.nn.functional as F\n",
    "from torch.optim import Adam\n",
    "from pl_bolts.optimizers import LinearWarmupCosineAnnealingLR\n",
    "\n",
    "import numpy as np\n",
    "\n",
    "import matplotlib.pyplot as plt"
   ],
   "metadata": {
    "collapsed": false,
    "pycharm": {
     "name": "#%%\n"
    }
   }
  },
  {
   "cell_type": "code",
   "execution_count": 4,
   "outputs": [],
   "source": [
    "means = [87.81586935763889, 96.97416420717593, 103.98142336697049]\n",
    "stds = [51.67849701591506, 34.908630837585186, 29.465280593587384]\n",
    "\n",
    "\n",
    "def imshow(img, norm_means, norm_stds):\n",
    "    \"\"\"\n",
    "    shows an imagenet-normalized image on the screen\n",
    "    \"\"\"\n",
    "    mean = torch.tensor(norm_means, dtype=torch.float32)\n",
    "    std = torch.tensor(norm_stds, dtype=torch.float32)\n",
    "    unnormalize = T.Normalize((-mean / std).tolist(), (1.0 / std).tolist())\n",
    "    npimg = unnormalize(img).numpy()\n",
    "    plt.imshow(np.transpose(npimg, (1, 2, 0)))\n",
    "    plt.show()\n",
    "\n",
    "\n",
    "def reproducibility(config):\n",
    "    SEED = int(config.seed)\n",
    "    torch.manual_seed(SEED)\n",
    "    torch.backends.cudnn.deterministic = True\n",
    "    torch.backends.cudnn.benchmark = False\n",
    "    np.random.seed(SEED)\n",
    "    if config.cuda:\n",
    "        torch.cuda.manual_seed(SEED)\n",
    "\n",
    "\n",
    "def device_as(t1, t2):\n",
    "    \"\"\"\n",
    "    Moves t1 to the device of t2\n",
    "    \"\"\"\n",
    "    return t1.to(t2.device)\n",
    "\n",
    "\n",
    "def define_parameter_groups(model, weight_decay, optimizer_name):\n",
    "    def exclude_from_weight_decay_and_adaptation(name):\n",
    "        if \"bn\" in name:\n",
    "            return True\n",
    "        if optimizer_name == \"lars\" and \"bias\" in name:\n",
    "            return True\n",
    "\n",
    "    param_groups = [\n",
    "        {\n",
    "            \"params\": [\n",
    "                p\n",
    "                for name, p in model.named_parameters()\n",
    "                if not exclude_from_weight_decay_and_adaptation(name)\n",
    "            ],\n",
    "            \"weight_decay\": weight_decay,\n",
    "            \"layer_adaptation\": True,\n",
    "        },\n",
    "        {\n",
    "            \"params\": [\n",
    "                p\n",
    "                for name, p in model.named_parameters()\n",
    "                if exclude_from_weight_decay_and_adaptation(name)\n",
    "            ],\n",
    "            \"weight_decay\": 0.0,\n",
    "            \"layer_adaptation\": False,\n",
    "        },\n",
    "    ]\n",
    "    return param_groups\n",
    "\n",
    "\n",
    "def default(val, def_val):\n",
    "    return def_val if val is None else val"
   ],
   "metadata": {
    "collapsed": false,
    "pycharm": {
     "name": "#%%\n"
    }
   }
  },
  {
   "cell_type": "markdown",
   "source": [
    "## Augmentation"
   ],
   "metadata": {
    "collapsed": false,
    "pycharm": {
     "name": "#%% md\n"
    }
   }
  },
  {
   "cell_type": "code",
   "execution_count": 5,
   "outputs": [],
   "source": [
    "class Augment:\n",
    "    \"\"\"\n",
    "    a probabilistic data augmentation module\n",
    "    Transforms any given data example randomly\n",
    "    resulting in two correlated views of the same example,\n",
    "    denoted x_i and  x_j which we consider a positive pair.\n",
    "    \"\"\"\n",
    "\n",
    "    def __init__(self, img_size, norm_means, norm_stds, s=1):\n",
    "        color_jitter = T.ColorJitter(0.8 * s, 0.8 * s, 0.8 * s, 0.2 * s)\n",
    "        # 10% of the image\n",
    "        blur = T.GaussianBlur(\n",
    "            kernel_size=(\n",
    "                3,\n",
    "                3,\n",
    "            ),\n",
    "            sigma=(0.1, 0.2),\n",
    "        )\n",
    "\n",
    "        self.train_transform = T.Compose(\n",
    "            [\n",
    "                # Crop image on a random scale from 7% tpo 100%\n",
    "                # Only Use cropping since according to Wang et al. 2022 it is the only augmentation\n",
    "                # that works as intended in Remote sensing\n",
    "                T.RandomResizedCrop(size=img_size),\n",
    "                # Flip image horizontally with 50% probability\n",
    "                # T.RandomHorizontalFlip(p=0.5),\n",
    "                # Apply heavy color jitter with 80% probability\n",
    "                # T.RandomApply([color_jitter], p=0.8),\n",
    "                # Apply gaussian blur with 50% probability\n",
    "                # T.RandomApply([blur], p=0.5),\n",
    "                # Convert RGB images to grayscale with 20% probability\n",
    "                # T.RandomGrayscale(p=0.2),\n",
    "                T.ToTensor(),\n",
    "                T.Normalize(\n",
    "                    mean=norm_means,\n",
    "                    std=norm_stds,\n",
    "                ),\n",
    "            ]\n",
    "        )\n",
    "\n",
    "    def __call__(self, x):\n",
    "        return self.train_transform(x), self.train_transform(x)"
   ],
   "metadata": {
    "collapsed": false,
    "pycharm": {
     "name": "#%%\n"
    }
   }
  },
  {
   "cell_type": "markdown",
   "source": [
    "## Model ##"
   ],
   "metadata": {
    "collapsed": false,
    "pycharm": {
     "name": "#%% md\n"
    }
   }
  },
  {
   "cell_type": "code",
   "execution_count": 6,
   "outputs": [],
   "source": [
    "class AddProjection(nn.Module):\n",
    "    def __init__(self, config, model=None, mlp_dim=512):\n",
    "        super(AddProjection, self).__init__()\n",
    "        embedding_size = config.embedding_size\n",
    "        self.backbone = default(\n",
    "            model, models.resnet18(weights=None, num_classes=config.embedding_size)\n",
    "        )\n",
    "        mlp_dim = default(mlp_dim, self.backbone.fc.in_features)\n",
    "        print(\"DIM MLP input:\", mlp_dim)\n",
    "        self.backbone.fc = nn.Identity()\n",
    "\n",
    "        # add mlp projection head\n",
    "        self.projection = nn.Sequential(\n",
    "            nn.Linear(in_features=mlp_dim, out_features=mlp_dim),\n",
    "            nn.BatchNorm1d(mlp_dim),\n",
    "            nn.ReLU(),\n",
    "            nn.Linear(in_features=mlp_dim, out_features=embedding_size),\n",
    "            nn.BatchNorm1d(embedding_size),\n",
    "        )\n",
    "\n",
    "    def forward(self, x, return_embedding=False):\n",
    "        embedding = self.backbone(x)\n",
    "        if return_embedding:\n",
    "            return embedding\n",
    "        return self.projection(embedding)"
   ],
   "metadata": {
    "collapsed": false,
    "pycharm": {
     "name": "#%%\n"
    }
   }
  },
  {
   "cell_type": "markdown",
   "source": [
    "## Training ##"
   ],
   "metadata": {
    "collapsed": false,
    "pycharm": {
     "name": "#%% md\n"
    }
   }
  },
  {
   "cell_type": "code",
   "execution_count": 7,
   "outputs": [],
   "source": [
    "class SimCLRTraining(pl.LightningModule):\n",
    "    def __init__(self, config, norm_means, norm_stds, model=None, feat_dim=512):\n",
    "        super().__init__()\n",
    "        self.config = config\n",
    "        self.augment = Augment(\n",
    "            config.img_size, norm_means=norm_means, norm_stds=norm_stds\n",
    "        )\n",
    "        self.model = AddProjection(config, model=model, mlp_dim=feat_dim)\n",
    "\n",
    "        self.loss = InfoNceLoss(temperature=self.config.temperature)\n",
    "\n",
    "    def forward(self, batch, *args, **kwargs) -> torch.Tensor:\n",
    "        return self.model(batch)\n",
    "\n",
    "    def training_step(self, batch, batch_idx, *args, **kwargs) -> torch.Tensor:\n",
    "        (x1, x2), labels = batch\n",
    "        z1 = self.model(x1)\n",
    "        z2 = self.model(x2)\n",
    "        loss = self.loss(z1, z2)\n",
    "        wandb.log({\"training_loss\": loss})\n",
    "        self.log(\n",
    "            \"InfoNCE loss\",\n",
    "            loss,\n",
    "            on_step=True,\n",
    "            on_epoch=True,\n",
    "            prog_bar=True,\n",
    "            logger=True,\n",
    "        )\n",
    "        return loss\n",
    "\n",
    "    def configure_optimizers(self):\n",
    "        wd = self.config.weight_decay\n",
    "        lr = self.config.lr\n",
    "        max_epochs = int(self.config.epochs)\n",
    "        param_groups = define_parameter_groups(\n",
    "            self.model, weight_decay=wd, optimizer_name=\"adam\"\n",
    "        )\n",
    "        optimizer = Adam(param_groups, lr=lr, weight_decay=wd)\n",
    "\n",
    "        print(\n",
    "            f\"Optimizer Adam, \"\n",
    "            f\"Learning Rate {lr}, \"\n",
    "            f\"Effective batch size {self.config.batch_size * self.config.gradient_accumulation_steps}\"\n",
    "        )\n",
    "\n",
    "        scheduler_warmup = LinearWarmupCosineAnnealingLR(\n",
    "            optimizer, warmup_epochs=10, max_epochs=max_epochs, warmup_start_lr=0.0\n",
    "        )\n",
    "        return [optimizer], [scheduler_warmup]"
   ],
   "metadata": {
    "collapsed": false,
    "pycharm": {
     "name": "#%%\n"
    }
   }
  },
  {
   "cell_type": "markdown",
   "source": [
    "## Loss ##"
   ],
   "metadata": {
    "collapsed": false,
    "pycharm": {
     "name": "#%% md\n"
    }
   }
  },
  {
   "cell_type": "code",
   "execution_count": 8,
   "outputs": [],
   "source": [
    "class InfoNceLoss(nn.Module):\n",
    "    \"\"\"\n",
    "    InfoNCE loss as in SimCLR paper\n",
    "    \"\"\"\n",
    "\n",
    "    def __init__(self, temperature=0.5):\n",
    "        super().__init__()\n",
    "        self.temperature = temperature\n",
    "\n",
    "    @staticmethod\n",
    "    def calc_similarity_batch(a, b):\n",
    "        representations = torch.cat([a, b], dim=0)\n",
    "        return F.cosine_similarity(\n",
    "            representations.unsqueeze(1), representations.unsqueeze(0), dim=2\n",
    "        )\n",
    "\n",
    "    def forward(self, proj_1, proj_2):\n",
    "        \"\"\"\n",
    "        proj_1 and proj_2 are batched embeddings [batch, embedding_dim]\n",
    "        where corresponding indices are pairs\n",
    "        z_i, z_j as in the SimCLR paper\n",
    "        \"\"\"\n",
    "        assert proj_1.shape == proj_2.shape, \"Projections' shapes need to match\"\n",
    "        batch_size = proj_1.shape[0]\n",
    "        mask = (~torch.eye(batch_size * 2, batch_size * 2, dtype=torch.bool)).float()\n",
    "\n",
    "        z_i = F.normalize(proj_1, p=2, dim=1)\n",
    "        z_j = F.normalize(proj_2, p=2, dim=1)\n",
    "\n",
    "        similarity_matrix = self.calc_similarity_batch(z_i, z_j)\n",
    "\n",
    "        sim_ij = torch.diag(similarity_matrix, batch_size)\n",
    "        sim_ji = torch.diag(similarity_matrix, -batch_size)\n",
    "\n",
    "        positives = torch.cat([sim_ij, sim_ji], dim=0)\n",
    "\n",
    "        nominator = torch.exp(positives / self.temperature)\n",
    "\n",
    "        denominator = device_as(mask, similarity_matrix) * torch.exp(\n",
    "            similarity_matrix / self.temperature\n",
    "        )\n",
    "\n",
    "        all_losses = -torch.log(nominator / torch.sum(denominator, dim=1))\n",
    "        loss = torch.sum(all_losses) / (2 * batch_size)\n",
    "        return loss"
   ],
   "metadata": {
    "collapsed": false,
    "pycharm": {
     "name": "#%%\n"
    }
   }
  },
  {
   "cell_type": "code",
   "execution_count": 9,
   "outputs": [
    {
     "name": "stdout",
     "output_type": "stream",
     "text": [
      "available_gpus: 0\n"
     ]
    },
    {
     "data": {
      "text/plain": "<IPython.core.display.HTML object>",
      "text/html": "Tracking run with wandb version 0.13.5"
     },
     "metadata": {},
     "output_type": "display_data"
    },
    {
     "data": {
      "text/plain": "<IPython.core.display.HTML object>",
      "text/html": "Run data is saved locally in <code>/Users/alexanderlontke/Documents/Uni/St. Gallen/HS_22_23/deep_learning/ssl-remote-sensing/notebooks/wandb/run-20221114_115145-20c1nfjg</code>"
     },
     "metadata": {},
     "output_type": "display_data"
    },
    {
     "data": {
      "text/plain": "<IPython.core.display.HTML object>",
      "text/html": "Syncing run <strong><a href=\"https://wandb.ai/alontke/ssl-remote-sensing/runs/20c1nfjg\" target=\"_blank\">solar-violet-2</a></strong> to <a href=\"https://wandb.ai/alontke/ssl-remote-sensing\" target=\"_blank\">Weights & Biases</a> (<a href=\"https://wandb.me/run\" target=\"_blank\">docs</a>)<br/>"
     },
     "metadata": {},
     "output_type": "display_data"
    },
    {
     "name": "stdout",
     "output_type": "stream",
     "text": [
      "DIM MLP input: 512\n"
     ]
    },
    {
     "name": "stderr",
     "output_type": "stream",
     "text": [
      "/Users/alexanderlontke/.conda/envs/ssl-remote-sensing/lib/python3.10/site-packages/pytorch_lightning/trainer/connectors/accelerator_connector.py:447: LightningDeprecationWarning: Setting `Trainer(gpus=0)` is deprecated in v1.7 and will be removed in v2.0. Please use `Trainer(accelerator='gpu', devices=0)` instead.\n",
      "  rank_zero_deprecation(\n",
      "GPU available: False, used: False\n",
      "TPU available: False, using: 0 TPU cores\n",
      "IPU available: False, using: 0 IPUs\n",
      "HPU available: False, using: 0 HPUs\n",
      "/Users/alexanderlontke/.conda/envs/ssl-remote-sensing/lib/python3.10/site-packages/pytorch_lightning/callbacks/model_checkpoint.py:616: UserWarning: Checkpoint directory /Users/alexanderlontke/Documents/Uni/St. Gallen/HS_22_23/deep_learning/ssl-remote-sensing/notebooks/saved_models exists and is not empty.\n",
      "  rank_zero_warn(f\"Checkpoint directory {dirpath} exists and is not empty.\")\n",
      "\n",
      "  | Name  | Type          | Params\n",
      "----------------------------------------\n",
      "0 | model | AddProjection | 11.5 M\n",
      "1 | loss  | InfoNceLoss   | 0     \n",
      "----------------------------------------\n",
      "11.5 M    Trainable params\n",
      "0         Non-trainable params\n",
      "11.5 M    Total params\n",
      "46.024    Total estimated model params size (MB)\n",
      "/Users/alexanderlontke/.conda/envs/ssl-remote-sensing/lib/python3.10/site-packages/pytorch_lightning/trainer/connectors/data_connector.py:236: PossibleUserWarning: The dataloader, train_dataloader, does not have many workers which may be a bottleneck. Consider increasing the value of the `num_workers` argument` (try 4 which is the number of cpus on this machine) in the `DataLoader` init to improve performance.\n",
      "  rank_zero_warn(\n"
     ]
    },
    {
     "name": "stdout",
     "output_type": "stream",
     "text": [
      "Optimizer Adam, Learning Rate 0.001, Effective batch size 64\n"
     ]
    },
    {
     "data": {
      "text/plain": "Training: 0it [00:00, ?it/s]",
      "application/vnd.jupyter.widget-view+json": {
       "version_major": 2,
       "version_minor": 0,
       "model_id": "d831b8639a9442ba8f8ee38d42f94169"
      }
     },
     "metadata": {},
     "output_type": "display_data"
    },
    {
     "name": "stderr",
     "output_type": "stream",
     "text": [
      "Traceback (most recent call last):\n",
      "  File \"<string>\", line 1, in <module>\n",
      "  File \"/Users/alexanderlontke/.conda/envs/ssl-remote-sensing/lib/python3.10/multiprocessing/spawn.py\", line 116, in spawn_main\n",
      "    exitcode = _main(fd, parent_sentinel)\n",
      "  File \"/Users/alexanderlontke/.conda/envs/ssl-remote-sensing/lib/python3.10/multiprocessing/spawn.py\", line 126, in _main\n",
      "    self = reduction.pickle.load(from_parent)\n",
      "AttributeError: Can't get attribute 'Augment' on <module '__main__' (built-in)>\n",
      "/Users/alexanderlontke/.conda/envs/ssl-remote-sensing/lib/python3.10/site-packages/pytorch_lightning/trainer/trainer.py:653: UserWarning: Detected KeyboardInterrupt, attempting graceful shutdown...\n",
      "  rank_zero_warn(\"Detected KeyboardInterrupt, attempting graceful shutdown...\")\n"
     ]
    }
   ],
   "source": [
    "# Machine setup\n",
    "available_gpus = torch.cuda.device_count()\n",
    "save_model_path = os.path.join(os.getcwd(), \"saved_models/\")\n",
    "print(\"available_gpus:\", available_gpus)\n",
    "\n",
    "# Model Setup\n",
    "class Hparams:\n",
    "    def __init__(self):\n",
    "        self.epochs = 10  # number of training epochs\n",
    "        self.seed = 1234  # randomness seed\n",
    "        self.cuda = False  # use nvidia gpu\n",
    "        self.img_size = 64  # image shape\n",
    "        self.save = \"./saved_models/\"  # save checkpoint\n",
    "        self.gradient_accumulation_steps = 1  # gradient accumulation steps\n",
    "        self.batch_size = 64\n",
    "        self.lr = 1e-3\n",
    "        self.embedding_size = 128  # papers value is 128\n",
    "        self.temperature = 0.5  # 0.1 or 0.5\n",
    "        self.weight_decay = 1e-6\n",
    "\n",
    "\n",
    "train_config = Hparams()\n",
    "\n",
    "# Run setup\n",
    "filename = \"SimCLR_ResNet18_adam\"\n",
    "save_name = filename + \".ckpt\"\n",
    "resume_from_checkpoint = False\n",
    "wandb.init(project=\"ssl-remote-sensing\", config=train_config.__dict__)\n",
    "\n",
    "\n",
    "reproducibility(train_config)\n",
    "\n",
    "model = SimCLRTraining(\n",
    "    config=train_config,\n",
    "    model=models.resnet18(weights=None),\n",
    "    feat_dim=512,\n",
    "    norm_means=means,\n",
    "    norm_stds=stds,\n",
    ")\n",
    "\n",
    "transform = Augment(train_config.img_size, norm_means=means, norm_stds=stds)\n",
    "\n",
    "dataset = EuroSAT(\"./\", transform=transform, download=True)\n",
    "data_loader = DataLoader(\n",
    "    dataset=dataset, batch_size=train_config.batch_size, num_workers=cpu_count()\n",
    ")\n",
    "\n",
    "# Needed to get simulate a large batch size\n",
    "accumulator = GradientAccumulationScheduler(scheduling={0: 1})\n",
    "\n",
    "checkpoint_callback = ModelCheckpoint(\n",
    "    filename=filename,\n",
    "    dirpath=save_model_path,\n",
    "    every_n_epochs=2,\n",
    "    save_last=True,\n",
    "    save_top_k=2,\n",
    "    monitor=\"InfoNCE loss_epoch\",\n",
    "    mode=\"min\",\n",
    ")\n",
    "\n",
    "if resume_from_checkpoint:\n",
    "    trainer = Trainer(\n",
    "        callbacks=[accumulator, checkpoint_callback],\n",
    "        gpus=available_gpus,\n",
    "        max_epochs=train_config.epochs,\n",
    "        resume_from_checkpoint=train_config.checkpoint_path,\n",
    "    )\n",
    "else:\n",
    "    trainer = Trainer(\n",
    "        callbacks=[accumulator, checkpoint_callback],\n",
    "        gpus=available_gpus,\n",
    "        max_epochs=train_config.epochs,\n",
    "    )\n",
    "\n",
    "trainer.fit(model, data_loader)\n",
    "trainer.save_checkpoint(save_name)\n",
    "print(f\"Best model is stored under {checkpoint_callback.best_model_path}\")"
   ],
   "metadata": {
    "collapsed": false,
    "pycharm": {
     "name": "#%%\n"
    }
   }
  },
  {
   "cell_type": "code",
   "execution_count": null,
   "outputs": [],
   "source": [],
   "metadata": {
    "collapsed": false,
    "pycharm": {
     "name": "#%%\n"
    }
   }
  }
 ],
 "metadata": {
  "kernelspec": {
   "name": "ssl-remote-sensing",
   "language": "python",
   "display_name": "ssl-remote-sensing"
  },
  "language_info": {
   "codemirror_mode": {
    "name": "ipython",
    "version": 2
   },
   "file_extension": ".py",
   "mimetype": "text/x-python",
   "name": "python",
   "nbconvert_exporter": "python",
   "pygments_lexer": "ipython2",
   "version": "2.7.6"
  }
 },
 "nbformat": 4,
 "nbformat_minor": 0
}