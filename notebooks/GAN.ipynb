{
  "nbformat": 4,
  "nbformat_minor": 0,
  "metadata": {
    "colab": {
      "provenance": [],
      "collapsed_sections": [],
      "authorship_tag": "ABX9TyOHnXfPtDGBmeq+ZzIVzPvW",
      "include_colab_link": true
    },
    "kernelspec": {
      "name": "python3",
      "display_name": "Python 3"
    },
    "language_info": {
      "name": "python"
    },
    "accelerator": "GPU",
    "gpuClass": "standard"
  },
  "cells": [
    {
      "cell_type": "markdown",
      "metadata": {
        "id": "view-in-github",
        "colab_type": "text"
      },
      "source": [
        "<a href=\"https://colab.research.google.com/github/AlexanderLontke/ssl-remote-sensing/blob/main/notebooks/GAN.ipynb\" target=\"_parent\"><img src=\"https://colab.research.google.com/assets/colab-badge.svg\" alt=\"Open In Colab\"/></a>"
      ]
    },
    {
      "cell_type": "markdown",
      "source": [
        "# GAN Implementation Remote Sensing"
      ],
      "metadata": {
        "id": "OUFTlSkiXFbw"
      }
    },
    {
      "cell_type": "markdown",
      "source": [
        "## Import necessary packages"
      ],
      "metadata": {
        "id": "UZR3Bk_fXN6x"
      }
    },
    {
      "cell_type": "code",
      "execution_count": null,
      "metadata": {
        "id": "Hz_3erdBWzaw"
      },
      "outputs": [],
      "source": [
        "# import standard python libraries\n",
        "import os\n",
        "import datetime as time\n",
        "from datetime import datetime\n",
        "import numpy as np\n",
        "import pickle as pkl\n",
        "\n",
        "# import PyTorch datasets and transforms\n",
        "import torchvision.datasets as datasets\n",
        "from torchvision import transforms\n",
        "\n",
        "# import the PyTorch deep learning library\n",
        "import torch\n",
        "import torch.nn as nn\n",
        "import torch.nn.functional as F\n",
        "import torch.optim as optim\n",
        "\n",
        "# import matplotlib and enabling notebook inline plotting:\n",
        "import matplotlib.pyplot as plt\n",
        "%matplotlib inline"
      ]
    }
  ]
}