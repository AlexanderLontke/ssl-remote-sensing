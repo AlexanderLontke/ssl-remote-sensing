{
 "nbformat": 4,
 "nbformat_minor": 0,
 "metadata": {
  "colab": {
   "provenance": [],
   "collapsed_sections": [],
   "authorship_tag": "ABX9TyPMCPehiqzAQbmadl4JozJA",
   "include_colab_link": true
  },
  "kernelspec": {
   "name": "python3",
   "display_name": "Python 3"
  },
  "language_info": {
   "name": "python"
  },
  "accelerator": "GPU",
  "gpuClass": "standard",
  "widgets": {
   "application/vnd.jupyter.widget-state+json": {
    "c51bff298dbb4d9992b46038f7690565": {
     "model_module": "@jupyter-widgets/controls",
     "model_name": "HBoxModel",
     "model_module_version": "1.5.0",
     "state": {
      "_dom_classes": [],
      "_model_module": "@jupyter-widgets/controls",
      "_model_module_version": "1.5.0",
      "_model_name": "HBoxModel",
      "_view_count": null,
      "_view_module": "@jupyter-widgets/controls",
      "_view_module_version": "1.5.0",
      "_view_name": "HBoxView",
      "box_style": "",
      "children": [
       "IPY_MODEL_5db935db8abd48b7902abd1ddad3b8a9",
       "IPY_MODEL_4a1c5b48aa814155b244ec56fff711d0",
       "IPY_MODEL_7d015d5f2a234c21af6aa84f5470fbd9"
      ],
      "layout": "IPY_MODEL_50b1e8ff89394100b23af3dc5f84445a"
     }
    },
    "5db935db8abd48b7902abd1ddad3b8a9": {
     "model_module": "@jupyter-widgets/controls",
     "model_name": "HTMLModel",
     "model_module_version": "1.5.0",
     "state": {
      "_dom_classes": [],
      "_model_module": "@jupyter-widgets/controls",
      "_model_module_version": "1.5.0",
      "_model_name": "HTMLModel",
      "_view_count": null,
      "_view_module": "@jupyter-widgets/controls",
      "_view_module_version": "1.5.0",
      "_view_name": "HTMLView",
      "description": "",
      "description_tooltip": null,
      "layout": "IPY_MODEL_c5f47e460c0843fea5592a4d40dc8392",
      "placeholder": "​",
      "style": "IPY_MODEL_bf2d126f206643338bd0e72dabc031c8",
      "value": "100%"
     }
    },
    "4a1c5b48aa814155b244ec56fff711d0": {
     "model_module": "@jupyter-widgets/controls",
     "model_name": "FloatProgressModel",
     "model_module_version": "1.5.0",
     "state": {
      "_dom_classes": [],
      "_model_module": "@jupyter-widgets/controls",
      "_model_module_version": "1.5.0",
      "_model_name": "FloatProgressModel",
      "_view_count": null,
      "_view_module": "@jupyter-widgets/controls",
      "_view_module_version": "1.5.0",
      "_view_name": "ProgressView",
      "bar_style": "success",
      "description": "",
      "description_tooltip": null,
      "layout": "IPY_MODEL_3ebd51c7cd7f4c688596fc7c0c71f7d7",
      "max": 46830571,
      "min": 0,
      "orientation": "horizontal",
      "style": "IPY_MODEL_d8704b66323d4209a4e5e3b4c378b8c6",
      "value": 46830571
     }
    },
    "7d015d5f2a234c21af6aa84f5470fbd9": {
     "model_module": "@jupyter-widgets/controls",
     "model_name": "HTMLModel",
     "model_module_version": "1.5.0",
     "state": {
      "_dom_classes": [],
      "_model_module": "@jupyter-widgets/controls",
      "_model_module_version": "1.5.0",
      "_model_name": "HTMLModel",
      "_view_count": null,
      "_view_module": "@jupyter-widgets/controls",
      "_view_module_version": "1.5.0",
      "_view_name": "HTMLView",
      "description": "",
      "description_tooltip": null,
      "layout": "IPY_MODEL_0f01061ba86e44b3a8bf9958e449f95b",
      "placeholder": "​",
      "style": "IPY_MODEL_ed15174a60d94384b197fd3b9b9ac5c7",
      "value": " 44.7M/44.7M [00:00&lt;00:00, 68.6MB/s]"
     }
    },
    "50b1e8ff89394100b23af3dc5f84445a": {
     "model_module": "@jupyter-widgets/base",
     "model_name": "LayoutModel",
     "model_module_version": "1.2.0",
     "state": {
      "_model_module": "@jupyter-widgets/base",
      "_model_module_version": "1.2.0",
      "_model_name": "LayoutModel",
      "_view_count": null,
      "_view_module": "@jupyter-widgets/base",
      "_view_module_version": "1.2.0",
      "_view_name": "LayoutView",
      "align_content": null,
      "align_items": null,
      "align_self": null,
      "border": null,
      "bottom": null,
      "display": null,
      "flex": null,
      "flex_flow": null,
      "grid_area": null,
      "grid_auto_columns": null,
      "grid_auto_flow": null,
      "grid_auto_rows": null,
      "grid_column": null,
      "grid_gap": null,
      "grid_row": null,
      "grid_template_areas": null,
      "grid_template_columns": null,
      "grid_template_rows": null,
      "height": null,
      "justify_content": null,
      "justify_items": null,
      "left": null,
      "margin": null,
      "max_height": null,
      "max_width": null,
      "min_height": null,
      "min_width": null,
      "object_fit": null,
      "object_position": null,
      "order": null,
      "overflow": null,
      "overflow_x": null,
      "overflow_y": null,
      "padding": null,
      "right": null,
      "top": null,
      "visibility": null,
      "width": null
     }
    },
    "c5f47e460c0843fea5592a4d40dc8392": {
     "model_module": "@jupyter-widgets/base",
     "model_name": "LayoutModel",
     "model_module_version": "1.2.0",
     "state": {
      "_model_module": "@jupyter-widgets/base",
      "_model_module_version": "1.2.0",
      "_model_name": "LayoutModel",
      "_view_count": null,
      "_view_module": "@jupyter-widgets/base",
      "_view_module_version": "1.2.0",
      "_view_name": "LayoutView",
      "align_content": null,
      "align_items": null,
      "align_self": null,
      "border": null,
      "bottom": null,
      "display": null,
      "flex": null,
      "flex_flow": null,
      "grid_area": null,
      "grid_auto_columns": null,
      "grid_auto_flow": null,
      "grid_auto_rows": null,
      "grid_column": null,
      "grid_gap": null,
      "grid_row": null,
      "grid_template_areas": null,
      "grid_template_columns": null,
      "grid_template_rows": null,
      "height": null,
      "justify_content": null,
      "justify_items": null,
      "left": null,
      "margin": null,
      "max_height": null,
      "max_width": null,
      "min_height": null,
      "min_width": null,
      "object_fit": null,
      "object_position": null,
      "order": null,
      "overflow": null,
      "overflow_x": null,
      "overflow_y": null,
      "padding": null,
      "right": null,
      "top": null,
      "visibility": null,
      "width": null
     }
    },
    "bf2d126f206643338bd0e72dabc031c8": {
     "model_module": "@jupyter-widgets/controls",
     "model_name": "DescriptionStyleModel",
     "model_module_version": "1.5.0",
     "state": {
      "_model_module": "@jupyter-widgets/controls",
      "_model_module_version": "1.5.0",
      "_model_name": "DescriptionStyleModel",
      "_view_count": null,
      "_view_module": "@jupyter-widgets/base",
      "_view_module_version": "1.2.0",
      "_view_name": "StyleView",
      "description_width": ""
     }
    },
    "3ebd51c7cd7f4c688596fc7c0c71f7d7": {
     "model_module": "@jupyter-widgets/base",
     "model_name": "LayoutModel",
     "model_module_version": "1.2.0",
     "state": {
      "_model_module": "@jupyter-widgets/base",
      "_model_module_version": "1.2.0",
      "_model_name": "LayoutModel",
      "_view_count": null,
      "_view_module": "@jupyter-widgets/base",
      "_view_module_version": "1.2.0",
      "_view_name": "LayoutView",
      "align_content": null,
      "align_items": null,
      "align_self": null,
      "border": null,
      "bottom": null,
      "display": null,
      "flex": null,
      "flex_flow": null,
      "grid_area": null,
      "grid_auto_columns": null,
      "grid_auto_flow": null,
      "grid_auto_rows": null,
      "grid_column": null,
      "grid_gap": null,
      "grid_row": null,
      "grid_template_areas": null,
      "grid_template_columns": null,
      "grid_template_rows": null,
      "height": null,
      "justify_content": null,
      "justify_items": null,
      "left": null,
      "margin": null,
      "max_height": null,
      "max_width": null,
      "min_height": null,
      "min_width": null,
      "object_fit": null,
      "object_position": null,
      "order": null,
      "overflow": null,
      "overflow_x": null,
      "overflow_y": null,
      "padding": null,
      "right": null,
      "top": null,
      "visibility": null,
      "width": null
     }
    },
    "d8704b66323d4209a4e5e3b4c378b8c6": {
     "model_module": "@jupyter-widgets/controls",
     "model_name": "ProgressStyleModel",
     "model_module_version": "1.5.0",
     "state": {
      "_model_module": "@jupyter-widgets/controls",
      "_model_module_version": "1.5.0",
      "_model_name": "ProgressStyleModel",
      "_view_count": null,
      "_view_module": "@jupyter-widgets/base",
      "_view_module_version": "1.2.0",
      "_view_name": "StyleView",
      "bar_color": null,
      "description_width": ""
     }
    },
    "0f01061ba86e44b3a8bf9958e449f95b": {
     "model_module": "@jupyter-widgets/base",
     "model_name": "LayoutModel",
     "model_module_version": "1.2.0",
     "state": {
      "_model_module": "@jupyter-widgets/base",
      "_model_module_version": "1.2.0",
      "_model_name": "LayoutModel",
      "_view_count": null,
      "_view_module": "@jupyter-widgets/base",
      "_view_module_version": "1.2.0",
      "_view_name": "LayoutView",
      "align_content": null,
      "align_items": null,
      "align_self": null,
      "border": null,
      "bottom": null,
      "display": null,
      "flex": null,
      "flex_flow": null,
      "grid_area": null,
      "grid_auto_columns": null,
      "grid_auto_flow": null,
      "grid_auto_rows": null,
      "grid_column": null,
      "grid_gap": null,
      "grid_row": null,
      "grid_template_areas": null,
      "grid_template_columns": null,
      "grid_template_rows": null,
      "height": null,
      "justify_content": null,
      "justify_items": null,
      "left": null,
      "margin": null,
      "max_height": null,
      "max_width": null,
      "min_height": null,
      "min_width": null,
      "object_fit": null,
      "object_position": null,
      "order": null,
      "overflow": null,
      "overflow_x": null,
      "overflow_y": null,
      "padding": null,
      "right": null,
      "top": null,
      "visibility": null,
      "width": null
     }
    },
    "ed15174a60d94384b197fd3b9b9ac5c7": {
     "model_module": "@jupyter-widgets/controls",
     "model_name": "DescriptionStyleModel",
     "model_module_version": "1.5.0",
     "state": {
      "_model_module": "@jupyter-widgets/controls",
      "_model_module_version": "1.5.0",
      "_model_name": "DescriptionStyleModel",
      "_view_count": null,
      "_view_module": "@jupyter-widgets/base",
      "_view_module_version": "1.2.0",
      "_view_name": "StyleView",
      "description_width": ""
     }
    }
   }
  }
 },
 "cells": [
  {
   "cell_type": "markdown",
   "source": [
    "<a href=\"https://colab.research.google.com/github/AlexanderLontke/ssl-remote-sensing/blob/vae-iteration/notebooks/Segmentation_Downstream_Task.ipynb\" target=\"_parent\"><img src=\"https://colab.research.google.com/assets/colab-badge.svg\" alt=\"Open In Colab\"/></a>"
   ],
   "metadata": {
    "collapsed": false,
    "pycharm": {
     "name": "#%% md\n"
    }
   }
  },
  {
   "cell_type": "markdown",
   "source": [
    "# Segmentation downstream task: SEN12FLOOD"
   ],
   "metadata": {
    "collapsed": false,
    "pycharm": {
     "name": "#%% md\n"
    }
   }
  },
  {
   "cell_type": "markdown",
   "source": [
    "Model: ResNetUnet \\\\\n",
    "Data: SEN12FLOOD \\\\\n",
    "Pretrained weights: dependent on pretext tasks\n",
    "\n"
   ],
   "metadata": {
    "collapsed": false,
    "pycharm": {
     "name": "#%% md\n"
    }
   }
  },
  {
   "cell_type": "markdown",
   "source": [
    "## Data"
   ],
   "metadata": {
    "collapsed": false,
    "pycharm": {
     "name": "#%% md\n"
    }
   }
  },
  {
   "cell_type": "code",
   "execution_count": null,
   "outputs": [],
   "source": [
    "!pip install rasterio torchmetrics"
   ],
   "metadata": {
    "collapsed": false,
    "pycharm": {
     "name": "#%%\n"
    }
   }
  },
  {
   "cell_type": "code",
   "execution_count": null,
   "outputs": [],
   "source": [
    "import rasterio as rio\n",
    "from mpl_toolkits.axes_grid1.axes_divider import make_axes_locatable\n",
    "import numpy as np\n",
    "import torch \n",
    "import matplotlib.pyplot as plt\n",
    "from torch.utils.data import DataLoader\n",
    "import os\n",
    "import cv2\n",
    "from albumentations.pytorch import ToTensorV2\n",
    "import albumentations as A\n",
    "import torch.nn as nn\n",
    "import torch.nn.functional as F\n",
    "import random"
   ],
   "metadata": {
    "collapsed": false,
    "pycharm": {
     "name": "#%%\n"
    }
   }
  },
  {
   "cell_type": "markdown",
   "source": [
    "SEN12FLOOD \\\\\n",
    "\n",
    "\n",
    "*   13 Bands\n"
   ],
   "metadata": {
    "collapsed": false,
    "pycharm": {
     "name": "#%% md\n"
    }
   }
  },
  {
   "cell_type": "code",
   "execution_count": null,
   "outputs": [],
   "source": [
    "import gdown\n",
    "\n",
    "gdown.download('https://drive.google.com/u/1/uc?id=1zGalZSCxgnmZM7zMm0qfRrnOXyD6IUX1&export=download')"
   ],
   "metadata": {
    "collapsed": false,
    "pycharm": {
     "name": "#%%\n"
    }
   }
  },
  {
   "cell_type": "code",
   "execution_count": null,
   "outputs": [],
   "source": [
    "import tarfile\n",
    "import os\n",
    "\n",
    "data_base_path = '/content/'\n",
    "data_folder = 'lab-seg-data'\n",
    "tar_path = os.path.join(data_base_path, data_folder + '.tar.gz')\n",
    "\n",
    "with tarfile.open(tar_path, mode='r') as tar:\n",
    "    tar.extractall(path=data_base_path)"
   ],
   "metadata": {
    "collapsed": false,
    "pycharm": {
     "name": "#%%\n"
    }
   }
  },
  {
   "cell_type": "code",
   "execution_count": null,
   "outputs": [],
   "source": [
    "class SEN12FLOODS():\n",
    "    \"\"\"SEN12FLOODS Segmentation Dataset.\"\"\"\n",
    "    def __init__(self, root='chips/', split='train', transforms=None, **kwargs):\n",
    "        super(SEN12FLOODS, self).__init__()\n",
    "        \n",
    "        # Loop over available data and create pairs of Sentinel 1 and Sentinel 2 images, co-registered,\n",
    "        # with corresponding groundtruth, and store the paths in lists. \n",
    "        self.s2_images, self.s2_masks, self.s1_images, self.s1_masks = self._get_sen2flood_pairs(root, split)\n",
    "        \n",
    "        # Make sure that for each data point we have all the values we need.\n",
    "        assert (len(self.s2_images) == len(self.s2_masks) == len(self.s1_images) == len(self.s1_masks))\n",
    "        if len(self.s2_images) == 0:\n",
    "            raise RuntimeError(\"Found 0 images in subfolders of:\" + root + \"\\n\")\n",
    "\n",
    "        print('Found {} images in the folder {}'.format(len(self.s2_images), root  + split))\n",
    "        \n",
    "        self.transforms = transforms\n",
    "        \n",
    "        # Initialise the data augmentation we will use: horizontal and vertical flipping, random affine translation, resizing\n",
    "        if self.transforms:\n",
    "            augmentation = A.Compose(\n",
    "                [\n",
    "                    A.Resize(height=256, width=256, p=1, interpolation=cv2.INTER_NEAREST),\n",
    "                    A.Affine(scale=2, translate_px=5, rotate=20, p=0.5),\n",
    "                    A.HorizontalFlip(p=0.5),\n",
    "                    A.VerticalFlip(p=0.5),\n",
    "                    ToTensorV2()\n",
    "                ] , additional_targets={'image0': 'image'}\n",
    "            )\n",
    "            self.augmentation = augmentation\n",
    "\n",
    "        else:\n",
    "            augmentation = A.Compose(\n",
    "                [\n",
    "                    A.Resize(height=256, width=256, p=1, interpolation=cv2.INTER_NEAREST),\n",
    "                    ToTensorV2(),\n",
    "                ] , additional_targets={'image0': 'image'}\n",
    "            )\n",
    "            self.augmentation = augmentation\n",
    "\n",
    "        # turn lists into arrays\n",
    "        self.s2_images = np.array(self.s2_images)\n",
    "        self.s1_images = np.array(self.s1_images)\n",
    "        self.s2_masks = np.array(self.s2_masks)\n",
    "        self.s1_masks = np.array(self.s1_masks)\n",
    "\n",
    "    def __len__(self):\n",
    "        return len(self.s2_images)\n",
    "\n",
    "    def __getitem__(self, index):\n",
    "        # Loop over all bands, and create a concatenated array for sentinel-2 data\n",
    "        bands = []\n",
    "        for file in ['B1.tif', 'B2.tif', 'B3.tif', 'B4.tif', 'B5.tif', 'B6.tif', 'B7.tif',\n",
    "                     'B8.tif', 'B8A.tif', 'B9.tif', 'B10.tif', 'B11.tif', 'B12.tif']:\n",
    "            band = rio.open(os.path.join(self.s2_images[index], file))\n",
    "            bands.append(band.read())\n",
    "        s2_img = np.concatenate(bands, axis=0)\n",
    "        s2_img = np.array(s2_img, dtype=np.float32)\n",
    "        #print(s2_img.shape)\n",
    "        \n",
    "        # Loop over both polarization, and create a concatenated array for sentinel-1 data\n",
    "        bands = []\n",
    "        for file in ['VH.tif', 'VV.tif']:\n",
    "            band = rio.open(os.path.join(self.s1_images[index], file))\n",
    "            band_array = band.read()\n",
    "            if np.isfinite(band_array).all():\n",
    "                bands.append(band.read())\n",
    "            else:\n",
    "                bands.append(np.zeros(band_array.shape))\n",
    "        s1_img = np.concatenate(bands, axis=0)\n",
    "        s1_img = np.array(s1_img, dtype=np.float32)\n",
    "        \n",
    "        # The two channels of Sentinel-1 (VV and VH) have both negative and positive values. \n",
    "        # We normalize them to lie between 0 and 1 by applying [min-max normalization with min = -77 and max = 26.\n",
    "        s1_img = np.clip(s1_img, a_min=-77, a_max=26)\n",
    "        s1_img = (s1_img + 77) / (26 + 77)\n",
    "        \n",
    "        # The water labels for Sentinel 1 and Sentinel 2 can be slightly different (since scenes are taken around 3 days apart)\n",
    "        # We read the water label mask associated to Sentinel 2. \n",
    "        mask = rio.open(self.s2_masks[index])\n",
    "        mask_img = mask.read().squeeze()\n",
    "\n",
    "        # Apply same data augmentation for both sentinel 2 and sentinel 1 images, and the mask.\n",
    "        augmented_data = self.augmentation(image=np.transpose(s2_img, (1, 2, 0)), image0=np.transpose(s1_img, (1, 2, 0)), mask=mask_img)\n",
    "        \n",
    "        # Define output tensor\n",
    "        output_tensor = {\n",
    "            \"s2_img\": augmented_data['image'],\n",
    "            \"s1_img\": augmented_data['image0'],\n",
    "            \"s2_imgfile\": self.s2_images[index],\n",
    "            \"s1_imgfile\": self.s1_images[index],\n",
    "            \"mask\": augmented_data['mask'],\n",
    "            #\"mask\": np.expand_dims(augmented_data['mask'], axis=0),\n",
    "        }\n",
    "\n",
    "        return output_tensor\n",
    "\n",
    "    def _get_sen2flood_pairs(self, folder, split):\n",
    "        \"\"\"\n",
    "        Constructs Sentinel2 and Sentinel1 pairs\n",
    "\n",
    "        Arguments\n",
    "        ----------\n",
    "            folder : str\n",
    "                Image folder name \n",
    "            split : str\n",
    "                train or val split\n",
    "        Returns\n",
    "        -------\n",
    "            s2_img_paths : list\n",
    "                List of Sentinel 2 image path\n",
    "            s2_mask_paths : list\n",
    "                List of Sentinel 2 water mask path\n",
    "            s1_img_paths : list\n",
    "                List of Sentinel 1 image path\n",
    "            s1_mask_paths : list \n",
    "                List of Sentinel 1 water mask path\n",
    "        \"\"\"\n",
    "        s2_img_paths = []\n",
    "        s2_mask_paths = []\n",
    "        s1_img_paths = []\n",
    "        s1_mask_paths = []\n",
    "\n",
    "        img_folder = os.path.join(folder, split)\n",
    "        \n",
    "        # loop over the image folder (train or validation)\n",
    "        for filename in os.listdir(img_folder):\n",
    "            if filename not in ['._.DS_Store', '.DS_Store']:\n",
    "                for file in os.listdir(os.path.join(img_folder, filename, 's2')):\n",
    "                    if file not in ['._.DS_Store', '.DS_Store']:\n",
    "                        # Get the Image ID (as explained in the dataset section)\n",
    "                        image_id = file.split('_')[-1]\n",
    "                        \n",
    "                        # Store Sentinel 2 image and mask paths in lists\n",
    "                        s2_imgpath = os.path.join(img_folder, filename, 's2', file)\n",
    "                        s2_maskpath = os.path.join(img_folder, filename, 's2', file, 'LabelWater.tif')\n",
    "                        \n",
    "                        # Using the Image ID, store co-registered Sentinel 1 image and mask paths in lists\n",
    "                        s1_files = os.listdir(os.path.join(img_folder, filename, 's1'))\n",
    "                        s1_file = [file for file in s1_files if file.endswith(image_id)][0]\n",
    "                        s1_imgpath = os.path.join(img_folder, filename, 's1', s1_file)\n",
    "                        s1_maskpath = os.path.join(img_folder, filename, 's1', s1_file, 'LabelWater.tif')\n",
    "                        \n",
    "                        if os.path.isfile(s1_maskpath):\n",
    "                            s2_img_paths.append(s2_imgpath)\n",
    "                            s2_mask_paths.append(s2_maskpath)\n",
    "                            s1_img_paths.append(s1_imgpath)\n",
    "                            s1_mask_paths.append(s1_maskpath)\n",
    "                        else:\n",
    "                            print('cannot find the S1 Mask:', s1_maskpath)\n",
    "\n",
    "        return s2_img_paths, s2_mask_paths, s1_img_paths, s1_mask_paths\n",
    "    \n",
    "    def visualize_observation(self, idx):\n",
    "        \"\"\"\n",
    "        Visualise Sentinel1, Sentinel2, and water mask. \n",
    "\n",
    "        Arguments\n",
    "        ----------\n",
    "            idx : int\n",
    "                Data index\n",
    "        \"\"\"\n",
    "        sample = self.__getitem__(idx)\n",
    "\n",
    "        s2_image = sample.get(\"s2_img\").squeeze()\n",
    "        s1_image = sample.get(\"s1_img\").squeeze()\n",
    "        mask = sample.get(\"mask\")\n",
    "        \n",
    "        print(sample.get('s2_imgfile'))\n",
    "        print(sample.get('s1_imgfile'))\n",
    "\n",
    "        fig, axs = plt.subplots(1, 3, figsize=(17, 6))\n",
    "        \n",
    "        s1_img_vh = s1_image[0, :, :]\n",
    "        s1_img_vh = s1_img_vh / s1_img_vh.max()\n",
    "\n",
    "        axs[0].imshow(s1_img_vh)\n",
    "        axs[0].set_title(\"Sentinel-1 VH\")\n",
    "        axs[0].axis('off')\n",
    "        \n",
    "        s2_img_rgb = s2_image[[3, 2, 1], :, :]\n",
    "        s2_img_rgb = np.transpose(s2_img_rgb, (1, 2, 0))\n",
    "        s2_img_rgb = s2_img_rgb / s2_img_rgb.max()\n",
    "\n",
    "        axs[1].imshow(s2_img_rgb)\n",
    "        axs[1].set_title(\"Sentinel-2 RGB\")\n",
    "        axs[1].axis('off')\n",
    "\n",
    "        mask = mask.squeeze()\n",
    "\n",
    "        axs[2].imshow(mask, cmap='Blues')\n",
    "        axs[2].set_title(\"Groundtruth Mask\")\n",
    "        axs[2].axis('off')\n",
    "\n",
    "        plt.show()"
   ],
   "metadata": {
    "collapsed": false,
    "pycharm": {
     "name": "#%%\n"
    }
   }
  },
  {
   "cell_type": "code",
   "execution_count": null,
   "outputs": [],
   "source": [
    "trainset = SEN12FLOODS(\n",
    "        root='/content/chips/',\n",
    "        transforms=True,\n",
    "        split='train')\n",
    "\n",
    "valset = SEN12FLOODS(\n",
    "    root='/content/chips/', \n",
    "    split='val')\n",
    "\n",
    "\n",
    "train_loader = DataLoader(\n",
    "    trainset,\n",
    "    batch_size=8,\n",
    "    pin_memory=True)\n",
    "\n",
    "val_loader = DataLoader(\n",
    "    valset,\n",
    "    batch_size=8,\n",
    "    pin_memory=True)"
   ],
   "metadata": {
    "collapsed": false,
    "pycharm": {
     "name": "#%%\n"
    }
   }
  },
  {
   "cell_type": "code",
   "execution_count": null,
   "outputs": [],
   "source": [
    "next(iter(train_loader))[\"mask\"].shape"
   ],
   "metadata": {
    "collapsed": false,
    "pycharm": {
     "name": "#%%\n"
    }
   }
  },
  {
   "cell_type": "code",
   "execution_count": null,
   "outputs": [],
   "source": [
    "next(iter(train_loader))[\"s2_img\"].shape"
   ],
   "metadata": {
    "collapsed": false,
    "pycharm": {
     "name": "#%%\n"
    }
   }
  },
  {
   "cell_type": "code",
   "execution_count": null,
   "outputs": [],
   "source": [
    "trainset.visualize_observation(95)"
   ],
   "metadata": {
    "collapsed": false,
    "pycharm": {
     "name": "#%%\n"
    }
   }
  },
  {
   "cell_type": "markdown",
   "source": [
    "## Load pretext weights"
   ],
   "metadata": {
    "collapsed": false,
    "pycharm": {
     "name": "#%% md\n"
    }
   }
  },
  {
   "cell_type": "code",
   "execution_count": null,
   "outputs": [],
   "source": [
    "import os\n",
    "import torch\n",
    "\n",
    "def best_model_loader(pretext_model,pretext_model_dir,pretext_model_path):\n",
    "\n",
    "    # restore pre-trained model snapshot\n",
    "    best_model_name = os.path.join(pretext_model_dir, pretext_model_path)\n",
    "\n",
    "    # load state_dict from path\n",
    "    state_dict_best = torch.load(best_model_name, map_location=torch.device('cpu'))\n",
    "\n",
    "    # init pre-trained model class\n",
    "    best_model = pretext_model\n",
    "\n",
    "    # load pre-trained models\n",
    "    best_model.load_state_dict(state_dict_best)\n",
    "\n",
    "    return best_model"
   ],
   "metadata": {
    "collapsed": false,
    "pycharm": {
     "name": "#%%\n"
    }
   }
  },
  {
   "cell_type": "code",
   "execution_count": null,
   "outputs": [],
   "source": [
    "#best_model = best_model_loader(autoencoder,\"./weights/\",\"autoencoder.pkl\")"
   ],
   "metadata": {
    "collapsed": false,
    "pycharm": {
     "name": "#%%\n"
    }
   }
  },
  {
   "cell_type": "code",
   "execution_count": null,
   "outputs": [],
   "source": [
    "# best_model_encoder = best_model.encoder()"
   ],
   "metadata": {
    "collapsed": false,
    "pycharm": {
     "name": "#%%\n"
    }
   }
  },
  {
   "cell_type": "code",
   "execution_count": null,
   "outputs": [],
   "source": [
    "# test model of pretrained resnet18 model ()\n",
    "import torchvision\n",
    "best_model_encoder = torchvision.models.resnet18(pretrained=True)"
   ],
   "metadata": {
    "collapsed": false,
    "pycharm": {
     "name": "#%%\n"
    }
   }
  },
  {
   "cell_type": "code",
   "execution_count": null,
   "outputs": [],
   "source": [
    "from copy import deepcopy\n",
    "bst_encoder = deepcopy(best_model_encoder)"
   ],
   "metadata": {
    "collapsed": false,
    "pycharm": {
     "name": "#%%\n"
    }
   }
  },
  {
   "cell_type": "code",
   "execution_count": null,
   "outputs": [],
   "source": [
    "# funciton to change first convolution layer input channels => make random kaiming normal initialization\n",
    "\n",
    "def patch_first_conv(encoder, new_in_channels, default_in_channels=3):\n",
    "\n",
    "    for module in encoder.modules():\n",
    "        if isinstance(module, nn.Conv2d) and module.in_channels == 3:\n",
    "            print(\"Module to be convoluted: \", module)\n",
    "            break\n",
    "\n",
    "    weight = module.weight.detach()\n",
    "    module.in_channels = new_in_channels         \n",
    "\n",
    "    new_weight = torch.Tensor(module.out_channels, new_in_channels // module.groups, *module.kernel_size)\n",
    "    for i in range(new_in_channels):\n",
    "        new_weight[:, i] = weight[:, i % default_in_channels]\n",
    "\n",
    "    new_weight = new_weight * (default_in_channels / new_in_channels)\n",
    "    module.weight = nn.parameter.Parameter(new_weight)\n",
    "\n",
    "    # make sure in_channel is changed\n",
    "    assert module.in_channels == new_in_channels"
   ],
   "metadata": {
    "collapsed": false,
    "pycharm": {
     "name": "#%%\n"
    }
   }
  },
  {
   "cell_type": "code",
   "execution_count": null,
   "outputs": [],
   "source": [
    "patch_first_conv(bst_encoder,13,default_in_channels=3)"
   ],
   "metadata": {
    "collapsed": false,
    "pycharm": {
     "name": "#%%\n"
    }
   }
  },
  {
   "cell_type": "markdown",
   "source": [
    "## Model"
   ],
   "metadata": {
    "collapsed": false,
    "pycharm": {
     "name": "#%% md\n"
    }
   }
  },
  {
   "cell_type": "markdown",
   "source": [
    "Resnet18 Unet"
   ],
   "metadata": {
    "collapsed": false,
    "pycharm": {
     "name": "#%% md\n"
    }
   }
  },
  {
   "cell_type": "code",
   "execution_count": null,
   "outputs": [],
   "source": [
    "import torch.nn as nn\n",
    "import torchvision.models\n",
    "\n",
    "\n",
    "def convrelu(in_channels, out_channels, kernel, padding):\n",
    "  return nn.Sequential(\n",
    "    nn.Conv2d(in_channels, out_channels, kernel, padding=padding),\n",
    "    nn.ReLU(inplace=True),\n",
    "  )\n",
    "\n",
    "\n",
    "class ResNetUNet(nn.Module):\n",
    "  def __init__(self, n_class,encoder = None):\n",
    "    super().__init__()\n",
    "    \n",
    "    # test base mode: pretrained resnet 18 of imagenet\n",
    "    #self.base_model = torchvision.models.resnet18(pretrained=True)\n",
    "    # base model from our pre-trained model\n",
    "    # patch_first_conv\n",
    "    self.base_model = encoder\n",
    "    self.base_layers = list(self.base_model.children())\n",
    "\n",
    "    self.layer0 = nn.Sequential(*self.base_layers[:3]) # size=(N, 64, x.H/2, x.W/2)\n",
    "    self.layer0_1x1 = convrelu(64, 64, 1, 0)\n",
    "    self.layer1 = nn.Sequential(*self.base_layers[3:5]) # size=(N, 64, x.H/4, x.W/4)\n",
    "    self.layer1_1x1 = convrelu(64, 64, 1, 0)\n",
    "    self.layer2 = self.base_layers[5]  # size=(N, 128, x.H/8, x.W/8)\n",
    "    self.layer2_1x1 = convrelu(128, 128, 1, 0)\n",
    "    self.layer3 = self.base_layers[6]  # size=(N, 256, x.H/16, x.W/16)\n",
    "    self.layer3_1x1 = convrelu(256, 256, 1, 0)\n",
    "    self.layer4 = self.base_layers[7]  # size=(N, 512, x.H/32, x.W/32)\n",
    "    self.layer4_1x1 = convrelu(512, 512, 1, 0)\n",
    "\n",
    "    self.upsample = nn.Upsample(scale_factor=2, mode='bilinear', align_corners=True)\n",
    "\n",
    "    self.conv_up3 = convrelu(256 + 512, 512, 3, 1)\n",
    "    self.conv_up2 = convrelu(128 + 512, 256, 3, 1)\n",
    "    self.conv_up1 = convrelu(64 + 256, 256, 3, 1)\n",
    "    self.conv_up0 = convrelu(64 + 256, 128, 3, 1)\n",
    "\n",
    "    # from 3 to 13\n",
    "    self.conv_original_size0 = convrelu(13, 64, 3, 1)\n",
    "    self.conv_original_size1 = convrelu(64, 64, 3, 1)\n",
    "    self.conv_original_size2 = convrelu(64 + 128, 64, 3, 1)\n",
    "\n",
    "    self.conv_last = nn.Conv2d(64, n_class, 1)\n",
    "\n",
    "  def forward(self, input):\n",
    "    x_original = self.conv_original_size0(input)\n",
    "    x_original = self.conv_original_size1(x_original)\n",
    "\n",
    "    layer0 = self.layer0(input)\n",
    "    layer1 = self.layer1(layer0)\n",
    "    layer2 = self.layer2(layer1)\n",
    "    layer3 = self.layer3(layer2)\n",
    "    layer4 = self.layer4(layer3)\n",
    "\n",
    "    layer4 = self.layer4_1x1(layer4)\n",
    "    x = self.upsample(layer4)\n",
    "    layer3 = self.layer3_1x1(layer3)\n",
    "    # concat: skip connection to merge features from z_layer3\n",
    "    x = torch.cat([x, layer3], dim=1)\n",
    "    x = self.conv_up3(x)\n",
    "\n",
    "    x = self.upsample(x)\n",
    "    layer2 = self.layer2_1x1(layer2)\n",
    "    # concat: skip connection to merge features from z_layer2\n",
    "    x = torch.cat([x, layer2], dim=1)\n",
    "    x = self.conv_up2(x)\n",
    "\n",
    "    x = self.upsample(x)\n",
    "    layer1 = self.layer1_1x1(layer1)\n",
    "    # concat: skip connection to merge features from z_layer1\n",
    "    x = torch.cat([x, layer1], dim=1)\n",
    "    x = self.conv_up1(x)\n",
    "\n",
    "    x = self.upsample(x)\n",
    "    layer0 = self.layer0_1x1(layer0)\n",
    "    x = torch.cat([x, layer0], dim=1)\n",
    "    x = self.conv_up0(x)\n",
    "\n",
    "    x = self.upsample(x)\n",
    "    x = torch.cat([x, x_original], dim=1)\n",
    "    x = self.conv_original_size2(x)\n",
    "\n",
    "    out = self.conv_last(x)\n",
    "\n",
    "    return out"
   ],
   "metadata": {
    "collapsed": false,
    "pycharm": {
     "name": "#%%\n"
    }
   }
  },
  {
   "cell_type": "code",
   "execution_count": null,
   "outputs": [],
   "source": [
    "# class = 1\n",
    "model = ResNetUNet(1,encoder = bst_encoder)"
   ],
   "metadata": {
    "collapsed": false,
    "pycharm": {
     "name": "#%%\n"
    }
   }
  },
  {
   "cell_type": "code",
   "execution_count": null,
   "outputs": [],
   "source": [
    "# # freeze backbone layers\n",
    "# for l in model.base_layers:\n",
    "#   for param in l.parameters():\n",
    "#     param.requires_grad = False"
   ],
   "metadata": {
    "collapsed": false,
    "pycharm": {
     "name": "#%%\n"
    }
   }
  },
  {
   "cell_type": "code",
   "execution_count": null,
   "outputs": [],
   "source": [
    "# model"
   ],
   "metadata": {
    "collapsed": false,
    "pycharm": {
     "name": "#%%\n"
    }
   }
  },
  {
   "cell_type": "code",
   "execution_count": null,
   "outputs": [],
   "source": [
    "device = torch.device('cuda' if torch.cuda.is_available() else 'cpu').type"
   ],
   "metadata": {
    "collapsed": false,
    "pycharm": {
     "name": "#%%\n"
    }
   }
  },
  {
   "cell_type": "code",
   "execution_count": null,
   "outputs": [],
   "source": [
    "# from torchsummary import summary\n",
    "# summary(model.to(device), input_size=(13, 256, 256))"
   ],
   "metadata": {
    "collapsed": false,
    "pycharm": {
     "name": "#%%\n"
    }
   }
  },
  {
   "cell_type": "markdown",
   "source": [
    "## Training"
   ],
   "metadata": {
    "collapsed": false,
    "pycharm": {
     "name": "#%% md\n"
    }
   }
  },
  {
   "cell_type": "code",
   "execution_count": null,
   "outputs": [],
   "source": [
    "# Define a learning rate\n",
    "learning_rate = 0.001\n",
    "\n",
    "# Initialise the optimizer\n",
    "optimizer = torch.optim.Adam(model.parameters(), lr=learning_rate)"
   ],
   "metadata": {
    "collapsed": false,
    "pycharm": {
     "name": "#%%\n"
    }
   }
  },
  {
   "cell_type": "code",
   "execution_count": null,
   "outputs": [],
   "source": [
    "# Initialise the loss function and move it to the GPU if available \n",
    "criterion = torch.nn.BCEWithLogitsLoss().to(device)"
   ],
   "metadata": {
    "collapsed": false,
    "pycharm": {
     "name": "#%%\n"
    }
   }
  },
  {
   "cell_type": "code",
   "execution_count": null,
   "outputs": [],
   "source": [
    "next(iter(train_loader))[\"s2_img\"].shape"
   ],
   "metadata": {
    "collapsed": false,
    "pycharm": {
     "name": "#%%\n"
    }
   }
  },
  {
   "cell_type": "code",
   "execution_count": null,
   "outputs": [],
   "source": [
    "if not os.path.exists('./weights'):\n",
    "    os.mkdir('./weights')"
   ],
   "metadata": {
    "collapsed": false,
    "pycharm": {
     "name": "#%%\n"
    }
   }
  },
  {
   "cell_type": "code",
   "execution_count": null,
   "outputs": [],
   "source": [
    "# We will use the tqdm library to display the progress of our training. \n",
    "# from tqdm.autonotebook import tqdm\n",
    "from tqdm import tqdm\n",
    "from torchmetrics import JaccardIndex\n",
    "import os\n",
    "\n",
    "# Move the model to the GPU\n",
    "model.to(device)\n",
    "\n",
    "# Create lists for logging losses and evalualtion metrics:\n",
    "train_losses = []\n",
    "train_accs = []\n",
    "train_ious = []\n",
    "\n",
    "val_losses = []\n",
    "val_accs = []\n",
    "val_ious = []\n",
    "\n",
    "# IoU\n",
    "jaccard = JaccardIndex(num_classes=2).to(device)\n",
    "\n",
    "\n",
    "# For every epoch \n",
    "for epoch in range(70):\n",
    "    epoch_loss = 0\n",
    "    progress = tqdm(\n",
    "        enumerate(train_loader), desc=\"Train Loss: \",\n",
    "        total=len(train_loader)\n",
    "    )\n",
    "    \n",
    "    # Specify you are in training mode\n",
    "    model.train()\n",
    "    \n",
    "    epoch_train_loss = 0\n",
    "    epoch_val_loss = 0\n",
    "\n",
    "    epoch_train_ious = 0\n",
    "    epoch_val_ious = 0\n",
    "\n",
    "    epoch_train_accs = 0\n",
    "    epoch_val_accs = 0\n",
    "\n",
    "    for i, batch in progress:\n",
    "        # Transfer data to GPU if available\n",
    "        data = batch[\"s2_img\"].float().to(device)\n",
    "        label = batch['mask'].float().to(device)\n",
    "        \n",
    "        # Make a forward pass\n",
    "        output = model(data)\n",
    "        #print(output.shape)\n",
    "\n",
    "        # Derive binary segmentation map from prediction\n",
    "        output_binary = torch.zeros(output.shape)\n",
    "        output_binary[output >= 0] = 1\n",
    "\n",
    "        # Compute IoU\n",
    "        epoch_train_ious += jaccard(output_binary.to(device), label.int()) / len(train_loader)\n",
    "\n",
    "        # Compute pixel accuracies\n",
    "        epoch_train_accs += torch.sum(output_binary.to(device) == label.int()) / (len(train_loader) * (256*256) * 100)\n",
    "        \n",
    "        # Compute the loss\n",
    "        loss = criterion(output, label.unsqueeze(1))\n",
    "        \n",
    "        # Clear the gradients\n",
    "        optimizer.zero_grad()\n",
    "\n",
    "        # Calculate gradients \n",
    "        loss.backward()\n",
    "\n",
    "        # Update Weights\n",
    "        optimizer.step()\n",
    "        \n",
    "        # Accumulate the loss over the eopch\n",
    "        epoch_train_loss += loss / len(train_loader)\n",
    "\n",
    "        progress.set_description(\"Epoch = {}, Train Loss: {:.4f}\".format(epoch+1,\n",
    "                                     epoch_train_loss))\n",
    "\n",
    "    progress = tqdm(\n",
    "        enumerate(val_loader), desc=\"val Loss: \",\n",
    "        total=len(val_loader), position=0, leave=True,)\n",
    "    \n",
    "    # Specify you are in evaluation mode\n",
    "    model.eval()\n",
    "    \n",
    "    # Deactivate autograd engine (no backpropagation allowed)\n",
    "    with torch.no_grad():\n",
    "        epoch_val_loss = 0\n",
    "        for j, batch in progress:\n",
    "            # Transfer Data to GPU if available\n",
    "            data = batch[\"s2_img\"].float().to(device)\n",
    "            label = batch['mask'].float().to(device)\n",
    "\n",
    "            # Make a forward pass\n",
    "            output = model(data)\n",
    "\n",
    "            # Derive binary segmentation map from prediction\n",
    "            output_binary = torch.zeros(output.shape)\n",
    "            output_binary[output >= 0] = 1\n",
    "\n",
    "            # Compute IoU\n",
    "            epoch_val_ious += jaccard(output_binary.to(device), label.int()) / len(val_loader)\n",
    "\n",
    "            # Compute pixel accuracies\n",
    "            epoch_val_accs += torch.sum(output_binary.to(device) == label.int()) / (len(val_loader) * (256*256) * 100)\n",
    "            \n",
    "            # Compute the loss\n",
    "            val_loss = criterion(output, label.unsqueeze(1))\n",
    "                    \n",
    "            # Accumulate the loss over the epoch\n",
    "            epoch_val_loss += val_loss / len(val_loader)\n",
    "\n",
    "            progress.set_description(\"Validation Loss: {:.4f}\".format(\n",
    "                                     epoch_val_loss))\n",
    "    \n",
    "    if epoch == 0:\n",
    "        best_val_loss = epoch_val_loss\n",
    "    else:\n",
    "        if epoch_val_loss <= best_val_loss:\n",
    "            best_val_loss = epoch_val_loss\n",
    "            # Save only the best model\n",
    "            save_weights_path = \"./weights/segmentation_model.pth\"\n",
    "            torch.save(model.state_dict(), save_weights_path)\n",
    "            print('Saving Model...')\n",
    "\n",
    "    # print(\"Epoch = \", epoch+1)\n",
    "    # Save losses in list, so that we can visualise them later. \n",
    "    train_losses.append(epoch_train_loss.cpu().detach().numpy())\n",
    "    val_losses.append(epoch_val_loss.cpu().detach().numpy())\n",
    "\n",
    "    # Save IoUs in list, so that we can visualise them later. \n",
    "    train_ious.append(epoch_train_ious.cpu().detach().numpy())\n",
    "    val_ious.append(epoch_val_ious.cpu().detach().numpy())\n",
    "    print(f'train_iou is {epoch_train_ious:.4f}, val_iou is {epoch_val_ious:.4f}')\n",
    "\n",
    "    # Save accuracies in list, so that we can visualise them later. \n",
    "    train_accs.append(epoch_train_accs.cpu().detach().numpy())\n",
    "    val_accs.append(epoch_val_accs.cpu().detach().numpy())\n",
    "    print(f'train_acc is {epoch_train_accs:.4f}, val_acc is {epoch_val_accs:.4f}')\n",
    "\n",
    "print('Finished Training')"
   ],
   "metadata": {
    "collapsed": false,
    "pycharm": {
     "name": "#%%\n"
    }
   }
  },
  {
   "cell_type": "code",
   "execution_count": null,
   "outputs": [],
   "source": [
    "fig, axes = plt.subplots(1, 3, figsize=(15, 4))\n",
    "\n",
    "axes[0].plot(train_losses, label='train')\n",
    "axes[0].plot(val_losses, label='val')\n",
    "axes[0].set_xlabel('Epochs')\n",
    "axes[0].set_title('Losses')\n",
    "axes[0].legend()\n",
    "\n",
    "axes[1].plot(train_accs, label='train')\n",
    "axes[1].plot(val_accs, label='val')\n",
    "axes[1].set_xlabel('Epochs')\n",
    "axes[1].set_title('Pixel accuracies')\n",
    "axes[1].legend()\n",
    "\n",
    "axes[2].plot(train_ious, label='train')\n",
    "axes[2].plot(val_ious, label='val')\n",
    "axes[2].set_xlabel('Epochs')\n",
    "axes[2].set_title('IoUs')\n",
    "axes[2].legend()"
   ],
   "metadata": {
    "collapsed": false,
    "pycharm": {
     "name": "#%%\n"
    }
   }
  },
  {
   "cell_type": "code",
   "execution_count": null,
   "outputs": [],
   "source": [
    "# Initialise a UNet() model \n",
    "#ResNetUNet(1,encoder = best_model.encoder)\n",
    "ResNetUNet(1,encoder = torchvision.models.resnet18(pretrained=True))\n",
    "# Load pretrained weights\n",
    "model.load_state_dict(torch.load('./weights/segmentation_model.pth'))\n",
    "# Move to device (GPU or CPU)\n",
    "model.to(device);"
   ],
   "metadata": {
    "collapsed": false,
    "pycharm": {
     "name": "#%%\n"
    }
   }
  },
  {
   "cell_type": "code",
   "execution_count": null,
   "outputs": [],
   "source": [
    "from sklearn.metrics import confusion_matrix, accuracy_score, jaccard_score\n",
    "\n",
    "def get_metrics(true, preds):\n",
    "    matrix = confusion_matrix(true.flatten(), preds.flatten())\n",
    "    class_0, class_1 = matrix.diagonal() / matrix.sum(axis=1)\n",
    "    print('***************** Metrics *****************')\n",
    "    print('Class 0 (no water) accuracy: {:.3f}'.format(class_0))\n",
    "    print('Class 1 (water) accuracy: {:.3f}'.format(class_1))\n",
    "    print('Overall accuracy: {:.3f}'.format(accuracy_score(true.flatten(), preds.flatten())))\n",
    "    print('Equally Weighted accuracy: {:.3f}'.format(0.5 * class_0 + 0.5 * class_1))\n",
    "    print('IoU: {:.3f}'.format(jaccard_score(true.flatten(), preds.flatten())))\n",
    "    print('*******************************************')"
   ],
   "metadata": {
    "collapsed": false,
    "pycharm": {
     "name": "#%%\n"
    }
   }
  },
  {
   "cell_type": "code",
   "execution_count": null,
   "outputs": [],
   "source": [
    "def display_outputs(idx=None, multi=False):\n",
    "    # Pick a random index if none is specified\n",
    "    if not idx:\n",
    "        idx = random.randint(0, len(valset))\n",
    "    print('Validation image ID: {}'.format(idx))\n",
    "    \n",
    "    # Get Sentinel 2 and Sentinel 1 data\n",
    "    s2_data = torch.unsqueeze(valset.__getitem__(idx)['s2_img'].float().to(device), 0)\n",
    "    s1_data = torch.unsqueeze(valset.__getitem__(idx)['s1_img'].float().to(device), 0)\n",
    "    \n",
    "    # Get predictions from the model\n",
    "    if multi:\n",
    "        output = model(s1_data, s2_data)\n",
    "    else:\n",
    "        output = model(s2_data)\n",
    "    \n",
    "    # Threshold the output to generate the binary map (FYI: the threshold value \"0\" can be tuned as any other hyperparameter)\n",
    "    output_binary = torch.zeros(output.shape)\n",
    "    output_binary[output >= 0] = 1\n",
    "    \n",
    "    get_metrics(valset.__getitem__(idx)['mask'], output_binary)\n",
    "    \n",
    "    fig, axes = plt.subplots(1, 3, figsize=(15, 7))\n",
    "    axes[0].imshow(np.transpose(valset.__getitem__(idx)['s2_img'][[3,2,1],:,:], (1, 2, 0)) / valset.__getitem__(idx)['s2_img'].max())\n",
    "    axes[0].set_title('True Color Sentinel-2')\n",
    "    axes[2].imshow(valset.__getitem__(idx)['mask'], cmap='Blues')\n",
    "    axes[2].set_title('Groundtruth')\n",
    "    axes[1].imshow(output_binary.squeeze(), cmap='Blues')\n",
    "    axes[1].set_title('Predicted Mask')"
   ],
   "metadata": {
    "collapsed": false,
    "pycharm": {
     "name": "#%%\n"
    }
   }
  },
  {
   "cell_type": "code",
   "execution_count": null,
   "outputs": [],
   "source": [
    "display_outputs()"
   ],
   "metadata": {
    "collapsed": false,
    "pycharm": {
     "name": "#%%\n"
    }
   }
  },
  {
   "cell_type": "markdown",
   "source": [
    "## Model Fusion"
   ],
   "metadata": {
    "collapsed": false,
    "pycharm": {
     "name": "#%% md\n"
    }
   }
  },
  {
   "cell_type": "code",
   "execution_count": null,
   "outputs": [],
   "source": [
    "from copy import deepcopy\n",
    "bst_encoder_sentinel1 = deepcopy(best_model_encoder)"
   ],
   "metadata": {
    "collapsed": false,
    "pycharm": {
     "name": "#%%\n"
    }
   }
  },
  {
   "cell_type": "code",
   "execution_count": null,
   "outputs": [],
   "source": [
    "patch_first_conv(bst_encoder_sentinel1,2,default_in_channels=3)"
   ],
   "metadata": {
    "collapsed": false,
    "pycharm": {
     "name": "#%%\n"
    }
   }
  },
  {
   "cell_type": "code",
   "execution_count": null,
   "outputs": [],
   "source": [
    "import torch.nn as nn\n",
    "import torchvision.models\n",
    "\n",
    "\n",
    "def convrelu(in_channels, out_channels, kernel, padding):\n",
    "  return nn.Sequential(\n",
    "    nn.Conv2d(in_channels, out_channels, kernel, padding=padding),\n",
    "    nn.ReLU(inplace=True),\n",
    "  )\n",
    "\n",
    "\n",
    "class ResNetUNet_Sentinel1(nn.Module):\n",
    "  # remove n_classes\n",
    "  def __init__(self,encoder = None):\n",
    "    super().__init__()\n",
    "    \n",
    "    # base model from our pre-trained model\n",
    "    # TODO: needs to add representations from different base model (Z1, Z2)\n",
    "    self.base_model = encoder\n",
    "    self.base_layers = list(self.base_model.children())\n",
    "\n",
    "    self.layer0 = nn.Sequential(*self.base_layers[:3]) # size=(N, 64, x.H/2, x.W/2)\n",
    "    self.layer0_1x1 = convrelu(64, 64, 1, 0)\n",
    "    self.layer1 = nn.Sequential(*self.base_layers[3:5]) # size=(N, 64, x.H/4, x.W/4)\n",
    "    self.layer1_1x1 = convrelu(64, 64, 1, 0)\n",
    "    self.layer2 = self.base_layers[5]  # size=(N, 128, x.H/8, x.W/8)\n",
    "    self.layer2_1x1 = convrelu(128, 128, 1, 0)\n",
    "    self.layer3 = self.base_layers[6]  # size=(N, 256, x.H/16, x.W/16)\n",
    "    self.layer3_1x1 = convrelu(256, 256, 1, 0)\n",
    "    self.layer4 = self.base_layers[7]  # size=(N, 512, x.H/32, x.W/32)\n",
    "    self.layer4_1x1 = convrelu(512, 512, 1, 0)\n",
    "\n",
    "    self.upsample = nn.Upsample(scale_factor=2, mode='bilinear', align_corners=True)\n",
    "\n",
    "    self.conv_up3 = convrelu(256 + 512, 512, 3, 1)\n",
    "    self.conv_up2 = convrelu(128 + 512, 256, 3, 1)\n",
    "    self.conv_up1 = convrelu(64 + 256, 256, 3, 1)\n",
    "    self.conv_up0 = convrelu(64 + 256, 128, 3, 1)\n",
    "\n",
    "    self.conv_original_size0 = convrelu(2, 64, 3, 1)\n",
    "    self.conv_original_size1 = convrelu(64, 64, 3, 1)\n",
    "    self.conv_original_size2 = convrelu(64 + 128, 64, 3, 1)\n",
    "\n",
    "    # remove last convolution block\n",
    "    # self.conv_last = nn.Conv2d(64, n_class, 1)\n",
    "\n",
    "  def forward(self, input):\n",
    "    x_original = self.conv_original_size0(input)\n",
    "    x_original = self.conv_original_size1(x_original)\n",
    "\n",
    "    layer0 = self.layer0(input)\n",
    "    layer1 = self.layer1(layer0)\n",
    "    layer2 = self.layer2(layer1)\n",
    "    layer3 = self.layer3(layer2)\n",
    "    layer4 = self.layer4(layer3)\n",
    "\n",
    "    layer4 = self.layer4_1x1(layer4)\n",
    "    x = self.upsample(layer4)\n",
    "    layer3 = self.layer3_1x1(layer3)\n",
    "    # concat: skip connection to merge features from z_layer3\n",
    "    x = torch.cat([x, layer3], dim=1)\n",
    "    x = self.conv_up3(x)\n",
    "\n",
    "    x = self.upsample(x)\n",
    "    layer2 = self.layer2_1x1(layer2)\n",
    "    # concat: skip connection to merge features from z_layer2\n",
    "    x = torch.cat([x, layer2], dim=1)\n",
    "    x = self.conv_up2(x)\n",
    "\n",
    "    x = self.upsample(x)\n",
    "    layer1 = self.layer1_1x1(layer1)\n",
    "    # concat: skip connection to merge features from z_layer1\n",
    "    x = torch.cat([x, layer1], dim=1)\n",
    "    x = self.conv_up1(x)\n",
    "\n",
    "    x = self.upsample(x)\n",
    "    layer0 = self.layer0_1x1(layer0)\n",
    "    x = torch.cat([x, layer0], dim=1)\n",
    "    x = self.conv_up0(x)\n",
    "\n",
    "    x = self.upsample(x)\n",
    "    x = torch.cat([x, x_original], dim=1)\n",
    "    x = self.conv_original_size2(x)\n",
    "    \n",
    "    # remove last convolution block\n",
    "    # out = self.conv_last(x)\n",
    "\n",
    "    return x"
   ],
   "metadata": {
    "collapsed": false,
    "pycharm": {
     "name": "#%%\n"
    }
   }
  },
  {
   "cell_type": "code",
   "execution_count": null,
   "outputs": [],
   "source": [
    "class ResNetUNet_Sentinel2(nn.Module):\n",
    "  # remove n_classes\n",
    "  def __init__(self,encoder = None):\n",
    "    super().__init__()\n",
    "    \n",
    "    # base model from our pre-trained model\n",
    "    # TODO: needs to add representations from different base model (Z1, Z2)\n",
    "    self.base_model = encoder\n",
    "    self.base_layers = list(self.base_model.children())\n",
    "\n",
    "    self.layer0 = nn.Sequential(*self.base_layers[:3]) # size=(N, 64, x.H/2, x.W/2)\n",
    "    self.layer0_1x1 = convrelu(64, 64, 1, 0)\n",
    "    self.layer1 = nn.Sequential(*self.base_layers[3:5]) # size=(N, 64, x.H/4, x.W/4)\n",
    "    self.layer1_1x1 = convrelu(64, 64, 1, 0)\n",
    "    self.layer2 = self.base_layers[5]  # size=(N, 128, x.H/8, x.W/8)\n",
    "    self.layer2_1x1 = convrelu(128, 128, 1, 0)\n",
    "    self.layer3 = self.base_layers[6]  # size=(N, 256, x.H/16, x.W/16)\n",
    "    self.layer3_1x1 = convrelu(256, 256, 1, 0)\n",
    "    self.layer4 = self.base_layers[7]  # size=(N, 512, x.H/32, x.W/32)\n",
    "    self.layer4_1x1 = convrelu(512, 512, 1, 0)\n",
    "\n",
    "    self.upsample = nn.Upsample(scale_factor=2, mode='bilinear', align_corners=True)\n",
    "\n",
    "    self.conv_up3 = convrelu(256 + 512, 512, 3, 1)\n",
    "    self.conv_up2 = convrelu(128 + 512, 256, 3, 1)\n",
    "    self.conv_up1 = convrelu(64 + 256, 256, 3, 1)\n",
    "    self.conv_up0 = convrelu(64 + 256, 128, 3, 1)\n",
    "\n",
    "    self.conv_original_size0 = convrelu(13, 64, 3, 1)\n",
    "    self.conv_original_size1 = convrelu(64, 64, 3, 1)\n",
    "    self.conv_original_size2 = convrelu(64 + 128, 64, 3, 1)\n",
    "\n",
    "    # remove last convolution block\n",
    "    # self.conv_last = nn.Conv2d(64, n_class, 1)\n",
    "\n",
    "  def forward(self, input):\n",
    "    x_original = self.conv_original_size0(input)\n",
    "    x_original = self.conv_original_size1(x_original)\n",
    "\n",
    "    layer0 = self.layer0(input)\n",
    "    layer1 = self.layer1(layer0)\n",
    "    layer2 = self.layer2(layer1)\n",
    "    layer3 = self.layer3(layer2)\n",
    "    layer4 = self.layer4(layer3)\n",
    "\n",
    "    layer4 = self.layer4_1x1(layer4)\n",
    "    x = self.upsample(layer4)\n",
    "    layer3 = self.layer3_1x1(layer3)\n",
    "    # concat: skip connection to merge features from z_layer3\n",
    "    x = torch.cat([x, layer3], dim=1)\n",
    "    x = self.conv_up3(x)\n",
    "\n",
    "    x = self.upsample(x)\n",
    "    layer2 = self.layer2_1x1(layer2)\n",
    "    # concat: skip connection to merge features from z_layer2\n",
    "    x = torch.cat([x, layer2], dim=1)\n",
    "    x = self.conv_up2(x)\n",
    "\n",
    "    x = self.upsample(x)\n",
    "    layer1 = self.layer1_1x1(layer1)\n",
    "    # concat: skip connection to merge features from z_layer1\n",
    "    x = torch.cat([x, layer1], dim=1)\n",
    "    x = self.conv_up1(x)\n",
    "\n",
    "    x = self.upsample(x)\n",
    "    layer0 = self.layer0_1x1(layer0)\n",
    "    x = torch.cat([x, layer0], dim=1)\n",
    "    x = self.conv_up0(x)\n",
    "\n",
    "    x = self.upsample(x)\n",
    "    x = torch.cat([x, x_original], dim=1)\n",
    "    x = self.conv_original_size2(x)\n",
    "    \n",
    "    # remove last convolution block\n",
    "    # out = self.conv_last(x)\n",
    "\n",
    "    return x"
   ],
   "metadata": {
    "collapsed": false,
    "pycharm": {
     "name": "#%%\n"
    }
   }
  },
  {
   "cell_type": "code",
   "execution_count": null,
   "outputs": [],
   "source": [
    "class DualResNetUNet(nn.Module):\n",
    "    def __init__(self, n_classes):\n",
    "        super(DualResNetUNet, self).__init__()\n",
    "        \n",
    "        # First stream of UNet() for Sentinel 1 data (in_channels_1 = 2)\n",
    "        self.unet1 = ResNetUNet_Sentinel1(bst_encoder_sentinel1)\n",
    "        # Second stream of UNet() for Sentinel 2 data (in_channels_2 = 13)\n",
    "        self.unet2 = ResNetUNet_Sentinel2(bst_encoder)\n",
    "        \n",
    "        # Output convolution\n",
    "        self.outc = nn.Conv2d(2*64, n_classes, 1)\n",
    "\n",
    "    def forward(self, x1, x2):\n",
    "        # We process Sentinel1 input\n",
    "        x1 = self.unet1(x1)\n",
    "        # We process Sentinel2 input\n",
    "        x2 = self.unet2(x2)\n",
    "        \n",
    "        # We concatenate the two representations\n",
    "        x = torch.cat([x1, x2], dim=1)\n",
    "        \n",
    "        # We feed the fused representation to the output convolution\n",
    "        x = self.outc(x)\n",
    "        \n",
    "        return x"
   ],
   "metadata": {
    "collapsed": false,
    "pycharm": {
     "name": "#%%\n"
    }
   }
  },
  {
   "cell_type": "code",
   "execution_count": null,
   "outputs": [],
   "source": [
    "model = DualResNetUNet(1)"
   ],
   "metadata": {
    "collapsed": false,
    "pycharm": {
     "name": "#%%\n"
    }
   }
  },
  {
   "cell_type": "code",
   "execution_count": null,
   "outputs": [],
   "source": [
    "print(\"Device used: {}\".format(device))\n",
    "model = model.to(device)"
   ],
   "metadata": {
    "collapsed": false,
    "pycharm": {
     "name": "#%%\n"
    }
   }
  },
  {
   "cell_type": "code",
   "execution_count": null,
   "outputs": [],
   "source": [
    "# model"
   ],
   "metadata": {
    "collapsed": false,
    "pycharm": {
     "name": "#%%\n"
    }
   }
  },
  {
   "cell_type": "code",
   "execution_count": null,
   "outputs": [],
   "source": [
    "from torchsummary import summary\n",
    "summary(model, input_size=[(2, 256, 256),(13, 256, 256)])"
   ],
   "metadata": {
    "collapsed": false,
    "pycharm": {
     "name": "#%%\n"
    }
   }
  },
  {
   "cell_type": "code",
   "execution_count": null,
   "outputs": [],
   "source": [
    "# We will use the tqdm library to display the progress of our training. \n",
    "# from tqdm.autonotebook import tqdm\n",
    "from torchmetrics import JaccardIndex\n",
    "from tqdm import tqdm\n",
    "\n",
    "# Move the model to the GPU\n",
    "model.to(device)\n",
    "\n",
    "# Create lists for logging losses and evalualtion metrics:\n",
    "train_losses = []\n",
    "train_accs = []\n",
    "train_ious = []\n",
    "\n",
    "val_losses = []\n",
    "val_accs = []\n",
    "val_ious = []\n",
    "\n",
    "jaccard = JaccardIndex(num_classes=2).to(device)\n",
    "\n",
    "# For every epoch \n",
    "for epoch in range(4):\n",
    "    epoch_loss = 0\n",
    "    progress = tqdm(\n",
    "        enumerate(train_loader), desc=\"Train Loss: \",\n",
    "        total=len(train_loader)\n",
    "    )\n",
    "    \n",
    "    # Specify you are in training mode\n",
    "    model.train()\n",
    "    \n",
    "    epoch_train_loss = 0\n",
    "    epoch_val_loss = 0\n",
    "\n",
    "    epoch_train_ious = 0\n",
    "    epoch_val_ious = 0\n",
    "\n",
    "    epoch_train_accs = 0\n",
    "    epoch_val_accs = 0\n",
    "\n",
    "    for i, batch in progress:\n",
    "        # Transfer data to GPU if available\n",
    "        s2_data = batch[\"s2_img\"].float().to(device)\n",
    "        s1_data = batch[\"s1_img\"].float().to(device)\n",
    "        label = batch['mask'].float().to(device)\n",
    "\n",
    "        # Make a forward pass\n",
    "        # TODO: s1, s2 dimension to be consistent with contrastive pretext task\n",
    "        # currently, the size of two inputs are (3,256,256) and (3,256,256)\n",
    "        output = model(s1_data, s2_data)\n",
    "\n",
    "        # Derive binary segmentation map from prediction\n",
    "        output_binary = torch.zeros(output.shape)\n",
    "        output_binary[output >= 0] = 1\n",
    "\n",
    "        # Compute IoU\n",
    "        epoch_train_ious += jaccard(output_binary.to(device), label.int()) / len(train_loader)\n",
    "\n",
    "        # Compute pixel accuracies\n",
    "        epoch_train_accs += torch.sum(output_binary.to(device) == label.int()) / (len(train_loader) * (256*256) * 100)\n",
    "        \n",
    "        # Compute the loss\n",
    "        loss = criterion(output, label.unsqueeze(1))\n",
    "        \n",
    "        # Clear the gradients\n",
    "        optimizer.zero_grad()\n",
    "\n",
    "        # Calculate gradients \n",
    "        loss.backward()\n",
    "\n",
    "        # Update Weights\n",
    "        optimizer.step()\n",
    "        \n",
    "        # Accumulate the loss over the eopch\n",
    "        epoch_train_loss += loss / len(train_loader)\n",
    "\n",
    "        progress.set_description(\"Epoch= {}, Train Loss: {:.4f}\".format(epoch+1,\n",
    "                                     epoch_train_loss))\n",
    "\n",
    "\n",
    "    progress = tqdm(\n",
    "        enumerate(val_loader), desc=\"val Loss: \",\n",
    "        total=len(val_loader)\n",
    "    )\n",
    "    \n",
    "    # Specify you are in evaluation mode\n",
    "    model.eval()\n",
    "    \n",
    "    # Deactivate autograd engine (no backpropagation allowed)\n",
    "    with torch.no_grad():\n",
    "        epoch_val_loss = 0\n",
    "        for i, batch in progress:\n",
    "            # Transfer data to GPU if available\n",
    "            s2_data = batch[\"s2_img\"].float().to(device)\n",
    "            s1_data = batch[\"s1_img\"].float().to(device)\n",
    "            label = batch['mask'].float().to(device)\n",
    "\n",
    "            data = torch.cat([s2_data, s1_data], dim=1).to(device)\n",
    "\n",
    "            # Make a forward pass\n",
    "            output = model(s1_data, s2_data)\n",
    "\n",
    "            # Derive binary segmentation map from prediction\n",
    "            output_binary = torch.zeros(output.shape)\n",
    "            output_binary[output >= 0] = 1\n",
    "\n",
    "            # Compute IoU\n",
    "            epoch_val_ious += jaccard(output_binary.to(device), label.int()) / len(val_loader)\n",
    "\n",
    "            # Compute pixel accuracies\n",
    "            epoch_val_accs += torch.sum(output_binary.to(device) == label.int()) / (len(val_loader) * (256*256) * 100)\n",
    "            \n",
    "            # Compute the loss\n",
    "            val_loss = criterion(output, label.unsqueeze(1))\n",
    "\n",
    "            # Accumulate the loss over the epoch\n",
    "            epoch_val_loss += val_loss / len(val_loader)\n",
    "\n",
    "            progress.set_description(\"Validation Loss: {:.4f}\".format(\n",
    "                                     epoch_val_loss))\n",
    "    if epoch == 0:\n",
    "        best_val_loss = epoch_val_loss\n",
    "    else:\n",
    "        if epoch_val_loss <= best_val_loss:\n",
    "            best_val_loss = epoch_val_loss\n",
    "            # Save model\n",
    "            save_weights_path = \"./weights/segmentation_model_late_fusion.pth\"\n",
    "            torch.save(model.state_dict(), save_weights_path)\n",
    "            print('Saving Model...')\n",
    "\n",
    "    # Save losses in list, so that we can visualise them later. \n",
    "    train_losses.append(epoch_train_loss.cpu().detach().numpy())\n",
    "    val_losses.append(epoch_val_loss.cpu().detach().numpy())\n",
    "\n",
    "    # Save IoUs in list, so that we can visualise them later. \n",
    "    train_ious.append(epoch_train_ious.cpu().detach().numpy())\n",
    "    val_ious.append(epoch_val_ious.cpu().detach().numpy())\n",
    "    print(f'train_iou is {epoch_train_ious:.4f}, val_iou is {epoch_val_ious:.4f}')\n",
    "\n",
    "    # Save accuracies in list, so that we can visualise them later. \n",
    "    train_accs.append(epoch_train_accs.cpu().detach().numpy())\n",
    "    val_accs.append(epoch_val_accs.cpu().detach().numpy())\n",
    "    print(f'train_acc is {epoch_train_accs:.4f}, val_acc is {epoch_val_accs:.4f}')\n",
    "    \n",
    "    \n",
    "print('Finished Training')\n",
    "print('Saving Model...')"
   ],
   "metadata": {
    "collapsed": false,
    "pycharm": {
     "name": "#%%\n"
    }
   }
  },
  {
   "cell_type": "code",
   "execution_count": null,
   "outputs": [],
   "source": [
    "fig, axes = plt.subplots(1, 3, figsize=(15, 4))\n",
    "\n",
    "axes[0].plot(train_losses, label='train')\n",
    "axes[0].plot(val_losses, label='val')\n",
    "axes[0].set_xlabel('Epochs')\n",
    "axes[0].set_title('Losses')\n",
    "axes[0].legend()\n",
    "\n",
    "axes[1].plot(train_accs, label='train')\n",
    "axes[1].plot(val_accs, label='val')\n",
    "axes[1].set_xlabel('Epochs')\n",
    "axes[1].set_title('Pixel accuracies')\n",
    "axes[1].legend()\n",
    "\n",
    "axes[2].plot(train_ious, label='train')\n",
    "axes[2].plot(val_ious, label='val')\n",
    "axes[2].set_xlabel('Epochs')\n",
    "axes[2].set_title('IoUs')\n",
    "axes[2].legend()"
   ],
   "metadata": {
    "collapsed": false,
    "pycharm": {
     "name": "#%%\n"
    }
   }
  },
  {
   "cell_type": "code",
   "execution_count": null,
   "outputs": [],
   "source": [
    "# Initialise a UNet() model \n",
    "model = DualResNetUNet(1)\n",
    "# Load pretrained weights\n",
    "model.load_state_dict(torch.load(\"./weights/segmentation_model_late_fusion.pth\"))\n",
    "# Move to device (GPU or CPU)\n",
    "model.to(device);"
   ],
   "metadata": {
    "collapsed": false,
    "pycharm": {
     "name": "#%%\n"
    }
   }
  },
  {
   "cell_type": "code",
   "execution_count": null,
   "outputs": [],
   "source": [
    "from sklearn.metrics import confusion_matrix, accuracy_score, jaccard_score\n",
    "\n",
    "def get_metrics(true, preds):\n",
    "    matrix = confusion_matrix(true.flatten(), preds.flatten())\n",
    "    class_0, class_1 = matrix.diagonal() / matrix.sum(axis=1)\n",
    "    print('***************** Metrics *****************')\n",
    "    print('Class 0 (no water) accuracy: {:.3f}'.format(class_0))\n",
    "    print('Class 1 (water) accuracy: {:.3f}'.format(class_1))\n",
    "    print('Overall accuracy: {:.3f}'.format(accuracy_score(true.flatten(), preds.flatten())))\n",
    "    print('Equally Weighted accuracy: {:.3f}'.format(0.5 * class_0 + 0.5 * class_1))\n",
    "    print('IoU: {:.3f}'.format(jaccard_score(true.flatten(), preds.flatten())))\n",
    "    print('*******************************************')"
   ],
   "metadata": {
    "collapsed": false,
    "pycharm": {
     "name": "#%%\n"
    }
   }
  },
  {
   "cell_type": "code",
   "execution_count": null,
   "outputs": [],
   "source": [
    "def display_outputs(idx=None, multi=False):\n",
    "    # Pick a random index if none is specified\n",
    "    if not idx:\n",
    "        idx = random.randint(0, len(valset))\n",
    "    print('Validation image ID: {}'.format(idx))\n",
    "    \n",
    "    # Get Sentinel 2 and Sentinel 1 data\n",
    "    s2_data = torch.unsqueeze(valset.__getitem__(idx)['s2_img'].float().to(device), 0)\n",
    "    s1_data = torch.unsqueeze(valset.__getitem__(idx)['s1_img'].float().to(device), 0)\n",
    "    \n",
    "    # Get predictions from the model\n",
    "    if multi:\n",
    "        output = model(s1_data, s2_data)\n",
    "    else:\n",
    "        output = model(s2_data)\n",
    "    \n",
    "    # Threshold the output to generate the binary map (FYI: the threshold value \"0\" can be tuned as any other hyperparameter)\n",
    "    output_binary = torch.zeros(output.shape)\n",
    "    output_binary[output >= 0] = 1\n",
    "    \n",
    "    get_metrics(valset.__getitem__(idx)['mask'], output_binary)\n",
    "    \n",
    "    fig, axes = plt.subplots(1, 3, figsize=(15, 7))\n",
    "    axes[0].imshow(np.transpose(valset.__getitem__(idx)['s2_img'][[3, 2, 1], :, :], (1, 2, 0)) / valset.__getitem__(idx)['s2_img'][[3, 2, 1], :, :].max())\n",
    "    axes[0].set_title('True Color Sentinel-2')\n",
    "    axes[2].imshow(valset.__getitem__(idx)['mask'], cmap='Blues')\n",
    "    axes[2].set_title('Groundtruth')\n",
    "    axes[1].imshow(output_binary.squeeze(), cmap='Blues')\n",
    "    axes[1].set_title('Predicted Mask')"
   ],
   "metadata": {
    "collapsed": false,
    "pycharm": {
     "name": "#%%\n"
    }
   }
  },
  {
   "cell_type": "code",
   "execution_count": null,
   "outputs": [],
   "source": [
    "display_outputs(multi = True)"
   ],
   "metadata": {
    "collapsed": false,
    "pycharm": {
     "name": "#%%\n"
    }
   }
  },
  {
   "cell_type": "code",
   "source": [
    "def display_outputs(idx=None, multi=False):\n",
    "    # Pick a random index if none is specified\n",
    "    if not idx:\n",
    "        idx = random.randint(0, len(valset))\n",
    "    print('Validation image ID: {}'.format(idx))\n",
    "    \n",
    "    # Get Sentinel 2 and Sentinel 1 data\n",
    "    s2_data = torch.unsqueeze(valset.__getitem__(idx)['s2_img'].float().to(device), 0)\n",
    "    s1_data = torch.unsqueeze(valset.__getitem__(idx)['s1_img'].float().to(device), 0)\n",
    "    \n",
    "    # Get predictions from the model\n",
    "    if multi:\n",
    "        output = model(s1_data, s2_data)\n",
    "    else:\n",
    "        output = model(s2_data)\n",
    "    \n",
    "    # Threshold the output to generate the binary map (FYI: the threshold value \"0\" can be tuned as any other hyperparameter)\n",
    "    output_binary = torch.zeros(output.shape)\n",
    "    output_binary[output >= 0] = 1\n",
    "    \n",
    "    get_metrics(valset.__getitem__(idx)['mask'], output_binary)\n",
    "    \n",
    "    fig, axes = plt.subplots(1, 3, figsize=(15, 7))\n",
    "    axes[0].imshow(np.transpose(valset.__getitem__(idx)['s2_img'][[3, 2, 1], :, :], (1, 2, 0)) / valset.__getitem__(idx)['s2_img'][[3, 2, 1], :, :].max())\n",
    "    axes[0].set_title('True Color Sentinel-2')\n",
    "    axes[2].imshow(valset.__getitem__(idx)['mask'], cmap='Blues')\n",
    "    axes[2].set_title('Groundtruth')\n",
    "    axes[1].imshow(output_binary.squeeze(), cmap='Blues')\n",
    "    axes[1].set_title('Predicted Mask')"
   ],
   "metadata": {
    "id": "66UUdRCfB2wE"
   },
   "execution_count": 106,
   "outputs": []
  },
  {
   "cell_type": "code",
   "source": [
    "display_outputs(multi = True)"
   ],
   "metadata": {
    "colab": {
     "base_uri": "https://localhost:8080/",
     "height": 446
    },
    "id": "4f3JEJ4tB44R",
    "outputId": "c05f2b2b-95cc-4b77-a876-88c4931a1d2c"
   },
   "execution_count": 108,
   "outputs": [
    {
     "output_type": "stream",
     "name": "stdout",
     "text": [
      "Validation image ID: 140\n",
      "***************** Metrics *****************\n",
      "Class 0 (no water) accuracy: 0.059\n",
      "Class 1 (water) accuracy: 0.396\n",
      "Overall accuracy: 0.067\n",
      "Equally Weighted accuracy: 0.228\n",
      "IoU: 0.010\n",
      "*******************************************\n"
     ]
    },
    {
     "output_type": "display_data",
     "data": {
      "text/plain": [
       "<Figure size 1080x504 with 3 Axes>"
      ],
      "image/png": "[encoded data removed]"
     },
     "metadata": {
      "needs_background": "light"
     }
    }
   ]
  },
  {
   "cell_type": "code",
   "source": [],
   "metadata": {
    "id": "O6WpsHtoEIgw"
   },
   "execution_count": null,
   "outputs": []
  }
 ]
}