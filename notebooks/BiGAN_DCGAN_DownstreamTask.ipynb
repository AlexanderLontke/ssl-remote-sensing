{
  "nbformat": 4,
  "nbformat_minor": 0,
  "metadata": {
    "colab": {
      "provenance": [],
      "collapsed_sections": [],
      "authorship_tag": "ABX9TyNMWY7UQh9ZagmIFp8ST/yK",
      "include_colab_link": true
    },
    "kernelspec": {
      "name": "python3",
      "display_name": "Python 3"
    },
    "language_info": {
      "name": "python"
    },
    "accelerator": "GPU",
    "gpuClass": "standard"
  },
  "cells": [
    {
      "cell_type": "markdown",
      "metadata": {
        "id": "view-in-github",
        "colab_type": "text"
      },
      "source": [
        "<a href=\"https://colab.research.google.com/github/AlexanderLontke/ssl-remote-sensing/blob/main/notebooks/BiGAN_DCGAN_DownstreamTask.ipynb\" target=\"_parent\"><img src=\"https://colab.research.google.com/assets/colab-badge.svg\" alt=\"Open In Colab\"/></a>"
      ]
    },
    {
      "cell_type": "markdown",
      "source": [
        "# GAN Implementation Remote Sensing"
      ],
      "metadata": {
        "id": "OUFTlSkiXFbw"
      }
    },
    {
      "cell_type": "markdown",
      "source": [
        "## Import necessary packages"
      ],
      "metadata": {
        "id": "UZR3Bk_fXN6x"
      }
    },
    {
      "cell_type": "code",
      "source": [
        "!pip install lightning-bolts"
      ],
      "metadata": {
        "colab": {
          "base_uri": "https://localhost:8080/"
        },
        "id": "TaLT1SVkRd8F",
        "outputId": "bddc4bf5-79b2-41a9-d654-47c2f40ae546"
      },
      "execution_count": 1,
      "outputs": [
        {
          "output_type": "stream",
          "name": "stdout",
          "text": [
            "Looking in indexes: https://pypi.org/simple, https://us-python.pkg.dev/colab-wheels/public/simple/\n",
            "Requirement already satisfied: lightning-bolts in /usr/local/lib/python3.7/dist-packages (0.6.0)\n",
            "Requirement already satisfied: pytorch-lightning>=1.7.0 in /usr/local/lib/python3.7/dist-packages (from lightning-bolts) (1.7.7)\n",
            "Requirement already satisfied: lightning-utilities<0.5.0,>0.4.0 in /usr/local/lib/python3.7/dist-packages (from lightning-bolts) (0.4.1)\n",
            "Requirement already satisfied: importlib-metadata>=4.0.0 in /usr/local/lib/python3.7/dist-packages (from lightning-utilities<0.5.0,>0.4.0->lightning-bolts) (4.13.0)\n",
            "Requirement already satisfied: typing-extensions>=3.6.4 in /usr/local/lib/python3.7/dist-packages (from importlib-metadata>=4.0.0->lightning-utilities<0.5.0,>0.4.0->lightning-bolts) (4.1.1)\n",
            "Requirement already satisfied: zipp>=0.5 in /usr/local/lib/python3.7/dist-packages (from importlib-metadata>=4.0.0->lightning-utilities<0.5.0,>0.4.0->lightning-bolts) (3.10.0)\n",
            "Requirement already satisfied: tqdm>=4.57.0 in /usr/local/lib/python3.7/dist-packages (from pytorch-lightning>=1.7.0->lightning-bolts) (4.64.1)\n",
            "Requirement already satisfied: torchmetrics>=0.7.0 in /usr/local/lib/python3.7/dist-packages (from pytorch-lightning>=1.7.0->lightning-bolts) (0.10.2)\n",
            "Requirement already satisfied: pyDeprecate>=0.3.1 in /usr/local/lib/python3.7/dist-packages (from pytorch-lightning>=1.7.0->lightning-bolts) (0.3.2)\n",
            "Requirement already satisfied: tensorboard>=2.9.1 in /usr/local/lib/python3.7/dist-packages (from pytorch-lightning>=1.7.0->lightning-bolts) (2.9.1)\n",
            "Requirement already satisfied: packaging>=17.0 in /usr/local/lib/python3.7/dist-packages (from pytorch-lightning>=1.7.0->lightning-bolts) (21.3)\n",
            "Requirement already satisfied: PyYAML>=5.4 in /usr/local/lib/python3.7/dist-packages (from pytorch-lightning>=1.7.0->lightning-bolts) (6.0)\n",
            "Requirement already satisfied: fsspec[http]!=2021.06.0,>=2021.05.0 in /usr/local/lib/python3.7/dist-packages (from pytorch-lightning>=1.7.0->lightning-bolts) (2022.10.0)\n",
            "Requirement already satisfied: torch>=1.9.* in /usr/local/lib/python3.7/dist-packages (from pytorch-lightning>=1.7.0->lightning-bolts) (1.12.1+cu113)\n",
            "Requirement already satisfied: numpy>=1.17.2 in /usr/local/lib/python3.7/dist-packages (from pytorch-lightning>=1.7.0->lightning-bolts) (1.21.6)\n",
            "Requirement already satisfied: requests in /usr/local/lib/python3.7/dist-packages (from fsspec[http]!=2021.06.0,>=2021.05.0->pytorch-lightning>=1.7.0->lightning-bolts) (2.23.0)\n",
            "Requirement already satisfied: aiohttp!=4.0.0a0,!=4.0.0a1 in /usr/local/lib/python3.7/dist-packages (from fsspec[http]!=2021.06.0,>=2021.05.0->pytorch-lightning>=1.7.0->lightning-bolts) (3.8.3)\n",
            "Requirement already satisfied: charset-normalizer<3.0,>=2.0 in /usr/local/lib/python3.7/dist-packages (from aiohttp!=4.0.0a0,!=4.0.0a1->fsspec[http]!=2021.06.0,>=2021.05.0->pytorch-lightning>=1.7.0->lightning-bolts) (2.1.1)\n",
            "Requirement already satisfied: frozenlist>=1.1.1 in /usr/local/lib/python3.7/dist-packages (from aiohttp!=4.0.0a0,!=4.0.0a1->fsspec[http]!=2021.06.0,>=2021.05.0->pytorch-lightning>=1.7.0->lightning-bolts) (1.3.1)\n",
            "Requirement already satisfied: multidict<7.0,>=4.5 in /usr/local/lib/python3.7/dist-packages (from aiohttp!=4.0.0a0,!=4.0.0a1->fsspec[http]!=2021.06.0,>=2021.05.0->pytorch-lightning>=1.7.0->lightning-bolts) (6.0.2)\n",
            "Requirement already satisfied: yarl<2.0,>=1.0 in /usr/local/lib/python3.7/dist-packages (from aiohttp!=4.0.0a0,!=4.0.0a1->fsspec[http]!=2021.06.0,>=2021.05.0->pytorch-lightning>=1.7.0->lightning-bolts) (1.8.1)\n",
            "Requirement already satisfied: attrs>=17.3.0 in /usr/local/lib/python3.7/dist-packages (from aiohttp!=4.0.0a0,!=4.0.0a1->fsspec[http]!=2021.06.0,>=2021.05.0->pytorch-lightning>=1.7.0->lightning-bolts) (22.1.0)\n",
            "Requirement already satisfied: async-timeout<5.0,>=4.0.0a3 in /usr/local/lib/python3.7/dist-packages (from aiohttp!=4.0.0a0,!=4.0.0a1->fsspec[http]!=2021.06.0,>=2021.05.0->pytorch-lightning>=1.7.0->lightning-bolts) (4.0.2)\n",
            "Requirement already satisfied: aiosignal>=1.1.2 in /usr/local/lib/python3.7/dist-packages (from aiohttp!=4.0.0a0,!=4.0.0a1->fsspec[http]!=2021.06.0,>=2021.05.0->pytorch-lightning>=1.7.0->lightning-bolts) (1.2.0)\n",
            "Requirement already satisfied: asynctest==0.13.0 in /usr/local/lib/python3.7/dist-packages (from aiohttp!=4.0.0a0,!=4.0.0a1->fsspec[http]!=2021.06.0,>=2021.05.0->pytorch-lightning>=1.7.0->lightning-bolts) (0.13.0)\n",
            "Requirement already satisfied: pyparsing!=3.0.5,>=2.0.2 in /usr/local/lib/python3.7/dist-packages (from packaging>=17.0->pytorch-lightning>=1.7.0->lightning-bolts) (3.0.9)\n",
            "Requirement already satisfied: setuptools>=41.0.0 in /usr/local/lib/python3.7/dist-packages (from tensorboard>=2.9.1->pytorch-lightning>=1.7.0->lightning-bolts) (57.4.0)\n",
            "Requirement already satisfied: grpcio>=1.24.3 in /usr/local/lib/python3.7/dist-packages (from tensorboard>=2.9.1->pytorch-lightning>=1.7.0->lightning-bolts) (1.50.0)\n",
            "Requirement already satisfied: markdown>=2.6.8 in /usr/local/lib/python3.7/dist-packages (from tensorboard>=2.9.1->pytorch-lightning>=1.7.0->lightning-bolts) (3.4.1)\n",
            "Requirement already satisfied: absl-py>=0.4 in /usr/local/lib/python3.7/dist-packages (from tensorboard>=2.9.1->pytorch-lightning>=1.7.0->lightning-bolts) (1.3.0)\n",
            "Requirement already satisfied: protobuf<3.20,>=3.9.2 in /usr/local/lib/python3.7/dist-packages (from tensorboard>=2.9.1->pytorch-lightning>=1.7.0->lightning-bolts) (3.17.3)\n",
            "Requirement already satisfied: google-auth-oauthlib<0.5,>=0.4.1 in /usr/local/lib/python3.7/dist-packages (from tensorboard>=2.9.1->pytorch-lightning>=1.7.0->lightning-bolts) (0.4.6)\n",
            "Requirement already satisfied: tensorboard-plugin-wit>=1.6.0 in /usr/local/lib/python3.7/dist-packages (from tensorboard>=2.9.1->pytorch-lightning>=1.7.0->lightning-bolts) (1.8.1)\n",
            "Requirement already satisfied: wheel>=0.26 in /usr/local/lib/python3.7/dist-packages (from tensorboard>=2.9.1->pytorch-lightning>=1.7.0->lightning-bolts) (0.37.1)\n",
            "Requirement already satisfied: werkzeug>=1.0.1 in /usr/local/lib/python3.7/dist-packages (from tensorboard>=2.9.1->pytorch-lightning>=1.7.0->lightning-bolts) (1.0.1)\n",
            "Requirement already satisfied: tensorboard-data-server<0.7.0,>=0.6.0 in /usr/local/lib/python3.7/dist-packages (from tensorboard>=2.9.1->pytorch-lightning>=1.7.0->lightning-bolts) (0.6.1)\n",
            "Requirement already satisfied: google-auth<3,>=1.6.3 in /usr/local/lib/python3.7/dist-packages (from tensorboard>=2.9.1->pytorch-lightning>=1.7.0->lightning-bolts) (1.35.0)\n",
            "Requirement already satisfied: pyasn1-modules>=0.2.1 in /usr/local/lib/python3.7/dist-packages (from google-auth<3,>=1.6.3->tensorboard>=2.9.1->pytorch-lightning>=1.7.0->lightning-bolts) (0.2.8)\n",
            "Requirement already satisfied: rsa<5,>=3.1.4 in /usr/local/lib/python3.7/dist-packages (from google-auth<3,>=1.6.3->tensorboard>=2.9.1->pytorch-lightning>=1.7.0->lightning-bolts) (4.9)\n",
            "Requirement already satisfied: cachetools<5.0,>=2.0.0 in /usr/local/lib/python3.7/dist-packages (from google-auth<3,>=1.6.3->tensorboard>=2.9.1->pytorch-lightning>=1.7.0->lightning-bolts) (4.2.4)\n",
            "Requirement already satisfied: six>=1.9.0 in /usr/local/lib/python3.7/dist-packages (from google-auth<3,>=1.6.3->tensorboard>=2.9.1->pytorch-lightning>=1.7.0->lightning-bolts) (1.15.0)\n",
            "Requirement already satisfied: requests-oauthlib>=0.7.0 in /usr/local/lib/python3.7/dist-packages (from google-auth-oauthlib<0.5,>=0.4.1->tensorboard>=2.9.1->pytorch-lightning>=1.7.0->lightning-bolts) (1.3.1)\n",
            "Requirement already satisfied: pyasn1<0.5.0,>=0.4.6 in /usr/local/lib/python3.7/dist-packages (from pyasn1-modules>=0.2.1->google-auth<3,>=1.6.3->tensorboard>=2.9.1->pytorch-lightning>=1.7.0->lightning-bolts) (0.4.8)\n",
            "Requirement already satisfied: urllib3!=1.25.0,!=1.25.1,<1.26,>=1.21.1 in /usr/local/lib/python3.7/dist-packages (from requests->fsspec[http]!=2021.06.0,>=2021.05.0->pytorch-lightning>=1.7.0->lightning-bolts) (1.24.3)\n",
            "Requirement already satisfied: idna<3,>=2.5 in /usr/local/lib/python3.7/dist-packages (from requests->fsspec[http]!=2021.06.0,>=2021.05.0->pytorch-lightning>=1.7.0->lightning-bolts) (2.10)\n",
            "Requirement already satisfied: chardet<4,>=3.0.2 in /usr/local/lib/python3.7/dist-packages (from requests->fsspec[http]!=2021.06.0,>=2021.05.0->pytorch-lightning>=1.7.0->lightning-bolts) (3.0.4)\n",
            "Requirement already satisfied: certifi>=2017.4.17 in /usr/local/lib/python3.7/dist-packages (from requests->fsspec[http]!=2021.06.0,>=2021.05.0->pytorch-lightning>=1.7.0->lightning-bolts) (2022.9.24)\n",
            "Requirement already satisfied: oauthlib>=3.0.0 in /usr/local/lib/python3.7/dist-packages (from requests-oauthlib>=0.7.0->google-auth-oauthlib<0.5,>=0.4.1->tensorboard>=2.9.1->pytorch-lightning>=1.7.0->lightning-bolts) (3.2.2)\n"
          ]
        }
      ]
    },
    {
      "cell_type": "code",
      "execution_count": 2,
      "metadata": {
        "id": "Hz_3erdBWzaw",
        "colab": {
          "base_uri": "https://localhost:8080/"
        },
        "outputId": "c682e3cb-0897-418a-d4fd-f3219f132b82"
      },
      "outputs": [
        {
          "output_type": "stream",
          "name": "stderr",
          "text": [
            "/usr/local/lib/python3.7/dist-packages/pl_bolts/callbacks/data_monitor.py:20: UnderReviewWarning: The feature warn_missing_pkg is currently marked under review. The compatibility with other Lightning projects is not guaranteed and API may change at any time. The API and functionality may change without warning in future releases. More details: https://lightning-bolts.readthedocs.io/en/latest/stability.html\n",
            "  warn_missing_pkg(\"wandb\")\n",
            "/usr/local/lib/python3.7/dist-packages/pl_bolts/models/self_supervised/amdim/amdim_module.py:35: UnderReviewWarning: The feature generate_power_seq is currently marked under review. The compatibility with other Lightning projects is not guaranteed and API may change at any time. The API and functionality may change without warning in future releases. More details: https://lightning-bolts.readthedocs.io/en/latest/stability.html\n",
            "  \"lr_options\": generate_power_seq(LEARNING_RATE_CIFAR, 11),\n",
            "/usr/local/lib/python3.7/dist-packages/pl_bolts/models/self_supervised/amdim/amdim_module.py:93: UnderReviewWarning: The feature FeatureMapContrastiveTask is currently marked under review. The compatibility with other Lightning projects is not guaranteed and API may change at any time. The API and functionality may change without warning in future releases. More details: https://lightning-bolts.readthedocs.io/en/latest/stability.html\n",
            "  contrastive_task: Union[FeatureMapContrastiveTask] = FeatureMapContrastiveTask(\"01, 02, 11\"),\n",
            "/usr/local/lib/python3.7/dist-packages/pl_bolts/losses/self_supervised_learning.py:234: UnderReviewWarning: The feature AmdimNCELoss is currently marked under review. The compatibility with other Lightning projects is not guaranteed and API may change at any time. The API and functionality may change without warning in future releases. More details: https://lightning-bolts.readthedocs.io/en/latest/stability.html\n",
            "  self.nce_loss = AmdimNCELoss(tclip)\n"
          ]
        }
      ],
      "source": [
        "# import standard python libraries\n",
        "import os\n",
        "import datetime as time\n",
        "from datetime import datetime\n",
        "import numpy as np\n",
        "import pickle as pkl\n",
        "import glob\n",
        "from pathlib import Path\n",
        "from math import floor\n",
        "import random\n",
        "from itertools import chain\n",
        "from typing import List, Any\n",
        "\n",
        "# import data reader, logging and transforms\n",
        "from torchvision import transforms\n",
        "from torchvision import datasets\n",
        "import torchvision\n",
        "from tqdm import tqdm\n",
        "\n",
        "# import the PyTorch deep learning library\n",
        "import torch\n",
        "import torch.nn as nn\n",
        "import torch.nn.functional as F\n",
        "import torch.optim as optim\n",
        "from torch import Tensor\n",
        "from torch.utils.data import Dataset, DataLoader, random_split, Subset, SubsetRandomSampler\n",
        "import torchvision.utils as vutils\n",
        "from torch.autograd import Variable\n",
        "from pytorch_lightning import LightningModule, Trainer\n",
        "from pytorch_lightning.callbacks import ModelCheckpoint\n",
        "from pl_bolts.callbacks import LatentDimInterpolator, TensorboardGenerativeModelImageSampler\n",
        "from sklearn.metrics import classification_report\n",
        "\n",
        "# import matplotlib and enabling notebook inline plotting:\n",
        "import matplotlib.pyplot as plt\n",
        "%matplotlib inline"
      ]
    },
    {
      "cell_type": "markdown",
      "source": [
        "Mount Google Drive Directories for data access"
      ],
      "metadata": {
        "id": "LLeVdwxiRP9x"
      }
    },
    {
      "cell_type": "code",
      "source": [
        "# import the Google Colab GDrive connector\n",
        "from google.colab import drive\n",
        "\n",
        "# mount GDrive inside the Colab notebook\n",
        "drive.mount('/content/drive')"
      ],
      "metadata": {
        "colab": {
          "base_uri": "https://localhost:8080/"
        },
        "id": "nSIjW4MYRQIb",
        "outputId": "79b9302a-9ad8-4e91-a563-71a3772a9873"
      },
      "execution_count": 3,
      "outputs": [
        {
          "output_type": "stream",
          "name": "stdout",
          "text": [
            "Drive already mounted at /content/drive; to attempt to forcibly remount, call drive.mount(\"/content/drive\", force_remount=True).\n"
          ]
        }
      ]
    },
    {
      "cell_type": "code",
      "source": [
        "# create Colab Notebooks directory\n",
        "notebook_directory = Path('/content/drive/MyDrive/Projects/DeepLearning')\n",
        "if not os.path.exists(notebook_directory): os.makedirs(notebook_directory)\n",
        "\n",
        "# create data sub-directory inside the Colab Notebooks directory\n",
        "data_directory = Path('/content/drive/MyDrive/Projects/DeepLearning/data')\n",
        "if not os.path.exists(data_directory): os.makedirs(data_directory)\n",
        "\n",
        "# create models sub-directory inside the Colab Notebooks directory\n",
        "models_directory = Path('/content/drive/MyDrive/Projects/DeepLearning/models')\n",
        "if not os.path.exists(models_directory): os.makedirs(models_directory)\n",
        "\n",
        "# checkpoint directory\n",
        "chkpt_directory = Path('/content/drive/MyDrive/Projects/DeepLearning/checkpoints')\n",
        "if not os.path.exists(chkpt_directory): os.makedirs(chkpt_directory)"
      ],
      "metadata": {
        "id": "S65evWlYSgdL"
      },
      "execution_count": 4,
      "outputs": []
    },
    {
      "cell_type": "markdown",
      "source": [
        "## Helper Functions"
      ],
      "metadata": {
        "id": "xONKWBsXQuc6"
      }
    },
    {
      "cell_type": "code",
      "source": [
        "device = torch.device('cuda' if torch.cuda.is_available() else 'cpu').type\n",
        "\n",
        "print('[LOG] notebook with {} computation enabled'.format(str(device)))"
      ],
      "metadata": {
        "colab": {
          "base_uri": "https://localhost:8080/"
        },
        "id": "eADzr_OdYuxV",
        "outputId": "90027559-2459-41ea-ca8c-7e7ba15e1185"
      },
      "execution_count": 5,
      "outputs": [
        {
          "output_type": "stream",
          "name": "stdout",
          "text": [
            "[LOG] notebook with cuda computation enabled\n"
          ]
        }
      ]
    },
    {
      "cell_type": "code",
      "source": [
        "SEED = 1234\n",
        "torch.manual_seed(SEED)\n",
        "torch.backends.cudnn.deterministic = True\n",
        "torch.backends.cudnn.benchmark = False\n",
        "np.random.seed(SEED)\n",
        "if device == \"cuda\":\n",
        "  torch.cuda.manual_seed(SEED)"
      ],
      "metadata": {
        "id": "ALzPxM3VQtr4"
      },
      "execution_count": 6,
      "outputs": []
    },
    {
      "cell_type": "markdown",
      "source": [
        "## Dataset Loading"
      ],
      "metadata": {
        "id": "JWGPA8uGVeSM"
      }
    },
    {
      "cell_type": "code",
      "source": [
        "IMAGE_SIZE = 64\n",
        "transformer_train = transforms.Compose([\n",
        "                               transforms.ToTensor(),\n",
        "                               #transforms.Resize(IMAGE_SIZE),\n",
        "                               #transforms.CenterCrop(IMAGE_SIZE),\n",
        "                               #transforms.Normalize([87.81586935763889, 96.97416420717593, 103.98142336697049], [51.67849701591506, 34.908630837585186, 29.465280593587384]),\n",
        "                           ])\n",
        "\n",
        "transformer_test = transforms.Compose([\n",
        "                               transforms.ToTensor(),\n",
        "                               #transforms.Resize(IMAGE_SIZE),\n",
        "                               #transforms.CenterCrop(IMAGE_SIZE),\n",
        "                               #transforms.Normalize([87.81586935763889, 96.97416420717593, 103.98142336697049], [51.67849701591506, 34.908630837585186, 29.465280593587384]),\n",
        "                           ])"
      ],
      "metadata": {
        "id": "tA63VC-7Sihv"
      },
      "execution_count": 7,
      "outputs": []
    },
    {
      "cell_type": "code",
      "source": [
        "torchvision_eurosat_dir = data_directory.joinpath(\"eurosat\")\n",
        "data = datasets.EuroSAT(root = torchvision_eurosat_dir, transform = transformer_train, download = True)"
      ],
      "metadata": {
        "id": "E5unLIWdl5Pd"
      },
      "execution_count": 8,
      "outputs": []
    },
    {
      "cell_type": "code",
      "source": [
        "# create indices\n",
        "dataset_size = len(data)\n",
        "indices = list(range(dataset_size))\n",
        "test_split_ratio = 0.2\n",
        "split = int(np.floor(test_split_ratio * dataset_size))\n",
        "\n",
        "# Shuffle & split\n",
        "np.random.seed(SEED)\n",
        "np.random.shuffle(indices)\n",
        "train_indices, test_indices = indices[split:], indices[:split]\n",
        "\n",
        "# create indices for dataloaders\n",
        "train_sampler = SubsetRandomSampler(train_indices)\n",
        "test_sampler = SubsetRandomSampler(test_indices)\n"
      ],
      "metadata": {
        "id": "lFqKhrooSqYh"
      },
      "execution_count": 9,
      "outputs": []
    },
    {
      "cell_type": "code",
      "source": [
        "BATCH_SIZE = 700\n",
        "\n",
        "train_dataloader = DataLoader(\n",
        "    dataset = data,\n",
        "    batch_size = BATCH_SIZE,\n",
        "    sampler = train_sampler,\n",
        ")\n",
        "\n",
        "test_dataloader = DataLoader(\n",
        "    dataset = data,\n",
        "    batch_size = BATCH_SIZE,\n",
        "    sampler = test_sampler,\n",
        ")"
      ],
      "metadata": {
        "id": "d9pY2bURTX09"
      },
      "execution_count": 10,
      "outputs": []
    },
    {
      "cell_type": "code",
      "source": [
        "# Number of channels in the training images. For color images this is 3\n",
        "nc = 3\n",
        "\n",
        "# Size of z latent vector (i.e. size of generator input)\n",
        "nz = 100\n",
        "\n",
        "# Size of feature maps in generator\n",
        "ngf = 64\n",
        "\n",
        "# Size of feature maps in discriminator\n",
        "ndf = 64\n",
        "\n",
        "# Number of GPUs available. Use 0 for CPU mode.\n",
        "ngpu = 1"
      ],
      "metadata": {
        "id": "s0HnGKZ3o4EQ"
      },
      "execution_count": 11,
      "outputs": []
    },
    {
      "cell_type": "code",
      "source": [
        "class Generator(nn.Module):\n",
        "  def __init__(self, latent_dim: int, feature_maps: int, image_channels: int) -> None:\n",
        "    super().__init__()\n",
        "\n",
        "    self.gen = nn.Sequential(\n",
        "        self._make_gen_block(latent_dim, feature_maps * 8, kernel_size = 4, stride = 1, padding = 0),\n",
        "        self._make_gen_block(feature_maps * 8, feature_maps * 4),\n",
        "        self._make_gen_block(feature_maps * 4, feature_maps * 2),\n",
        "        self._make_gen_block(feature_maps * 2, feature_maps),\n",
        "        self._make_gen_block(feature_maps, image_channels, last_block=True),\n",
        "    )\n",
        "\n",
        "  @staticmethod\n",
        "  def _make_gen_block(\n",
        "      in_channels: int,\n",
        "      out_channels: int,\n",
        "      kernel_size: int = 4,\n",
        "      stride: int = 2,\n",
        "      padding: int = 1,\n",
        "      bias: bool = False,\n",
        "      last_block: bool = False,\n",
        "  ) -> nn.Sequential:\n",
        "    if not last_block:\n",
        "      gen_block = nn.Sequential(\n",
        "          nn.ConvTranspose2d(in_channels, out_channels, kernel_size, stride, padding, bias=bias),\n",
        "          nn.BatchNorm2d(out_channels),\n",
        "          nn.ReLU(True),\n",
        "      )\n",
        "    else:\n",
        "      gen_block = nn.Sequential(\n",
        "          nn.ConvTranspose2d(in_channels, out_channels, kernel_size, stride, padding, bias=bias),\n",
        "          nn.Tanh(),\n",
        "      )\n",
        "    \n",
        "    return gen_block\n",
        "\n",
        "  def forward(self, noise: Tensor) -> Tensor:\n",
        "    return self.gen(noise)"
      ],
      "metadata": {
        "id": "V2IghmgVeo-O"
      },
      "execution_count": 12,
      "outputs": []
    },
    {
      "cell_type": "code",
      "source": [
        "class Discriminator(nn.Module):\n",
        "  def __init__(self, latent_dim: int, feature_maps: int, image_channels: int) -> None:\n",
        "    super().__init__()\n",
        "\n",
        "    self.disc_x = nn.Sequential(\n",
        "        self._make_disc_block(image_channels, feature_maps, batch_norm=False),\n",
        "        self._make_disc_block(feature_maps, feature_maps * 2),\n",
        "        self._make_disc_block(feature_maps * 2, feature_maps * 4),\n",
        "        self._make_disc_block(feature_maps * 4, feature_maps * 8),\n",
        "        self._make_disc_block(feature_maps * 8, feature_maps * 8, kernel_size = 4, stride = 1, padding = 0, last_block = True),\n",
        "    )\n",
        "\n",
        "    self.disc_z = nn.Sequential(\n",
        "        nn.Conv2d(latent_dim, feature_maps * 8, kernel_size = 1, stride = 1, bias=False),\n",
        "        nn.LeakyReLU(negative_slope=0.1, inplace=True), \n",
        "        nn.Dropout2d(0.2),\n",
        "        nn.Conv2d(feature_maps * 8, feature_maps * 8, kernel_size = 1, stride = 1, bias=False),\n",
        "        nn.LeakyReLU(negative_slope=0.1, inplace=True), \n",
        "        nn.Dropout2d(0.2),\n",
        "    )\n",
        "\n",
        "    self.disc_joint = nn.Sequential(\n",
        "        nn.Conv2d(feature_maps * 16, feature_maps * 16, kernel_size = 1, stride = 1, bias=False),\n",
        "        nn.LeakyReLU(negative_slope=0.1, inplace=True), \n",
        "        nn.Dropout(0.2),\n",
        "        nn.Conv2d(feature_maps * 16, feature_maps * 16, kernel_size = 1, stride = 1, bias=False),\n",
        "        nn.LeakyReLU(negative_slope=0.1, inplace=True), \n",
        "        nn.Dropout2d(0.2),\n",
        "        nn.Conv2d(feature_maps * 16, 1, kernel_size = 1, stride = 1, bias=False)\n",
        "    )\n",
        "\n",
        "  @staticmethod\n",
        "  def _make_disc_block(\n",
        "      in_channels: int,\n",
        "      out_channels: int, \n",
        "      kernel_size: int = 4,\n",
        "      stride: int = 2,\n",
        "      padding: int = 1,\n",
        "      bias: bool = False,\n",
        "      batch_norm: bool = True,\n",
        "      last_block: bool = False,\n",
        "  ) -> nn.Sequential:\n",
        "    if not last_block:\n",
        "      disc_block = nn.Sequential(\n",
        "          nn.Conv2d(in_channels, out_channels, kernel_size, stride, padding, bias=bias),\n",
        "          nn.BatchNorm2d(out_channels) if batch_norm else nn.Identity(),\n",
        "          nn.LeakyReLU(0.2, inplace=True),\n",
        "      )\n",
        "    else:\n",
        "      disc_block = nn.Sequential(\n",
        "          nn.Conv2d(in_channels, out_channels, kernel_size, stride, padding, bias=bias),\n",
        "      )\n",
        "    \n",
        "    return disc_block\n",
        "    \n",
        "  def forward(self, x: Tensor, z: Tensor) -> Tensor:\n",
        "    x = self.disc_x(x)\n",
        "    z = self.disc_z(z)\n",
        "    joint = torch.cat((x,z), dim=1)\n",
        "    out = self.disc_joint(joint)\n",
        "    return torch.sigmoid(out)"
      ],
      "metadata": {
        "id": "2V44OarmsVQv"
      },
      "execution_count": 13,
      "outputs": []
    },
    {
      "cell_type": "code",
      "source": [
        "class Encoder(nn.Module):\n",
        "  def __init__(self, latent_dim: int, feature_maps: int, image_channels: int) -> None:\n",
        "    super().__init__()\n",
        "\n",
        "    self.enc = nn.Sequential(\n",
        "        self._make_enc_block(image_channels, feature_maps),\n",
        "        self._make_enc_block(feature_maps, feature_maps * 2),\n",
        "        self._make_enc_block(feature_maps * 2, feature_maps * 4),\n",
        "        self._make_enc_block(feature_maps * 4, feature_maps * 8),\n",
        "        self._make_enc_block(feature_maps * 8, latent_dim, kernel_size = 4, stride = 1, padding = 0, last_block=True),\n",
        "    )\n",
        "\n",
        "  @staticmethod\n",
        "  def _make_enc_block(\n",
        "      in_channels: int,\n",
        "      out_channels: int,\n",
        "      kernel_size: int = 4,\n",
        "      stride: int = 2,\n",
        "      padding: int = 1,\n",
        "      bias: bool = False,\n",
        "      last_block: bool = False,\n",
        "  ) -> nn.Sequential:\n",
        "    if not last_block:\n",
        "      enc_block = nn.Sequential(\n",
        "          nn.Conv2d(in_channels, out_channels, kernel_size, stride, padding, bias=bias),\n",
        "          nn.BatchNorm2d(out_channels),\n",
        "          nn.ReLU(True),\n",
        "      )\n",
        "    else:\n",
        "      enc_block = nn.Sequential(\n",
        "          nn.Conv2d(in_channels, out_channels, kernel_size, stride, padding, bias=bias),\n",
        "          nn.Tanh(),\n",
        "      )\n",
        "    \n",
        "    return enc_block\n",
        "    \n",
        "  def forward(self, x: Tensor) -> Tensor:\n",
        "    return self.enc(x)"
      ],
      "metadata": {
        "id": "RFasKhmYu7ZL"
      },
      "execution_count": 14,
      "outputs": []
    },
    {
      "cell_type": "code",
      "source": [
        "class EncoderBlock(nn.Module):\n",
        "\n",
        "    def __init__(self):\n",
        "\n",
        "        super().__init__()\n",
        "        self.conv1 = nn.Conv2d(3, 24, 5)  # in: 3x64x64 out: 60x60x24\n",
        "        self.pool = nn.MaxPool2d(2, 2)  # out: 30x30x24\n",
        "        self.conv2 = nn.Conv2d(24, 72, 5)  # out: 26x26x72\n",
        "\n",
        "    def forward(self, x):\n",
        "\n",
        "        x = self.pool(F.relu(self.conv1(x)))\n",
        "        x = self.pool(F.relu(self.conv2(x)))\n",
        "        x = torch.flatten(x, 1)\n",
        "        return x\n",
        "\n",
        "\n",
        "class FullyConnectedBlock(nn.Module):\n",
        "\n",
        "    def __init__(self, input_dim: int):\n",
        "\n",
        "        super().__init__()\n",
        "        self.fc1 = nn.Linear(input_dim, 512)  # 72 * 13 * 13\n",
        "        self.fc2 = nn.Linear(512, 124)\n",
        "        self.fc3 = nn.Linear(124, 10)\n",
        "\n",
        "    def forward(self, x):\n",
        "\n",
        "        x = F.relu(self.fc1(x))\n",
        "        x = F.relu(self.fc2(x))\n",
        "        x = self.fc3(x)\n",
        "        return x\n",
        "\n",
        "class DownstreamNet(nn.Module):\n",
        "    def __init__(self, input_dim: int, encoder = None) -> None:\n",
        "        super().__init__()\n",
        "        self.encoder = encoder if encoder else EncoderBlock()\n",
        "        self.fc = FullyConnectedBlock(input_dim = input_dim)\n",
        "\n",
        "    def forward(self, x):\n",
        "        x = self.encoder(x)\n",
        "        x = torch.flatten(x,1)\n",
        "        x = self.fc(x)\n",
        "        return x\n"
      ],
      "metadata": {
        "id": "rd3kTjlzUgZY"
      },
      "execution_count": 15,
      "outputs": []
    },
    {
      "cell_type": "markdown",
      "source": [
        "## BiGAN"
      ],
      "metadata": {
        "id": "5koqkIetxTqp"
      }
    },
    {
      "cell_type": "code",
      "source": [
        "from typing import Any"
      ],
      "metadata": {
        "id": "a9y-loIxxumU"
      },
      "execution_count": 16,
      "outputs": []
    },
    {
      "cell_type": "code",
      "source": [
        "class BIGAN(LightningModule):\n",
        "\n",
        "    def __init__(\n",
        "        self,\n",
        "        beta1: float = 0.5,\n",
        "        feature_maps_gen: int = 64,\n",
        "        feature_maps_disc: int = 64,\n",
        "        feature_maps_enc: int = 64,\n",
        "        image_channels: int = 3,\n",
        "        latent_dim: int = 100,\n",
        "        learning_rate: float = 0.0002,\n",
        "        **kwargs: Any,\n",
        "    ) -> None:\n",
        "\n",
        "        super().__init__()\n",
        "        self.beta1 = beta1\n",
        "        self.feature_maps_gen = feature_maps_gen\n",
        "        self.feature_maps_disc = feature_maps_disc\n",
        "        self.feature_maps_enc = feature_maps_enc\n",
        "        self.image_channels = image_channels\n",
        "        self.latent_dim = latent_dim\n",
        "        self.learning_rate = learning_rate\n",
        "\n",
        "        self.generator = self._get_generator()\n",
        "        self.discriminator = self._get_discriminator()\n",
        "        self.encoder = self._get_encoder()\n",
        "\n",
        "        self.criterion = nn.BCELoss()\n",
        "\n",
        "    def _get_generator(self) -> nn.Module:\n",
        "        generator = Generator(self.latent_dim, self.feature_maps_gen, self.image_channels)\n",
        "        generator.apply(self._weights_init)\n",
        "        return generator\n",
        "\n",
        "    def _get_discriminator(self) -> nn.Module:\n",
        "        discriminator = Discriminator(self.latent_dim, self.feature_maps_disc, self.image_channels)\n",
        "        discriminator.apply(self._weights_init)\n",
        "        return discriminator\n",
        "\n",
        "    def _get_encoder(self) -> nn.Module:\n",
        "        encoder = Encoder(self.latent_dim, self.feature_maps_enc, self.image_channels)\n",
        "        encoder.apply(self._weights_init)\n",
        "        return encoder\n",
        "\n",
        "    @staticmethod\n",
        "    def _weights_init(m):\n",
        "        classname = m.__class__.__name__\n",
        "        if classname.find(\"Conv\") != -1:\n",
        "            nn.init.normal_(m.weight, 0.0, 0.02)\n",
        "        elif classname.find(\"BatchNorm\") != -1:\n",
        "            nn.init.normal_(m.weight, 1.0, 0.02)\n",
        "            nn.init.zeros_(m.bias)\n",
        "\n",
        "    def configure_optimizers(self):\n",
        "        lr = self.learning_rate\n",
        "        betas = (self.beta1, 0.999)\n",
        "        opt_disc = torch.optim.Adam(self.discriminator.parameters(), lr=lr, betas=betas)\n",
        "        opt_gen_enc = torch.optim.Adam(chain(self.generator.parameters(), self.encoder.parameters()), lr=lr, betas=betas)\n",
        "        return [opt_disc, opt_gen_enc], []\n",
        "\n",
        "    def forward(self, noise: Tensor, x: Tensor):\n",
        "        \"\"\"Generates an image given input noise.\n",
        "        Example::\n",
        "            noise = torch.rand(batch_size, latent_dim)\n",
        "            gan = GAN.load_from_checkpoint(PATH)\n",
        "            img = gan(noise)\n",
        "        \"\"\"\n",
        "        z_fake = Variable(torch.randn((batch_size, self.latent_dim, 1, 1)), requires_grad=False).to(self.device)\n",
        "        x_fake = self.generator(z_fake)\n",
        "\n",
        "        x_true = x.float()\n",
        "        z_true = self.encoder(x_true)\n",
        "\n",
        "        return x_true, z_true, x_fake, z_fake, \n",
        "\n",
        "    def training_step(self, batch, batch_idx, optimizer_idx):\n",
        "        x, _ = batch\n",
        "\n",
        "        z_fake = Variable(torch.randn((batch_size, self.latent_dim, 1, 1)), requires_grad=False).to(self.device)\n",
        "        x_fake = self.generator(z_fake)\n",
        "\n",
        "        x_true = x.float()\n",
        "        z_true = self.encoder(x_true)\n",
        "\n",
        "        # Train discriminator\n",
        "        result = None\n",
        "        if optimizer_idx == 0:\n",
        "            result = self._disc_step(x_true, z_true, x_fake, z_fake)\n",
        "\n",
        "        # Train generator\n",
        "        if optimizer_idx == 1:\n",
        "            result = self._gen_enc_step(x_true, z_true, x_fake, z_fake)\n",
        "\n",
        "        return result\n",
        "\n",
        "    def _disc_step(self, x_true: Tensor, z_true: Tensor, x_fake: Tensor, z_fake: Tensor) -> Tensor:\n",
        "        disc_loss = self._get_disc_loss(x_true, z_true, x_fake, z_fake)\n",
        "        self.log(\"loss/disc\", disc_loss, on_epoch=True)\n",
        "        return disc_loss\n",
        "\n",
        "    def _gen_enc_step(self, x_true: Tensor, z_true: Tensor, x_fake: Tensor, z_fake: Tensor) -> Tensor:\n",
        "        gen_enc_loss = self._get_gen_enc_loss(x_true, z_true, x_fake, z_fake)\n",
        "        self.log(\"loss/gen_enc\", gen_enc_loss, on_epoch=True)\n",
        "        return gen_enc_loss\n",
        "\n",
        "    def _get_disc_loss(self, x_true: Tensor, z_true: Tensor, x_fake: Tensor, z_fake: Tensor) -> Tensor:\n",
        "        # Train with real\n",
        "        out_true = self.discriminator(x_true, z_true)\n",
        "        y_true = torch.ones_like(out_true)\n",
        "        real_loss = self.criterion(out_true, y_true)\n",
        "\n",
        "        # Train with fake\n",
        "        out_fake = self.discriminator(x_fake, z_fake)\n",
        "        y_fake = torch.zeros_like(out_fake)\n",
        "        fake_loss = self.criterion(out_fake, y_fake)\n",
        "\n",
        "        disc_loss = real_loss + fake_loss\n",
        "\n",
        "        return disc_loss\n",
        "\n",
        "    def _get_gen_enc_loss(self, x_true: Tensor, z_true: Tensor, x_fake: Tensor, z_fake: Tensor) -> Tensor:\n",
        "        # Train with real\n",
        "        out_true = self.discriminator(x_true, z_true)\n",
        "        y_fake = torch.zeros_like(out_true)\n",
        "        real_loss = self.criterion(out_true, y_fake)\n",
        "\n",
        "        # Train with fake\n",
        "        out_fake = self.discriminator(x_fake, z_fake)\n",
        "        y_true = torch.ones_like(out_fake)\n",
        "        fake_loss = self.criterion(out_fake, y_true)\n",
        "\n",
        "        gen_enc_loss = real_loss + fake_loss\n",
        "\n",
        "        return gen_enc_loss\n",
        "\n",
        "    def _get_noise(self, n_samples: int, latent_dim: int) -> Tensor:\n",
        "        return torch.randn(n_samples, latent_dim, device=self.device)\n",
        "\n",
        "    def on_validation_epoch_end(self):\n",
        "        z = Variable(torch.randn((5, self.latent_dim, 1, 1)), requires_grad=False)\n",
        "\n",
        "        # log sampled images\n",
        "        sample_imgs = self.generator(z)\n",
        "        grid = torchvision.utils.make_grid(sample_imgs)\n",
        "        self.logger.experiment.add_image(\"generated_images\", grid, self.current_epoch)"
      ],
      "metadata": {
        "id": "PR5-g8M7xSpK"
      },
      "execution_count": 17,
      "outputs": []
    },
    {
      "cell_type": "markdown",
      "source": [
        "## Model Training"
      ],
      "metadata": {
        "id": "Z-xDgBJZVyi9"
      }
    },
    {
      "cell_type": "code",
      "source": [
        "device = torch.device(\"cuda:0\" if torch.cuda.is_available() else \"cpu\")\n",
        "\n",
        "print(\"Device used: {}\".format(device))"
      ],
      "metadata": {
        "colab": {
          "base_uri": "https://localhost:8080/"
        },
        "id": "vOLjtPk0V3vv",
        "outputId": "74ecc7c7-485f-46af-ccbc-d82f2506fae2"
      },
      "execution_count": 18,
      "outputs": [
        {
          "output_type": "stream",
          "name": "stdout",
          "text": [
            "Device used: cuda:0\n"
          ]
        }
      ]
    },
    {
      "cell_type": "code",
      "source": [
        "n_epochs = 100 # number of training epochs"
      ],
      "metadata": {
        "id": "5AybWLjNRyFR"
      },
      "execution_count": 19,
      "outputs": []
    },
    {
      "cell_type": "code",
      "source": [
        "tv_train_dataloader = torch.utils.data.DataLoader(data, batch_size=BATCH_SIZE, shuffle=True)"
      ],
      "metadata": {
        "id": "uNF7VHM0WTPW"
      },
      "execution_count": 20,
      "outputs": []
    },
    {
      "cell_type": "code",
      "source": [
        "model = BIGAN()"
      ],
      "metadata": {
        "id": "c-pkBUKYZObI"
      },
      "execution_count": 21,
      "outputs": []
    },
    {
      "cell_type": "code",
      "source": [
        "chkpt = torch.load(chkpt_directory.joinpath(\"final_training_checkpoint_750.ckpt\"))"
      ],
      "metadata": {
        "id": "-X2PnBfPTT9P"
      },
      "execution_count": 22,
      "outputs": []
    },
    {
      "cell_type": "code",
      "source": [
        "trainer = Trainer(max_epochs = 750, accelerator='gpu', devices=1, log_every_n_steps=10, check_val_every_n_epoch=10)"
      ],
      "metadata": {
        "colab": {
          "base_uri": "https://localhost:8080/"
        },
        "id": "MiCzdbickvHe",
        "outputId": "80447453-ed88-46a7-dc08-f5abf25402b5"
      },
      "execution_count": 23,
      "outputs": [
        {
          "output_type": "stream",
          "name": "stderr",
          "text": [
            "INFO:pytorch_lightning.utilities.rank_zero:GPU available: True (cuda), used: True\n",
            "INFO:pytorch_lightning.utilities.rank_zero:TPU available: False, using: 0 TPU cores\n",
            "INFO:pytorch_lightning.utilities.rank_zero:IPU available: False, using: 0 IPUs\n",
            "INFO:pytorch_lightning.utilities.rank_zero:HPU available: False, using: 0 HPUs\n"
          ]
        }
      ]
    },
    {
      "cell_type": "code",
      "source": [
        "trainer.fit(model, tv_train_dataloader, ckpt_path=chkpt_directory.joinpath(\"final_training_checkpoint_750.ckpt\"))"
      ],
      "metadata": {
        "colab": {
          "base_uri": "https://localhost:8080/"
        },
        "id": "B6sxhMjhsaIZ",
        "outputId": "d911f0d1-ed9d-4925-daf3-3138de8ef454"
      },
      "execution_count": 24,
      "outputs": [
        {
          "output_type": "stream",
          "name": "stderr",
          "text": [
            "WARNING:pytorch_lightning.loggers.tensorboard:Missing logger folder: /content/lightning_logs\n",
            "INFO:pytorch_lightning.utilities.rank_zero:Restoring states from the checkpoint path at /content/drive/MyDrive/Projects/DeepLearning/checkpoints/final_training_checkpoint_750.ckpt\n",
            "/usr/local/lib/python3.7/dist-packages/pytorch_lightning/trainer/trainer.py:1660: UserWarning: Be aware that when using `ckpt_path`, callbacks used to create the checkpoint need to be provided during `Trainer` instantiation. Please add the following callbacks: [\"ModelCheckpoint{'monitor': None, 'mode': 'min', 'every_n_train_steps': 0, 'every_n_epochs': 10, 'train_time_interval': None, 'save_on_train_epoch_end': False}\"].\n",
            "  \"Be aware that when using `ckpt_path`,\"\n",
            "INFO:pytorch_lightning.accelerators.cuda:LOCAL_RANK: 0 - CUDA_VISIBLE_DEVICES: [0]\n",
            "INFO:pytorch_lightning.callbacks.model_summary:\n",
            "  | Name          | Type          | Params\n",
            "------------------------------------------------\n",
            "0 | generator     | Generator     | 3.6 M \n",
            "1 | discriminator | Discriminator | 9.4 M \n",
            "2 | encoder       | Encoder       | 3.6 M \n",
            "3 | criterion     | BCELoss       | 0     \n",
            "------------------------------------------------\n",
            "16.5 M    Trainable params\n",
            "0         Non-trainable params\n",
            "16.5 M    Total params\n",
            "66.066    Total estimated model params size (MB)\n",
            "INFO:pytorch_lightning.utilities.rank_zero:Restored all states from the checkpoint file at /content/drive/MyDrive/Projects/DeepLearning/checkpoints/final_training_checkpoint_750.ckpt\n",
            "INFO:pytorch_lightning.utilities.rank_zero:`Trainer.fit` stopped: `max_epochs=750` reached.\n"
          ]
        }
      ]
    },
    {
      "cell_type": "code",
      "source": [
        "n_show = 1\n",
        "model.discriminator.eval()\n",
        "model.encoder.eval()\n",
        "model.generator.eval()\n",
        "\n",
        "plt.figure(figsize=(4, 4))\n",
        "f, axarr = plt.subplots(3,1)\n",
        "\n",
        "\n",
        "with torch.no_grad():\n",
        "    real = data.__getitem__(1)[0]\n",
        "    real = real[None, :]\n",
        "    #real = real.to(device)\n",
        "    z = Variable(torch.randn((1, 100, 1, 1)), requires_grad=False)\n",
        "    #z = z.to(device)\n",
        "    gener = model.generator(z).cpu()\n",
        "    z_hat = model.encoder(real)\n",
        "    z_hat = z_hat\n",
        "\n",
        "    recon = model.generator(z_hat).cpu()\n",
        "    real = real.cpu()\n",
        "\n",
        "    axarr[0].imshow(gener[0].permute(1, 2, 0))\n",
        "    axarr[1].imshow(real[0].permute(1, 2, 0))\n",
        "    axarr[2].imshow(recon[0].permute(1, 2, 0))\n",
        "\n",
        "    plt.figure(figsize=(5,5))\n",
        "    plt.show()"
      ],
      "metadata": {
        "colab": {
          "base_uri": "https://localhost:8080/",
          "height": 304
        },
        "id": "kKnCiXGP270F",
        "outputId": "c0c94e2d-66be-45b0-c634-c48b3656597e"
      },
      "execution_count": 25,
      "outputs": [
        {
          "output_type": "display_data",
          "data": {
            "text/plain": [
              "<Figure size 288x288 with 0 Axes>"
            ]
          },
          "metadata": {}
        },
        {
          "output_type": "display_data",
          "data": {
            "text/plain": [
              "<Figure size 432x288 with 3 Axes>"
            ],
            "image/png": "[encoded data removed]"
          },
          "metadata": {
            "needs_background": "light"
          }
        },
        {
          "output_type": "display_data",
          "data": {
            "text/plain": [
              "<Figure size 360x360 with 0 Axes>"
            ]
          },
          "metadata": {}
        }
      ]
    },
    {
      "cell_type": "code",
      "source": [
        "downstream_model = DownstreamNet(input_dim = 100, encoder = model.encoder)"
      ],
      "metadata": {
        "id": "Z1kwn6sjKbl7"
      },
      "execution_count": 26,
      "outputs": []
    },
    {
      "cell_type": "code",
      "source": [
        "downstream_model.to(device)"
      ],
      "metadata": {
        "colab": {
          "base_uri": "https://localhost:8080/"
        },
        "id": "zKnuFSgYbAWR",
        "outputId": "58c28ebd-8110-4922-a1a7-bb7181611f17"
      },
      "execution_count": 27,
      "outputs": [
        {
          "output_type": "execute_result",
          "data": {
            "text/plain": [
              "DownstreamNet(\n",
              "  (encoder): Encoder(\n",
              "    (enc): Sequential(\n",
              "      (0): Sequential(\n",
              "        (0): Conv2d(3, 64, kernel_size=(4, 4), stride=(2, 2), padding=(1, 1), bias=False)\n",
              "        (1): BatchNorm2d(64, eps=1e-05, momentum=0.1, affine=True, track_running_stats=True)\n",
              "        (2): ReLU(inplace=True)\n",
              "      )\n",
              "      (1): Sequential(\n",
              "        (0): Conv2d(64, 128, kernel_size=(4, 4), stride=(2, 2), padding=(1, 1), bias=False)\n",
              "        (1): BatchNorm2d(128, eps=1e-05, momentum=0.1, affine=True, track_running_stats=True)\n",
              "        (2): ReLU(inplace=True)\n",
              "      )\n",
              "      (2): Sequential(\n",
              "        (0): Conv2d(128, 256, kernel_size=(4, 4), stride=(2, 2), padding=(1, 1), bias=False)\n",
              "        (1): BatchNorm2d(256, eps=1e-05, momentum=0.1, affine=True, track_running_stats=True)\n",
              "        (2): ReLU(inplace=True)\n",
              "      )\n",
              "      (3): Sequential(\n",
              "        (0): Conv2d(256, 512, kernel_size=(4, 4), stride=(2, 2), padding=(1, 1), bias=False)\n",
              "        (1): BatchNorm2d(512, eps=1e-05, momentum=0.1, affine=True, track_running_stats=True)\n",
              "        (2): ReLU(inplace=True)\n",
              "      )\n",
              "      (4): Sequential(\n",
              "        (0): Conv2d(512, 100, kernel_size=(4, 4), stride=(1, 1), bias=False)\n",
              "        (1): Tanh()\n",
              "      )\n",
              "    )\n",
              "  )\n",
              "  (fc): FullyConnectedBlock(\n",
              "    (fc1): Linear(in_features=100, out_features=512, bias=True)\n",
              "    (fc2): Linear(in_features=512, out_features=124, bias=True)\n",
              "    (fc3): Linear(in_features=124, out_features=10, bias=True)\n",
              "  )\n",
              ")"
            ]
          },
          "metadata": {},
          "execution_count": 27
        }
      ]
    },
    {
      "cell_type": "code",
      "source": [
        "downstream_loss_criterion = nn.CrossEntropyLoss().to(device)"
      ],
      "metadata": {
        "id": "AkUw13OGYL0_"
      },
      "execution_count": 28,
      "outputs": []
    },
    {
      "cell_type": "code",
      "source": [
        "downstream_lr = 0.001\n",
        "downstream_optim = torch.optim.Adam(downstream_model.parameters(), lr = downstream_lr)"
      ],
      "metadata": {
        "id": "sMEVuzWTYTCp"
      },
      "execution_count": 29,
      "outputs": []
    },
    {
      "cell_type": "code",
      "source": [
        "# specify the training parameters\n",
        "num_epochs = 20  # number of training epochs\n",
        "train_epoch_losses = []\n",
        "validation_epoch_losses = []\n",
        "\n",
        "\n",
        "for epoch in range(num_epochs):\n",
        "    downstream_model.train()\n",
        "    # init collection of mini-batch losses\n",
        "    train_mini_batch_losses = []\n",
        "\n",
        "    # iterate over all-mini batches\n",
        "    for i, (images, labels) in tqdm(enumerate(train_dataloader), total=len(train_dataloader)):\n",
        "\n",
        "        # push mini-batch data to computation device\n",
        "        images = images.to(device)\n",
        "        labels = labels.to(device)\n",
        "\n",
        "        # forward + backward + optimize\n",
        "        downstream_optim.zero_grad()\n",
        "        out = downstream_model(images)\n",
        "        loss = downstream_loss_criterion(out, labels)\n",
        "        loss.backward()\n",
        "        downstream_optim.step()\n",
        "\n",
        "        # collect mini-batch reconstruction loss\n",
        "        train_mini_batch_losses.append(loss.data.item())\n",
        "\n",
        "    # determine mean min-batch loss of epoch\n",
        "    train_epoch_loss = np.mean(train_mini_batch_losses)\n",
        "    train_epoch_losses.append(train_epoch_loss)\n",
        "\n",
        "    # Specify you are in evaluation mode\n",
        "    downstream_model.eval()\n",
        "    with torch.no_grad():\n",
        "        validation_mini_batch_losses = []\n",
        "        for (images, labels) in test_dataloader:\n",
        "            images = images.to(device)\n",
        "            labels = labels.to(device)\n",
        "            # calculate outputs by running images through the network\n",
        "            outputs = downstream_model(images)\n",
        "            # the class with the highest energy is what we choose as prediction\n",
        "            validation_epoch_loss = downstream_loss_criterion(outputs, labels)\n",
        "            # collect mini-batch reconstruction loss\n",
        "            validation_mini_batch_losses.append(loss.data.item())\n",
        "        validation_epoch_loss = np.mean(validation_mini_batch_losses)\n",
        "        validation_epoch_losses.append(validation_epoch_loss)\n",
        "\n",
        "    # print epoch loss\n",
        "    now = datetime.utcnow().strftime(\"%Y%m%d-%H:%M:%S\")\n",
        "    print(\n",
        "        f\"[LOG {now}] epoch: {epoch+1} train-loss: {train_epoch_loss} validation-loss: {validation_epoch_loss}\"\n",
        "    )"
      ],
      "metadata": {
        "colab": {
          "base_uri": "https://localhost:8080/"
        },
        "id": "YsGH52LsYhG4",
        "outputId": "eb0abbd4-a087-4cdb-bd39-ec61b484b55b"
      },
      "execution_count": 30,
      "outputs": [
        {
          "output_type": "stream",
          "name": "stderr",
          "text": [
            "100%|██████████| 31/31 [00:45<00:00,  1.47s/it]\n"
          ]
        },
        {
          "output_type": "stream",
          "name": "stdout",
          "text": [
            "[LOG 20221108-10:38:24] epoch: 1 train-loss: 1.519186100652141 validation-loss: 1.0366567373275757\n"
          ]
        },
        {
          "output_type": "stream",
          "name": "stderr",
          "text": [
            "100%|██████████| 31/31 [00:38<00:00,  1.25s/it]\n"
          ]
        },
        {
          "output_type": "stream",
          "name": "stdout",
          "text": [
            "[LOG 20221108-10:39:11] epoch: 2 train-loss: 0.8989384751166066 validation-loss: 0.8331553339958191\n"
          ]
        },
        {
          "output_type": "stream",
          "name": "stderr",
          "text": [
            "100%|██████████| 31/31 [00:38<00:00,  1.23s/it]\n"
          ]
        },
        {
          "output_type": "stream",
          "name": "stdout",
          "text": [
            "[LOG 20221108-10:39:58] epoch: 3 train-loss: 0.7221479185165898 validation-loss: 0.651337206363678\n"
          ]
        },
        {
          "output_type": "stream",
          "name": "stderr",
          "text": [
            "100%|██████████| 31/31 [00:38<00:00,  1.23s/it]\n"
          ]
        },
        {
          "output_type": "stream",
          "name": "stdout",
          "text": [
            "[LOG 20221108-10:40:44] epoch: 4 train-loss: 0.6283031240586312 validation-loss: 0.6479775905609131\n"
          ]
        },
        {
          "output_type": "stream",
          "name": "stderr",
          "text": [
            "100%|██████████| 31/31 [00:37<00:00,  1.22s/it]\n"
          ]
        },
        {
          "output_type": "stream",
          "name": "stdout",
          "text": [
            "[LOG 20221108-10:41:30] epoch: 5 train-loss: 0.6032253273071781 validation-loss: 0.5315765738487244\n"
          ]
        },
        {
          "output_type": "stream",
          "name": "stderr",
          "text": [
            "100%|██████████| 31/31 [00:37<00:00,  1.22s/it]\n"
          ]
        },
        {
          "output_type": "stream",
          "name": "stdout",
          "text": [
            "[LOG 20221108-10:42:16] epoch: 6 train-loss: 0.5423162983309838 validation-loss: 0.6405068635940552\n"
          ]
        },
        {
          "output_type": "stream",
          "name": "stderr",
          "text": [
            "100%|██████████| 31/31 [00:37<00:00,  1.22s/it]\n"
          ]
        },
        {
          "output_type": "stream",
          "name": "stdout",
          "text": [
            "[LOG 20221108-10:43:02] epoch: 7 train-loss: 0.5031148925904305 validation-loss: 0.4574432969093323\n"
          ]
        },
        {
          "output_type": "stream",
          "name": "stderr",
          "text": [
            "100%|██████████| 31/31 [00:37<00:00,  1.22s/it]\n"
          ]
        },
        {
          "output_type": "stream",
          "name": "stdout",
          "text": [
            "[LOG 20221108-10:43:48] epoch: 8 train-loss: 0.4826222398588734 validation-loss: 0.46587860584259033\n"
          ]
        },
        {
          "output_type": "stream",
          "name": "stderr",
          "text": [
            "100%|██████████| 31/31 [00:38<00:00,  1.23s/it]\n"
          ]
        },
        {
          "output_type": "stream",
          "name": "stdout",
          "text": [
            "[LOG 20221108-10:44:34] epoch: 9 train-loss: 0.43075431066174663 validation-loss: 0.44913071393966675\n"
          ]
        },
        {
          "output_type": "stream",
          "name": "stderr",
          "text": [
            "100%|██████████| 31/31 [00:37<00:00,  1.22s/it]\n"
          ]
        },
        {
          "output_type": "stream",
          "name": "stdout",
          "text": [
            "[LOG 20221108-10:45:20] epoch: 10 train-loss: 0.4016058416135849 validation-loss: 0.4399718642234802\n"
          ]
        },
        {
          "output_type": "stream",
          "name": "stderr",
          "text": [
            "100%|██████████| 31/31 [00:37<00:00,  1.21s/it]\n"
          ]
        },
        {
          "output_type": "stream",
          "name": "stdout",
          "text": [
            "[LOG 20221108-10:46:06] epoch: 11 train-loss: 0.3921018281290608 validation-loss: 0.47272175550460815\n"
          ]
        },
        {
          "output_type": "stream",
          "name": "stderr",
          "text": [
            "100%|██████████| 31/31 [00:37<00:00,  1.21s/it]\n"
          ]
        },
        {
          "output_type": "stream",
          "name": "stdout",
          "text": [
            "[LOG 20221108-10:46:52] epoch: 12 train-loss: 0.3638359240947231 validation-loss: 0.34459948539733887\n"
          ]
        },
        {
          "output_type": "stream",
          "name": "stderr",
          "text": [
            "100%|██████████| 31/31 [00:37<00:00,  1.21s/it]\n"
          ]
        },
        {
          "output_type": "stream",
          "name": "stdout",
          "text": [
            "[LOG 20221108-10:47:37] epoch: 13 train-loss: 0.35297184894161837 validation-loss: 0.39796698093414307\n"
          ]
        },
        {
          "output_type": "stream",
          "name": "stderr",
          "text": [
            "100%|██████████| 31/31 [00:37<00:00,  1.21s/it]\n"
          ]
        },
        {
          "output_type": "stream",
          "name": "stdout",
          "text": [
            "[LOG 20221108-10:48:23] epoch: 14 train-loss: 0.3307064098696555 validation-loss: 0.27322646975517273\n"
          ]
        },
        {
          "output_type": "stream",
          "name": "stderr",
          "text": [
            "100%|██████████| 31/31 [00:37<00:00,  1.20s/it]\n"
          ]
        },
        {
          "output_type": "stream",
          "name": "stdout",
          "text": [
            "[LOG 20221108-10:49:09] epoch: 15 train-loss: 0.29154255024848447 validation-loss: 0.28873980045318604\n"
          ]
        },
        {
          "output_type": "stream",
          "name": "stderr",
          "text": [
            "100%|██████████| 31/31 [00:37<00:00,  1.22s/it]\n"
          ]
        },
        {
          "output_type": "stream",
          "name": "stdout",
          "text": [
            "[LOG 20221108-10:49:55] epoch: 16 train-loss: 0.2663612380143135 validation-loss: 0.29056909680366516\n"
          ]
        },
        {
          "output_type": "stream",
          "name": "stderr",
          "text": [
            "100%|██████████| 31/31 [00:37<00:00,  1.21s/it]\n"
          ]
        },
        {
          "output_type": "stream",
          "name": "stdout",
          "text": [
            "[LOG 20221108-10:50:40] epoch: 17 train-loss: 0.26648313095492704 validation-loss: 0.26258546113967896\n"
          ]
        },
        {
          "output_type": "stream",
          "name": "stderr",
          "text": [
            "100%|██████████| 31/31 [00:37<00:00,  1.21s/it]\n"
          ]
        },
        {
          "output_type": "stream",
          "name": "stdout",
          "text": [
            "[LOG 20221108-10:51:26] epoch: 18 train-loss: 0.25592216368644466 validation-loss: 0.23822031915187836\n"
          ]
        },
        {
          "output_type": "stream",
          "name": "stderr",
          "text": [
            "100%|██████████| 31/31 [00:37<00:00,  1.21s/it]\n"
          ]
        },
        {
          "output_type": "stream",
          "name": "stdout",
          "text": [
            "[LOG 20221108-10:52:12] epoch: 19 train-loss: 0.24393703524143465 validation-loss: 0.19143237173557281\n"
          ]
        },
        {
          "output_type": "stream",
          "name": "stderr",
          "text": [
            "100%|██████████| 31/31 [00:37<00:00,  1.21s/it]\n"
          ]
        },
        {
          "output_type": "stream",
          "name": "stdout",
          "text": [
            "[LOG 20221108-10:52:58] epoch: 20 train-loss: 0.20512924799996038 validation-loss: 0.2570183575153351\n"
          ]
        }
      ]
    },
    {
      "cell_type": "markdown",
      "source": [
        "## Model Evaluation"
      ],
      "metadata": {
        "id": "gmVEZd7Qai6p"
      }
    },
    {
      "cell_type": "code",
      "source": [
        "def visualize_losses_during_training(\n",
        "    train_epoch_losses: List[float], validation_epoch_losses: List[float]\n",
        ") -> None:\n",
        "    \"\"\"\n",
        "    Visualizes losses gathered during training.\n",
        "    :param train_epoch_losses: List containing training loss per epoch\n",
        "    :param validation_epoch_losses: List containing validation loss per epoch\n",
        "    :return: None\n",
        "    \"\"\"\n",
        "    # prepare plot\n",
        "    fig = plt.figure()\n",
        "    ax = fig.add_subplot(111)\n",
        "\n",
        "    # add grid\n",
        "    ax.grid(linestyle=\"dotted\")\n",
        "\n",
        "    # plot the training epochs vs. the epochs' classification error\n",
        "    ax.plot(\n",
        "        np.array(range(1, len(train_epoch_losses) + 1)),\n",
        "        train_epoch_losses,\n",
        "        label=\"epoch train. loss (blue)\",\n",
        "    )\n",
        "    ax.plot(\n",
        "        np.array(range(1, len(validation_epoch_losses) + 1)),\n",
        "        validation_epoch_losses,\n",
        "        label=\"epoch val. loss (blue)\",\n",
        "    )\n",
        "    # add axis legends\n",
        "    ax.set_xlabel(\"[training epoch $e_i$]\", fontsize=10)\n",
        "    ax.set_ylabel(\"[Classification Error $\\\\mathcal{L}^{CE}$]\", fontsize=10)\n",
        "\n",
        "    # set plot legend\n",
        "    plt.legend(loc=\"upper right\", numpoints=1, fancybox=True)\n",
        "\n",
        "    # add plot title\n",
        "    plt.title(\"Training Epochs $e_i$ vs. Classification Error $L^{CE}$\", fontsize=10)"
      ],
      "metadata": {
        "id": "2IUtAc_jY5Or"
      },
      "execution_count": 31,
      "outputs": []
    },
    {
      "cell_type": "code",
      "source": [
        "visualize_losses_during_training(train_epoch_losses, validation_epoch_losses)"
      ],
      "metadata": {
        "id": "b-Y4JjScaoI2",
        "colab": {
          "base_uri": "https://localhost:8080/",
          "height": 301
        },
        "outputId": "e752cd94-47fb-4862-dca8-4fc8930e4ec0"
      },
      "execution_count": 32,
      "outputs": [
        {
          "output_type": "display_data",
          "data": {
            "text/plain": [
              "<Figure size 432x288 with 1 Axes>"
            ],
            "image/png": "[encoded data removed]"
          },
          "metadata": {
            "needs_background": "light"
          }
        }
      ]
    },
    {
      "cell_type": "code",
      "source": [
        "y_pred = []\n",
        "y_true = []\n",
        "# iterate over test data\n",
        "downstream_model.eval()\n",
        "with torch.no_grad():\n",
        "    for (images, labels) in tqdm(test_dataloader, desc=\"Predict labels\"):\n",
        "        images = images.to(device)\n",
        "\n",
        "        outputs = downstream_model(images)  # Feed Network\n",
        "        _, predicted = torch.max(outputs, 1)\n",
        "\n",
        "        y_pred.extend(predicted.cpu().numpy())  # Save Prediction\n",
        "        y_true.extend(labels.numpy())  # Save Truth"
      ],
      "metadata": {
        "id": "Hh-FJffFar9j",
        "colab": {
          "base_uri": "https://localhost:8080/"
        },
        "outputId": "5ed1866c-2ad1-4413-f854-af4a0352f793"
      },
      "execution_count": 33,
      "outputs": [
        {
          "output_type": "stream",
          "name": "stderr",
          "text": [
            "Predict labels: 100%|██████████| 8/8 [00:08<00:00,  1.04s/it]\n"
          ]
        }
      ]
    },
    {
      "cell_type": "code",
      "source": [
        "print(classification_report(y_true, y_pred))"
      ],
      "metadata": {
        "id": "bdBgHbena1ut",
        "colab": {
          "base_uri": "https://localhost:8080/"
        },
        "outputId": "14c28978-d83b-4a07-eaf3-aae91e96219e"
      },
      "execution_count": 34,
      "outputs": [
        {
          "output_type": "stream",
          "name": "stdout",
          "text": [
            "              precision    recall  f1-score   support\n",
            "\n",
            "           0       0.92      0.63      0.75       602\n",
            "           1       0.85      0.89      0.87       586\n",
            "           2       0.83      0.71      0.76       594\n",
            "           3       0.79      0.63      0.70       515\n",
            "           4       0.89      0.93      0.91       488\n",
            "           5       0.71      0.67      0.69       418\n",
            "           6       0.55      0.86      0.67       499\n",
            "           7       0.84      0.99      0.91       596\n",
            "           8       0.66      0.87      0.75       511\n",
            "           9       0.98      0.67      0.80       591\n",
            "\n",
            "    accuracy                           0.78      5400\n",
            "   macro avg       0.80      0.78      0.78      5400\n",
            "weighted avg       0.81      0.78      0.79      5400\n",
            "\n"
          ]
        }
      ]
    },
    {
      "cell_type": "code",
      "source": [],
      "metadata": {
        "id": "GLksRpd_nxG1"
      },
      "execution_count": 34,
      "outputs": []
    }
  ]
}