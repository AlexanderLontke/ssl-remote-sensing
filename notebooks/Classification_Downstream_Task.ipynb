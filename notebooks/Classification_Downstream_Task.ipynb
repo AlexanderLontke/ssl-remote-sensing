{
 "nbformat": 4,
 "nbformat_minor": 0,
 "metadata": {
  "colab": {
   "provenance": [],
   "toc_visible": true
  },
  "kernelspec": {
   "name": "python3",
   "display_name": "Python 3"
  },
  "language_info": {
   "name": "python"
  },
  "accelerator": "GPU"
 },
 "cells": [
  {
   "cell_type": "markdown",
   "source": [
    "# Classification Downstream Task "
   ],
   "metadata": {
    "id": "jg21-fZ0lbYb"
   }
  },
  {
   "cell_type": "code",
   "source": [
    "import math\n",
    "from typing import List\n",
    "from datetime import datetime\n",
    "\n",
    "import matplotlib.pyplot as plt\n",
    "\n",
    "import torch\n",
    "import numpy as np\n",
    "from torch import nn\n",
    "import torch.nn.functional as F\n",
    "import torchvision.transforms as T\n",
    "from torch import optim\n",
    "from tqdm import tqdm\n",
    "from sklearn.metrics import classification_report\n",
    "\n",
    "\n",
    "from torchvision.datasets import EuroSAT\n",
    "from torch.utils.data import DataLoader, random_split, SubsetRandomSampler, Subset"
   ],
   "metadata": {
    "id": "hhzpyIoDlFIO"
   },
   "execution_count": 18,
   "outputs": []
  },
  {
   "cell_type": "markdown",
   "source": [
    "## Neural Network Model Definition ## "
   ],
   "metadata": {
    "id": "ItM3uW_JlJy9"
   }
  },
  {
   "cell_type": "code",
   "execution_count": 2,
   "metadata": {
    "id": "Xw_sd7yXk44b"
   },
   "outputs": [],
   "source": [
    "class EncoderBlock(nn.Module):\n",
    "    \"\"\"\n",
    "    Model used for ML-Challenge\n",
    "    \"\"\"\n",
    "\n",
    "    def __init__(self):\n",
    "        \"\"\"\n",
    "        Model definition\n",
    "        \"\"\"\n",
    "        super().__init__()\n",
    "        self.conv1 = nn.Conv2d(3, 24, 5)  # in: 3x64x64 out: 60x60x24\n",
    "        self.pool = nn.MaxPool2d(2, 2)  # out: 30x30x24\n",
    "        self.conv2 = nn.Conv2d(24, 72, 5)  # out: 26x26x72\n",
    "\n",
    "    def forward(self, x):\n",
    "        \"\"\"\n",
    "        Model forward pass\n",
    "        :param x: List of image samples\n",
    "        :return:\n",
    "        \"\"\"\n",
    "        x = self.pool(F.relu(self.conv1(x)))\n",
    "        x = self.pool(F.relu(self.conv2(x)))\n",
    "        x = torch.flatten(x, 1)\n",
    "        return x\n",
    "\n",
    "\n",
    "class FullyConnectedBlock(nn.Module):\n",
    "    \"\"\"\n",
    "    Model used for ML-Challenge\n",
    "    \"\"\"\n",
    "\n",
    "    def __init__(self, input_dim: int):\n",
    "        \"\"\"\n",
    "        Model definition\n",
    "        \"\"\"\n",
    "        super().__init__()\n",
    "        self.fc1 = nn.Linear(input_dim, 512)  # 72 * 13 * 13\n",
    "        self.fc2 = nn.Linear(512, 124)\n",
    "        self.fc3 = nn.Linear(124, 10)\n",
    "\n",
    "    def forward(self, x):\n",
    "        \"\"\"\n",
    "        Model forward pass\n",
    "        :param x: List of image samples\n",
    "        :return:\n",
    "        \"\"\"\n",
    "        x = F.relu(self.fc1(x))\n",
    "        x = F.relu(self.fc2(x))\n",
    "        x = self.fc3(x)\n",
    "        return x\n",
    "\n",
    "\n",
    "class DownstreamNet(nn.Module):\n",
    "    \"\"\"\n",
    "    Model used for ML-Challenge\n",
    "    \"\"\"\n",
    "\n",
    "    def __init__(self, input_dim: int, encoder=None):\n",
    "        \"\"\"\n",
    "        Model definition\n",
    "        \"\"\"\n",
    "        super().__init__()\n",
    "        self.encoder = encoder if encoder else EncoderBlock()\n",
    "        self.fc = FullyConnectedBlock(input_dim=input_dim)\n",
    "\n",
    "    def forward(self, x):\n",
    "        \"\"\"\n",
    "        Model forward pass\n",
    "        :param x: List of image samples\n",
    "        :return:\n",
    "        \"\"\"\n",
    "        x = self.encoder(x)\n",
    "        x = self.fc(x)\n",
    "        return x"
   ]
  },
  {
   "cell_type": "markdown",
   "source": [
    "## Dataset Loading ##"
   ],
   "metadata": {
    "id": "W7eACD6JllJ3"
   }
  },
  {
   "cell_type": "code",
   "source": [
    "eurosat_ds = EuroSAT(root=\"./\", download=True, transform=T.ToTensor())\n",
    "\n",
    "# Creating data indices for training and validation splits:\n",
    "random_seed = 42\n",
    "dataset_size = len(eurosat_ds)\n",
    "indices = list(range(dataset_size))\n",
    "test_split_ratio = 0.2\n",
    "split = int(np.floor(test_split_ratio * dataset_size))\n",
    "\n",
    "# Shuffle dataset\n",
    "np.random.seed(random_seed)\n",
    "np.random.shuffle(indices)\n",
    "train_indices, test_indices = indices[split:], indices[:split]\n",
    "\n",
    "# Creating PT data samplers and loaders:\n",
    "train_sampler = SubsetRandomSampler(train_indices)\n",
    "test_sampler = SubsetRandomSampler(test_indices)"
   ],
   "metadata": {
    "id": "5BS5vVgbsTuv"
   },
   "execution_count": 9,
   "outputs": []
  },
  {
   "cell_type": "code",
   "source": [
    "train_dl = DataLoader(\n",
    "    dataset=eurosat_ds,\n",
    "    batch_size=128,\n",
    "    sampler=train_sampler,\n",
    ")\n",
    "\n",
    "test_dl = DataLoader(\n",
    "    dataset=eurosat_ds,\n",
    "    batch_size=128,\n",
    "    sampler=test_sampler,\n",
    ")"
   ],
   "metadata": {
    "id": "QXrLUKc_o8mc"
   },
   "execution_count": 10,
   "outputs": []
  },
  {
   "cell_type": "markdown",
   "source": [
    "## Model Training ##\n"
   ],
   "metadata": {
    "id": "DXO-e_p0lorb"
   }
  },
  {
   "cell_type": "code",
   "source": [
    "# First of all, let's verify if a GPU is available on our compute machine. If not, the cpu will be used instead.\n",
    "device = torch.device(\"cuda:0\" if torch.cuda.is_available() else \"cpu\")\n",
    "\n",
    "print(\"Device used: {}\".format(device))"
   ],
   "metadata": {
    "colab": {
     "base_uri": "https://localhost:8080/"
    },
    "id": "Gtw7Jz_gzt9_",
    "outputId": "481a801f-cd09-4541-bbf4-743a7bbcbea9"
   },
   "execution_count": 11,
   "outputs": [
    {
     "output_type": "stream",
     "name": "stdout",
     "text": [
      "Device used: cuda:0\n"
     ]
    }
   ]
  },
  {
   "cell_type": "code",
   "source": [
    "model = DownstreamNet(input_dim=72 * 13 * 13).to(device)\n",
    "\n",
    "# define the optimization criterion / loss function\n",
    "loss_criterion = nn.CrossEntropyLoss().to(device)\n",
    "\n",
    "# define learning rate and optimization strategy\n",
    "learning_rate = 0.001\n",
    "optimizer = torch.optim.Adam(model.parameters(), lr=learning_rate)"
   ],
   "metadata": {
    "id": "PIbwCi43lrPb"
   },
   "execution_count": 12,
   "outputs": []
  },
  {
   "cell_type": "code",
   "source": [
    "model"
   ],
   "metadata": {
    "colab": {
     "base_uri": "https://localhost:8080/"
    },
    "id": "IOM0LljJaTGs",
    "outputId": "5f373d33-13ad-4469-abbb-15cc77950062"
   },
   "execution_count": 13,
   "outputs": [
    {
     "output_type": "execute_result",
     "data": {
      "text/plain": [
       "DownstreamNet(\n",
       "  (encoder): EncoderBlock(\n",
       "    (conv1): Conv2d(3, 24, kernel_size=(5, 5), stride=(1, 1))\n",
       "    (pool): MaxPool2d(kernel_size=2, stride=2, padding=0, dilation=1, ceil_mode=False)\n",
       "    (conv2): Conv2d(24, 72, kernel_size=(5, 5), stride=(1, 1))\n",
       "  )\n",
       "  (fc): FullyConnectedBlock(\n",
       "    (fc1): Linear(in_features=12168, out_features=512, bias=True)\n",
       "    (fc2): Linear(in_features=512, out_features=124, bias=True)\n",
       "    (fc3): Linear(in_features=124, out_features=10, bias=True)\n",
       "  )\n",
       ")"
      ]
     },
     "metadata": {},
     "execution_count": 13
    }
   ]
  },
  {
   "cell_type": "code",
   "source": [
    "# specify the training parameters\n",
    "num_epochs = 10  # number of training epochs\n",
    "train_epoch_losses = []\n",
    "validation_epoch_losses = []\n",
    "\n",
    "\n",
    "for epoch in range(num_epochs):\n",
    "    model.train()\n",
    "    # init collection of mini-batch losses\n",
    "    train_mini_batch_losses = []\n",
    "\n",
    "    # iterate over all-mini batches\n",
    "    for i, (images, labels) in tqdm(enumerate(train_dl), total=len(train_dl)):\n",
    "\n",
    "        # push mini-batch data to computation device\n",
    "        images = images.to(device)\n",
    "        labels = labels.to(device)\n",
    "\n",
    "        # forward + backward + optimize\n",
    "        optimizer.zero_grad()\n",
    "        out = model(images)\n",
    "        loss = loss_criterion(out, labels)\n",
    "        loss.backward()\n",
    "        optimizer.step()\n",
    "\n",
    "        # collect mini-batch reconstruction loss\n",
    "        train_mini_batch_losses.append(loss.data.item())\n",
    "\n",
    "    # determine mean min-batch loss of epoch\n",
    "    train_epoch_loss = np.mean(train_mini_batch_losses)\n",
    "    train_epoch_losses.append(train_epoch_loss)\n",
    "\n",
    "    # Specify you are in evaluation mode\n",
    "    model.eval()\n",
    "    with torch.no_grad():\n",
    "        validation_mini_batch_losses = []\n",
    "        for (images, labels) in test_dl:\n",
    "            images = images.to(device)\n",
    "            labels = labels.to(device)\n",
    "            # calculate outputs by running images through the network\n",
    "            outputs = model(images)\n",
    "            # the class with the highest energy is what we choose as prediction\n",
    "            validation_epoch_loss = loss_criterion(outputs, labels)\n",
    "            # collect mini-batch reconstruction loss\n",
    "            validation_mini_batch_losses.append(loss.data.item())\n",
    "        validation_epoch_loss = np.mean(validation_mini_batch_losses)\n",
    "        validation_epoch_losses.append(validation_epoch_loss)\n",
    "\n",
    "    # print epoch loss\n",
    "    now = datetime.utcnow().strftime(\"%Y%m%d-%H:%M:%S\")\n",
    "    print(\n",
    "        f\"[LOG {now}] epoch: {epoch+1} train-loss: {train_epoch_loss} validation-loss: {validation_epoch_loss}\"\n",
    "    )"
   ],
   "metadata": {
    "colab": {
     "base_uri": "https://localhost:8080/"
    },
    "id": "mHL2cwPnx0uo",
    "outputId": "6024d730-a39b-4415-d7e0-3506074e760e"
   },
   "execution_count": 14,
   "outputs": [
    {
     "output_type": "stream",
     "name": "stderr",
     "text": [
      "100%|██████████| 169/169 [00:15<00:00, 11.11it/s]\n"
     ]
    },
    {
     "output_type": "stream",
     "name": "stdout",
     "text": [
      "[LOG 20221027-13:33:44] epoch: 1 train-loss: 1.480928829435766 validation-loss: 1.2402197122573853\n"
     ]
    },
    {
     "output_type": "stream",
     "name": "stderr",
     "text": [
      "100%|██████████| 169/169 [00:12<00:00, 13.25it/s]\n"
     ]
    },
    {
     "output_type": "stream",
     "name": "stdout",
     "text": [
      "[LOG 20221027-13:33:59] epoch: 2 train-loss: 1.0071332916705567 validation-loss: 0.8630091547966003\n"
     ]
    },
    {
     "output_type": "stream",
     "name": "stderr",
     "text": [
      "100%|██████████| 169/169 [00:13<00:00, 12.65it/s]\n"
     ]
    },
    {
     "output_type": "stream",
     "name": "stdout",
     "text": [
      "[LOG 20221027-13:34:14] epoch: 3 train-loss: 0.7849056743658506 validation-loss: 0.7523846626281738\n"
     ]
    },
    {
     "output_type": "stream",
     "name": "stderr",
     "text": [
      "100%|██████████| 169/169 [00:12<00:00, 13.11it/s]\n"
     ]
    },
    {
     "output_type": "stream",
     "name": "stdout",
     "text": [
      "[LOG 20221027-13:34:30] epoch: 4 train-loss: 0.6741639231083661 validation-loss: 0.7110217213630676\n"
     ]
    },
    {
     "output_type": "stream",
     "name": "stderr",
     "text": [
      "100%|██████████| 169/169 [00:13<00:00, 12.81it/s]\n"
     ]
    },
    {
     "output_type": "stream",
     "name": "stdout",
     "text": [
      "[LOG 20221027-13:34:45] epoch: 5 train-loss: 0.6494043100867751 validation-loss: 0.5024420619010925\n"
     ]
    },
    {
     "output_type": "stream",
     "name": "stderr",
     "text": [
      "100%|██████████| 169/169 [00:12<00:00, 13.26it/s]\n"
     ]
    },
    {
     "output_type": "stream",
     "name": "stdout",
     "text": [
      "[LOG 20221027-13:35:00] epoch: 6 train-loss: 0.5615866159546304 validation-loss: 0.5328946113586426\n"
     ]
    },
    {
     "output_type": "stream",
     "name": "stderr",
     "text": [
      "100%|██████████| 169/169 [00:12<00:00, 13.33it/s]\n"
     ]
    },
    {
     "output_type": "stream",
     "name": "stdout",
     "text": [
      "[LOG 20221027-13:35:16] epoch: 7 train-loss: 0.5410281814767058 validation-loss: 0.7607574462890625\n"
     ]
    },
    {
     "output_type": "stream",
     "name": "stderr",
     "text": [
      "100%|██████████| 169/169 [00:12<00:00, 13.21it/s]\n"
     ]
    },
    {
     "output_type": "stream",
     "name": "stdout",
     "text": [
      "[LOG 20221027-13:35:31] epoch: 8 train-loss: 0.479756369745943 validation-loss: 0.3574117422103882\n"
     ]
    },
    {
     "output_type": "stream",
     "name": "stderr",
     "text": [
      "100%|██████████| 169/169 [00:16<00:00, 10.32it/s]\n"
     ]
    },
    {
     "output_type": "stream",
     "name": "stdout",
     "text": [
      "[LOG 20221027-13:35:51] epoch: 9 train-loss: 0.44355890243011115 validation-loss: 0.48850345611572266\n"
     ]
    },
    {
     "output_type": "stream",
     "name": "stderr",
     "text": [
      "100%|██████████| 169/169 [00:13<00:00, 12.76it/s]\n"
     ]
    },
    {
     "output_type": "stream",
     "name": "stdout",
     "text": [
      "[LOG 20221027-13:36:07] epoch: 10 train-loss: 0.40241120023840277 validation-loss: 0.3943125307559967\n"
     ]
    }
   ]
  },
  {
   "cell_type": "markdown",
   "source": [
    "## Model Evaluation ##"
   ],
   "metadata": {
    "id": "PxJWfmsPlr1a"
   }
  },
  {
   "cell_type": "code",
   "source": [
    "def visualize_losses_during_training(\n",
    "    train_epoch_losses: List[float], validation_epoch_losses: List[float]\n",
    ") -> None:\n",
    "    \"\"\"\n",
    "    Visualizes losses gathered during training.\n",
    "    :param train_epoch_losses: List containing training loss per epoch\n",
    "    :param validation_epoch_losses: List containing validation loss per epoch\n",
    "    :return: None\n",
    "    \"\"\"\n",
    "    # prepare plot\n",
    "    fig = plt.figure()\n",
    "    ax = fig.add_subplot(111)\n",
    "\n",
    "    # add grid\n",
    "    ax.grid(linestyle=\"dotted\")\n",
    "\n",
    "    # plot the training epochs vs. the epochs' classification error\n",
    "    ax.plot(\n",
    "        np.array(range(1, len(train_epoch_losses) + 1)),\n",
    "        train_epoch_losses,\n",
    "        label=\"epoch train. loss (blue)\",\n",
    "    )\n",
    "    ax.plot(\n",
    "        np.array(range(1, len(validation_epoch_losses) + 1)),\n",
    "        validation_epoch_losses,\n",
    "        label=\"epoch val. loss (blue)\",\n",
    "    )\n",
    "    # add axis legends\n",
    "    ax.set_xlabel(\"[training epoch $e_i$]\", fontsize=10)\n",
    "    ax.set_ylabel(\"[Classification Error $\\\\mathcal{L}^{CE}$]\", fontsize=10)\n",
    "\n",
    "    # set plot legend\n",
    "    plt.legend(loc=\"upper right\", numpoints=1, fancybox=True)\n",
    "\n",
    "    # add plot title\n",
    "    plt.title(\"Training Epochs $e_i$ vs. Classification Error $L^{CE}$\", fontsize=10)"
   ],
   "metadata": {
    "id": "ljAjrRxIlvOp"
   },
   "execution_count": 15,
   "outputs": []
  },
  {
   "cell_type": "code",
   "source": [
    "visualize_losses_during_training(train_epoch_losses, validation_epoch_losses)"
   ],
   "metadata": {
    "colab": {
     "base_uri": "https://localhost:8080/",
     "height": 301
    },
    "id": "upKiTY171lkR",
    "outputId": "d65d5245-072d-44fe-9780-51c6cfb0b7f4"
   },
   "execution_count": 16,
   "outputs": [
    {
     "output_type": "display_data",
     "data": {
      "text/plain": [
       "<Figure size 432x288 with 1 Axes>"
      ],
      "image/png": "[encoded data removed]"
     },
     "metadata": {
      "needs_background": "light"
     }
    }
   ]
  },
  {
   "cell_type": "code",
   "source": [
    "y_pred = []\n",
    "y_true = []\n",
    "# iterate over test data\n",
    "model.eval()\n",
    "with torch.no_grad():\n",
    "    for (images, labels) in tqdm(test_dl, desc=\"Predict labels\"):\n",
    "        images = images.to(device)\n",
    "\n",
    "        outputs = model(images)  # Feed Network\n",
    "        _, predicted = torch.max(outputs, 1)\n",
    "\n",
    "        y_pred.extend(predicted.cpu().numpy())  # Save Prediction\n",
    "        y_true.extend(labels.numpy())  # Save Truth"
   ],
   "metadata": {
    "colab": {
     "base_uri": "https://localhost:8080/"
    },
    "id": "h4XixeAvfn8R",
    "outputId": "6f2647c0-ecfa-4f6c-9494-6c7cac3725e8"
   },
   "execution_count": 22,
   "outputs": [
    {
     "output_type": "stream",
     "name": "stderr",
     "text": [
      "Predict labels: 100%|██████████| 43/43 [00:02<00:00, 17.45it/s]\n"
     ]
    }
   ]
  },
  {
   "cell_type": "code",
   "source": [
    "print(classification_report(y_true, y_pred))"
   ],
   "metadata": {
    "colab": {
     "base_uri": "https://localhost:8080/"
    },
    "id": "r8DY4-_sqCyQ",
    "outputId": "7b73ff58-c100-40d3-c56f-2426e206a1b4"
   },
   "execution_count": 23,
   "outputs": [
    {
     "output_type": "stream",
     "name": "stdout",
     "text": [
      "              precision    recall  f1-score   support\n",
      "\n",
      "           0       0.92      0.77      0.84       595\n",
      "           1       0.84      0.92      0.88       606\n",
      "           2       0.80      0.72      0.76       602\n",
      "           3       0.69      0.56      0.62       515\n",
      "           4       0.83      0.97      0.89       493\n",
      "           5       0.75      0.75      0.75       423\n",
      "           6       0.65      0.73      0.69       473\n",
      "           7       0.91      0.96      0.93       597\n",
      "           8       0.61      0.79      0.69       490\n",
      "           9       0.98      0.78      0.87       606\n",
      "\n",
      "    accuracy                           0.80      5400\n",
      "   macro avg       0.80      0.79      0.79      5400\n",
      "weighted avg       0.81      0.80      0.80      5400\n",
      "\n"
     ]
    }
   ]
  },
  {
   "cell_type": "code",
   "source": [],
   "metadata": {
    "id": "2TmqG4RiqT0U"
   },
   "execution_count": null,
   "outputs": []
  }
 ]
}