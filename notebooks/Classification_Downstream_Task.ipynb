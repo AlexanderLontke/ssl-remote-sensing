{
 "nbformat": 4,
 "nbformat_minor": 0,
 "metadata": {
  "colab": {
   "provenance": [],
   "toc_visible": true,
   "include_colab_link": true
  },
  "kernelspec": {
   "name": "python3",
   "display_name": "Python 3"
  },
  "language_info": {
   "name": "python"
  },
  "accelerator": "GPU",
  "widgets": {
   "application/vnd.jupyter.widget-state+json": {
    "3c98ec31bcf3409db93ec99e8ff23979": {
     "model_module": "@jupyter-widgets/controls",
     "model_name": "VBoxModel",
     "model_module_version": "1.5.0",
     "state": {
      "_dom_classes": [],
      "_model_module": "@jupyter-widgets/controls",
      "_model_module_version": "1.5.0",
      "_model_name": "VBoxModel",
      "_view_count": null,
      "_view_module": "@jupyter-widgets/controls",
      "_view_module_version": "1.5.0",
      "_view_name": "VBoxView",
      "box_style": "",
      "children": [
       "IPY_MODEL_6309c16984214dfbad5e5a6410530c36",
       "IPY_MODEL_46773094a0cb4c5f9dd4502888e832fb"
      ],
      "layout": "IPY_MODEL_6c7fcee97ea245f5a1fd06627968b84c"
     }
    },
    "6309c16984214dfbad5e5a6410530c36": {
     "model_module": "@jupyter-widgets/controls",
     "model_name": "LabelModel",
     "model_module_version": "1.5.0",
     "state": {
      "_dom_classes": [],
      "_model_module": "@jupyter-widgets/controls",
      "_model_module_version": "1.5.0",
      "_model_name": "LabelModel",
      "_view_count": null,
      "_view_module": "@jupyter-widgets/controls",
      "_view_module_version": "1.5.0",
      "_view_name": "LabelView",
      "description": "",
      "description_tooltip": null,
      "layout": "IPY_MODEL_1807d69dd97e4f04a3f321ff4e279321",
      "placeholder": "​",
      "style": "IPY_MODEL_8ba80abc58364742a14bb279a3e468ff",
      "value": "0.001 MB of 0.012 MB uploaded (0.000 MB deduped)\r"
     }
    },
    "46773094a0cb4c5f9dd4502888e832fb": {
     "model_module": "@jupyter-widgets/controls",
     "model_name": "FloatProgressModel",
     "model_module_version": "1.5.0",
     "state": {
      "_dom_classes": [],
      "_model_module": "@jupyter-widgets/controls",
      "_model_module_version": "1.5.0",
      "_model_name": "FloatProgressModel",
      "_view_count": null,
      "_view_module": "@jupyter-widgets/controls",
      "_view_module_version": "1.5.0",
      "_view_name": "ProgressView",
      "bar_style": "",
      "description": "",
      "description_tooltip": null,
      "layout": "IPY_MODEL_a6d45348027c4bc7b2528ea607cca2a4",
      "max": 1,
      "min": 0,
      "orientation": "horizontal",
      "style": "IPY_MODEL_145f9bc3d1a641518faf5c93e333b6f6",
      "value": 0.06279874732157574
     }
    },
    "6c7fcee97ea245f5a1fd06627968b84c": {
     "model_module": "@jupyter-widgets/base",
     "model_name": "LayoutModel",
     "model_module_version": "1.2.0",
     "state": {
      "_model_module": "@jupyter-widgets/base",
      "_model_module_version": "1.2.0",
      "_model_name": "LayoutModel",
      "_view_count": null,
      "_view_module": "@jupyter-widgets/base",
      "_view_module_version": "1.2.0",
      "_view_name": "LayoutView",
      "align_content": null,
      "align_items": null,
      "align_self": null,
      "border": null,
      "bottom": null,
      "display": null,
      "flex": null,
      "flex_flow": null,
      "grid_area": null,
      "grid_auto_columns": null,
      "grid_auto_flow": null,
      "grid_auto_rows": null,
      "grid_column": null,
      "grid_gap": null,
      "grid_row": null,
      "grid_template_areas": null,
      "grid_template_columns": null,
      "grid_template_rows": null,
      "height": null,
      "justify_content": null,
      "justify_items": null,
      "left": null,
      "margin": null,
      "max_height": null,
      "max_width": null,
      "min_height": null,
      "min_width": null,
      "object_fit": null,
      "object_position": null,
      "order": null,
      "overflow": null,
      "overflow_x": null,
      "overflow_y": null,
      "padding": null,
      "right": null,
      "top": null,
      "visibility": null,
      "width": null
     }
    },
    "1807d69dd97e4f04a3f321ff4e279321": {
     "model_module": "@jupyter-widgets/base",
     "model_name": "LayoutModel",
     "model_module_version": "1.2.0",
     "state": {
      "_model_module": "@jupyter-widgets/base",
      "_model_module_version": "1.2.0",
      "_model_name": "LayoutModel",
      "_view_count": null,
      "_view_module": "@jupyter-widgets/base",
      "_view_module_version": "1.2.0",
      "_view_name": "LayoutView",
      "align_content": null,
      "align_items": null,
      "align_self": null,
      "border": null,
      "bottom": null,
      "display": null,
      "flex": null,
      "flex_flow": null,
      "grid_area": null,
      "grid_auto_columns": null,
      "grid_auto_flow": null,
      "grid_auto_rows": null,
      "grid_column": null,
      "grid_gap": null,
      "grid_row": null,
      "grid_template_areas": null,
      "grid_template_columns": null,
      "grid_template_rows": null,
      "height": null,
      "justify_content": null,
      "justify_items": null,
      "left": null,
      "margin": null,
      "max_height": null,
      "max_width": null,
      "min_height": null,
      "min_width": null,
      "object_fit": null,
      "object_position": null,
      "order": null,
      "overflow": null,
      "overflow_x": null,
      "overflow_y": null,
      "padding": null,
      "right": null,
      "top": null,
      "visibility": null,
      "width": null
     }
    },
    "8ba80abc58364742a14bb279a3e468ff": {
     "model_module": "@jupyter-widgets/controls",
     "model_name": "DescriptionStyleModel",
     "model_module_version": "1.5.0",
     "state": {
      "_model_module": "@jupyter-widgets/controls",
      "_model_module_version": "1.5.0",
      "_model_name": "DescriptionStyleModel",
      "_view_count": null,
      "_view_module": "@jupyter-widgets/base",
      "_view_module_version": "1.2.0",
      "_view_name": "StyleView",
      "description_width": ""
     }
    },
    "a6d45348027c4bc7b2528ea607cca2a4": {
     "model_module": "@jupyter-widgets/base",
     "model_name": "LayoutModel",
     "model_module_version": "1.2.0",
     "state": {
      "_model_module": "@jupyter-widgets/base",
      "_model_module_version": "1.2.0",
      "_model_name": "LayoutModel",
      "_view_count": null,
      "_view_module": "@jupyter-widgets/base",
      "_view_module_version": "1.2.0",
      "_view_name": "LayoutView",
      "align_content": null,
      "align_items": null,
      "align_self": null,
      "border": null,
      "bottom": null,
      "display": null,
      "flex": null,
      "flex_flow": null,
      "grid_area": null,
      "grid_auto_columns": null,
      "grid_auto_flow": null,
      "grid_auto_rows": null,
      "grid_column": null,
      "grid_gap": null,
      "grid_row": null,
      "grid_template_areas": null,
      "grid_template_columns": null,
      "grid_template_rows": null,
      "height": null,
      "justify_content": null,
      "justify_items": null,
      "left": null,
      "margin": null,
      "max_height": null,
      "max_width": null,
      "min_height": null,
      "min_width": null,
      "object_fit": null,
      "object_position": null,
      "order": null,
      "overflow": null,
      "overflow_x": null,
      "overflow_y": null,
      "padding": null,
      "right": null,
      "top": null,
      "visibility": null,
      "width": null
     }
    },
    "145f9bc3d1a641518faf5c93e333b6f6": {
     "model_module": "@jupyter-widgets/controls",
     "model_name": "ProgressStyleModel",
     "model_module_version": "1.5.0",
     "state": {
      "_model_module": "@jupyter-widgets/controls",
      "_model_module_version": "1.5.0",
      "_model_name": "ProgressStyleModel",
      "_view_count": null,
      "_view_module": "@jupyter-widgets/base",
      "_view_module_version": "1.2.0",
      "_view_name": "StyleView",
      "bar_color": null,
      "description_width": ""
     }
    }
   }
  }
 },
 "cells": [
  {
   "cell_type": "markdown",
   "metadata": {
    "id": "view-in-github",
    "colab_type": "text",
    "pycharm": {
     "name": "#%% md\n"
    }
   },
   "source": [
    "<a href=\"https://colab.research.google.com/github/AlexanderLontke/ssl-remote-sensing/blob/gan%2Fpipeline/notebooks/Classification_Downstream_Task.ipynb\" target=\"_parent\"><img src=\"https://colab.research.google.com/assets/colab-badge.svg\" alt=\"Open In Colab\"/></a>"
   ]
  },
  {
   "cell_type": "markdown",
   "source": [
    "# Classification Downstream Task "
   ],
   "metadata": {
    "id": "jg21-fZ0lbYb",
    "pycharm": {
     "name": "#%% md\n"
    }
   }
  },
  {
   "cell_type": "code",
   "source": [
    "!pip install ssl_remote_sensing@git+https://github.com/AlexanderLontke/ssl-remote-sensing.git@gan/pipeline"
   ],
   "metadata": {
    "id": "hhzpyIoDlFIO",
    "pycharm": {
     "name": "#%%\n"
    },
    "colab": {
     "base_uri": "https://localhost:8080/"
    },
    "outputId": "3fc53b2b-70af-4f2b-e1a9-42097ab7d367"
   },
   "execution_count": 1,
   "outputs": [
    {
     "output_type": "stream",
     "name": "stdout",
     "text": [
      "Looking in indexes: https://pypi.org/simple, https://us-python.pkg.dev/colab-wheels/public/simple/\n",
      "Collecting ssl_remote_sensing@ git+https://github.com/AlexanderLontke/ssl-remote-sensing.git@gan/pipeline\n",
      "  Cloning https://github.com/AlexanderLontke/ssl-remote-sensing.git (to revision gan/pipeline) to /tmp/pip-install-fx82imqt/ssl-remote-sensing_5f23d22ea442468c8cc209071be0b5d8\n",
      "  Running command git clone -q https://github.com/AlexanderLontke/ssl-remote-sensing.git /tmp/pip-install-fx82imqt/ssl-remote-sensing_5f23d22ea442468c8cc209071be0b5d8\n",
      "  Running command git checkout -b gan/pipeline --track origin/gan/pipeline\n",
      "  Switched to a new branch 'gan/pipeline'\n",
      "  Branch 'gan/pipeline' set up to track remote branch 'gan/pipeline' from 'origin'.\n",
      "  Installing build dependencies ... \u001B[?25l\u001B[?25hdone\n",
      "  Getting requirements to build wheel ... \u001B[?25l\u001B[?25hdone\n",
      "  Installing backend dependencies ... \u001B[?25l\u001B[?25hdone\n",
      "    Preparing wheel metadata ... \u001B[?25l\u001B[?25hdone\n",
      "Requirement already satisfied: scikit-learn in /usr/local/lib/python3.7/dist-packages (from ssl_remote_sensing@ git+https://github.com/AlexanderLontke/ssl-remote-sensing.git@gan/pipeline) (1.0.2)\n",
      "Requirement already satisfied: importlib-metadata in /usr/local/lib/python3.7/dist-packages (from ssl_remote_sensing@ git+https://github.com/AlexanderLontke/ssl-remote-sensing.git@gan/pipeline) (4.13.0)\n",
      "Requirement already satisfied: torchvision in /usr/local/lib/python3.7/dist-packages (from ssl_remote_sensing@ git+https://github.com/AlexanderLontke/ssl-remote-sensing.git@gan/pipeline) (0.13.1+cu113)\n",
      "Requirement already satisfied: wandb in /usr/local/lib/python3.7/dist-packages (from ssl_remote_sensing@ git+https://github.com/AlexanderLontke/ssl-remote-sensing.git@gan/pipeline) (0.13.5)\n",
      "Requirement already satisfied: rasterio in /usr/local/lib/python3.7/dist-packages (from ssl_remote_sensing@ git+https://github.com/AlexanderLontke/ssl-remote-sensing.git@gan/pipeline) (1.2.10)\n",
      "Requirement already satisfied: pytorch-lightning in /usr/local/lib/python3.7/dist-packages (from ssl_remote_sensing@ git+https://github.com/AlexanderLontke/ssl-remote-sensing.git@gan/pipeline) (1.8.2)\n",
      "Requirement already satisfied: torch in /usr/local/lib/python3.7/dist-packages (from ssl_remote_sensing@ git+https://github.com/AlexanderLontke/ssl-remote-sensing.git@gan/pipeline) (1.12.1+cu113)\n",
      "Requirement already satisfied: info-nce-pytorch in /usr/local/lib/python3.7/dist-packages (from ssl_remote_sensing@ git+https://github.com/AlexanderLontke/ssl-remote-sensing.git@gan/pipeline) (0.1.4)\n",
      "Requirement already satisfied: lightning-bolts in /usr/local/lib/python3.7/dist-packages (from ssl_remote_sensing@ git+https://github.com/AlexanderLontke/ssl-remote-sensing.git@gan/pipeline) (0.6.0.post1)\n",
      "Requirement already satisfied: typing-extensions>=3.6.4 in /usr/local/lib/python3.7/dist-packages (from importlib-metadata->ssl_remote_sensing@ git+https://github.com/AlexanderLontke/ssl-remote-sensing.git@gan/pipeline) (4.1.1)\n",
      "Requirement already satisfied: zipp>=0.5 in /usr/local/lib/python3.7/dist-packages (from importlib-metadata->ssl_remote_sensing@ git+https://github.com/AlexanderLontke/ssl-remote-sensing.git@gan/pipeline) (3.10.0)\n",
      "Requirement already satisfied: lightning-utilities!=0.4.0,>=0.3.0 in /usr/local/lib/python3.7/dist-packages (from lightning-bolts->ssl_remote_sensing@ git+https://github.com/AlexanderLontke/ssl-remote-sensing.git@gan/pipeline) (0.3.0)\n",
      "Requirement already satisfied: fire in /usr/local/lib/python3.7/dist-packages (from lightning-utilities!=0.4.0,>=0.3.0->lightning-bolts->ssl_remote_sensing@ git+https://github.com/AlexanderLontke/ssl-remote-sensing.git@gan/pipeline) (0.4.0)\n",
      "Requirement already satisfied: tqdm>=4.57.0 in /usr/local/lib/python3.7/dist-packages (from pytorch-lightning->ssl_remote_sensing@ git+https://github.com/AlexanderLontke/ssl-remote-sensing.git@gan/pipeline) (4.64.1)\n",
      "Requirement already satisfied: torchmetrics>=0.7.0 in /usr/local/lib/python3.7/dist-packages (from pytorch-lightning->ssl_remote_sensing@ git+https://github.com/AlexanderLontke/ssl-remote-sensing.git@gan/pipeline) (0.10.3)\n",
      "Requirement already satisfied: PyYAML>=5.4 in /usr/local/lib/python3.7/dist-packages (from pytorch-lightning->ssl_remote_sensing@ git+https://github.com/AlexanderLontke/ssl-remote-sensing.git@gan/pipeline) (6.0)\n",
      "Requirement already satisfied: packaging>=17.0 in /usr/local/lib/python3.7/dist-packages (from pytorch-lightning->ssl_remote_sensing@ git+https://github.com/AlexanderLontke/ssl-remote-sensing.git@gan/pipeline) (21.3)\n",
      "Requirement already satisfied: fsspec[http]>2021.06.0 in /usr/local/lib/python3.7/dist-packages (from pytorch-lightning->ssl_remote_sensing@ git+https://github.com/AlexanderLontke/ssl-remote-sensing.git@gan/pipeline) (2022.10.0)\n",
      "Requirement already satisfied: tensorboard>=2.9.1 in /usr/local/lib/python3.7/dist-packages (from pytorch-lightning->ssl_remote_sensing@ git+https://github.com/AlexanderLontke/ssl-remote-sensing.git@gan/pipeline) (2.9.1)\n",
      "Requirement already satisfied: numpy>=1.17.2 in /usr/local/lib/python3.7/dist-packages (from pytorch-lightning->ssl_remote_sensing@ git+https://github.com/AlexanderLontke/ssl-remote-sensing.git@gan/pipeline) (1.21.6)\n",
      "Requirement already satisfied: requests in /usr/local/lib/python3.7/dist-packages (from fsspec[http]>2021.06.0->pytorch-lightning->ssl_remote_sensing@ git+https://github.com/AlexanderLontke/ssl-remote-sensing.git@gan/pipeline) (2.23.0)\n",
      "Requirement already satisfied: aiohttp!=4.0.0a0,!=4.0.0a1 in /usr/local/lib/python3.7/dist-packages (from fsspec[http]>2021.06.0->pytorch-lightning->ssl_remote_sensing@ git+https://github.com/AlexanderLontke/ssl-remote-sensing.git@gan/pipeline) (3.8.3)\n",
      "Requirement already satisfied: asynctest==0.13.0 in /usr/local/lib/python3.7/dist-packages (from aiohttp!=4.0.0a0,!=4.0.0a1->fsspec[http]>2021.06.0->pytorch-lightning->ssl_remote_sensing@ git+https://github.com/AlexanderLontke/ssl-remote-sensing.git@gan/pipeline) (0.13.0)\n",
      "Requirement already satisfied: aiosignal>=1.1.2 in /usr/local/lib/python3.7/dist-packages (from aiohttp!=4.0.0a0,!=4.0.0a1->fsspec[http]>2021.06.0->pytorch-lightning->ssl_remote_sensing@ git+https://github.com/AlexanderLontke/ssl-remote-sensing.git@gan/pipeline) (1.3.1)\n",
      "Requirement already satisfied: attrs>=17.3.0 in /usr/local/lib/python3.7/dist-packages (from aiohttp!=4.0.0a0,!=4.0.0a1->fsspec[http]>2021.06.0->pytorch-lightning->ssl_remote_sensing@ git+https://github.com/AlexanderLontke/ssl-remote-sensing.git@gan/pipeline) (22.1.0)\n",
      "Requirement already satisfied: yarl<2.0,>=1.0 in /usr/local/lib/python3.7/dist-packages (from aiohttp!=4.0.0a0,!=4.0.0a1->fsspec[http]>2021.06.0->pytorch-lightning->ssl_remote_sensing@ git+https://github.com/AlexanderLontke/ssl-remote-sensing.git@gan/pipeline) (1.8.1)\n",
      "Requirement already satisfied: frozenlist>=1.1.1 in /usr/local/lib/python3.7/dist-packages (from aiohttp!=4.0.0a0,!=4.0.0a1->fsspec[http]>2021.06.0->pytorch-lightning->ssl_remote_sensing@ git+https://github.com/AlexanderLontke/ssl-remote-sensing.git@gan/pipeline) (1.3.3)\n",
      "Requirement already satisfied: charset-normalizer<3.0,>=2.0 in /usr/local/lib/python3.7/dist-packages (from aiohttp!=4.0.0a0,!=4.0.0a1->fsspec[http]>2021.06.0->pytorch-lightning->ssl_remote_sensing@ git+https://github.com/AlexanderLontke/ssl-remote-sensing.git@gan/pipeline) (2.1.1)\n",
      "Requirement already satisfied: multidict<7.0,>=4.5 in /usr/local/lib/python3.7/dist-packages (from aiohttp!=4.0.0a0,!=4.0.0a1->fsspec[http]>2021.06.0->pytorch-lightning->ssl_remote_sensing@ git+https://github.com/AlexanderLontke/ssl-remote-sensing.git@gan/pipeline) (6.0.2)\n",
      "Requirement already satisfied: async-timeout<5.0,>=4.0.0a3 in /usr/local/lib/python3.7/dist-packages (from aiohttp!=4.0.0a0,!=4.0.0a1->fsspec[http]>2021.06.0->pytorch-lightning->ssl_remote_sensing@ git+https://github.com/AlexanderLontke/ssl-remote-sensing.git@gan/pipeline) (4.0.2)\n",
      "Requirement already satisfied: pyparsing!=3.0.5,>=2.0.2 in /usr/local/lib/python3.7/dist-packages (from packaging>=17.0->pytorch-lightning->ssl_remote_sensing@ git+https://github.com/AlexanderLontke/ssl-remote-sensing.git@gan/pipeline) (3.0.9)\n",
      "Requirement already satisfied: google-auth-oauthlib<0.5,>=0.4.1 in /usr/local/lib/python3.7/dist-packages (from tensorboard>=2.9.1->pytorch-lightning->ssl_remote_sensing@ git+https://github.com/AlexanderLontke/ssl-remote-sensing.git@gan/pipeline) (0.4.6)\n",
      "Requirement already satisfied: werkzeug>=1.0.1 in /usr/local/lib/python3.7/dist-packages (from tensorboard>=2.9.1->pytorch-lightning->ssl_remote_sensing@ git+https://github.com/AlexanderLontke/ssl-remote-sensing.git@gan/pipeline) (1.0.1)\n",
      "Requirement already satisfied: tensorboard-plugin-wit>=1.6.0 in /usr/local/lib/python3.7/dist-packages (from tensorboard>=2.9.1->pytorch-lightning->ssl_remote_sensing@ git+https://github.com/AlexanderLontke/ssl-remote-sensing.git@gan/pipeline) (1.8.1)\n",
      "Requirement already satisfied: wheel>=0.26 in /usr/local/lib/python3.7/dist-packages (from tensorboard>=2.9.1->pytorch-lightning->ssl_remote_sensing@ git+https://github.com/AlexanderLontke/ssl-remote-sensing.git@gan/pipeline) (0.38.3)\n",
      "Requirement already satisfied: protobuf<3.20,>=3.9.2 in /usr/local/lib/python3.7/dist-packages (from tensorboard>=2.9.1->pytorch-lightning->ssl_remote_sensing@ git+https://github.com/AlexanderLontke/ssl-remote-sensing.git@gan/pipeline) (3.19.6)\n",
      "Requirement already satisfied: absl-py>=0.4 in /usr/local/lib/python3.7/dist-packages (from tensorboard>=2.9.1->pytorch-lightning->ssl_remote_sensing@ git+https://github.com/AlexanderLontke/ssl-remote-sensing.git@gan/pipeline) (1.3.0)\n",
      "Requirement already satisfied: tensorboard-data-server<0.7.0,>=0.6.0 in /usr/local/lib/python3.7/dist-packages (from tensorboard>=2.9.1->pytorch-lightning->ssl_remote_sensing@ git+https://github.com/AlexanderLontke/ssl-remote-sensing.git@gan/pipeline) (0.6.1)\n",
      "Requirement already satisfied: markdown>=2.6.8 in /usr/local/lib/python3.7/dist-packages (from tensorboard>=2.9.1->pytorch-lightning->ssl_remote_sensing@ git+https://github.com/AlexanderLontke/ssl-remote-sensing.git@gan/pipeline) (3.4.1)\n",
      "Requirement already satisfied: google-auth<3,>=1.6.3 in /usr/local/lib/python3.7/dist-packages (from tensorboard>=2.9.1->pytorch-lightning->ssl_remote_sensing@ git+https://github.com/AlexanderLontke/ssl-remote-sensing.git@gan/pipeline) (2.14.1)\n",
      "Requirement already satisfied: setuptools>=41.0.0 in /usr/local/lib/python3.7/dist-packages (from tensorboard>=2.9.1->pytorch-lightning->ssl_remote_sensing@ git+https://github.com/AlexanderLontke/ssl-remote-sensing.git@gan/pipeline) (57.4.0)\n",
      "Requirement already satisfied: grpcio>=1.24.3 in /usr/local/lib/python3.7/dist-packages (from tensorboard>=2.9.1->pytorch-lightning->ssl_remote_sensing@ git+https://github.com/AlexanderLontke/ssl-remote-sensing.git@gan/pipeline) (1.50.0)\n",
      "Requirement already satisfied: cachetools<6.0,>=2.0.0 in /usr/local/lib/python3.7/dist-packages (from google-auth<3,>=1.6.3->tensorboard>=2.9.1->pytorch-lightning->ssl_remote_sensing@ git+https://github.com/AlexanderLontke/ssl-remote-sensing.git@gan/pipeline) (5.2.0)\n",
      "Requirement already satisfied: six>=1.9.0 in /usr/local/lib/python3.7/dist-packages (from google-auth<3,>=1.6.3->tensorboard>=2.9.1->pytorch-lightning->ssl_remote_sensing@ git+https://github.com/AlexanderLontke/ssl-remote-sensing.git@gan/pipeline) (1.15.0)\n",
      "Requirement already satisfied: pyasn1-modules>=0.2.1 in /usr/local/lib/python3.7/dist-packages (from google-auth<3,>=1.6.3->tensorboard>=2.9.1->pytorch-lightning->ssl_remote_sensing@ git+https://github.com/AlexanderLontke/ssl-remote-sensing.git@gan/pipeline) (0.2.8)\n",
      "Requirement already satisfied: rsa<5,>=3.1.4 in /usr/local/lib/python3.7/dist-packages (from google-auth<3,>=1.6.3->tensorboard>=2.9.1->pytorch-lightning->ssl_remote_sensing@ git+https://github.com/AlexanderLontke/ssl-remote-sensing.git@gan/pipeline) (4.9)\n",
      "Requirement already satisfied: requests-oauthlib>=0.7.0 in /usr/local/lib/python3.7/dist-packages (from google-auth-oauthlib<0.5,>=0.4.1->tensorboard>=2.9.1->pytorch-lightning->ssl_remote_sensing@ git+https://github.com/AlexanderLontke/ssl-remote-sensing.git@gan/pipeline) (1.3.1)\n",
      "Requirement already satisfied: pyasn1<0.5.0,>=0.4.6 in /usr/local/lib/python3.7/dist-packages (from pyasn1-modules>=0.2.1->google-auth<3,>=1.6.3->tensorboard>=2.9.1->pytorch-lightning->ssl_remote_sensing@ git+https://github.com/AlexanderLontke/ssl-remote-sensing.git@gan/pipeline) (0.4.8)\n",
      "Requirement already satisfied: urllib3!=1.25.0,!=1.25.1,<1.26,>=1.21.1 in /usr/local/lib/python3.7/dist-packages (from requests->fsspec[http]>2021.06.0->pytorch-lightning->ssl_remote_sensing@ git+https://github.com/AlexanderLontke/ssl-remote-sensing.git@gan/pipeline) (1.24.3)\n",
      "Requirement already satisfied: certifi>=2017.4.17 in /usr/local/lib/python3.7/dist-packages (from requests->fsspec[http]>2021.06.0->pytorch-lightning->ssl_remote_sensing@ git+https://github.com/AlexanderLontke/ssl-remote-sensing.git@gan/pipeline) (2022.9.24)\n",
      "Requirement already satisfied: idna<3,>=2.5 in /usr/local/lib/python3.7/dist-packages (from requests->fsspec[http]>2021.06.0->pytorch-lightning->ssl_remote_sensing@ git+https://github.com/AlexanderLontke/ssl-remote-sensing.git@gan/pipeline) (2.10)\n",
      "Requirement already satisfied: chardet<4,>=3.0.2 in /usr/local/lib/python3.7/dist-packages (from requests->fsspec[http]>2021.06.0->pytorch-lightning->ssl_remote_sensing@ git+https://github.com/AlexanderLontke/ssl-remote-sensing.git@gan/pipeline) (3.0.4)\n",
      "Requirement already satisfied: oauthlib>=3.0.0 in /usr/local/lib/python3.7/dist-packages (from requests-oauthlib>=0.7.0->google-auth-oauthlib<0.5,>=0.4.1->tensorboard>=2.9.1->pytorch-lightning->ssl_remote_sensing@ git+https://github.com/AlexanderLontke/ssl-remote-sensing.git@gan/pipeline) (3.2.2)\n",
      "Requirement already satisfied: pillow!=8.3.*,>=5.3.0 in /usr/local/lib/python3.7/dist-packages (from torchvision->ssl_remote_sensing@ git+https://github.com/AlexanderLontke/ssl-remote-sensing.git@gan/pipeline) (7.1.2)\n",
      "Requirement already satisfied: termcolor in /usr/local/lib/python3.7/dist-packages (from fire->lightning-utilities!=0.4.0,>=0.3.0->lightning-bolts->ssl_remote_sensing@ git+https://github.com/AlexanderLontke/ssl-remote-sensing.git@gan/pipeline) (2.1.0)\n",
      "Requirement already satisfied: click>=4.0 in /usr/local/lib/python3.7/dist-packages (from rasterio->ssl_remote_sensing@ git+https://github.com/AlexanderLontke/ssl-remote-sensing.git@gan/pipeline) (7.1.2)\n",
      "Requirement already satisfied: affine in /usr/local/lib/python3.7/dist-packages (from rasterio->ssl_remote_sensing@ git+https://github.com/AlexanderLontke/ssl-remote-sensing.git@gan/pipeline) (2.3.1)\n",
      "Requirement already satisfied: click-plugins in /usr/local/lib/python3.7/dist-packages (from rasterio->ssl_remote_sensing@ git+https://github.com/AlexanderLontke/ssl-remote-sensing.git@gan/pipeline) (1.1.1)\n",
      "Requirement already satisfied: snuggs>=1.4.1 in /usr/local/lib/python3.7/dist-packages (from rasterio->ssl_remote_sensing@ git+https://github.com/AlexanderLontke/ssl-remote-sensing.git@gan/pipeline) (1.4.7)\n",
      "Requirement already satisfied: cligj>=0.5 in /usr/local/lib/python3.7/dist-packages (from rasterio->ssl_remote_sensing@ git+https://github.com/AlexanderLontke/ssl-remote-sensing.git@gan/pipeline) (0.7.2)\n",
      "Requirement already satisfied: joblib>=0.11 in /usr/local/lib/python3.7/dist-packages (from scikit-learn->ssl_remote_sensing@ git+https://github.com/AlexanderLontke/ssl-remote-sensing.git@gan/pipeline) (1.2.0)\n",
      "Requirement already satisfied: scipy>=1.1.0 in /usr/local/lib/python3.7/dist-packages (from scikit-learn->ssl_remote_sensing@ git+https://github.com/AlexanderLontke/ssl-remote-sensing.git@gan/pipeline) (1.7.3)\n",
      "Requirement already satisfied: threadpoolctl>=2.0.0 in /usr/local/lib/python3.7/dist-packages (from scikit-learn->ssl_remote_sensing@ git+https://github.com/AlexanderLontke/ssl-remote-sensing.git@gan/pipeline) (3.1.0)\n",
      "Requirement already satisfied: docker-pycreds>=0.4.0 in /usr/local/lib/python3.7/dist-packages (from wandb->ssl_remote_sensing@ git+https://github.com/AlexanderLontke/ssl-remote-sensing.git@gan/pipeline) (0.4.0)\n",
      "Requirement already satisfied: sentry-sdk>=1.0.0 in /usr/local/lib/python3.7/dist-packages (from wandb->ssl_remote_sensing@ git+https://github.com/AlexanderLontke/ssl-remote-sensing.git@gan/pipeline) (1.9.0)\n",
      "Requirement already satisfied: promise<3,>=2.0 in /usr/local/lib/python3.7/dist-packages (from wandb->ssl_remote_sensing@ git+https://github.com/AlexanderLontke/ssl-remote-sensing.git@gan/pipeline) (2.3)\n",
      "Requirement already satisfied: psutil>=5.0.0 in /usr/local/lib/python3.7/dist-packages (from wandb->ssl_remote_sensing@ git+https://github.com/AlexanderLontke/ssl-remote-sensing.git@gan/pipeline) (5.4.8)\n",
      "Requirement already satisfied: setproctitle in /usr/local/lib/python3.7/dist-packages (from wandb->ssl_remote_sensing@ git+https://github.com/AlexanderLontke/ssl-remote-sensing.git@gan/pipeline) (1.3.2)\n",
      "Requirement already satisfied: pathtools in /usr/local/lib/python3.7/dist-packages (from wandb->ssl_remote_sensing@ git+https://github.com/AlexanderLontke/ssl-remote-sensing.git@gan/pipeline) (0.1.2)\n",
      "Requirement already satisfied: shortuuid>=0.5.0 in /usr/local/lib/python3.7/dist-packages (from wandb->ssl_remote_sensing@ git+https://github.com/AlexanderLontke/ssl-remote-sensing.git@gan/pipeline) (1.0.11)\n",
      "Requirement already satisfied: GitPython>=1.0.0 in /usr/local/lib/python3.7/dist-packages (from wandb->ssl_remote_sensing@ git+https://github.com/AlexanderLontke/ssl-remote-sensing.git@gan/pipeline) (3.1.29)\n",
      "Requirement already satisfied: gitdb<5,>=4.0.1 in /usr/local/lib/python3.7/dist-packages (from GitPython>=1.0.0->wandb->ssl_remote_sensing@ git+https://github.com/AlexanderLontke/ssl-remote-sensing.git@gan/pipeline) (4.0.9)\n",
      "Requirement already satisfied: smmap<6,>=3.0.1 in /usr/local/lib/python3.7/dist-packages (from gitdb<5,>=4.0.1->GitPython>=1.0.0->wandb->ssl_remote_sensing@ git+https://github.com/AlexanderLontke/ssl-remote-sensing.git@gan/pipeline) (5.0.0)\n",
      "Building wheels for collected packages: ssl-remote-sensing\n",
      "  Building wheel for ssl-remote-sensing (PEP 517) ... \u001B[?25l\u001B[?25hdone\n",
      "  Created wheel for ssl-remote-sensing: filename=ssl_remote_sensing-0.0.post1.dev118+g57dd686-py3-none-any.whl size=37536 sha256=3799491cdbdaba0e98e278c7be98b98f6fa918592398f12f9c38af6638fa0b20\n",
      "  Stored in directory: /tmp/pip-ephem-wheel-cache-hutin0op/wheels/aa/13/7c/8e1a4b2fba8ebc8add5cff0f93bdbd3fb52ec4af6efaf0b9a2\n",
      "Successfully built ssl-remote-sensing\n",
      "Installing collected packages: ssl-remote-sensing\n",
      "  Attempting uninstall: ssl-remote-sensing\n",
      "    Found existing installation: ssl-remote-sensing 0.0.post1.dev114+gd792e32\n",
      "    Uninstalling ssl-remote-sensing-0.0.post1.dev114+gd792e32:\n",
      "      Successfully uninstalled ssl-remote-sensing-0.0.post1.dev114+gd792e32\n",
      "Successfully installed ssl-remote-sensing-0.0.post1.dev118+g57dd686\n"
     ]
    }
   ]
  },
  {
   "cell_type": "code",
   "execution_count": 2,
   "outputs": [
    {
     "output_type": "stream",
     "name": "stderr",
     "text": [
      "ERROR:wandb.jupyter:Failed to detect the name of this notebook, you can set it manually with the WANDB_NOTEBOOK_NAME environment variable to enable code saving.\n",
      "\u001B[34m\u001B[1mwandb\u001B[0m: Currently logged in as: \u001B[33mmarccgrau\u001B[0m (\u001B[33munisg-ds-nlp\u001B[0m). Use \u001B[1m`wandb login --relogin`\u001B[0m to force relogin\n"
     ]
    },
    {
     "output_type": "execute_result",
     "data": {
      "text/plain": [
       "True"
      ]
     },
     "metadata": {},
     "execution_count": 2
    }
   ],
   "source": [
    "# Log in to your W&B account\n",
    "import wandb\n",
    "\n",
    "wandb.login()"
   ],
   "metadata": {
    "pycharm": {
     "name": "#%%\n"
    },
    "colab": {
     "base_uri": "https://localhost:8080/"
    },
    "id": "T_HgADmBHvw5",
    "outputId": "2f25f5a2-35d9-4375-a641-f8650e50537e"
   }
  },
  {
   "cell_type": "code",
   "execution_count": null,
   "outputs": [],
   "source": [
    "from datetime import datetime\n",
    "import torch\n",
    "import os\n",
    "import numpy as np\n",
    "from tqdm import tqdm\n",
    "\n",
    "from torch import nn\n",
    "import torchvision.transforms as T\n",
    "from sklearn.metrics import classification_report\n",
    "\n",
    "from ssl_remote_sensing.downstream_tasks.classification.model import (\n",
    "    DownstreamClassificationNet,\n",
    ")\n",
    "from ssl_remote_sensing.constants import RANDOM_INITIALIZATION\n",
    "from ssl_remote_sensing.pretext_tasks.utils import (\n",
    "    load_encoder_checkpoint_from_pretext_model,\n",
    ")\n",
    "from ssl_remote_sensing.data.get_eurosat import (\n",
    "    get_eurosat_normalizer,\n",
    "    get_eurosat_dataloader,\n",
    ")"
   ],
   "metadata": {
    "collapsed": false,
    "pycharm": {
     "name": "#%%\n"
    }
   }
  },
  {
   "cell_type": "markdown",
   "source": [
    "## Dataset Loading ##"
   ],
   "metadata": {
    "collapsed": false,
    "pycharm": {
     "name": "#%% md\n"
    }
   }
  },
  {
   "cell_type": "code",
   "execution_count": null,
   "outputs": [],
   "source": [
    "class RunConfig:\n",
    "    def __init__(self):\n",
    "        self.num_epochs = 30  # number of training epochs\n",
    "        self.seed = 1234  # randomness seed\n",
    "        self.save = \"./saved_models/\"  # save checkpoint\n",
    "        self.batch_size = 256\n",
    "        self.learning_rate = 1e-3\n",
    "        self.embedding_size = 128  # papers value is 128\n",
    "        self.test_split_ratio = 0.2\n",
    "        self.checkpoint_name = None\n",
    "\n",
    "\n",
    "config = RunConfig()"
   ],
   "metadata": {
    "collapsed": false,
    "pycharm": {
     "name": "#%%\n"
    }
   }
  },
  {
   "cell_type": "code",
   "execution_count": null,
   "outputs": [],
   "source": [
    "# Setup data loading\n",
    "eurosat_normalizer = get_eurosat_normalizer()\n",
    "train_dl, test_dl = get_eurosat_dataloader(\n",
    "    root=\"./\",\n",
    "    transform=T.Compose([T.ToTensor(), eurosat_normalizer]),\n",
    "    batchsize=config.batch_size,\n",
    "    numworkers=os.cpu_count(),\n",
    "    split=(config.test_split_ratio == 0.2),\n",
    ")"
   ],
   "metadata": {
    "collapsed": false,
    "pycharm": {
     "name": "#%%\n"
    }
   }
  },
  {
   "cell_type": "markdown",
   "source": [
    "## Model Training ##\n"
   ],
   "metadata": {
    "collapsed": false,
    "pycharm": {
     "name": "#%% md\n"
    }
   }
  },
  {
   "cell_type": "code",
   "execution_count": null,
   "outputs": [],
   "source": [
    "# First of all, let's verify if a GPU is available on our compute machine. If not, the cpu will be used instead.\n",
    "device = torch.device(\"cuda:0\" if torch.cuda.is_available() else \"cpu\")\n",
    "print(\"Device used: {}\".format(device))\n",
    "\n",
    "# define the optimization criterion / loss function\n",
    "loss_criterion = nn.CrossEntropyLoss().to(device)"
   ],
   "metadata": {
    "collapsed": false,
    "pycharm": {
     "name": "#%%\n"
    }
   }
  },
  {
   "cell_type": "markdown",
   "source": [
    "## Setup Checkpoint Loading ##"
   ],
   "metadata": {
    "collapsed": false,
    "pycharm": {
     "name": "#%% md\n"
    }
   }
  },
  {
   "cell_type": "code",
   "execution_count": null,
   "outputs": [],
   "source": [
    "from google.colab import drive\n",
    "\n",
    "drive.mount(\"/content/drive\")\n",
    "g_drive_path = \"/content/drive/MyDrive/deep_learning_checkpoints\"\n",
    "check_point_paths = os.listdir(g_drive_path)\n",
    "check_point_paths += [RANDOM_INITIALIZATION]\n",
    "check_point_paths = [g_drive_path + \"/\" + x for x in check_point_paths]"
   ],
   "metadata": {
    "collapsed": false,
    "pycharm": {
     "name": "#%%\n"
    }
   }
  },
  {
   "cell_type": "code",
   "execution_count": null,
   "outputs": [],
   "source": [
    "check_point_paths = check_point_paths[3:6]"
   ],
   "metadata": {
    "collapsed": false,
    "pycharm": {
     "name": "#%%\n"
    }
   }
  },
  {
   "cell_type": "code",
   "execution_count": null,
   "outputs": [],
   "source": [
    "for filename in check_point_paths:\n",
    "    # Update checkpoint name\n",
    "    config.checkpoint_name = filename\n",
    "    # Load Encoder from different pre-text architectures\n",
    "    encoder = load_encoder_checkpoint_from_pretext_model(\n",
    "        path_to_checkpoint=filename,\n",
    "    )\n",
    "    wandb.init(\n",
    "        project=\"ssl-remote-sensing-classification\",\n",
    "        name=filename,\n",
    "        config=config.__dict__,\n",
    "    )\n",
    "    # Model Setup\n",
    "    if \"bigan\" in config.checkpoint_name.lower():\n",
    "        model = DownstreamClassificationNet(\n",
    "            input_dim=100, encoder=encoder, gan_encoder=True\n",
    "        ).to(device)\n",
    "    else:\n",
    "        model = DownstreamClassificationNet(input_dim=512, encoder=encoder).to(device)\n",
    "    # define learning rate and optimization strategy\n",
    "    optimizer = torch.optim.Adam(model.parameters(), lr=config.learning_rate)\n",
    "    model.train()\n",
    "    train_epoch_loss = np.NaN\n",
    "    validation_epoch_loss = np.NaN\n",
    "\n",
    "    with tqdm(range(config.num_epochs)) as tq:\n",
    "        for epoch in tq:\n",
    "            # print epoch loss\n",
    "            now = datetime.utcnow().strftime(\"%Y%m%d-%H:%M:%S\")\n",
    "            tq.desc = f\"[{now}] epoch: {epoch+1} train-loss: {train_epoch_loss} validation-loss: {validation_epoch_loss}\"\n",
    "            # init collection of mini-batch losses\n",
    "            train_mini_batch_losses = []\n",
    "\n",
    "            # iterate over all-mini batches\n",
    "            for i, (images, labels) in enumerate(train_dl):\n",
    "\n",
    "                # push mini-batch data to computation device\n",
    "                images = images.to(device)\n",
    "                labels = labels.to(device)\n",
    "\n",
    "                # forward + backward + optimize\n",
    "                optimizer.zero_grad()\n",
    "                out = model(images)\n",
    "                loss = loss_criterion(out, labels)\n",
    "                loss.backward()\n",
    "                optimizer.step()\n",
    "\n",
    "                # collect mini-batch reconstruction loss\n",
    "                train_mini_batch_losses.append(loss.data.item())\n",
    "                wandb.log(\n",
    "                    {\n",
    "                        \"step/training_loss\": loss.data.item(),\n",
    "                    }\n",
    "                )\n",
    "\n",
    "            # determine mean min-batch loss of epoch\n",
    "            train_epoch_loss = np.mean(train_mini_batch_losses)\n",
    "\n",
    "            # Specify you are in evaluation mode\n",
    "            model.eval()\n",
    "            with torch.no_grad():\n",
    "                validation_mini_batch_losses = []\n",
    "                for (images, labels) in test_dl:\n",
    "                    images = images.to(device)\n",
    "                    labels = labels.to(device)\n",
    "                    # calculate outputs by running images through the network\n",
    "                    outputs = model(images)\n",
    "                    # the class with the highest energy is what we choose as prediction\n",
    "                    validation_epoch_loss = loss_criterion(outputs, labels)\n",
    "                    # collect mini-batch reconstruction loss\n",
    "                    validation_mini_batch_losses.append(\n",
    "                        validation_epoch_loss.data.item()\n",
    "                    )\n",
    "                validation_epoch_loss = np.mean(validation_mini_batch_losses)\n",
    "\n",
    "            wandb.log(\n",
    "                {\n",
    "                    \"epoch/training_loss\": train_epoch_loss,\n",
    "                    \"epoch/validation_loss\": validation_epoch_loss,\n",
    "                }\n",
    "            )\n",
    "    # Store classification report\n",
    "    y_pred = []\n",
    "    y_true = []\n",
    "    # iterate over test data\n",
    "    model.eval()\n",
    "    with torch.no_grad():\n",
    "        for (images, labels) in tqdm(test_dl, desc=\"Predict labels\"):\n",
    "            images = images.to(device)\n",
    "\n",
    "            outputs = model(images)  # Feed Network\n",
    "            _, predicted = torch.max(outputs, 1)\n",
    "\n",
    "            y_pred.extend(predicted.cpu().numpy())  # Save Prediction\n",
    "            y_true.extend(labels.numpy())  # Save Truth\n",
    "    # log results\n",
    "    wandb.log(\n",
    "        {\n",
    "            \"classification_report\": classification_report(\n",
    "                y_true, y_pred, output_dict=True\n",
    "            )\n",
    "        }\n",
    "    )\n",
    "    print(classification_report(y_true, y_pred))"
   ],
   "metadata": {
    "collapsed": false,
    "pycharm": {
     "name": "#%%\n"
    }
   }
  },
  {
   "cell_type": "code",
   "source": [],
   "metadata": {
    "id": "SC63xCKOI4JD",
    "pycharm": {
     "name": "#%%\n"
    }
   },
   "execution_count": 9,
   "outputs": []
  }
 ]
}