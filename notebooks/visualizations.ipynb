{
 "cells": [
  {
   "cell_type": "code",
   "execution_count": null,
   "outputs": [],
   "source": [
    "import wandb\n",
    "import seaborn as sns\n",
    "import pandas as pd\n",
    "import matplotlib.pyplot as plt\n",
    "from pathlib import Path\n",
    "from typing import Optional, List\n",
    "\n",
    "api = wandb.Api()\n",
    "sns.set_style(\"whitegrid\")\n",
    "sns.set_context(\"talk\", font_scale=1.5)\n",
    "sns.set_palette(palette=sns.color_palette())\n",
    "\n",
    "save_path = Path(\"/Users/alexanderlontke/Desktop\")"
   ],
   "metadata": {
    "collapsed": false,
    "pycharm": {
     "name": "#%%\n"
    }
   }
  },
  {
   "cell_type": "code",
   "execution_count": null,
   "outputs": [],
   "source": [
    "def get_run_history(\n",
    "    api: wandb.Api,\n",
    "    project_name: str,\n",
    "    run_name: str,\n",
    "):\n",
    "    runs = api.runs(project_name)\n",
    "    for run in runs:\n",
    "        if run.name == run_name:\n",
    "            return run.history()\n",
    "    return None\n",
    "\n",
    "\n",
    "def get_run_summary(\n",
    "    api: wandb.Api,\n",
    "    project_name: str,\n",
    "    run_name: str,\n",
    "):\n",
    "    runs = api.runs(project_name)\n",
    "    for run in runs:\n",
    "        if run.name == run_name:\n",
    "            return run.summary\n",
    "    return None\n",
    "\n",
    "\n",
    "def match_name(name: str):\n",
    "    nl = name.lower()\n",
    "    if \"simclr\" in nl:\n",
    "        return \"SimCLR\"\n",
    "    elif \"vae\" in nl:\n",
    "        return \"VAE\"\n",
    "    elif \"bigan\" in nl:\n",
    "        return \"BiGAN\"\n",
    "    elif \"random\" in nl:\n",
    "        return \"Random Init\"\n",
    "    else:\n",
    "        return None\n",
    "\n",
    "\n",
    "def visualize_training_trajectory(\n",
    "    run_history: pd.DataFrame,\n",
    "    x_key: str = \"trainer/global_step\",\n",
    "    y_key: str = \"train/NTXentLoss_step\",\n",
    "    y_label: str = \"Train NT-Xent Loss\",\n",
    "    x_label: str = \"Step\",\n",
    "):\n",
    "    ax = sns.lineplot(\n",
    "        data=run_history,\n",
    "        y=y_key,\n",
    "        x=x_key,\n",
    "    )\n",
    "    ax.set_ylabel(y_label)\n",
    "    ax.set_xlabel(x_label)"
   ],
   "metadata": {
    "collapsed": false,
    "pycharm": {
     "name": "#%%\n"
    }
   }
  },
  {
   "cell_type": "markdown",
   "source": [
    "## SimClr Training Trajectory ##"
   ],
   "metadata": {
    "collapsed": false,
    "pycharm": {
     "name": "#%% md\n"
    }
   }
  },
  {
   "cell_type": "code",
   "execution_count": null,
   "outputs": [],
   "source": [
    "plt.figure(figsize=(20, 10))\n",
    "simclr_run_history = get_run_history(\n",
    "    api=api,\n",
    "    project_name=\"alontke/ssl-remote-sensing-simclr\",\n",
    "    run_name=\"splendid-night-40\",\n",
    ")\n",
    "visualize_training_trajectory(\n",
    "    run_history=simclr_run_history,\n",
    ")\n",
    "plt.savefig(save_path / \"simclr_training.png\", bbox_inches=\"tight\")"
   ],
   "metadata": {
    "collapsed": false,
    "pycharm": {
     "name": "#%%\n"
    }
   }
  },
  {
   "cell_type": "markdown",
   "source": [
    "## Classification Downstream Task ##"
   ],
   "metadata": {
    "collapsed": false,
    "pycharm": {
     "name": "#%% md\n"
    }
   }
  },
  {
   "cell_type": "code",
   "execution_count": null,
   "outputs": [],
   "source": [
    "run_names_of_interest = [\n",
    "    \"SimCLR_BEN_ResNet18_adam_bs500-v1.ckpt_lr_0.001_frozen_True_linear_True\",\n",
    "    \"bigan_encoder_allChannels_10_epochs.ckpt_lr_0.001_frozen_True_linear_True\",\n",
    "    \"random_lr_0.001_frozen_True_linear_True\",\n",
    "    \"vae_bigearthnet.ckpt_lr_0.001_frozen_True_linear_True\",\n",
    "    \"SimCLR_BEN_ResNet18_adam_bs500-v1.ckpt_lr_0.001_frozen_True_linear_False\",\n",
    "    \"bigan_encoder_allChannels_10_epochs.ckpt_lr_0.001_frozen_True_linear_False\",\n",
    "    \"random_lr_0.001_frozen_True_linear_False\",\n",
    "    \"vae_bigearthnet.ckpt_lr_0.001_frozen_True_linear_False\",\n",
    "    \"SimCLR_BEN_ResNet18_adam_bs500-v1.ckpt_lr_0.001_frozen_False_linear_True\",\n",
    "    \"bigan_encoder_allChannels_10_epochs.ckpt_lr_0.001_frozen_False_linear_True\",\n",
    "    \"random_lr_0.001_frozen_False_linear_True\",\n",
    "    \"vae_bigearthnet.ckpt_lr_0.001_frozen_False_linear_True\",\n",
    "    \"SimCLR_BEN_ResNet18_adam_bs500-v1.ckpt_lr_0.001_frozen_False_linear_False\",\n",
    "    \"bigan_encoder_allChannels_10_epochs.ckpt_lr_0.001_frozen_False_linear_False\",\n",
    "    \"random_lr_0.001_frozen_False_linear_False\",\n",
    "    \"vae_bigearthnet.ckpt_lr_0.001_frozen_False_linear_False\",\n",
    "]"
   ],
   "metadata": {
    "collapsed": false,
    "pycharm": {
     "name": "#%%\n"
    }
   }
  },
  {
   "cell_type": "markdown",
   "source": [
    "## Training Trajectories ##"
   ],
   "metadata": {
    "collapsed": false,
    "pycharm": {
     "name": "#%% md\n"
    }
   }
  },
  {
   "cell_type": "code",
   "execution_count": null,
   "outputs": [],
   "source": [
    "def plot_classification_training_trajectories(\n",
    "    run_names_of_interest,\n",
    "    run_name_infix: Optional[str] = None,\n",
    "    aggregate: str = \"_step\",\n",
    "):\n",
    "    run_name_key = \"run_name\"\n",
    "    classification_run_histories = []\n",
    "    for run_name in run_names_of_interest:\n",
    "        if not run_name_infix or run_name_infix in run_name:\n",
    "            current_history = get_run_history(\n",
    "                api=api,\n",
    "                project_name=\"alontke/ssl-remote-sensing-classification\",\n",
    "                run_name=run_name,\n",
    "            )\n",
    "            if current_history is None:\n",
    "                print(run_name)\n",
    "            current_history[run_name_key] = run_name\n",
    "            classification_run_histories += [current_history]\n",
    "    all_histories = pd.concat(classification_run_histories)\n",
    "    fig, ax = plt.subplots(1, 1, figsize=(20, 15))\n",
    "\n",
    "    pivot_table = all_histories.pivot(\n",
    "        index=aggregate, columns=run_name_key, values=\"step/training_loss\"\n",
    "    )\n",
    "    for column in pivot_table.columns:\n",
    "        sns.lineplot(\n",
    "            data=pivot_table[column],\n",
    "            ax=ax,\n",
    "            label=match_name(column),\n",
    "        )\n",
    "    if aggregate == \"_step\":\n",
    "        ax.set_xlabel(\"Step\")\n",
    "    elif aggregate == \"_timestamp\":\n",
    "        ax.set_xlabel(\"Timestamp\")\n",
    "    ax.set_ylabel(\"Cross Entropy Loss\")\n",
    "    # ax.set_title(f\"Training Trajectories (Infix: {infix})\")"
   ],
   "metadata": {
    "collapsed": false,
    "pycharm": {
     "name": "#%%\n"
    }
   }
  },
  {
   "cell_type": "markdown",
   "source": [
    "## Classification Accuracies ##"
   ],
   "metadata": {
    "collapsed": false,
    "pycharm": {
     "name": "#%% md\n"
    }
   }
  },
  {
   "cell_type": "code",
   "execution_count": null,
   "outputs": [],
   "source": [
    "def plot_classification_accuracy(\n",
    "    run_names_of_interest, run_name_infix: Optional[str] = None\n",
    "):\n",
    "    plt.figure(figsize=(20, 15))\n",
    "    run_name_to_viz = \"Run Name\"\n",
    "    metric_to_viz = \"Accuracy\"\n",
    "    metrics = {\n",
    "        metric_to_viz: [],\n",
    "        run_name_to_viz: [],\n",
    "    }\n",
    "    for run_name in run_names_of_interest:\n",
    "        if not run_name_infix or run_name_infix in run_name:\n",
    "            current_metric = get_run_summary(\n",
    "                api=api,\n",
    "                project_name=\"alontke/ssl-remote-sensing-classification\",\n",
    "                run_name=run_name,\n",
    "            )[\"classification_report\"][\"accuracy\"]\n",
    "            metrics[run_name_to_viz] += [match_name(run_name)]\n",
    "            metrics[metric_to_viz] += [current_metric]\n",
    "    print(metrics)\n",
    "    ax = sns.barplot(data=metrics, x=run_name_to_viz, y=metric_to_viz)\n",
    "    # ax.set_title(f\"Accuracy (Infix: {infix})\")\n",
    "    ax.set_ylabel(\"Accuracy\")\n",
    "    ax.set_xlabel(\"Pre-Text Task\")"
   ],
   "metadata": {
    "collapsed": false,
    "pycharm": {
     "name": "#%%\n"
    }
   }
  },
  {
   "cell_type": "markdown",
   "source": [
    "## Frozen: True, Linear: True ##"
   ],
   "metadata": {
    "collapsed": false,
    "pycharm": {
     "name": "#%% md\n"
    }
   }
  },
  {
   "cell_type": "code",
   "execution_count": null,
   "outputs": [],
   "source": [
    "infix = \"frozen_True_linear_True\"\n",
    "plot_classification_training_trajectories(\n",
    "    run_names_of_interest, run_name_infix=infix, aggregate=\"_timestamp\"\n",
    ")\n",
    "plt.savefig(save_path / f\"Training Trajectories (Infix: {infix})\")"
   ],
   "metadata": {
    "collapsed": false,
    "pycharm": {
     "name": "#%%\n"
    }
   }
  },
  {
   "cell_type": "code",
   "execution_count": null,
   "outputs": [],
   "source": [
    "plot_classification_accuracy(\n",
    "    run_names_of_interest=run_names_of_interest,\n",
    "    run_name_infix=infix,\n",
    ")\n",
    "plt.savefig(save_path / f\"Accuracies (Infix: {infix})\")"
   ],
   "metadata": {
    "collapsed": false,
    "pycharm": {
     "name": "#%%\n"
    }
   }
  },
  {
   "cell_type": "markdown",
   "source": [
    "## Frozen: False, Linear: True ##"
   ],
   "metadata": {
    "collapsed": false,
    "pycharm": {
     "name": "#%% md\n"
    }
   }
  },
  {
   "cell_type": "code",
   "execution_count": null,
   "outputs": [],
   "source": [
    "infix = \"frozen_False_linear_True\"\n",
    "plot_classification_training_trajectories(\n",
    "    run_names_of_interest, run_name_infix=infix, aggregate=\"_timestamp\"\n",
    ")\n",
    "plt.savefig(save_path / f\"Training Trajectories (Infix: {infix})\")"
   ],
   "metadata": {
    "collapsed": false,
    "pycharm": {
     "name": "#%%\n"
    }
   }
  },
  {
   "cell_type": "code",
   "execution_count": null,
   "outputs": [],
   "source": [
    "plot_classification_accuracy(\n",
    "    run_names_of_interest=run_names_of_interest,\n",
    "    run_name_infix=infix,\n",
    ")\n",
    "plt.savefig(save_path / f\"Accuracies (Infix: {infix})\")"
   ],
   "metadata": {
    "collapsed": false,
    "pycharm": {
     "name": "#%%\n"
    }
   }
  },
  {
   "cell_type": "markdown",
   "source": [
    "## Frozen: True, Linear: False ##"
   ],
   "metadata": {
    "collapsed": false,
    "pycharm": {
     "name": "#%% md\n"
    }
   }
  },
  {
   "cell_type": "code",
   "execution_count": null,
   "outputs": [],
   "source": [
    "infix = \"frozen_True_linear_False\"\n",
    "plot_classification_training_trajectories(\n",
    "    run_names_of_interest, run_name_infix=infix, aggregate=\"_timestamp\"\n",
    ")\n",
    "plt.savefig(save_path / f\"Training Trajectories (Infix: {infix})\")"
   ],
   "metadata": {
    "collapsed": false,
    "pycharm": {
     "name": "#%%\n"
    }
   }
  },
  {
   "cell_type": "code",
   "execution_count": null,
   "outputs": [],
   "source": [
    "plot_classification_accuracy(\n",
    "    run_names_of_interest=run_names_of_interest,\n",
    "    run_name_infix=infix,\n",
    ")\n",
    "plt.savefig(save_path / f\"Accuracies (Infix: {infix})\")"
   ],
   "metadata": {
    "collapsed": false,
    "pycharm": {
     "name": "#%%\n"
    }
   }
  },
  {
   "cell_type": "markdown",
   "source": [
    "## Frozen: False, Linear: False ##"
   ],
   "metadata": {
    "collapsed": false,
    "pycharm": {
     "name": "#%% md\n"
    }
   }
  },
  {
   "cell_type": "code",
   "execution_count": null,
   "outputs": [],
   "source": [
    "infix = \"frozen_False_linear_False\"\n",
    "plot_classification_training_trajectories(\n",
    "    run_names_of_interest, run_name_infix=infix, aggregate=\"_timestamp\"\n",
    ")\n",
    "plt.savefig(save_path / f\"Training Trajectories (Infix: {infix})\")"
   ],
   "metadata": {
    "collapsed": false,
    "pycharm": {
     "name": "#%%\n"
    }
   }
  },
  {
   "cell_type": "code",
   "execution_count": null,
   "outputs": [],
   "source": [
    "plot_classification_accuracy(\n",
    "    run_names_of_interest=run_names_of_interest,\n",
    "    run_name_infix=infix,\n",
    ")\n",
    "plt.savefig(save_path / f\"Accuracies (Infix: {infix})\")"
   ],
   "metadata": {
    "collapsed": false,
    "pycharm": {
     "name": "#%%\n"
    }
   }
  },
  {
   "cell_type": "markdown",
   "source": [
    "## Dataset Subsampling ##"
   ],
   "metadata": {
    "collapsed": false,
    "pycharm": {
     "name": "#%% md\n"
    }
   }
  },
  {
   "cell_type": "code",
   "execution_count": null,
   "outputs": [],
   "source": [
    "def get_all_run_summaries(\n",
    "    api: wandb.Api,\n",
    "    project_name: str,\n",
    "):\n",
    "    runs = api.runs(project_name)\n",
    "    run_summaries = {}\n",
    "    for run in runs:\n",
    "        run_summaries[run.name] = run.summary\n",
    "    return run_summaries"
   ],
   "metadata": {
    "collapsed": false,
    "pycharm": {
     "name": "#%%\n"
    }
   }
  },
  {
   "cell_type": "code",
   "execution_count": null,
   "outputs": [],
   "source": [
    "all_summaries = get_all_run_summaries(\n",
    "    api, project_name=\"ssl-remote-sensing-classification-limited-samples\"\n",
    ")"
   ],
   "metadata": {
    "collapsed": false,
    "pycharm": {
     "name": "#%%\n"
    }
   }
  },
  {
   "cell_type": "code",
   "execution_count": null,
   "outputs": [],
   "source": [
    "def dataset_subsample_plot(summaries):\n",
    "    dataset_sizes = [216, 2160, 10800, 21600]\n",
    "    x_key = \"Dataset Size\"\n",
    "    y_key = \"Accuracy\"\n",
    "    run_name_key = \"Run name\"\n",
    "    to_viz = {x_key: [], y_key: [], run_name_key: []}\n",
    "    for k, v in summaries.items():\n",
    "        for ds in dataset_sizes:\n",
    "            if k.split(\"_\")[-1] == str(ds):\n",
    "                to_viz[x_key] += [ds]\n",
    "                to_viz[run_name_key] += [match_name(k)]\n",
    "                to_viz[y_key] += [v[\"classification_report\"][\"accuracy\"]]\n",
    "    plt.figure(figsize=(20, 15))\n",
    "    ax = sns.lineplot(\n",
    "        data=to_viz,\n",
    "        y=y_key,\n",
    "        x=x_key,\n",
    "        style=run_name_key,\n",
    "        hue=run_name_key,\n",
    "        markers=True,\n",
    "        linewidth=6,\n",
    "    )\n",
    "    plt.legend(loc=\"lower right\")"
   ],
   "metadata": {
    "collapsed": false,
    "pycharm": {
     "name": "#%%\n"
    }
   }
  },
  {
   "cell_type": "code",
   "execution_count": null,
   "outputs": [],
   "source": [
    "dataset_subsample_plot({k: v for k, v in all_summaries.items() if \"frozen_False\" in k})\n",
    "plt.savefig(save_path / \"Fine_tuned_runs_limited_samples\")"
   ],
   "metadata": {
    "collapsed": false,
    "pycharm": {
     "name": "#%%\n"
    }
   }
  },
  {
   "cell_type": "code",
   "execution_count": null,
   "outputs": [],
   "source": [
    "dataset_subsample_plot({k: v for k, v in all_summaries.items() if \"frozen_True\" in k})\n",
    "plt.savefig(save_path / \"Frozen_runs_limited_samples\")"
   ],
   "metadata": {
    "collapsed": false,
    "pycharm": {
     "name": "#%%\n"
    }
   }
  },
  {
   "cell_type": "code",
   "execution_count": null,
   "outputs": [],
   "source": [],
   "metadata": {
    "collapsed": false,
    "pycharm": {
     "name": "#%%\n"
    }
   }
  }
 ],
 "metadata": {
  "kernelspec": {
   "display_name": "Python 3",
   "language": "python",
   "name": "python3"
  },
  "language_info": {
   "codemirror_mode": {
    "name": "ipython",
    "version": 2
   },
   "file_extension": ".py",
   "mimetype": "text/x-python",
   "name": "python",
   "nbconvert_exporter": "python",
   "pygments_lexer": "ipython2",
   "version": "2.7.6"
  }
 },
 "nbformat": 4,
 "nbformat_minor": 0
}