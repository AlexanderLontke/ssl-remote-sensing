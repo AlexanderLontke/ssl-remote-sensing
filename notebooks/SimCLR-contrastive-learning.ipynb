{
 "cells": [
  {
   "cell_type": "markdown",
   "source": [
    "# SimCLR implementation #"
   ],
   "metadata": {
    "collapsed": false,
    "pycharm": {
     "name": "#%% md\n"
    }
   }
  },
  {
   "cell_type": "markdown",
   "source": [
    "Implementation following: https://theaisummer.com/simclr/"
   ],
   "metadata": {
    "collapsed": false,
    "pycharm": {
     "name": "#%% md\n"
    }
   }
  },
  {
   "cell_type": "code",
   "execution_count": null,
   "outputs": [],
   "source": [
    "# !pip install ssl_remote_sensing@git+https://github.com/AlexanderLontke/ssl-remote-sensing.git@simclr/bigearthnet"
   ],
   "metadata": {
    "collapsed": false,
    "pycharm": {
     "name": "#%%\n"
    }
   }
  },
  {
   "cell_type": "code",
   "execution_count": null,
   "outputs": [],
   "source": [
    "# from google.colab import drive\n",
    "# drive.mount('/content/drive')\n",
    "# !mkdir /content/data\n",
    "# !cp -r /content/drive/MyDrive/DL-2022/bigearthnet.tar.gz /content/data/\n",
    "# !tar -xf /content/data/bigearthnet.tar.gz"
   ],
   "metadata": {
    "collapsed": false,
    "pycharm": {
     "name": "#%%\n"
    }
   }
  },
  {
   "cell_type": "code",
   "execution_count": null,
   "outputs": [],
   "source": [
    "# Log in to your W&B account\n",
    "import wandb\n",
    "\n",
    "wandb.login()"
   ],
   "metadata": {
    "collapsed": false,
    "pycharm": {
     "name": "#%%\n"
    }
   }
  },
  {
   "cell_type": "code",
   "execution_count": null,
   "outputs": [],
   "source": [
    "import os\n",
    "from pathlib import Path\n",
    "\n",
    "import torch\n",
    "from pytorch_lightning.callbacks import GradientAccumulationScheduler, ModelCheckpoint\n",
    "import torchvision.transforms as T\n",
    "from pytorch_lightning import Trainer\n",
    "from pytorch_lightning.loggers import WandbLogger\n",
    "\n",
    "from ssl_remote_sensing.pretext_tasks.simclr.utils import reproducibility\n",
    "from ssl_remote_sensing.pretext_tasks.simclr.training import SimCLRTraining\n",
    "from ssl_remote_sensing.pretext_tasks.simclr.augmentation import Augment\n",
    "from ssl_remote_sensing.pretext_tasks.simclr.config import get_simclr_config\n",
    "from ssl_remote_sensing.data.bigearthnet.bigearthnet_dataloader import get_bigearthnet_dataloader"
   ],
   "metadata": {
    "collapsed": false,
    "pycharm": {
     "name": "#%%\n"
    }
   }
  },
  {
   "cell_type": "code",
   "execution_count": null,
   "outputs": [],
   "source": [
    "# Machine setup\n",
    "available_gpus = torch.cuda.device_count()\n",
    "save_model_path = os.path.join(os.getcwd(), \"saved_models/\")\n",
    "print(\"available_gpus:\", available_gpus)\n",
    "\n",
    "# Model Setup\n",
    "train_config = get_simclr_config()\n",
    "train_config.batch_size = 2250\n",
    "train_config.epochs = 40\n",
    "\n",
    "# Run setup\n",
    "filename = f\"SimCLR_BEN_ResNet18_adam_bs{train_config.batch_size}\"\n",
    "save_name = filename + \".ckpt\"\n",
    "resume_from_checkpoint = False\n",
    "reproducibility(train_config)\n",
    "\n",
    "model = SimCLRTraining(\n",
    "    config=train_config,\n",
    "    feat_dim=512,\n",
    ")\n",
    "\n",
    "# Setup data loading and augments\n",
    "transform = Augment(train_config.img_size, normalizer=T.RandomCrop(64))\n",
    "bigearthnet_dataloader = get_bigearthnet_dataloader(\n",
    "    data_dir=Path(\"/content/data/BigEarthNet-v1.0\"),\n",
    "    batch_size=train_config.batch_size,\n",
    "    dataset_transform=transform,\n",
    ")\n",
    "\n",
    "# Needed to get simulate a large batch size\n",
    "accumulator = GradientAccumulationScheduler(scheduling={0: 1})\n",
    "\n",
    "checkpoint_callback = ModelCheckpoint(\n",
    "    filename=filename,\n",
    "    dirpath=save_model_path,\n",
    "    every_n_epochs=2,\n",
    "    save_last=True,\n",
    "    save_top_k=2,\n",
    "    monitor=\"train/NTXentLoss\",\n",
    "    mode=\"min\",\n",
    ")\n",
    "\n",
    "# Setup WandB logging\n",
    "wandb_logger = WandbLogger(\n",
    "    project=\"ssl-remote-sensing-simclr\",\n",
    "    config=train_config.__dict__\n",
    ")\n",
    "shared_trainer_kwargs = {\n",
    "    \"callbacks\": [accumulator, checkpoint_callback],\n",
    "    \"max_epochs\": train_config.epochs,\n",
    "    \"logger\": wandb_logger,\n",
    "    \"log_every_n_steps\": 1,\n",
    "    \"accelerator\": \"gpu\",\n",
    "}\n",
    "if resume_from_checkpoint:\n",
    "    trainer = Trainer(\n",
    "        **shared_trainer_kwargs,\n",
    "        resume_from_checkpoint=train_config.checkpoint_path,\n",
    "    )\n",
    "else:\n",
    "    trainer = Trainer(\n",
    "         **shared_trainer_kwargs,\n",
    "    )\n",
    "\n",
    "trainer.fit(model, bigearthnet_dataloader)\n",
    "trainer.save_checkpoint(save_name)\n",
    "wandb.save(checkpoint_callback.best_model_path)\n",
    "wandb.finish()\n",
    "print(f\"Best model is stored under {checkpoint_callback.best_model_path}\")"
   ],
   "metadata": {
    "collapsed": false,
    "pycharm": {
     "name": "#%%\n"
    }
   }
  }
 ],
 "metadata": {
  "kernelspec": {
   "name": "ssl-remote-sensing",
   "language": "python",
   "display_name": "ssl-remote-sensing"
  },
  "language_info": {
   "codemirror_mode": {
    "name": "ipython",
    "version": 2
   },
   "file_extension": ".py",
   "mimetype": "text/x-python",
   "name": "python",
   "nbconvert_exporter": "python",
   "pygments_lexer": "ipython2",
   "version": "2.7.6"
  }
 },
 "nbformat": 4,
 "nbformat_minor": 0
}