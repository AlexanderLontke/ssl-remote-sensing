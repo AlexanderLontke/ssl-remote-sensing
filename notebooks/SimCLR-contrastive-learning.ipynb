{
 "cells": [
  {
   "cell_type": "markdown",
   "source": [
    "# SimCLR implementation #"
   ],
   "metadata": {
    "collapsed": false,
    "pycharm": {
     "name": "#%% md\n"
    }
   }
  },
  {
   "cell_type": "markdown",
   "source": [
    "Implementation following: https://theaisummer.com/simclr/"
   ],
   "metadata": {
    "collapsed": false,
    "pycharm": {
     "name": "#%% md\n"
    }
   }
  },
  {
   "cell_type": "code",
   "execution_count": 1,
   "outputs": [],
   "source": [
    "!pip install ssl_remote_sensing@git+https://github.com/AlexanderLontke/ssl-remote-sensing.git@feature/pipeline"
   ],
   "metadata": {
    "collapsed": false,
    "pycharm": {
     "name": "#%%\n"
    }
   }
  },
  {
   "cell_type": "code",
   "execution_count": 1,
   "outputs": [
    {
     "name": "stderr",
     "output_type": "stream",
     "text": [
      "\u001B[34m\u001B[1mwandb\u001B[0m: Currently logged in as: \u001B[33malontke\u001B[0m. Use \u001B[1m`wandb login --relogin`\u001B[0m to force relogin\n"
     ]
    },
    {
     "data": {
      "text/plain": "True"
     },
     "execution_count": 1,
     "metadata": {},
     "output_type": "execute_result"
    }
   ],
   "source": [
    "# Log in to your W&B account\n",
    "import wandb\n",
    "\n",
    "wandb.login()"
   ],
   "metadata": {
    "collapsed": false,
    "pycharm": {
     "name": "#%%\n"
    }
   }
  },
  {
   "cell_type": "code",
   "execution_count": 2,
   "outputs": [],
   "source": [
    "import os\n",
    "\n",
    "import torch\n",
    "from pytorch_lightning.callbacks import GradientAccumulationScheduler, ModelCheckpoint\n",
    "from pytorch_lightning import Trainer\n",
    "from pytorch_lightning.loggers import WandbLogger\n",
    "\n",
    "from ssl_remote_sensing.pretext_tasks.simclr.utils import reproducibility\n",
    "from ssl_remote_sensing.pretext_tasks.simclr.training import SimCLRTraining\n",
    "from ssl_remote_sensing.pretext_tasks.simclr.augmentation import Augment\n",
    "from ssl_remote_sensing.pretext_tasks.simclr.config import get_simclr_config\n",
    "from ssl_remote_sensing.data.get_eurosat import get_eurosat_normalizer, get_eurosat_dataloader"
   ],
   "metadata": {
    "collapsed": false,
    "pycharm": {
     "name": "#%%\n"
    }
   }
  },
  {
   "cell_type": "code",
   "execution_count": 5,
   "outputs": [
    {
     "name": "stdout",
     "output_type": "stream",
     "text": [
      "available_gpus: 0\n",
      "[LOG] Total number of images: 27000\n",
      "[LOG] Batch size is 64\n",
      "[LOG] Total images in the train set is: 27000\n",
      "[LOG] Total number of batches in the trainloader: 422\n"
     ]
    },
    {
     "data": {
      "text/plain": "<IPython.core.display.HTML object>",
      "text/html": "Tracking run with wandb version 0.13.5"
     },
     "metadata": {},
     "output_type": "display_data"
    },
    {
     "data": {
      "text/plain": "<IPython.core.display.HTML object>",
      "text/html": "Run data is saved locally in <code>./wandb/run-20221118_184940-1mxpaisc</code>"
     },
     "metadata": {},
     "output_type": "display_data"
    },
    {
     "data": {
      "text/plain": "<IPython.core.display.HTML object>",
      "text/html": "Syncing run <strong><a href=\"https://wandb.ai/alontke/test/runs/1mxpaisc\" target=\"_blank\">logical-cloud-2</a></strong> to <a href=\"https://wandb.ai/alontke/test\" target=\"_blank\">Weights & Biases</a> (<a href=\"https://wandb.me/run\" target=\"_blank\">docs</a>)<br/>"
     },
     "metadata": {},
     "output_type": "display_data"
    },
    {
     "name": "stderr",
     "output_type": "stream",
     "text": [
      "GPU available: False, used: False\n",
      "TPU available: False, using: 0 TPU cores\n",
      "IPU available: False, using: 0 IPUs\n",
      "HPU available: False, using: 0 HPUs\n",
      "\n",
      "  | Name  | Type          | Params\n",
      "----------------------------------------\n",
      "0 | model | AddProjection | 11.5 M\n",
      "1 | loss  | InfoNCE       | 0     \n",
      "----------------------------------------\n",
      "11.5 M    Trainable params\n",
      "0         Non-trainable params\n",
      "11.5 M    Total params\n",
      "46.024    Total estimated model params size (MB)\n"
     ]
    },
    {
     "name": "stdout",
     "output_type": "stream",
     "text": [
      "Optimizer Adam, Learning Rate 0.001, Effective batch size 64\n"
     ]
    },
    {
     "data": {
      "text/plain": "Training: 0it [00:00, ?it/s]",
      "application/vnd.jupyter.widget-view+json": {
       "version_major": 2,
       "version_minor": 0,
       "model_id": "4434f86fdf1a419489ae0ce0ccf12f64"
      }
     },
     "metadata": {},
     "output_type": "display_data"
    },
    {
     "name": "stderr",
     "output_type": "stream",
     "text": [
      "/Users/alexanderlontke/.conda/envs/ssl-remote-sensing/lib/python3.10/site-packages/pytorch_lightning/trainer/trainer.py:653: UserWarning: Detected KeyboardInterrupt, attempting graceful shutdown...\n",
      "  rank_zero_warn(\"Detected KeyboardInterrupt, attempting graceful shutdown...\")\n"
     ]
    },
    {
     "ename": "ValueError",
     "evalue": "no path specified",
     "output_type": "error",
     "traceback": [
      "\u001B[0;31m---------------------------------------------------------------------------\u001B[0m",
      "\u001B[0;31mValueError\u001B[0m                                Traceback (most recent call last)",
      "Cell \u001B[0;32mIn [5], line 70\u001B[0m\n\u001B[1;32m     68\u001B[0m trainer\u001B[38;5;241m.\u001B[39mfit(model, data_loader)\n\u001B[1;32m     69\u001B[0m trainer\u001B[38;5;241m.\u001B[39msave_checkpoint(save_name)\n\u001B[0;32m---> 70\u001B[0m \u001B[43mwandb\u001B[49m\u001B[38;5;241;43m.\u001B[39;49m\u001B[43msave\u001B[49m\u001B[43m(\u001B[49m\u001B[43mcheckpoint_callback\u001B[49m\u001B[38;5;241;43m.\u001B[39;49m\u001B[43mbest_model_path\u001B[49m\u001B[43m)\u001B[49m\n\u001B[1;32m     71\u001B[0m wandb\u001B[38;5;241m.\u001B[39mfinish()\n\u001B[1;32m     72\u001B[0m \u001B[38;5;28mprint\u001B[39m(\u001B[38;5;124mf\u001B[39m\u001B[38;5;124m\"\u001B[39m\u001B[38;5;124mBest model is stored under \u001B[39m\u001B[38;5;132;01m{\u001B[39;00mcheckpoint_callback\u001B[38;5;241m.\u001B[39mbest_model_path\u001B[38;5;132;01m}\u001B[39;00m\u001B[38;5;124m\"\u001B[39m)\n",
      "File \u001B[0;32m~/.conda/envs/ssl-remote-sensing/lib/python3.10/site-packages/wandb/sdk/wandb_run.py:255\u001B[0m, in \u001B[0;36m_run_decorator._attach.<locals>.wrapper\u001B[0;34m(self, *args, **kwargs)\u001B[0m\n\u001B[1;32m    253\u001B[0m         \u001B[38;5;28;01mraise\u001B[39;00m e\n\u001B[1;32m    254\u001B[0m     \u001B[38;5;28mcls\u001B[39m\u001B[38;5;241m.\u001B[39m_is_attaching \u001B[38;5;241m=\u001B[39m \u001B[38;5;124m\"\u001B[39m\u001B[38;5;124m\"\u001B[39m\n\u001B[0;32m--> 255\u001B[0m \u001B[38;5;28;01mreturn\u001B[39;00m \u001B[43mfunc\u001B[49m\u001B[43m(\u001B[49m\u001B[38;5;28;43mself\u001B[39;49m\u001B[43m,\u001B[49m\u001B[43m \u001B[49m\u001B[38;5;241;43m*\u001B[39;49m\u001B[43margs\u001B[49m\u001B[43m,\u001B[49m\u001B[43m \u001B[49m\u001B[38;5;241;43m*\u001B[39;49m\u001B[38;5;241;43m*\u001B[39;49m\u001B[43mkwargs\u001B[49m\u001B[43m)\u001B[49m\n",
      "File \u001B[0;32m~/.conda/envs/ssl-remote-sensing/lib/python3.10/site-packages/wandb/sdk/wandb_run.py:1640\u001B[0m, in \u001B[0;36mRun.save\u001B[0;34m(self, glob_str, base_path, policy)\u001B[0m\n\u001B[1;32m   1631\u001B[0m     deprecate\u001B[38;5;241m.\u001B[39mdeprecate(\n\u001B[1;32m   1632\u001B[0m         field_name\u001B[38;5;241m=\u001B[39mdeprecate\u001B[38;5;241m.\u001B[39mDeprecated\u001B[38;5;241m.\u001B[39mrun__save_no_args,\n\u001B[1;32m   1633\u001B[0m         warning_message\u001B[38;5;241m=\u001B[39m(\n\u001B[0;32m   (...)\u001B[0m\n\u001B[1;32m   1636\u001B[0m         ),\n\u001B[1;32m   1637\u001B[0m     )\n\u001B[1;32m   1638\u001B[0m     \u001B[38;5;28;01mreturn\u001B[39;00m \u001B[38;5;28;01mTrue\u001B[39;00m\n\u001B[0;32m-> 1640\u001B[0m \u001B[38;5;28;01mreturn\u001B[39;00m \u001B[38;5;28;43mself\u001B[39;49m\u001B[38;5;241;43m.\u001B[39;49m\u001B[43m_save\u001B[49m\u001B[43m(\u001B[49m\u001B[43mglob_str\u001B[49m\u001B[43m,\u001B[49m\u001B[43m \u001B[49m\u001B[43mbase_path\u001B[49m\u001B[43m,\u001B[49m\u001B[43m \u001B[49m\u001B[43mpolicy\u001B[49m\u001B[43m)\u001B[49m\n",
      "File \u001B[0;32m~/.conda/envs/ssl-remote-sensing/lib/python3.10/site-packages/wandb/sdk/wandb_run.py:1668\u001B[0m, in \u001B[0;36mRun._save\u001B[0;34m(self, glob_str, base_path, policy)\u001B[0m\n\u001B[1;32m   1666\u001B[0m     \u001B[38;5;28;01melse\u001B[39;00m:\n\u001B[1;32m   1667\u001B[0m         base_path \u001B[38;5;241m=\u001B[39m \u001B[38;5;124m\"\u001B[39m\u001B[38;5;124m.\u001B[39m\u001B[38;5;124m\"\u001B[39m\n\u001B[0;32m-> 1668\u001B[0m wandb_glob_str \u001B[38;5;241m=\u001B[39m GlobStr(\u001B[43mos\u001B[49m\u001B[38;5;241;43m.\u001B[39;49m\u001B[43mpath\u001B[49m\u001B[38;5;241;43m.\u001B[39;49m\u001B[43mrelpath\u001B[49m\u001B[43m(\u001B[49m\u001B[43mglob_str\u001B[49m\u001B[43m,\u001B[49m\u001B[43m \u001B[49m\u001B[43mbase_path\u001B[49m\u001B[43m)\u001B[49m)\n\u001B[1;32m   1669\u001B[0m \u001B[38;5;28;01mif\u001B[39;00m \u001B[38;5;124m\"\u001B[39m\u001B[38;5;124m..\u001B[39m\u001B[38;5;124m\"\u001B[39m \u001B[38;5;241m+\u001B[39m os\u001B[38;5;241m.\u001B[39msep \u001B[38;5;129;01min\u001B[39;00m wandb_glob_str:\n\u001B[1;32m   1670\u001B[0m     \u001B[38;5;28;01mraise\u001B[39;00m \u001B[38;5;167;01mValueError\u001B[39;00m(\u001B[38;5;124m\"\u001B[39m\u001B[38;5;124mglobs can\u001B[39m\u001B[38;5;124m'\u001B[39m\u001B[38;5;124mt walk above base_path\u001B[39m\u001B[38;5;124m\"\u001B[39m)\n",
      "File \u001B[0;32m~/.conda/envs/ssl-remote-sensing/lib/python3.10/posixpath.py:469\u001B[0m, in \u001B[0;36mrelpath\u001B[0;34m(path, start)\u001B[0m\n\u001B[1;32m    466\u001B[0m \u001B[38;5;124;03m\"\"\"Return a relative version of a path\"\"\"\u001B[39;00m\n\u001B[1;32m    468\u001B[0m \u001B[38;5;28;01mif\u001B[39;00m \u001B[38;5;129;01mnot\u001B[39;00m path:\n\u001B[0;32m--> 469\u001B[0m     \u001B[38;5;28;01mraise\u001B[39;00m \u001B[38;5;167;01mValueError\u001B[39;00m(\u001B[38;5;124m\"\u001B[39m\u001B[38;5;124mno path specified\u001B[39m\u001B[38;5;124m\"\u001B[39m)\n\u001B[1;32m    471\u001B[0m path \u001B[38;5;241m=\u001B[39m os\u001B[38;5;241m.\u001B[39mfspath(path)\n\u001B[1;32m    472\u001B[0m \u001B[38;5;28;01mif\u001B[39;00m \u001B[38;5;28misinstance\u001B[39m(path, \u001B[38;5;28mbytes\u001B[39m):\n",
      "\u001B[0;31mValueError\u001B[0m: no path specified"
     ]
    }
   ],
   "source": [
    "# Machine setup\n",
    "available_gpus = torch.cuda.device_count()\n",
    "save_model_path = os.path.join(os.getcwd(), \"saved_models/\")\n",
    "print(\"available_gpus:\", available_gpus)\n",
    "\n",
    "# Model Setup\n",
    "train_config = get_simclr_config()\n",
    "train_config.batch_size = 2250\n",
    "train_config.epochs = 40\n",
    "\n",
    "# Run setup\n",
    "filename = f\"SimCLR_ResNet18_adam_bs{train_config.batch_size}\"\n",
    "save_name = filename + \".ckpt\"\n",
    "resume_from_checkpoint = False\n",
    "reproducibility(train_config)\n",
    "\n",
    "model = SimCLRTraining(\n",
    "    config=train_config,\n",
    "    feat_dim=512,\n",
    ")\n",
    "\n",
    "# Setup data loading and augments\n",
    "eurosat_normalizer = get_eurosat_normalizer()\n",
    "transform = Augment(train_config.img_size, normalizer=eurosat_normalizer)\n",
    "data_loader = get_eurosat_dataloader(\n",
    "    root=\"./\",\n",
    "    transform=transform,\n",
    "    batchsize=train_config.batch_size,\n",
    "    numworkers=os.cpu_count(),\n",
    "    split=False,\n",
    ")\n",
    "\n",
    "\n",
    "# Needed to get simulate a large batch size\n",
    "accumulator = GradientAccumulationScheduler(scheduling={0: 1})\n",
    "\n",
    "checkpoint_callback = ModelCheckpoint(\n",
    "    filename=filename,\n",
    "    dirpath=save_model_path,\n",
    "    every_n_epochs=2,\n",
    "    save_last=True,\n",
    "    save_top_k=2,\n",
    "    monitor=\"train/InfoNCE\",\n",
    "    mode=\"min\",\n",
    ")\n",
    "\n",
    "# Setup WandB logging\n",
    "wandb_logger = WandbLogger(\n",
    "    project=\"ssl-remote-sensing-simclr\",\n",
    "    config=train_config.__dict__\n",
    ")\n",
    "shared_trainer_kwargs = {\n",
    "    \"callbacks\": [accumulator, checkpoint_callback],\n",
    "    \"max_epochs\": train_config.epochs,\n",
    "    \"logger\": wandb_logger,\n",
    "    \"log_every_n_steps\": 1,\n",
    "    \"accelerator\": \"gpu\",\n",
    "}\n",
    "if resume_from_checkpoint:\n",
    "    trainer = Trainer(\n",
    "        **shared_trainer_kwargs,\n",
    "        resume_from_checkpoint=train_config.checkpoint_path,\n",
    "    )\n",
    "else:\n",
    "    trainer = Trainer(\n",
    "         **shared_trainer_kwargs,\n",
    "    )\n",
    "\n",
    "trainer.fit(model, data_loader)\n",
    "trainer.save_checkpoint(save_name)\n",
    "wandb.save(checkpoint_callback.best_model_path)\n",
    "wandb.finish()\n",
    "print(f\"Best model is stored under {checkpoint_callback.best_model_path}\")"
   ],
   "metadata": {
    "collapsed": false,
    "pycharm": {
     "name": "#%%\n"
    }
   }
  },
  {
   "cell_type": "code",
   "execution_count": 4,
   "outputs": [
    {
     "data": {
      "text/plain": "<IPython.core.display.HTML object>",
      "text/html": "Waiting for W&B process to finish... <strong style=\"color:green\">(success).</strong>"
     },
     "metadata": {},
     "output_type": "display_data"
    },
    {
     "data": {
      "text/plain": "<IPython.core.display.HTML object>",
      "text/html": "Synced <strong style=\"color:#cdcd00\">hearty-dew-1</strong>: <a href=\"https://wandb.ai/alontke/test/runs/1zaz07xe\" target=\"_blank\">https://wandb.ai/alontke/test/runs/1zaz07xe</a><br/>Synced 6 W&B file(s), 0 media file(s), 0 artifact file(s) and 0 other file(s)"
     },
     "metadata": {},
     "output_type": "display_data"
    },
    {
     "data": {
      "text/plain": "<IPython.core.display.HTML object>",
      "text/html": "Find logs at: <code>./wandb/run-20221118_184829-1zaz07xe/logs</code>"
     },
     "metadata": {},
     "output_type": "display_data"
    }
   ],
   "source": [
    "wandb.finish()"
   ],
   "metadata": {
    "collapsed": false,
    "pycharm": {
     "name": "#%%\n"
    }
   }
  },
  {
   "cell_type": "code",
   "execution_count": null,
   "outputs": [],
   "source": [],
   "metadata": {
    "collapsed": false,
    "pycharm": {
     "name": "#%%\n"
    }
   }
  }
 ],
 "metadata": {
  "kernelspec": {
   "name": "ssl-remote-sensing",
   "language": "python",
   "display_name": "ssl-remote-sensing"
  },
  "language_info": {
   "codemirror_mode": {
    "name": "ipython",
    "version": 2
   },
   "file_extension": ".py",
   "mimetype": "text/x-python",
   "name": "python",
   "nbconvert_exporter": "python",
   "pygments_lexer": "ipython2",
   "version": "2.7.6"
  }
 },
 "nbformat": 4,
 "nbformat_minor": 0
}