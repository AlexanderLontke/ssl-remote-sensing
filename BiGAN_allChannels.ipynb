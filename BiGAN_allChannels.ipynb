{
  "nbformat": 4,
  "nbformat_minor": 0,
  "metadata": {
    "colab": {
      "provenance": [],
      "authorship_tag": "ABX9TyM7rdRNo84Hn/Et+tJ3zMMZ",
      "include_colab_link": true
    },
    "kernelspec": {
      "name": "python3",
      "display_name": "Python 3"
    },
    "language_info": {
      "name": "python"
    },
    "accelerator": "GPU",
    "gpuClass": "standard",
    "widgets": {
      "application/vnd.jupyter.widget-state+json": {
        "7c064886105c4405bc60c65a0881d3ce": {
          "model_module": "@jupyter-widgets/controls",
          "model_name": "HBoxModel",
          "model_module_version": "1.5.0",
          "state": {
            "_dom_classes": [],
            "_model_module": "@jupyter-widgets/controls",
            "_model_module_version": "1.5.0",
            "_model_name": "HBoxModel",
            "_view_count": null,
            "_view_module": "@jupyter-widgets/controls",
            "_view_module_version": "1.5.0",
            "_view_name": "HBoxView",
            "box_style": "",
            "children": [
              "IPY_MODEL_02c1c0e8253b426a8dcc9f6d8369de46",
              "IPY_MODEL_c3da3fdb4c1e4e68a4546fbd27c69a5e",
              "IPY_MODEL_2adb587f01ad48109b8d806c21382322"
            ],
            "layout": "IPY_MODEL_fcccccec527043c7ba8f4053a0e5e8f7"
          }
        },
        "02c1c0e8253b426a8dcc9f6d8369de46": {
          "model_module": "@jupyter-widgets/controls",
          "model_name": "HTMLModel",
          "model_module_version": "1.5.0",
          "state": {
            "_dom_classes": [],
            "_model_module": "@jupyter-widgets/controls",
            "_model_module_version": "1.5.0",
            "_model_name": "HTMLModel",
            "_view_count": null,
            "_view_module": "@jupyter-widgets/controls",
            "_view_module_version": "1.5.0",
            "_view_name": "HTMLView",
            "description": "",
            "description_tooltip": null,
            "layout": "IPY_MODEL_f783f971563142aaa28d729a6032654f",
            "placeholder": "​",
            "style": "IPY_MODEL_d247036669e4451e930ed364371e38cd",
            "value": "Epoch 0:  28%"
          }
        },
        "c3da3fdb4c1e4e68a4546fbd27c69a5e": {
          "model_module": "@jupyter-widgets/controls",
          "model_name": "FloatProgressModel",
          "model_module_version": "1.5.0",
          "state": {
            "_dom_classes": [],
            "_model_module": "@jupyter-widgets/controls",
            "_model_module_version": "1.5.0",
            "_model_name": "FloatProgressModel",
            "_view_count": null,
            "_view_module": "@jupyter-widgets/controls",
            "_view_module_version": "1.5.0",
            "_view_name": "ProgressView",
            "bar_style": "",
            "description": "",
            "description_tooltip": null,
            "layout": "IPY_MODEL_6fa7b2d82c104d4d8c97c9f30fbca0f1",
            "max": 6250,
            "min": 0,
            "orientation": "horizontal",
            "style": "IPY_MODEL_f64b456961834ef18a36015ad8e767ee",
            "value": 1758
          }
        },
        "2adb587f01ad48109b8d806c21382322": {
          "model_module": "@jupyter-widgets/controls",
          "model_name": "HTMLModel",
          "model_module_version": "1.5.0",
          "state": {
            "_dom_classes": [],
            "_model_module": "@jupyter-widgets/controls",
            "_model_module_version": "1.5.0",
            "_model_name": "HTMLModel",
            "_view_count": null,
            "_view_module": "@jupyter-widgets/controls",
            "_view_module_version": "1.5.0",
            "_view_name": "HTMLView",
            "description": "",
            "description_tooltip": null,
            "layout": "IPY_MODEL_f8ec5e2bf6714abea83c94ff9bf2b897",
            "placeholder": "​",
            "style": "IPY_MODEL_882cf49cf1074c73b1dc534217f84c56",
            "value": " 1757/6250 [1:32:05&lt;3:55:30,  3.14s/it, loss=1.8, v_num=0]"
          }
        },
        "fcccccec527043c7ba8f4053a0e5e8f7": {
          "model_module": "@jupyter-widgets/base",
          "model_name": "LayoutModel",
          "model_module_version": "1.2.0",
          "state": {
            "_model_module": "@jupyter-widgets/base",
            "_model_module_version": "1.2.0",
            "_model_name": "LayoutModel",
            "_view_count": null,
            "_view_module": "@jupyter-widgets/base",
            "_view_module_version": "1.2.0",
            "_view_name": "LayoutView",
            "align_content": null,
            "align_items": null,
            "align_self": null,
            "border": null,
            "bottom": null,
            "display": "inline-flex",
            "flex": null,
            "flex_flow": "row wrap",
            "grid_area": null,
            "grid_auto_columns": null,
            "grid_auto_flow": null,
            "grid_auto_rows": null,
            "grid_column": null,
            "grid_gap": null,
            "grid_row": null,
            "grid_template_areas": null,
            "grid_template_columns": null,
            "grid_template_rows": null,
            "height": null,
            "justify_content": null,
            "justify_items": null,
            "left": null,
            "margin": null,
            "max_height": null,
            "max_width": null,
            "min_height": null,
            "min_width": null,
            "object_fit": null,
            "object_position": null,
            "order": null,
            "overflow": null,
            "overflow_x": null,
            "overflow_y": null,
            "padding": null,
            "right": null,
            "top": null,
            "visibility": null,
            "width": "100%"
          }
        },
        "f783f971563142aaa28d729a6032654f": {
          "model_module": "@jupyter-widgets/base",
          "model_name": "LayoutModel",
          "model_module_version": "1.2.0",
          "state": {
            "_model_module": "@jupyter-widgets/base",
            "_model_module_version": "1.2.0",
            "_model_name": "LayoutModel",
            "_view_count": null,
            "_view_module": "@jupyter-widgets/base",
            "_view_module_version": "1.2.0",
            "_view_name": "LayoutView",
            "align_content": null,
            "align_items": null,
            "align_self": null,
            "border": null,
            "bottom": null,
            "display": null,
            "flex": null,
            "flex_flow": null,
            "grid_area": null,
            "grid_auto_columns": null,
            "grid_auto_flow": null,
            "grid_auto_rows": null,
            "grid_column": null,
            "grid_gap": null,
            "grid_row": null,
            "grid_template_areas": null,
            "grid_template_columns": null,
            "grid_template_rows": null,
            "height": null,
            "justify_content": null,
            "justify_items": null,
            "left": null,
            "margin": null,
            "max_height": null,
            "max_width": null,
            "min_height": null,
            "min_width": null,
            "object_fit": null,
            "object_position": null,
            "order": null,
            "overflow": null,
            "overflow_x": null,
            "overflow_y": null,
            "padding": null,
            "right": null,
            "top": null,
            "visibility": null,
            "width": null
          }
        },
        "d247036669e4451e930ed364371e38cd": {
          "model_module": "@jupyter-widgets/controls",
          "model_name": "DescriptionStyleModel",
          "model_module_version": "1.5.0",
          "state": {
            "_model_module": "@jupyter-widgets/controls",
            "_model_module_version": "1.5.0",
            "_model_name": "DescriptionStyleModel",
            "_view_count": null,
            "_view_module": "@jupyter-widgets/base",
            "_view_module_version": "1.2.0",
            "_view_name": "StyleView",
            "description_width": ""
          }
        },
        "6fa7b2d82c104d4d8c97c9f30fbca0f1": {
          "model_module": "@jupyter-widgets/base",
          "model_name": "LayoutModel",
          "model_module_version": "1.2.0",
          "state": {
            "_model_module": "@jupyter-widgets/base",
            "_model_module_version": "1.2.0",
            "_model_name": "LayoutModel",
            "_view_count": null,
            "_view_module": "@jupyter-widgets/base",
            "_view_module_version": "1.2.0",
            "_view_name": "LayoutView",
            "align_content": null,
            "align_items": null,
            "align_self": null,
            "border": null,
            "bottom": null,
            "display": null,
            "flex": "2",
            "flex_flow": null,
            "grid_area": null,
            "grid_auto_columns": null,
            "grid_auto_flow": null,
            "grid_auto_rows": null,
            "grid_column": null,
            "grid_gap": null,
            "grid_row": null,
            "grid_template_areas": null,
            "grid_template_columns": null,
            "grid_template_rows": null,
            "height": null,
            "justify_content": null,
            "justify_items": null,
            "left": null,
            "margin": null,
            "max_height": null,
            "max_width": null,
            "min_height": null,
            "min_width": null,
            "object_fit": null,
            "object_position": null,
            "order": null,
            "overflow": null,
            "overflow_x": null,
            "overflow_y": null,
            "padding": null,
            "right": null,
            "top": null,
            "visibility": null,
            "width": null
          }
        },
        "f64b456961834ef18a36015ad8e767ee": {
          "model_module": "@jupyter-widgets/controls",
          "model_name": "ProgressStyleModel",
          "model_module_version": "1.5.0",
          "state": {
            "_model_module": "@jupyter-widgets/controls",
            "_model_module_version": "1.5.0",
            "_model_name": "ProgressStyleModel",
            "_view_count": null,
            "_view_module": "@jupyter-widgets/base",
            "_view_module_version": "1.2.0",
            "_view_name": "StyleView",
            "bar_color": null,
            "description_width": ""
          }
        },
        "f8ec5e2bf6714abea83c94ff9bf2b897": {
          "model_module": "@jupyter-widgets/base",
          "model_name": "LayoutModel",
          "model_module_version": "1.2.0",
          "state": {
            "_model_module": "@jupyter-widgets/base",
            "_model_module_version": "1.2.0",
            "_model_name": "LayoutModel",
            "_view_count": null,
            "_view_module": "@jupyter-widgets/base",
            "_view_module_version": "1.2.0",
            "_view_name": "LayoutView",
            "align_content": null,
            "align_items": null,
            "align_self": null,
            "border": null,
            "bottom": null,
            "display": null,
            "flex": null,
            "flex_flow": null,
            "grid_area": null,
            "grid_auto_columns": null,
            "grid_auto_flow": null,
            "grid_auto_rows": null,
            "grid_column": null,
            "grid_gap": null,
            "grid_row": null,
            "grid_template_areas": null,
            "grid_template_columns": null,
            "grid_template_rows": null,
            "height": null,
            "justify_content": null,
            "justify_items": null,
            "left": null,
            "margin": null,
            "max_height": null,
            "max_width": null,
            "min_height": null,
            "min_width": null,
            "object_fit": null,
            "object_position": null,
            "order": null,
            "overflow": null,
            "overflow_x": null,
            "overflow_y": null,
            "padding": null,
            "right": null,
            "top": null,
            "visibility": null,
            "width": null
          }
        },
        "882cf49cf1074c73b1dc534217f84c56": {
          "model_module": "@jupyter-widgets/controls",
          "model_name": "DescriptionStyleModel",
          "model_module_version": "1.5.0",
          "state": {
            "_model_module": "@jupyter-widgets/controls",
            "_model_module_version": "1.5.0",
            "_model_name": "DescriptionStyleModel",
            "_view_count": null,
            "_view_module": "@jupyter-widgets/base",
            "_view_module_version": "1.2.0",
            "_view_name": "StyleView",
            "description_width": ""
          }
        }
      }
    }
  },
  "cells": [
    {
      "cell_type": "markdown",
      "metadata": {
        "id": "view-in-github",
        "colab_type": "text"
      },
      "source": [
        "<a href=\"https://colab.research.google.com/github/AlexanderLontke/ssl-remote-sensing/blob/bigan/BiGAN_allChannels.ipynb\" target=\"_parent\"><img src=\"https://colab.research.google.com/assets/colab-badge.svg\" alt=\"Open In Colab\"/></a>"
      ]
    },
    {
      "cell_type": "markdown",
      "source": [
        "# BiGAN\n",
        "Implementation with all 13 channels of BigEarthNet-S2"
      ],
      "metadata": {
        "id": "6SuQmhLRTFY3"
      }
    },
    {
      "cell_type": "code",
      "execution_count": 1,
      "metadata": {
        "colab": {
          "base_uri": "https://localhost:8080/"
        },
        "id": "F7n5S3qiSoGw",
        "outputId": "26c8fe1f-fb1a-497e-c601-0f847c767578"
      },
      "outputs": [
        {
          "output_type": "stream",
          "name": "stdout",
          "text": [
            "Looking in indexes: https://pypi.org/simple, https://us-python.pkg.dev/colab-wheels/public/simple/\n",
            "Collecting ssl_remote_sensing@ git+https://github.com/AlexanderLontke/ssl-remote-sensing.git@bigan\n",
            "  Cloning https://github.com/AlexanderLontke/ssl-remote-sensing.git (to revision bigan) to /tmp/pip-install-d6eu_s7u/ssl-remote-sensing_a4d466c0fad046a0a615fbadbe00eddd\n",
            "  Running command git clone -q https://github.com/AlexanderLontke/ssl-remote-sensing.git /tmp/pip-install-d6eu_s7u/ssl-remote-sensing_a4d466c0fad046a0a615fbadbe00eddd\n",
            "  Running command git checkout -b bigan --track origin/bigan\n",
            "  Switched to a new branch 'bigan'\n",
            "  Branch 'bigan' set up to track remote branch 'bigan' from 'origin'.\n",
            "  Installing build dependencies ... \u001b[?25l\u001b[?25hdone\n",
            "  Getting requirements to build wheel ... \u001b[?25l\u001b[?25hdone\n",
            "  Installing backend dependencies ... \u001b[?25l\u001b[?25hdone\n",
            "    Preparing wheel metadata ... \u001b[?25l\u001b[?25hdone\n",
            "Requirement already satisfied: lightning-bolts in /usr/local/lib/python3.8/dist-packages (from ssl_remote_sensing@ git+https://github.com/AlexanderLontke/ssl-remote-sensing.git@bigan) (0.6.0.post1)\n",
            "Requirement already satisfied: rasterio in /usr/local/lib/python3.8/dist-packages (from ssl_remote_sensing@ git+https://github.com/AlexanderLontke/ssl-remote-sensing.git@bigan) (1.3.4)\n",
            "Requirement already satisfied: torch in /usr/local/lib/python3.8/dist-packages (from ssl_remote_sensing@ git+https://github.com/AlexanderLontke/ssl-remote-sensing.git@bigan) (1.12.1)\n",
            "Requirement already satisfied: pytorch-lightning in /usr/local/lib/python3.8/dist-packages (from ssl_remote_sensing@ git+https://github.com/AlexanderLontke/ssl-remote-sensing.git@bigan) (1.8.4.post0)\n",
            "Requirement already satisfied: wandb in /usr/local/lib/python3.8/dist-packages (from ssl_remote_sensing@ git+https://github.com/AlexanderLontke/ssl-remote-sensing.git@bigan) (0.13.6)\n",
            "Requirement already satisfied: info-nce-pytorch in /usr/local/lib/python3.8/dist-packages (from ssl_remote_sensing@ git+https://github.com/AlexanderLontke/ssl-remote-sensing.git@bigan) (0.1.4)\n",
            "Requirement already satisfied: torchvision in /usr/local/lib/python3.8/dist-packages (from ssl_remote_sensing@ git+https://github.com/AlexanderLontke/ssl-remote-sensing.git@bigan) (0.13.1)\n",
            "Requirement already satisfied: scikit-learn in /usr/local/lib/python3.8/dist-packages (from ssl_remote_sensing@ git+https://github.com/AlexanderLontke/ssl-remote-sensing.git@bigan) (1.0.2)\n",
            "Requirement already satisfied: lightning-utilities!=0.4.0,>=0.3.0 in /usr/local/lib/python3.8/dist-packages (from lightning-bolts->ssl_remote_sensing@ git+https://github.com/AlexanderLontke/ssl-remote-sensing.git@bigan) (0.4.2)\n",
            "Requirement already satisfied: tensorboardX>=2.2 in /usr/local/lib/python3.8/dist-packages (from pytorch-lightning->ssl_remote_sensing@ git+https://github.com/AlexanderLontke/ssl-remote-sensing.git@bigan) (2.5.1)\n",
            "Requirement already satisfied: numpy>=1.17.2 in /usr/local/lib/python3.8/dist-packages (from pytorch-lightning->ssl_remote_sensing@ git+https://github.com/AlexanderLontke/ssl-remote-sensing.git@bigan) (1.21.6)\n",
            "Requirement already satisfied: packaging>=17.0 in /usr/local/lib/python3.8/dist-packages (from pytorch-lightning->ssl_remote_sensing@ git+https://github.com/AlexanderLontke/ssl-remote-sensing.git@bigan) (21.3)\n",
            "Requirement already satisfied: tqdm>=4.57.0 in /usr/local/lib/python3.8/dist-packages (from pytorch-lightning->ssl_remote_sensing@ git+https://github.com/AlexanderLontke/ssl-remote-sensing.git@bigan) (4.64.1)\n",
            "Requirement already satisfied: fsspec[http]>2021.06.0 in /usr/local/lib/python3.8/dist-packages (from pytorch-lightning->ssl_remote_sensing@ git+https://github.com/AlexanderLontke/ssl-remote-sensing.git@bigan) (2022.11.0)\n",
            "Requirement already satisfied: typing-extensions>=4.0.0 in /usr/local/lib/python3.8/dist-packages (from pytorch-lightning->ssl_remote_sensing@ git+https://github.com/AlexanderLontke/ssl-remote-sensing.git@bigan) (4.4.0)\n",
            "Requirement already satisfied: torchmetrics>=0.7.0 in /usr/local/lib/python3.8/dist-packages (from pytorch-lightning->ssl_remote_sensing@ git+https://github.com/AlexanderLontke/ssl-remote-sensing.git@bigan) (0.9.3)\n",
            "Requirement already satisfied: PyYAML>=5.4 in /usr/local/lib/python3.8/dist-packages (from pytorch-lightning->ssl_remote_sensing@ git+https://github.com/AlexanderLontke/ssl-remote-sensing.git@bigan) (6.0)\n",
            "Requirement already satisfied: aiohttp!=4.0.0a0,!=4.0.0a1 in /usr/local/lib/python3.8/dist-packages (from fsspec[http]>2021.06.0->pytorch-lightning->ssl_remote_sensing@ git+https://github.com/AlexanderLontke/ssl-remote-sensing.git@bigan) (3.8.3)\n",
            "Requirement already satisfied: requests in /usr/local/lib/python3.8/dist-packages (from fsspec[http]>2021.06.0->pytorch-lightning->ssl_remote_sensing@ git+https://github.com/AlexanderLontke/ssl-remote-sensing.git@bigan) (2.23.0)\n",
            "Requirement already satisfied: yarl<2.0,>=1.0 in /usr/local/lib/python3.8/dist-packages (from aiohttp!=4.0.0a0,!=4.0.0a1->fsspec[http]>2021.06.0->pytorch-lightning->ssl_remote_sensing@ git+https://github.com/AlexanderLontke/ssl-remote-sensing.git@bigan) (1.8.2)\n",
            "Requirement already satisfied: aiosignal>=1.1.2 in /usr/local/lib/python3.8/dist-packages (from aiohttp!=4.0.0a0,!=4.0.0a1->fsspec[http]>2021.06.0->pytorch-lightning->ssl_remote_sensing@ git+https://github.com/AlexanderLontke/ssl-remote-sensing.git@bigan) (1.3.1)\n",
            "Requirement already satisfied: charset-normalizer<3.0,>=2.0 in /usr/local/lib/python3.8/dist-packages (from aiohttp!=4.0.0a0,!=4.0.0a1->fsspec[http]>2021.06.0->pytorch-lightning->ssl_remote_sensing@ git+https://github.com/AlexanderLontke/ssl-remote-sensing.git@bigan) (2.1.1)\n",
            "Requirement already satisfied: async-timeout<5.0,>=4.0.0a3 in /usr/local/lib/python3.8/dist-packages (from aiohttp!=4.0.0a0,!=4.0.0a1->fsspec[http]>2021.06.0->pytorch-lightning->ssl_remote_sensing@ git+https://github.com/AlexanderLontke/ssl-remote-sensing.git@bigan) (4.0.2)\n",
            "Requirement already satisfied: attrs>=17.3.0 in /usr/local/lib/python3.8/dist-packages (from aiohttp!=4.0.0a0,!=4.0.0a1->fsspec[http]>2021.06.0->pytorch-lightning->ssl_remote_sensing@ git+https://github.com/AlexanderLontke/ssl-remote-sensing.git@bigan) (22.1.0)\n",
            "Requirement already satisfied: frozenlist>=1.1.1 in /usr/local/lib/python3.8/dist-packages (from aiohttp!=4.0.0a0,!=4.0.0a1->fsspec[http]>2021.06.0->pytorch-lightning->ssl_remote_sensing@ git+https://github.com/AlexanderLontke/ssl-remote-sensing.git@bigan) (1.3.3)\n",
            "Requirement already satisfied: multidict<7.0,>=4.5 in /usr/local/lib/python3.8/dist-packages (from aiohttp!=4.0.0a0,!=4.0.0a1->fsspec[http]>2021.06.0->pytorch-lightning->ssl_remote_sensing@ git+https://github.com/AlexanderLontke/ssl-remote-sensing.git@bigan) (6.0.3)\n",
            "Requirement already satisfied: pyparsing!=3.0.5,>=2.0.2 in /usr/local/lib/python3.8/dist-packages (from packaging>=17.0->pytorch-lightning->ssl_remote_sensing@ git+https://github.com/AlexanderLontke/ssl-remote-sensing.git@bigan) (3.0.9)\n",
            "Requirement already satisfied: protobuf<=3.20.1,>=3.8.0 in /usr/local/lib/python3.8/dist-packages (from tensorboardX>=2.2->pytorch-lightning->ssl_remote_sensing@ git+https://github.com/AlexanderLontke/ssl-remote-sensing.git@bigan) (3.19.6)\n",
            "Requirement already satisfied: pillow!=8.3.*,>=5.3.0 in /usr/local/lib/python3.8/dist-packages (from torchvision->ssl_remote_sensing@ git+https://github.com/AlexanderLontke/ssl-remote-sensing.git@bigan) (7.1.2)\n",
            "Requirement already satisfied: idna>=2.0 in /usr/local/lib/python3.8/dist-packages (from yarl<2.0,>=1.0->aiohttp!=4.0.0a0,!=4.0.0a1->fsspec[http]>2021.06.0->pytorch-lightning->ssl_remote_sensing@ git+https://github.com/AlexanderLontke/ssl-remote-sensing.git@bigan) (2.10)\n",
            "Requirement already satisfied: affine in /usr/local/lib/python3.8/dist-packages (from rasterio->ssl_remote_sensing@ git+https://github.com/AlexanderLontke/ssl-remote-sensing.git@bigan) (2.3.1)\n",
            "Requirement already satisfied: click>=4.0 in /usr/local/lib/python3.8/dist-packages (from rasterio->ssl_remote_sensing@ git+https://github.com/AlexanderLontke/ssl-remote-sensing.git@bigan) (7.1.2)\n",
            "Requirement already satisfied: click-plugins in /usr/local/lib/python3.8/dist-packages (from rasterio->ssl_remote_sensing@ git+https://github.com/AlexanderLontke/ssl-remote-sensing.git@bigan) (1.1.1)\n",
            "Requirement already satisfied: certifi in /usr/local/lib/python3.8/dist-packages (from rasterio->ssl_remote_sensing@ git+https://github.com/AlexanderLontke/ssl-remote-sensing.git@bigan) (2022.9.24)\n",
            "Requirement already satisfied: snuggs>=1.4.1 in /usr/local/lib/python3.8/dist-packages (from rasterio->ssl_remote_sensing@ git+https://github.com/AlexanderLontke/ssl-remote-sensing.git@bigan) (1.4.7)\n",
            "Requirement already satisfied: cligj>=0.5 in /usr/local/lib/python3.8/dist-packages (from rasterio->ssl_remote_sensing@ git+https://github.com/AlexanderLontke/ssl-remote-sensing.git@bigan) (0.7.2)\n",
            "Requirement already satisfied: setuptools in /usr/local/lib/python3.8/dist-packages (from rasterio->ssl_remote_sensing@ git+https://github.com/AlexanderLontke/ssl-remote-sensing.git@bigan) (57.4.0)\n",
            "Requirement already satisfied: urllib3!=1.25.0,!=1.25.1,<1.26,>=1.21.1 in /usr/local/lib/python3.8/dist-packages (from requests->fsspec[http]>2021.06.0->pytorch-lightning->ssl_remote_sensing@ git+https://github.com/AlexanderLontke/ssl-remote-sensing.git@bigan) (1.24.3)\n",
            "Requirement already satisfied: chardet<4,>=3.0.2 in /usr/local/lib/python3.8/dist-packages (from requests->fsspec[http]>2021.06.0->pytorch-lightning->ssl_remote_sensing@ git+https://github.com/AlexanderLontke/ssl-remote-sensing.git@bigan) (3.0.4)\n",
            "Requirement already satisfied: threadpoolctl>=2.0.0 in /usr/local/lib/python3.8/dist-packages (from scikit-learn->ssl_remote_sensing@ git+https://github.com/AlexanderLontke/ssl-remote-sensing.git@bigan) (3.1.0)\n",
            "Requirement already satisfied: joblib>=0.11 in /usr/local/lib/python3.8/dist-packages (from scikit-learn->ssl_remote_sensing@ git+https://github.com/AlexanderLontke/ssl-remote-sensing.git@bigan) (1.2.0)\n",
            "Requirement already satisfied: scipy>=1.1.0 in /usr/local/lib/python3.8/dist-packages (from scikit-learn->ssl_remote_sensing@ git+https://github.com/AlexanderLontke/ssl-remote-sensing.git@bigan) (1.7.3)\n",
            "Requirement already satisfied: shortuuid>=0.5.0 in /usr/local/lib/python3.8/dist-packages (from wandb->ssl_remote_sensing@ git+https://github.com/AlexanderLontke/ssl-remote-sensing.git@bigan) (1.0.11)\n",
            "Requirement already satisfied: sentry-sdk>=1.0.0 in /usr/local/lib/python3.8/dist-packages (from wandb->ssl_remote_sensing@ git+https://github.com/AlexanderLontke/ssl-remote-sensing.git@bigan) (1.9.0)\n",
            "Requirement already satisfied: setproctitle in /usr/local/lib/python3.8/dist-packages (from wandb->ssl_remote_sensing@ git+https://github.com/AlexanderLontke/ssl-remote-sensing.git@bigan) (1.3.2)\n",
            "Requirement already satisfied: promise<3,>=2.0 in /usr/local/lib/python3.8/dist-packages (from wandb->ssl_remote_sensing@ git+https://github.com/AlexanderLontke/ssl-remote-sensing.git@bigan) (2.3)\n",
            "Requirement already satisfied: GitPython>=1.0.0 in /usr/local/lib/python3.8/dist-packages (from wandb->ssl_remote_sensing@ git+https://github.com/AlexanderLontke/ssl-remote-sensing.git@bigan) (3.1.29)\n",
            "Requirement already satisfied: pathtools in /usr/local/lib/python3.8/dist-packages (from wandb->ssl_remote_sensing@ git+https://github.com/AlexanderLontke/ssl-remote-sensing.git@bigan) (0.1.2)\n",
            "Requirement already satisfied: psutil>=5.0.0 in /usr/local/lib/python3.8/dist-packages (from wandb->ssl_remote_sensing@ git+https://github.com/AlexanderLontke/ssl-remote-sensing.git@bigan) (5.4.8)\n",
            "Requirement already satisfied: docker-pycreds>=0.4.0 in /usr/local/lib/python3.8/dist-packages (from wandb->ssl_remote_sensing@ git+https://github.com/AlexanderLontke/ssl-remote-sensing.git@bigan) (0.4.0)\n",
            "Requirement already satisfied: six>=1.4.0 in /usr/local/lib/python3.8/dist-packages (from docker-pycreds>=0.4.0->wandb->ssl_remote_sensing@ git+https://github.com/AlexanderLontke/ssl-remote-sensing.git@bigan) (1.15.0)\n",
            "Requirement already satisfied: gitdb<5,>=4.0.1 in /usr/local/lib/python3.8/dist-packages (from GitPython>=1.0.0->wandb->ssl_remote_sensing@ git+https://github.com/AlexanderLontke/ssl-remote-sensing.git@bigan) (4.0.10)\n",
            "Requirement already satisfied: smmap<6,>=3.0.1 in /usr/local/lib/python3.8/dist-packages (from gitdb<5,>=4.0.1->GitPython>=1.0.0->wandb->ssl_remote_sensing@ git+https://github.com/AlexanderLontke/ssl-remote-sensing.git@bigan) (5.0.0)\n",
            "Building wheels for collected packages: ssl-remote-sensing\n",
            "  Building wheel for ssl-remote-sensing (PEP 517) ... \u001b[?25l\u001b[?25hdone\n",
            "  Created wheel for ssl-remote-sensing: filename=ssl_remote_sensing-0.0.post1.dev179+gc02170a-py3-none-any.whl size=44362 sha256=5ee3996b378dcc7d521f919558554ebc3269083198501866a6e1f50e74102257\n",
            "  Stored in directory: /tmp/pip-ephem-wheel-cache-z1j83ttg/wheels/c6/ee/09/03ed91e7bf77499f53c75231f184fa1bdea38e51904f51ee5b\n",
            "Successfully built ssl-remote-sensing\n",
            "Installing collected packages: ssl-remote-sensing\n",
            "  Attempting uninstall: ssl-remote-sensing\n",
            "    Found existing installation: ssl-remote-sensing 0.0.post1.dev178+ge23c1b1\n",
            "    Uninstalling ssl-remote-sensing-0.0.post1.dev178+ge23c1b1:\n",
            "      Successfully uninstalled ssl-remote-sensing-0.0.post1.dev178+ge23c1b1\n",
            "Successfully installed ssl-remote-sensing-0.0.post1.dev179+gc02170a\n"
          ]
        }
      ],
      "source": [
        "!pip install ssl_remote_sensing@git+https://github.com/AlexanderLontke/ssl-remote-sensing.git@bigan"
      ]
    },
    {
      "cell_type": "code",
      "source": [
        "import torch\n",
        "import os\n",
        "import glob\n",
        "from pytorch_lightning import Trainer"
      ],
      "metadata": {
        "id": "mBaW0JgRU5B1"
      },
      "execution_count": 2,
      "outputs": []
    },
    {
      "cell_type": "code",
      "source": [
        "from ssl_remote_sensing.pretext_tasks.gan.bigan_generator import BiganResnetGenerator\n",
        "from ssl_remote_sensing.pretext_tasks.gan.bigan_encoder import BiganResnetEncoder\n",
        "from ssl_remote_sensing.pretext_tasks.gan.bigan_discriminator import BiganDiscriminator\n",
        "from ssl_remote_sensing.pretext_tasks.gan.bigan import BIGAN\n",
        "from ssl_remote_sensing.pretext_tasks.gan.config import get_bigan_config\n",
        "from ssl_remote_sensing.pretext_tasks.gan.utils import reproducibility\n",
        "from ssl_remote_sensing.data.bigearthnet_dataloader import BigearthnetDataModule"
      ],
      "metadata": {
        "id": "Tg-ATTvsS-Z7"
      },
      "execution_count": 3,
      "outputs": []
    },
    {
      "cell_type": "code",
      "source": [
        "\n",
        "# Log in to your W&B account\n",
        "import wandb\n",
        "\n",
        "wandb.login()"
      ],
      "metadata": {
        "colab": {
          "base_uri": "https://localhost:8080/"
        },
        "id": "Rb2OzMMESt03",
        "outputId": "3536c63d-df2b-42d5-8850-bb0db3c69a9a"
      },
      "execution_count": 4,
      "outputs": [
        {
          "output_type": "stream",
          "name": "stderr",
          "text": [
            "ERROR:wandb.jupyter:Failed to detect the name of this notebook, you can set it manually with the WANDB_NOTEBOOK_NAME environment variable to enable code saving.\n",
            "\u001b[34m\u001b[1mwandb\u001b[0m: Currently logged in as: \u001b[33mmarccgrau\u001b[0m (\u001b[33munisg-ds-nlp\u001b[0m). Use \u001b[1m`wandb login --relogin`\u001b[0m to force relogin\n"
          ]
        },
        {
          "output_type": "execute_result",
          "data": {
            "text/plain": [
              "True"
            ]
          },
          "metadata": {},
          "execution_count": 4
        }
      ]
    },
    {
      "cell_type": "code",
      "source": [
        "# import the Google Colab GDrive connector\n",
        "from google.colab import drive\n",
        "\n",
        "# mount GDrive inside the Colab notebook\n",
        "drive.mount('/content/drive')"
      ],
      "metadata": {
        "colab": {
          "base_uri": "https://localhost:8080/"
        },
        "id": "0wgHSgYoYMxF",
        "outputId": "6687fb9b-6bb2-49fd-ceba-78387df64083"
      },
      "execution_count": 5,
      "outputs": [
        {
          "output_type": "stream",
          "name": "stdout",
          "text": [
            "Drive already mounted at /content/drive; to attempt to forcibly remount, call drive.mount(\"/content/drive\", force_remount=True).\n"
          ]
        }
      ]
    },
    {
      "cell_type": "code",
      "source": [
        "# Machine setup\n",
        "available_gpus = torch.cuda.device_count()\n",
        "save_model_path = os.path.join(os.getcwd(), \"saved_models/\")\n",
        "print(\"available_gpus:\", available_gpus)"
      ],
      "metadata": {
        "colab": {
          "base_uri": "https://localhost:8080/"
        },
        "id": "-rlt7mJ-Ttv3",
        "outputId": "a484f9e1-1e40-4c5f-967f-5810b23d8824"
      },
      "execution_count": 6,
      "outputs": [
        {
          "output_type": "stream",
          "name": "stdout",
          "text": [
            "available_gpus: 1\n"
          ]
        }
      ]
    },
    {
      "cell_type": "code",
      "source": [
        "# Model Setup\n",
        "train_config = get_bigan_config()"
      ],
      "metadata": {
        "id": "b5vOVsFyU1o6"
      },
      "execution_count": 7,
      "outputs": []
    },
    {
      "cell_type": "code",
      "source": [
        "train_config.cuda = True\n",
        "train_config.batch_size = 2000"
      ],
      "metadata": {
        "id": "5xPmQOuVVZ7V"
      },
      "execution_count": 8,
      "outputs": []
    },
    {
      "cell_type": "code",
      "source": [
        "#!cp -r /content/drive/MyDrive/bigearthnet.tar.gz /content/data/"
      ],
      "metadata": {
        "id": "_JQPs9cRcscw"
      },
      "execution_count": 9,
      "outputs": []
    },
    {
      "cell_type": "code",
      "source": [
        "#!tar -xf /content/data/bigearthnet.tar.gz "
      ],
      "metadata": {
        "id": "stQ2_KIpdCmG"
      },
      "execution_count": 10,
      "outputs": []
    },
    {
      "cell_type": "code",
      "source": [
        "dataset_dir = \"/content/BigEarthNet-v1.0/\""
      ],
      "metadata": {
        "id": "TaMg07G6hT2f"
      },
      "execution_count": 11,
      "outputs": []
    },
    {
      "cell_type": "code",
      "source": [
        "datamodule = BigearthnetDataModule(data_dir = dataset_dir, num_workers = 2)"
      ],
      "metadata": {
        "id": "VEaD-h_ljW53"
      },
      "execution_count": 12,
      "outputs": []
    },
    {
      "cell_type": "code",
      "source": [
        "datamodule.setup()"
      ],
      "metadata": {
        "id": "SQH7fQMZq2TI"
      },
      "execution_count": 13,
      "outputs": []
    },
    {
      "cell_type": "code",
      "source": [
        "dataloader = datamodule.train_dataloader()"
      ],
      "metadata": {
        "id": "kdmJqlE7Ay00"
      },
      "execution_count": 14,
      "outputs": []
    },
    {
      "cell_type": "code",
      "source": [
        "# Number of channels in the training images. For color images this is 3\n",
        "nc = 12\n",
        "\n",
        "# Size of z latent vector (i.e. size of generator input)\n",
        "nz = 100\n",
        "\n",
        "# Size of feature maps in generator\n",
        "ngf = 64\n",
        "\n",
        "# Size of feature maps in discriminator\n",
        "ndf = 64\n",
        "\n",
        "# Number of GPUs available. Use 0 for CPU mode.\n",
        "ngpu = 1"
      ],
      "metadata": {
        "id": "ANcqnjskBiX6"
      },
      "execution_count": 15,
      "outputs": []
    },
    {
      "cell_type": "code",
      "source": [
        "model = BIGAN(image_channels=12)"
      ],
      "metadata": {
        "id": "lO--w4rLCcAa"
      },
      "execution_count": 16,
      "outputs": []
    },
    {
      "cell_type": "code",
      "source": [
        "trainer = Trainer(max_epochs = 10, accelerator='gpu', devices=1)"
      ],
      "metadata": {
        "colab": {
          "base_uri": "https://localhost:8080/"
        },
        "id": "ATaPFz4EC7mi",
        "outputId": "10015c9c-0ce7-4797-b3eb-a0da6718403c"
      },
      "execution_count": 17,
      "outputs": [
        {
          "output_type": "stream",
          "name": "stderr",
          "text": [
            "INFO:pytorch_lightning.utilities.rank_zero:GPU available: True (cuda), used: True\n",
            "INFO:pytorch_lightning.utilities.rank_zero:TPU available: False, using: 0 TPU cores\n",
            "INFO:pytorch_lightning.utilities.rank_zero:IPU available: False, using: 0 IPUs\n",
            "INFO:pytorch_lightning.utilities.rank_zero:HPU available: False, using: 0 HPUs\n"
          ]
        }
      ]
    },
    {
      "cell_type": "code",
      "source": [
        "trainer.fit(model, dataloader)"
      ],
      "metadata": {
        "colab": {
          "base_uri": "https://localhost:8080/",
          "height": 364,
          "referenced_widgets": [
            "7c064886105c4405bc60c65a0881d3ce",
            "02c1c0e8253b426a8dcc9f6d8369de46",
            "c3da3fdb4c1e4e68a4546fbd27c69a5e",
            "2adb587f01ad48109b8d806c21382322",
            "fcccccec527043c7ba8f4053a0e5e8f7",
            "f783f971563142aaa28d729a6032654f",
            "d247036669e4451e930ed364371e38cd",
            "6fa7b2d82c104d4d8c97c9f30fbca0f1",
            "f64b456961834ef18a36015ad8e767ee",
            "f8ec5e2bf6714abea83c94ff9bf2b897",
            "882cf49cf1074c73b1dc534217f84c56"
          ]
        },
        "id": "wJr6atiEDQMi",
        "outputId": "daf4d4b0-e7e3-41ca-9555-f1f77cc5caf9"
      },
      "execution_count": null,
      "outputs": [
        {
          "output_type": "stream",
          "name": "stderr",
          "text": [
            "WARNING:pytorch_lightning.loggers.tensorboard:Missing logger folder: /content/lightning_logs\n",
            "INFO:pytorch_lightning.accelerators.cuda:LOCAL_RANK: 0 - CUDA_VISIBLE_DEVICES: [0]\n",
            "/usr/local/lib/python3.8/dist-packages/torch/optim/adam.py:90: UserWarning: optimizer contains a parameter group with duplicate parameters; in future, this will cause an error; see github.com/pytorch/pytorch/issues/40967 for more information\n",
            "  super(Adam, self).__init__(params, defaults)\n",
            "INFO:pytorch_lightning.callbacks.model_summary:\n",
            "  | Name             | Type                 | Params\n",
            "----------------------------------------------------------\n",
            "0 | pretrained_model | ResNet               | 11.2 M\n",
            "1 | generator        | BiganResnetGenerator | 21.8 M\n",
            "2 | discriminator    | BiganDiscriminator   | 9.4 M \n",
            "3 | encoder          | BiganResnetEncoder   | 11.3 M\n",
            "4 | criterion        | BCELoss              | 0     \n",
            "----------------------------------------------------------\n",
            "31.2 M    Trainable params\n",
            "0         Non-trainable params\n",
            "31.2 M    Total params\n",
            "124.702   Total estimated model params size (MB)\n"
          ]
        },
        {
          "output_type": "display_data",
          "data": {
            "text/plain": [
              "Training: 0it [00:00, ?it/s]"
            ],
            "application/vnd.jupyter.widget-view+json": {
              "version_major": 2,
              "version_minor": 0,
              "model_id": "7c064886105c4405bc60c65a0881d3ce"
            }
          },
          "metadata": {}
        }
      ]
    },
    {
      "cell_type": "code",
      "source": [
        "print(model)"
      ],
      "metadata": {
        "id": "BmroTwIOSh7_"
      },
      "execution_count": null,
      "outputs": []
    },
    {
      "cell_type": "code",
      "source": [],
      "metadata": {
        "id": "DxHtHwI0TSTs"
      },
      "execution_count": null,
      "outputs": []
    }
  ]
}